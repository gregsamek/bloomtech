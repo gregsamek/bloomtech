{
 "cells": [
  {
   "cell_type": "markdown",
   "metadata": {
    "id": "ObyHCH8HvHSf"
   },
   "source": [
    "\n",
    "# *Data Science Unit 4 Sprint 2 Assignment 1*\n",
    "\n",
    "Use TensorFlow Keras and a sample of the [Quickdraw dataset](https://github.com/googlecreativelab/quickdraw-dataset) to build a sketch classification model. The dataset has been sampled to only 10 classes and 10000 observations per class. \n",
    "\n",
    "### Objective\n",
    "\n",
    "- Build a baseline classification model then, run a few experiments with different optimizers and learning rates. \n",
    "- Don't forget to [**switch to GPU if you're running your notebook on Colab!**](https://colab.research.google.com/notebooks/gpu.ipynb)"
   ]
  },
  {
   "cell_type": "markdown",
   "metadata": {
    "id": "s-Tc3ovEyQ9b"
   },
   "source": [
    "## Load Your Data"
   ]
  },
  {
   "cell_type": "code",
   "execution_count": 1,
   "metadata": {
    "executionInfo": {
     "elapsed": 2394,
     "status": "ok",
     "timestamp": 1638839820553,
     "user": {
      "displayName": "Joseph catanzarite",
      "photoUrl": "https://lh3.googleusercontent.com/a-/AOh14GgmMRaw8NgoEDqzevEZ6b18iOYdEH9nWTZeaFBW=s64",
      "userId": "16649206137414945374"
     },
     "user_tz": 480
    },
    "id": "CkU0pAYCvU8o",
    "tags": []
   },
   "outputs": [],
   "source": [
    "# imports in first cell \n",
    "import seaborn as sns\n",
    "import pandas as pd\n",
    "import numpy as np\n",
    "import tensorflow as tf \n",
    "import matplotlib.pyplot as plt\n",
    "from sklearn.utils import shuffle\n",
    "\n",
    "# use Sequential to build out your model\n",
    "from tensorflow.keras.models import Sequential\n",
    "\n",
    "# Dense layer is used for Fully Connected Forward Feeding networks\n",
    "from tensorflow.keras.layers import Dense"
   ]
  },
  {
   "cell_type": "markdown",
   "metadata": {
    "id": "UT2HFvSgDlFQ"
   },
   "source": [
    "Note that the 28x28 quickdraw images have already been \"flattened\" into 784: dimensional vectors"
   ]
  },
  {
   "cell_type": "code",
   "execution_count": 2,
   "metadata": {
    "tags": []
   },
   "outputs": [
    {
     "data": {
      "text/plain": [
       "[PhysicalDevice(name='/physical_device:CPU:0', device_type='CPU')]"
      ]
     },
     "execution_count": 2,
     "metadata": {},
     "output_type": "execute_result"
    }
   ],
   "source": [
    "tf.config.get_visible_devices()"
   ]
  },
  {
   "cell_type": "code",
   "execution_count": 3,
   "metadata": {
    "colab": {
     "base_uri": "https://localhost:8080/"
    },
    "executionInfo": {
     "elapsed": 10557,
     "status": "ok",
     "timestamp": 1638839841650,
     "user": {
      "displayName": "Joseph catanzarite",
      "photoUrl": "https://lh3.googleusercontent.com/a-/AOh14GgmMRaw8NgoEDqzevEZ6b18iOYdEH9nWTZeaFBW=s64",
      "userId": "16649206137414945374"
     },
     "user_tz": 480
    },
    "id": "S1XYJRQKLj1B",
    "outputId": "0d8f3cb5-1898-43ee-c85d-42363f3aa1e8",
    "tags": []
   },
   "outputs": [
    {
     "name": "stdout",
     "output_type": "stream",
     "text": [
      "(100000, 784)\n",
      "(100000,)\n"
     ]
    }
   ],
   "source": [
    "# load the quickdraw data set\n",
    "data = np.load('../quickdraw10.npz')\n",
    "\n",
    "X = data['arr_0']\n",
    "y = data['arr_1']\n",
    "\n",
    "print(X.shape)\n",
    "print(y.shape)"
   ]
  },
  {
   "cell_type": "markdown",
   "metadata": {
    "id": "mvMjoB_yDZTL"
   },
   "source": [
    "These are the names of the 10 image classes"
   ]
  },
  {
   "cell_type": "code",
   "execution_count": 4,
   "metadata": {
    "executionInfo": {
     "elapsed": 161,
     "status": "ok",
     "timestamp": 1638839849545,
     "user": {
      "displayName": "Joseph catanzarite",
      "photoUrl": "https://lh3.googleusercontent.com/a-/AOh14GgmMRaw8NgoEDqzevEZ6b18iOYdEH9nWTZeaFBW=s64",
      "userId": "16649206137414945374"
     },
     "user_tz": 480
    },
    "id": "c8qsDqdqvHDd",
    "tags": []
   },
   "outputs": [],
   "source": [
    "class_names = ['apple',\n",
    "             'anvil',\n",
    "             'airplane',\n",
    "             'banana',\n",
    "             'The Eiffel Tower',\n",
    "             'The Mona Lisa',\n",
    "             'The Great Wall of China',\n",
    "             'alarm clock',\n",
    "             'ant',\n",
    "             'asparagus']"
   ]
  },
  {
   "cell_type": "markdown",
   "metadata": {
    "id": "VxuY8RYXD9S4"
   },
   "source": [
    "We can explore the data a bit by reshaping the vectors back to images and displaying them with their labels. <br>\n",
    "Turns out the data has 10 blocks of 10,000 images of each of the above labels, in order. <br>\n",
    "So the code below displays the first image of each class."
   ]
  },
  {
   "cell_type": "code",
   "execution_count": 5,
   "metadata": {
    "colab": {
     "base_uri": "https://localhost:8080/",
     "height": 289
    },
    "executionInfo": {
     "elapsed": 426,
     "status": "ok",
     "timestamp": 1638840497011,
     "user": {
      "displayName": "Joseph catanzarite",
      "photoUrl": "https://lh3.googleusercontent.com/a-/AOh14GgmMRaw8NgoEDqzevEZ6b18iOYdEH9nWTZeaFBW=s64",
      "userId": "16649206137414945374"
     },
     "user_tz": 480
    },
    "id": "Owbm1EbxvA5A",
    "outputId": "36be4b28-a365-4ca7-def4-1d435022c671",
    "tags": []
   },
   "outputs": [
    {
     "data": {
      "image/png": "[encoded data removed]",
      "text/plain": [
       "<Figure size 1000x500 with 10 Axes>"
      ]
     },
     "metadata": {},
     "output_type": "display_data"
    }
   ],
   "source": [
    "# these are your 10 unique images\n",
    "plt.figure(figsize=(10,5))\n",
    "start = 0\n",
    "\n",
    "for num, name in enumerate(class_names):\n",
    "    plt.subplot(2,5, num+1)\n",
    "    plt.xticks([])\n",
    "    plt.yticks([])\n",
    "    plt.grid(False)\n",
    "    plt.imshow(X[start].reshape(28,28),cmap=plt.cm.binary)\n",
    "    plt.xlabel(name)\n",
    "    start += 10000\n",
    "plt.show()"
   ]
  },
  {
   "cell_type": "markdown",
   "metadata": {
    "id": "Av6i6t5QLj1D"
   },
   "source": [
    "Say hello to the Quickdraw dataset!\n",
    "\n",
    "You'll be using this dataset a lot this week as an alternative to the MNIST digits data set, which we'll use in the guided projects. The nice thing about this dataset is that it's simple, which allows us to focus on our model, its various components, and gradually come to a better understanding of how to build neural networks without worrying about cleaning and prepping our image data much."
   ]
  },
  {
   "cell_type": "code",
   "execution_count": 6,
   "metadata": {
    "id": "c97_M1WNvTNY",
    "tags": []
   },
   "outputs": [],
   "source": [
    "# always a good idea to shuffle your dataset!\n",
    "X, y = shuffle(X, y)"
   ]
  },
  {
   "cell_type": "markdown",
   "metadata": {
    "id": "jb70CbLVyK65"
   },
   "source": [
    "-----\n",
    "\n",
    "## Build Your Baseline Model\n",
    "\n",
    "Make sure that you\n",
    "\n",
    "- **Determine** the dimensionality of your input data by investigating **X**\n",
    "- **Normalize** your input data to values between 0 and 1 \n",
    "- **Determine** the number of neurons in your output layer by investigating **Y**\n",
    "- **Select** `sparse_categorical_crossentropy` as your loss function.\n",
    "- **Select** `sgd` as your optimizer.\n",
    "- **Add** 3 hidden layers to your model with the following number of nodes\n",
    "    - h1 has 500 nodes\n",
    "    - h2 has 250 nodes\n",
    "    - h3 has 100 nodes\n",
    "    \n",
    "- **Set** epochs to 20 \n",
    "- **Use** the `validation_split` keyword in `model.fit()` to automatically create a training / validation dataset from within the model. Specify a percentage, such as `validation_split = 0.2`\n",
    " \n",
    "Not sure what the various parameters are for or what values to assign to them?\n",
    "\n",
    "- Reference the guided project notebook for Sprint 2 Module 1\n",
    "- Reference the [**Keras documentation**](https://keras.io/api/)\n",
    "- Google other examples\n",
    "- Discuss your results with classmates "
   ]
  },
  {
   "cell_type": "code",
   "execution_count": 7,
   "metadata": {
    "deletable": false,
    "id": "f133nwpOLj1G",
    "nbgrader": {
     "cell_type": "code",
     "checksum": "ef20dd34df6998e0a50e394d59d58659",
     "grade": false,
     "grade_id": "cell-907b9348d7a2ebb3",
     "locked": false,
     "schema_version": 3,
     "solution": true,
     "task": false
    },
    "tags": []
   },
   "outputs": [],
   "source": [
    "# get dim of image row vectors and save to input_dim\n",
    "\n",
    "# get number of unique labels and save to n_output_labels\n",
    "\n",
    "# normalize image data to values between 0 and 1 (by dividing by max pixel value)\n",
    "\n",
    "\n",
    "# YOUR CODE HERE\n",
    "input_dim = X.shape[1]\n",
    "n_output_labels = len(class_names)\n",
    "X_scaled = X.astype('float32') / 255"
   ]
  },
  {
   "cell_type": "code",
   "execution_count": 8,
   "metadata": {
    "id": "vOufsWS3Lj1G",
    "tags": []
   },
   "outputs": [],
   "source": [
    "# a check on your data prep \n",
    "assert  X_scaled.max(), \"Max pixel value should be 1.0, make sure you normalize your data\""
   ]
  },
  {
   "cell_type": "code",
   "execution_count": 9,
   "metadata": {
    "deletable": false,
    "id": "zHWblzsMyNkU",
    "nbgrader": {
     "cell_type": "code",
     "checksum": "f0ba174cb72f491f73c3aa7df8ae7ac4",
     "grade": false,
     "grade_id": "cell-b7c96fc46d86725f",
     "locked": false,
     "schema_version": 3,
     "solution": true,
     "task": false
    },
    "tags": []
   },
   "outputs": [],
   "source": [
    "# instantiate a sequential object and call it model, then add the layers to your model\n",
    "\n",
    "# add a compile layer but don't fit your model yet \n",
    "\n",
    "# YOUR CODE HERE\n",
    "model = Sequential()\n",
    "model.add(Dense(500, activation='relu', input_dim=input_dim))\n",
    "model.add(Dense(250, activation='relu'))\n",
    "model.add(Dense(100, activation='relu'))\n",
    "model.add(Dense(n_output_labels, activation='softmax'))\n",
    "model.compile(optimizer='sgd', loss='sparse_categorical_crossentropy', metrics=['accuracy'])"
   ]
  },
  {
   "cell_type": "code",
   "execution_count": 10,
   "metadata": {
    "id": "ojLnGDklLj1H",
    "tags": []
   },
   "outputs": [],
   "source": [
    "# a check on your model architecture \n",
    "n_layers = len(model.get_config()[\"layers\"])\n",
    "assert n_layers == 5, \"You should have 5 layers: input, h1, h2, h3, and output\""
   ]
  },
  {
   "cell_type": "code",
   "execution_count": 11,
   "metadata": {
    "id": "wMK2_DtJLj1I",
    "tags": []
   },
   "outputs": [
    {
     "name": "stdout",
     "output_type": "stream",
     "text": [
      "Model: \"sequential\"\n",
      "_________________________________________________________________\n",
      " Layer (type)                Output Shape              Param #   \n",
      "=================================================================\n",
      " dense (Dense)               (None, 500)               392500    \n",
      "                                                                 \n",
      " dense_1 (Dense)             (None, 250)               125250    \n",
      "                                                                 \n",
      " dense_2 (Dense)             (None, 100)               25100     \n",
      "                                                                 \n",
      " dense_3 (Dense)             (None, 10)                1010      \n",
      "                                                                 \n",
      "=================================================================\n",
      "Total params: 543,860\n",
      "Trainable params: 543,860\n",
      "Non-trainable params: 0\n",
      "_________________________________________________________________\n"
     ]
    }
   ],
   "source": [
    "# check out your model summary \n",
    "model.summary()"
   ]
  },
  {
   "cell_type": "code",
   "execution_count": 12,
   "metadata": {
    "id": "DXTSbEiyLj1I",
    "tags": []
   },
   "outputs": [
    {
     "name": "stdout",
     "output_type": "stream",
     "text": [
      "Epoch 1/20\n",
      "  38/2500 [..............................] - ETA: 3s - loss: 2.2586 - accuracy: 0.1637  "
     ]
    },
    {
     "name": "stderr",
     "output_type": "stream",
     "text": [
      "2023-08-23 16:56:43.134687: W tensorflow/tsl/platform/profile_utils/cpu_utils.cc:128] Failed to get CPU frequency: 0 Hz\n"
     ]
    },
    {
     "name": "stdout",
     "output_type": "stream",
     "text": [
      "2500/2500 [==============================] - 4s 2ms/step - loss: 0.9868 - accuracy: 0.7070 - val_loss: 0.7469 - val_accuracy: 0.7831\n",
      "Epoch 2/20\n",
      "2500/2500 [==============================] - 4s 2ms/step - loss: 0.6672 - accuracy: 0.8073 - val_loss: 0.6376 - val_accuracy: 0.8133\n",
      "Epoch 3/20\n",
      "2500/2500 [==============================] - 4s 2ms/step - loss: 0.5706 - accuracy: 0.8327 - val_loss: 0.5700 - val_accuracy: 0.8289\n",
      "Epoch 4/20\n",
      "2500/2500 [==============================] - 4s 2ms/step - loss: 0.5068 - accuracy: 0.8499 - val_loss: 0.5328 - val_accuracy: 0.8439\n",
      "Epoch 5/20\n",
      "2500/2500 [==============================] - 4s 2ms/step - loss: 0.4582 - accuracy: 0.8657 - val_loss: 0.5029 - val_accuracy: 0.8512\n",
      "Epoch 6/20\n",
      "2500/2500 [==============================] - 4s 2ms/step - loss: 0.4196 - accuracy: 0.8774 - val_loss: 0.4765 - val_accuracy: 0.8593\n",
      "Epoch 7/20\n",
      "2500/2500 [==============================] - 4s 2ms/step - loss: 0.3865 - accuracy: 0.8871 - val_loss: 0.4644 - val_accuracy: 0.8635\n",
      "Epoch 8/20\n",
      "2500/2500 [==============================] - 4s 2ms/step - loss: 0.3565 - accuracy: 0.8965 - val_loss: 0.4434 - val_accuracy: 0.8700\n",
      "Epoch 9/20\n",
      "2500/2500 [==============================] - 4s 2ms/step - loss: 0.3311 - accuracy: 0.9037 - val_loss: 0.4437 - val_accuracy: 0.8687\n",
      "Epoch 10/20\n",
      "2500/2500 [==============================] - 4s 2ms/step - loss: 0.3079 - accuracy: 0.9111 - val_loss: 0.4490 - val_accuracy: 0.8702\n",
      "Epoch 11/20\n",
      "2500/2500 [==============================] - 4s 2ms/step - loss: 0.2851 - accuracy: 0.9175 - val_loss: 0.4388 - val_accuracy: 0.8734\n",
      "Epoch 12/20\n",
      "2500/2500 [==============================] - 4s 2ms/step - loss: 0.2644 - accuracy: 0.9234 - val_loss: 0.4495 - val_accuracy: 0.8711\n",
      "Epoch 13/20\n",
      "2500/2500 [==============================] - 4s 2ms/step - loss: 0.2445 - accuracy: 0.9302 - val_loss: 0.4292 - val_accuracy: 0.8775\n",
      "Epoch 14/20\n",
      "2500/2500 [==============================] - 4s 2ms/step - loss: 0.2245 - accuracy: 0.9352 - val_loss: 0.4464 - val_accuracy: 0.8752\n",
      "Epoch 15/20\n",
      "2500/2500 [==============================] - 4s 2ms/step - loss: 0.2075 - accuracy: 0.9406 - val_loss: 0.4444 - val_accuracy: 0.8764\n",
      "Epoch 16/20\n",
      "2500/2500 [==============================] - 4s 2ms/step - loss: 0.1907 - accuracy: 0.9456 - val_loss: 0.4669 - val_accuracy: 0.8740\n",
      "Epoch 17/20\n",
      "2500/2500 [==============================] - 4s 2ms/step - loss: 0.1744 - accuracy: 0.9505 - val_loss: 0.4675 - val_accuracy: 0.8737\n",
      "Epoch 18/20\n",
      "2500/2500 [==============================] - 4s 2ms/step - loss: 0.1580 - accuracy: 0.9552 - val_loss: 0.4764 - val_accuracy: 0.8755\n",
      "Epoch 19/20\n",
      "2500/2500 [==============================] - 4s 2ms/step - loss: 0.1427 - accuracy: 0.9603 - val_loss: 0.4830 - val_accuracy: 0.8726\n",
      "Epoch 20/20\n",
      "2500/2500 [==============================] - 4s 2ms/step - loss: 0.1292 - accuracy: 0.9641 - val_loss: 0.5265 - val_accuracy: 0.8662\n"
     ]
    }
   ],
   "source": [
    "# fit your model and save training results to history\n",
    "history = model.fit(X_scaled, y, \n",
    "                    epochs=20, \n",
    "                    # a held-out validation set will be generated within the model\n",
    "                    validation_split=0.2\n",
    "                   )"
   ]
  },
  {
   "cell_type": "markdown",
   "metadata": {
    "id": "b0QJURWh-9uv"
   },
   "source": [
    "----\n",
    "### Visualize the Results\n",
    "\n",
    "- Move results in `history` to a dataframe. \n",
    "- Use [**Seaborn**](https://seaborn.pydata.org/generated/seaborn.lineplot.html) to create line plots for both loss and accuracy by epoch. \n",
    "- Analyze the results and write a couple of observations. \n",
    "\n",
    "At what point should we have stopped training the model and why? "
   ]
  },
  {
   "cell_type": "code",
   "execution_count": 13,
   "metadata": {
    "deletable": false,
    "id": "ijAlzfYKAFaY",
    "nbgrader": {
     "cell_type": "code",
     "checksum": "6ef8cde40701c2ef57cf853b19455125",
     "grade": false,
     "grade_id": "cell-16e647cfc3291a01",
     "locked": false,
     "schema_version": 3,
     "solution": true,
     "task": false
    },
    "tags": []
   },
   "outputs": [],
   "source": [
    "# YOUR CODE HERE\n",
    "df = pd.DataFrame(history.history)"
   ]
  },
  {
   "cell_type": "code",
   "execution_count": 14,
   "metadata": {
    "id": "jFTzaMcALj1J",
    "tags": []
   },
   "outputs": [],
   "source": [
    "# a check on our model training\n",
    "assert df.shape[0] == 20, \"df should have the training results from 20 epochs\""
   ]
  },
  {
   "cell_type": "code",
   "execution_count": 15,
   "metadata": {
    "deletable": false,
    "id": "i6NnocuJLj1J",
    "nbgrader": {
     "cell_type": "code",
     "checksum": "424d241660318a72ecda935be10485d7",
     "grade": false,
     "grade_id": "cell-96dba18873c4cffc",
     "locked": false,
     "schema_version": 3,
     "solution": true,
     "task": false
    },
    "tags": []
   },
   "outputs": [
    {
     "data": {
      "image/png": "[encoded data removed]",
      "text/plain": [
       "<Figure size 640x480 with 1 Axes>"
      ]
     },
     "metadata": {},
     "output_type": "display_data"
    }
   ],
   "source": [
    "# use seaborn to plot loss and accuracy metrics\n",
    "\n",
    "# YOUR CODE HERE\n",
    "sns.lineplot(x=df.index, y='loss', data=df ,label='train')\n",
    "sns.lineplot(x=df.index, y='val_loss', data=df, label='validation')\n",
    "plt.legend()\n",
    "plt.show()"
   ]
  },
  {
   "cell_type": "code",
   "execution_count": 16,
   "metadata": {
    "tags": []
   },
   "outputs": [
    {
     "data": {
      "image/png": "[encoded data removed]",
      "text/plain": [
       "<Figure size 640x480 with 1 Axes>"
      ]
     },
     "metadata": {},
     "output_type": "display_data"
    }
   ],
   "source": [
    "sns.lineplot(x=df.index, y='accuracy', data=df ,label='train')\n",
    "sns.lineplot(x=df.index, y='val_accuracy', data=df, label='validation')\n",
    "plt.legend()\n",
    "plt.show()"
   ]
  },
  {
   "cell_type": "markdown",
   "metadata": {
    "id": "GmjyuTlrLj1K"
   },
   "source": [
    "### Observations \n",
    "\n",
    "Based on the plot of the training and validation loss, answer the following questions. "
   ]
  },
  {
   "cell_type": "markdown",
   "metadata": {
    "id": "NF_mrNmPLj1K"
   },
   "source": [
    "**Was our model able to learn throughout the 20 epochs? Why or why not?**"
   ]
  },
  {
   "cell_type": "markdown",
   "metadata": {
    "deletable": false,
    "id": "yL42yLWELj1K",
    "nbgrader": {
     "cell_type": "markdown",
     "checksum": "b7713eb32ad3a910a58dfdb9494a9db3",
     "grade": true,
     "grade_id": "cell-820990a8232a858a",
     "locked": false,
     "points": 0,
     "schema_version": 3,
     "solution": true,
     "task": false
    }
   },
   "source": [
    "Yes, the model is able to classify images with an accuracy >85%"
   ]
  },
  {
   "cell_type": "markdown",
   "metadata": {
    "id": "_xKObFanLj1K"
   },
   "source": [
    "**Is our model overfitting? Why or why not?**"
   ]
  },
  {
   "cell_type": "markdown",
   "metadata": {
    "deletable": false,
    "id": "rx7xa4Z1Lj1L",
    "nbgrader": {
     "cell_type": "markdown",
     "checksum": "1d30c64465cd35081d70578c20ecf96d",
     "grade": true,
     "grade_id": "cell-33868e7ef6e401b5",
     "locked": false,
     "points": 0,
     "schema_version": 3,
     "solution": true,
     "task": false
    }
   },
   "source": [
    "Yes, our model is overfit as there was a significant gap between our training and validation metrics by the end of our training"
   ]
  },
  {
   "cell_type": "markdown",
   "metadata": {
    "id": "FIvb1mftLj1L"
   },
   "source": [
    "**Could the model score benefit from additional epochs? Why or why not?**"
   ]
  },
  {
   "cell_type": "markdown",
   "metadata": {
    "deletable": false,
    "id": "Ww1hBmfMLj1L",
    "nbgrader": {
     "cell_type": "markdown",
     "checksum": "0fc2208e2c78461578fc7a05224066b8",
     "grade": true,
     "grade_id": "cell-5c883f0a3161e469",
     "locked": false,
     "points": 0,
     "schema_version": 3,
     "solution": true,
     "task": false
    }
   },
   "source": [
    "No, the training and validation metrics have already diverged. It is more accurate to say that we should'be trained for fewer epochs."
   ]
  },
  {
   "cell_type": "markdown",
   "metadata": {
    "id": "MAhBrcE4yOZe"
   },
   "source": [
    "-----\n",
    "## Change Optimizers\n",
    "\n",
    "Let's compare model performance between different optimizers. \n",
    "- Build a new model, identical to the last one but using `adam` for the optimizer. \n",
    "- Train (fit) the model\n",
    "- Save the modeling results to adam_history, so we don't erase the results from the previous model run\n",
    "- Visualize the training results just as we did for the last model. \n"
   ]
  },
  {
   "cell_type": "code",
   "execution_count": 17,
   "metadata": {
    "deletable": false,
    "id": "jIW_spOZ0cxy",
    "nbgrader": {
     "cell_type": "code",
     "checksum": "6d30d8c6f4521861a77c9ef04dbde904",
     "grade": false,
     "grade_id": "cell-56663c8a5e75b71f",
     "locked": false,
     "schema_version": 3,
     "solution": true,
     "task": false
    },
    "tags": []
   },
   "outputs": [],
   "source": [
    "# train the same model as above but use the sgd optimizer if you used adam previously (or use adam if you used sgd previously)\n",
    "\n",
    "# YOUR CODE HERE\n",
    "model = Sequential()\n",
    "model.add(Dense(500, activation='relu', input_dim=input_dim))\n",
    "model.add(Dense(250, activation='relu'))\n",
    "model.add(Dense(100, activation='relu'))\n",
    "model.add(Dense(n_output_labels, activation='softmax'))\n",
    "model.compile(optimizer='adam', loss='sparse_categorical_crossentropy', metrics=['accuracy'])"
   ]
  },
  {
   "cell_type": "code",
   "execution_count": 18,
   "metadata": {
    "id": "u9DQypQOLj1L",
    "tags": []
   },
   "outputs": [],
   "source": [
    "# a check that we're using the correct optimizer in this model\n",
    "opt_name = model.optimizer.get_config()[\"name\"]\n",
    "assert opt_name == \"Adam\", \"you need to use adam for the optimizer in this model.\""
   ]
  },
  {
   "cell_type": "code",
   "execution_count": 19,
   "metadata": {
    "tags": []
   },
   "outputs": [
    {
     "name": "stdout",
     "output_type": "stream",
     "text": [
      "Epoch 1/20\n",
      "2500/2500 [==============================] - 5s 2ms/step - loss: 0.5923 - accuracy: 0.8189 - val_loss: 0.4980 - val_accuracy: 0.8493\n",
      "Epoch 2/20\n",
      "2500/2500 [==============================] - 5s 2ms/step - loss: 0.4155 - accuracy: 0.8726 - val_loss: 0.4309 - val_accuracy: 0.8689\n",
      "Epoch 3/20\n",
      "2500/2500 [==============================] - 5s 2ms/step - loss: 0.3462 - accuracy: 0.8947 - val_loss: 0.4287 - val_accuracy: 0.8725\n",
      "Epoch 4/20\n",
      "2500/2500 [==============================] - 5s 2ms/step - loss: 0.2917 - accuracy: 0.9092 - val_loss: 0.4212 - val_accuracy: 0.8742\n",
      "Epoch 5/20\n",
      "2500/2500 [==============================] - 5s 2ms/step - loss: 0.2492 - accuracy: 0.9218 - val_loss: 0.4253 - val_accuracy: 0.8800\n",
      "Epoch 6/20\n",
      "2500/2500 [==============================] - 5s 2ms/step - loss: 0.2168 - accuracy: 0.9317 - val_loss: 0.4651 - val_accuracy: 0.8762\n",
      "Epoch 7/20\n",
      "2500/2500 [==============================] - 5s 2ms/step - loss: 0.1866 - accuracy: 0.9405 - val_loss: 0.4780 - val_accuracy: 0.8791\n",
      "Epoch 8/20\n",
      "2500/2500 [==============================] - 5s 2ms/step - loss: 0.1622 - accuracy: 0.9475 - val_loss: 0.5315 - val_accuracy: 0.8744\n",
      "Epoch 9/20\n",
      "2500/2500 [==============================] - 5s 2ms/step - loss: 0.1425 - accuracy: 0.9533 - val_loss: 0.5393 - val_accuracy: 0.8770\n",
      "Epoch 10/20\n",
      "2500/2500 [==============================] - 5s 2ms/step - loss: 0.1268 - accuracy: 0.9595 - val_loss: 0.6131 - val_accuracy: 0.8734\n",
      "Epoch 11/20\n",
      "2500/2500 [==============================] - 5s 2ms/step - loss: 0.1145 - accuracy: 0.9629 - val_loss: 0.6163 - val_accuracy: 0.8770\n",
      "Epoch 12/20\n",
      "2500/2500 [==============================] - 5s 2ms/step - loss: 0.1037 - accuracy: 0.9671 - val_loss: 0.6898 - val_accuracy: 0.8756\n",
      "Epoch 13/20\n",
      "2500/2500 [==============================] - 5s 2ms/step - loss: 0.0986 - accuracy: 0.9679 - val_loss: 0.6640 - val_accuracy: 0.8780\n",
      "Epoch 14/20\n",
      "2500/2500 [==============================] - 5s 2ms/step - loss: 0.0849 - accuracy: 0.9729 - val_loss: 0.7877 - val_accuracy: 0.8727\n",
      "Epoch 15/20\n",
      "2500/2500 [==============================] - 5s 2ms/step - loss: 0.0827 - accuracy: 0.9730 - val_loss: 0.7603 - val_accuracy: 0.8762\n",
      "Epoch 16/20\n",
      "2500/2500 [==============================] - 5s 2ms/step - loss: 0.0791 - accuracy: 0.9753 - val_loss: 0.7890 - val_accuracy: 0.8763\n",
      "Epoch 17/20\n",
      "2500/2500 [==============================] - 5s 2ms/step - loss: 0.0730 - accuracy: 0.9771 - val_loss: 0.8212 - val_accuracy: 0.8765\n",
      "Epoch 18/20\n",
      "2500/2500 [==============================] - 5s 2ms/step - loss: 0.0699 - accuracy: 0.9784 - val_loss: 0.8929 - val_accuracy: 0.8748\n",
      "Epoch 19/20\n",
      "2500/2500 [==============================] - 5s 2ms/step - loss: 0.0638 - accuracy: 0.9797 - val_loss: 0.8663 - val_accuracy: 0.8765\n",
      "Epoch 20/20\n",
      "2500/2500 [==============================] - 5s 2ms/step - loss: 0.0643 - accuracy: 0.9799 - val_loss: 0.9465 - val_accuracy: 0.8729\n"
     ]
    }
   ],
   "source": [
    "adam_history = model.fit(X_scaled, y, \n",
    "                         epochs=20, \n",
    "                         # a held-out validation set will be generated within the model\n",
    "                         validation_split=0.2,\n",
    "                         )"
   ]
  },
  {
   "cell_type": "code",
   "execution_count": 20,
   "metadata": {
    "deletable": false,
    "id": "wBVj55zVLj1L",
    "nbgrader": {
     "cell_type": "code",
     "checksum": "1a4c01aa7dbcc832d75b05bffaeaacc8",
     "grade": false,
     "grade_id": "cell-20118d1646215346",
     "locked": false,
     "schema_version": 3,
     "solution": true,
     "task": false
    },
    "tags": []
   },
   "outputs": [],
   "source": [
    "# YOUR CODE HERE\n",
    "df_a = pd.DataFrame(adam_history.history)"
   ]
  },
  {
   "cell_type": "code",
   "execution_count": 21,
   "metadata": {
    "tags": []
   },
   "outputs": [
    {
     "data": {
      "image/png": "[encoded data removed]",
      "text/plain": [
       "<Figure size 640x480 with 1 Axes>"
      ]
     },
     "metadata": {},
     "output_type": "display_data"
    }
   ],
   "source": [
    "sns.lineplot(x=df_a.index, y='loss', data=df_a ,label='train')\n",
    "sns.lineplot(x=df_a.index, y='val_loss', data=df_a, label='validation')\n",
    "plt.legend()\n",
    "plt.show()"
   ]
  },
  {
   "cell_type": "code",
   "execution_count": 22,
   "metadata": {
    "tags": []
   },
   "outputs": [
    {
     "data": {
      "image/png": "[encoded data removed]",
      "text/plain": [
       "<Figure size 640x480 with 1 Axes>"
      ]
     },
     "metadata": {},
     "output_type": "display_data"
    }
   ],
   "source": [
    "sns.lineplot(x=df_a.index, y='accuracy', data=df_a ,label='train')\n",
    "sns.lineplot(x=df_a.index, y='val_accuracy', data=df_a, label='validation')\n",
    "plt.legend()\n",
    "plt.show()"
   ]
  },
  {
   "cell_type": "markdown",
   "metadata": {
    "id": "XECc5OtzLj1M"
   },
   "source": [
    "### Observations \n",
    "\n",
    "This plot should look very different from the previous plot. Based on the plot of the training and validation loss, answer the following questions. "
   ]
  },
  {
   "cell_type": "markdown",
   "metadata": {
    "id": "tK8B5CszLj1M"
   },
   "source": [
    "**Is our model overfitting? Why or why not?**"
   ]
  },
  {
   "cell_type": "markdown",
   "metadata": {
    "deletable": false,
    "id": "Fn6C8NWTLj1M",
    "nbgrader": {
     "cell_type": "markdown",
     "checksum": "fa4141497af675d227aa510feb8db732",
     "grade": true,
     "grade_id": "cell-7e524ccac970c33e",
     "locked": false,
     "points": 0,
     "schema_version": 3,
     "solution": true,
     "task": false
    }
   },
   "source": [
    "Yes, our model is overfit as there was a significant gap between our training and validation metrics by the end of our training"
   ]
  },
  {
   "cell_type": "markdown",
   "metadata": {
    "id": "ygXQYH8ILj1M"
   },
   "source": [
    "**Could our model's performance improve by training on more than 20 epochs? Why or why not?**"
   ]
  },
  {
   "cell_type": "markdown",
   "metadata": {
    "deletable": false,
    "id": "Sa5SRkB1Lj1M",
    "nbgrader": {
     "cell_type": "markdown",
     "checksum": "ae03b8b897eb5d052590574ab3bba839",
     "grade": true,
     "grade_id": "cell-456c40e885652955",
     "locked": false,
     "points": 0,
     "schema_version": 3,
     "solution": true,
     "task": false
    }
   },
   "source": [
    "No, the training and validation metrics have already diverged. It is more accurate to say that we should'be trained for fewer epochs.No, the training and validation metrics have already diverged. It is more accurate to say that we should'be trained for fewer epochs."
   ]
  },
  {
   "cell_type": "markdown",
   "metadata": {
    "id": "bNxtLggeLj1M"
   },
   "source": [
    "**Assuming that you want to stick to this model architecture, what can you do to avoid overfitting?**"
   ]
  },
  {
   "cell_type": "markdown",
   "metadata": {
    "deletable": false,
    "id": "tfztMm3rLj1M",
    "nbgrader": {
     "cell_type": "markdown",
     "checksum": "9f5a9393314231d3ce253363c1df1223",
     "grade": true,
     "grade_id": "cell-74d7def19c66702b",
     "locked": false,
     "points": 0,
     "schema_version": 3,
     "solution": true,
     "task": false
    }
   },
   "source": [
    "train on fewer epochs, or lower the learning rate. We could also experiment with shrinking the size of the model"
   ]
  },
  {
   "cell_type": "markdown",
   "metadata": {
    "id": "ViaTP68cLj1M"
   },
   "source": [
    "------\n",
    "# Conclusion \n",
    "\n",
    "You have observed by comparing the two models that are identical except for the optimizer, that the choice of the optimizer can considerably influence the performance of a neural network. \n",
    "\n",
    "You might not know \n",
    "\n",
    "- why changing the optimizer from Stochastic Gradient Descent over to Adam made a difference.\n",
    "- how Gradient Descent works \n",
    "- or that Adam is known as Adaptive Gradient Descent (i.e., is it a different version of ordinary Gradient Descent). \n",
    "\n",
    "But that's ok - tomorrow's lesson will be a deep dive into Gradient Descent. You'll learn the theory of Gradient Descent, we'll code up Gradient Descent from scratch, and we'll talk about how Adam is different from ordinary Gradient Descent. "
   ]
  },
  {
   "cell_type": "markdown",
   "metadata": {
    "id": "8v_TuVH5Lj1N"
   },
   "source": [
    "-----\n",
    "# Preparation for Tomorrow \n",
    "\n",
    "In preparation for tomorrow, you might need to watch a few videos. I say it might because you may or may not already be comfortable with multi-variate calculus. \n",
    "\n",
    "### Theory of Calculus \n",
    "The theory of Gradient Descent rests on [**the derivative from Calculus**](https://www.youtube.com/watch?v=WUvTyaaNkzM). If you've never taken a Calculus course before, or are a bit rusty, definitely watch this video in preparation for tomorrow's lesson. The takeaway here is to understand the derivative conceptually; you won't be asked to calculate any derivatives by hand. \n",
    "\n",
    "### The Gradient - a Multi-Dimensional Derivative\n",
    "Once you've watched the previous video, you will be ready to understand how to conceptualize a derivative in an N-dimensional space (where N is any number ranging from 2, 3, 4, ..., all the way to a very large number of dimensions N ). [**This video visually explains the multi-dimensional derivative called the Gradient visually**](https://www.youtube.com/watch?v=GkB4vW16QHI) - and that's the takeaway. The point of this video is to help you understand the Gradient visually using 3D surfaces. You should also know that the Gradient is made up of partial derivatives, more on this tomorrow. \n",
    "\n",
    "### Contour Maps \n",
    "It is very common to visual 3D surfaces as 2D contour maps - and we'll be making a lot of use of contour maps to understand Gradient Descent. Watch this video to [**understand the relationship between 3D surfaces and 2D contour maps.**](https://www.youtube.com/watch?v=acdX4YamDtU)\n",
    "\n",
    "### The Calculus of Backpropagation \n",
    "\n",
    "Unlike standard Sklearn ML models, neural networks use Gradient Descent and something called Backpropagatin to learn from the data. [**In order to understand how backpropagation works, you need to understand the Chain Rule in Calculus**](https://www.youtube.com/watch?v=acdX4YamDtU). The takeaway here is to understand how a partial derivative can be decomposed into a product of multiple derivatives. "
   ]
  },
  {
   "cell_type": "markdown",
   "metadata": {
    "id": "XCjBp0vTLj1N"
   },
   "source": [
    "------\n",
    "# Stretch Goals\n",
    "\n",
    "### This Section is Optional!\n",
    "\n",
    "Only after you've completed the above work and watched the recommended videos are you then encouraged to experiment with building a few more models and analyze their results. \n",
    "\n",
    "Here are some suggestions to help you get started. \n",
    "\n",
    "- Train the same model using the Sigmoid and Relu activation functions and note the difference in their learning outcomes. [**Keras docs on activation functions**](https://keras.io/api/layers/activations/). We'll cover the Relu activation function in Sprint 2 Module 3.\n",
    "- Train the same model using normalized and non-normalized data and note the difference in their learning outcomes. \n",
    "\n",
    "\n",
    "The objective here is to get more practice with the Keras API (i.e., building models) and run a couple of experiments to help set you up for future lessons. In order words, we'll be discussing different activation functions and the effect of normalized data on model training."
   ]
  },
  {
   "cell_type": "code",
   "execution_count": null,
   "metadata": {},
   "outputs": [],
   "source": []
  }
 ],
 "metadata": {
  "accelerator": "GPU",
  "colab": {
   "collapsed_sections": [],
   "name": "DS_421_Architect_Assignment.ipynb",
   "provenance": [
    {
     "file_id": "https://github.com/ryanleeallred/DS-Unit-4-Sprint-2-Neural-Networks/blob/main/module1-Architect/LS_DS_421_Architect_Assignment.ipynb",
     "timestamp": 1635791066977
    }
   ]
  },
  "kernelspec": {
   "display_name": "Python 3 (ipykernel)",
   "language": "python",
   "name": "python3"
  },
  "language_info": {
   "codemirror_mode": {
    "name": "ipython",
    "version": 3
   },
   "file_extension": ".py",
   "mimetype": "text/x-python",
   "name": "python",
   "nbconvert_exporter": "python",
   "pygments_lexer": "ipython3",
   "version": "3.11.4"
  }
 },
 "nbformat": 4,
 "nbformat_minor": 4
}
