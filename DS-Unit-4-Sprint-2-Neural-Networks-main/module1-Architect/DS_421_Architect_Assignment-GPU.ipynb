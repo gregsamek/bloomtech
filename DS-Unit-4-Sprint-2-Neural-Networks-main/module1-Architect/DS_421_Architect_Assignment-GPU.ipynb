{
 "cells": [
  {
   "cell_type": "markdown",
   "metadata": {
    "id": "ObyHCH8HvHSf"
   },
   "source": [
    "\n",
    "# *Data Science Unit 4 Sprint 2 Assignment 1*\n",
    "\n",
    "Use TensorFlow Keras and a sample of the [Quickdraw dataset](https://github.com/googlecreativelab/quickdraw-dataset) to build a sketch classification model. The dataset has been sampled to only 10 classes and 10000 observations per class. \n",
    "\n",
    "### Objective\n",
    "\n",
    "- Build a baseline classification model then, run a few experiments with different optimizers and learning rates. \n",
    "- Don't forget to [**switch to GPU if you're running your notebook on Colab!**](https://colab.research.google.com/notebooks/gpu.ipynb)"
   ]
  },
  {
   "cell_type": "markdown",
   "metadata": {
    "id": "s-Tc3ovEyQ9b"
   },
   "source": [
    "## Load Your Data"
   ]
  },
  {
   "cell_type": "code",
   "execution_count": 1,
   "metadata": {
    "executionInfo": {
     "elapsed": 2394,
     "status": "ok",
     "timestamp": 1638839820553,
     "user": {
      "displayName": "Joseph catanzarite",
      "photoUrl": "https://lh3.googleusercontent.com/a-/AOh14GgmMRaw8NgoEDqzevEZ6b18iOYdEH9nWTZeaFBW=s64",
      "userId": "16649206137414945374"
     },
     "user_tz": 480
    },
    "id": "CkU0pAYCvU8o",
    "tags": []
   },
   "outputs": [],
   "source": [
    "# imports in first cell \n",
    "import seaborn as sns\n",
    "import pandas as pd\n",
    "import numpy as np\n",
    "import tensorflow as tf \n",
    "import matplotlib.pyplot as plt\n",
    "from sklearn.utils import shuffle\n",
    "\n",
    "# use Sequential to build out your model\n",
    "from tensorflow.keras.models import Sequential\n",
    "\n",
    "# Dense layer is used for Fully Connected Forward Feeding networks\n",
    "from tensorflow.keras.layers import Dense"
   ]
  },
  {
   "cell_type": "markdown",
   "metadata": {
    "id": "UT2HFvSgDlFQ"
   },
   "source": [
    "Note that the 28x28 quickdraw images have already been \"flattened\" into 784: dimensional vectors"
   ]
  },
  {
   "cell_type": "code",
   "execution_count": 2,
   "metadata": {
    "tags": []
   },
   "outputs": [
    {
     "data": {
      "text/plain": [
       "[PhysicalDevice(name='/physical_device:CPU:0', device_type='CPU'),\n",
       " PhysicalDevice(name='/physical_device:GPU:0', device_type='GPU')]"
      ]
     },
     "execution_count": 2,
     "metadata": {},
     "output_type": "execute_result"
    }
   ],
   "source": [
    "tf.config.get_visible_devices()"
   ]
  },
  {
   "cell_type": "code",
   "execution_count": 3,
   "metadata": {
    "colab": {
     "base_uri": "https://localhost:8080/"
    },
    "executionInfo": {
     "elapsed": 10557,
     "status": "ok",
     "timestamp": 1638839841650,
     "user": {
      "displayName": "Joseph catanzarite",
      "photoUrl": "https://lh3.googleusercontent.com/a-/AOh14GgmMRaw8NgoEDqzevEZ6b18iOYdEH9nWTZeaFBW=s64",
      "userId": "16649206137414945374"
     },
     "user_tz": 480
    },
    "id": "S1XYJRQKLj1B",
    "outputId": "0d8f3cb5-1898-43ee-c85d-42363f3aa1e8",
    "tags": []
   },
   "outputs": [
    {
     "name": "stdout",
     "output_type": "stream",
     "text": [
      "(100000, 784)\n",
      "(100000,)\n"
     ]
    }
   ],
   "source": [
    "# load the quickdraw data set\n",
    "data = np.load('../quickdraw10.npz')\n",
    "\n",
    "X = data['arr_0']\n",
    "y = data['arr_1']\n",
    "\n",
    "print(X.shape)\n",
    "print(y.shape)"
   ]
  },
  {
   "cell_type": "markdown",
   "metadata": {
    "id": "mvMjoB_yDZTL"
   },
   "source": [
    "These are the names of the 10 image classes"
   ]
  },
  {
   "cell_type": "code",
   "execution_count": 4,
   "metadata": {
    "executionInfo": {
     "elapsed": 161,
     "status": "ok",
     "timestamp": 1638839849545,
     "user": {
      "displayName": "Joseph catanzarite",
      "photoUrl": "https://lh3.googleusercontent.com/a-/AOh14GgmMRaw8NgoEDqzevEZ6b18iOYdEH9nWTZeaFBW=s64",
      "userId": "16649206137414945374"
     },
     "user_tz": 480
    },
    "id": "c8qsDqdqvHDd",
    "tags": []
   },
   "outputs": [],
   "source": [
    "class_names = ['apple',\n",
    "             'anvil',\n",
    "             'airplane',\n",
    "             'banana',\n",
    "             'The Eiffel Tower',\n",
    "             'The Mona Lisa',\n",
    "             'The Great Wall of China',\n",
    "             'alarm clock',\n",
    "             'ant',\n",
    "             'asparagus']"
   ]
  },
  {
   "cell_type": "markdown",
   "metadata": {
    "id": "VxuY8RYXD9S4"
   },
   "source": [
    "We can explore the data a bit by reshaping the vectors back to images and displaying them with their labels. <br>\n",
    "Turns out the data has 10 blocks of 10,000 images of each of the above labels, in order. <br>\n",
    "So the code below displays the first image of each class."
   ]
  },
  {
   "cell_type": "code",
   "execution_count": 5,
   "metadata": {
    "colab": {
     "base_uri": "https://localhost:8080/",
     "height": 289
    },
    "executionInfo": {
     "elapsed": 426,
     "status": "ok",
     "timestamp": 1638840497011,
     "user": {
      "displayName": "Joseph catanzarite",
      "photoUrl": "https://lh3.googleusercontent.com/a-/AOh14GgmMRaw8NgoEDqzevEZ6b18iOYdEH9nWTZeaFBW=s64",
      "userId": "16649206137414945374"
     },
     "user_tz": 480
    },
    "id": "Owbm1EbxvA5A",
    "outputId": "36be4b28-a365-4ca7-def4-1d435022c671",
    "tags": []
   },
   "outputs": [
    {
     "data": {
      "image/png": "[encoded data removed]",
      "text/plain": [
       "<Figure size 1000x500 with 10 Axes>"
      ]
     },
     "metadata": {},
     "output_type": "display_data"
    }
   ],
   "source": [
    "# these are your 10 unique images\n",
    "plt.figure(figsize=(10,5))\n",
    "start = 0\n",
    "\n",
    "for num, name in enumerate(class_names):\n",
    "    plt.subplot(2,5, num+1)\n",
    "    plt.xticks([])\n",
    "    plt.yticks([])\n",
    "    plt.grid(False)\n",
    "    plt.imshow(X[start].reshape(28,28),cmap=plt.cm.binary)\n",
    "    plt.xlabel(name)\n",
    "    start += 10000\n",
    "plt.show()"
   ]
  },
  {
   "cell_type": "markdown",
   "metadata": {
    "id": "Av6i6t5QLj1D"
   },
   "source": [
    "Say hello to the Quickdraw dataset!\n",
    "\n",
    "You'll be using this dataset a lot this week as an alternative to the MNIST digits data set, which we'll use in the guided projects. The nice thing about this dataset is that it's simple, which allows us to focus on our model, its various components, and gradually come to a better understanding of how to build neural networks without worrying about cleaning and prepping our image data much."
   ]
  },
  {
   "cell_type": "code",
   "execution_count": 6,
   "metadata": {
    "id": "c97_M1WNvTNY",
    "tags": []
   },
   "outputs": [],
   "source": [
    "# always a good idea to shuffle your dataset!\n",
    "X, y = shuffle(X, y)"
   ]
  },
  {
   "cell_type": "markdown",
   "metadata": {
    "id": "jb70CbLVyK65"
   },
   "source": [
    "-----\n",
    "\n",
    "## Build Your Baseline Model\n",
    "\n",
    "Make sure that you\n",
    "\n",
    "- **Determine** the dimensionality of your input data by investigating **X**\n",
    "- **Normalize** your input data to values between 0 and 1 \n",
    "- **Determine** the number of neurons in your output layer by investigating **Y**\n",
    "- **Select** `sparse_categorical_crossentropy` as your loss function.\n",
    "- **Select** `sgd` as your optimizer.\n",
    "- **Add** 3 hidden layers to your model with the following number of nodes\n",
    "    - h1 has 500 nodes\n",
    "    - h2 has 250 nodes\n",
    "    - h3 has 100 nodes\n",
    "    \n",
    "- **Set** epochs to 20 \n",
    "- **Use** the `validation_split` keyword in `model.fit()` to automatically create a training / validation dataset from within the model. Specify a percentage, such as `validation_split = 0.2`\n",
    " \n",
    "Not sure what the various parameters are for or what values to assign to them?\n",
    "\n",
    "- Reference the guided project notebook for Sprint 2 Module 1\n",
    "- Reference the [**Keras documentation**](https://keras.io/api/)\n",
    "- Google other examples\n",
    "- Discuss your results with classmates "
   ]
  },
  {
   "cell_type": "code",
   "execution_count": 7,
   "metadata": {
    "deletable": false,
    "id": "f133nwpOLj1G",
    "nbgrader": {
     "cell_type": "code",
     "checksum": "ef20dd34df6998e0a50e394d59d58659",
     "grade": false,
     "grade_id": "cell-907b9348d7a2ebb3",
     "locked": false,
     "schema_version": 3,
     "solution": true,
     "task": false
    },
    "tags": []
   },
   "outputs": [],
   "source": [
    "# get dim of image row vectors and save to input_dim\n",
    "\n",
    "# get number of unique labels and save to n_output_labels\n",
    "\n",
    "# normalize image data to values between 0 and 1 (by dividing by max pixel value)\n",
    "\n",
    "\n",
    "# YOUR CODE HERE\n",
    "input_dim = X.shape[1]\n",
    "n_output_labels = len(class_names)\n",
    "X_scaled = X.astype('float32') / 255"
   ]
  },
  {
   "cell_type": "code",
   "execution_count": 8,
   "metadata": {
    "id": "vOufsWS3Lj1G",
    "tags": []
   },
   "outputs": [],
   "source": [
    "# a check on your data prep \n",
    "assert  X_scaled.max(), \"Max pixel value should be 1.0, make sure you normalize your data\""
   ]
  },
  {
   "cell_type": "code",
   "execution_count": 40,
   "metadata": {
    "deletable": false,
    "id": "zHWblzsMyNkU",
    "nbgrader": {
     "cell_type": "code",
     "checksum": "f0ba174cb72f491f73c3aa7df8ae7ac4",
     "grade": false,
     "grade_id": "cell-b7c96fc46d86725f",
     "locked": false,
     "schema_version": 3,
     "solution": true,
     "task": false
    },
    "tags": []
   },
   "outputs": [],
   "source": [
    "# instantiate a sequential object and call it model, then add the layers to your model\n",
    "\n",
    "# add a compile layer but don't fit your model yet \n",
    "\n",
    "# YOUR CODE HERE\n",
    "model = Sequential()\n",
    "model.add(Dense(500, activation='relu', input_dim=input_dim))\n",
    "model.add(Dense(250, activation='relu'))\n",
    "model.add(Dense(100, activation='relu'))\n",
    "model.add(Dense(n_output_labels, activation='softmax'))\n",
    "model.compile(optimizer='sgd', loss='sparse_categorical_crossentropy', metrics=['accuracy'])"
   ]
  },
  {
   "cell_type": "code",
   "execution_count": 11,
   "metadata": {
    "id": "ojLnGDklLj1H",
    "tags": []
   },
   "outputs": [],
   "source": [
    "# a check on your model architecture \n",
    "n_layers = len(model.get_config()[\"layers\"])\n",
    "assert n_layers == 5, \"You should have 5 layers: input, h1, h2, h3, and output\""
   ]
  },
  {
   "cell_type": "code",
   "execution_count": 12,
   "metadata": {
    "id": "wMK2_DtJLj1I",
    "tags": []
   },
   "outputs": [
    {
     "name": "stdout",
     "output_type": "stream",
     "text": [
      "Model: \"sequential_1\"\n",
      "_________________________________________________________________\n",
      " Layer (type)                Output Shape              Param #   \n",
      "=================================================================\n",
      " dense_4 (Dense)             (None, 500)               392500    \n",
      "                                                                 \n",
      " dense_5 (Dense)             (None, 250)               125250    \n",
      "                                                                 \n",
      " dense_6 (Dense)             (None, 100)               25100     \n",
      "                                                                 \n",
      " dense_7 (Dense)             (None, 10)                1010      \n",
      "                                                                 \n",
      "=================================================================\n",
      "Total params: 543,860\n",
      "Trainable params: 543,860\n",
      "Non-trainable params: 0\n",
      "_________________________________________________________________\n"
     ]
    }
   ],
   "source": [
    "# check out your model summary \n",
    "model.summary()"
   ]
  },
  {
   "cell_type": "code",
   "execution_count": 44,
   "metadata": {
    "id": "DXTSbEiyLj1I",
    "tags": []
   },
   "outputs": [
    {
     "name": "stdout",
     "output_type": "stream",
     "text": [
      "Epoch 1/10\n",
      "79/79 [==============================] - 1s 12ms/step - loss: 0.8932 - accuracy: 0.7450 - val_loss: 0.9300 - val_accuracy: 0.7334\n",
      "Epoch 2/10\n",
      "79/79 [==============================] - 1s 11ms/step - loss: 0.8913 - accuracy: 0.7449 - val_loss: 0.9342 - val_accuracy: 0.7321\n",
      "Epoch 3/10\n",
      "79/79 [==============================] - 1s 11ms/step - loss: 0.8899 - accuracy: 0.7459 - val_loss: 0.9245 - val_accuracy: 0.7343\n",
      "Epoch 4/10\n",
      "79/79 [==============================] - 1s 11ms/step - loss: 0.8880 - accuracy: 0.7466 - val_loss: 0.9214 - val_accuracy: 0.7363\n",
      "Epoch 5/10\n",
      "79/79 [==============================] - 1s 11ms/step - loss: 0.8861 - accuracy: 0.7468 - val_loss: 0.9205 - val_accuracy: 0.7373\n",
      "Epoch 6/10\n",
      "79/79 [==============================] - 1s 11ms/step - loss: 0.8847 - accuracy: 0.7478 - val_loss: 0.9284 - val_accuracy: 0.7293\n",
      "Epoch 7/10\n",
      "79/79 [==============================] - 1s 11ms/step - loss: 0.8830 - accuracy: 0.7480 - val_loss: 0.9326 - val_accuracy: 0.7344\n",
      "Epoch 8/10\n",
      "79/79 [==============================] - 1s 11ms/step - loss: 0.8823 - accuracy: 0.7485 - val_loss: 0.9231 - val_accuracy: 0.7384\n",
      "Epoch 9/10\n",
      "79/79 [==============================] - 1s 11ms/step - loss: 0.8811 - accuracy: 0.7488 - val_loss: 0.9213 - val_accuracy: 0.7352\n",
      "Epoch 10/10\n",
      "79/79 [==============================] - 1s 11ms/step - loss: 0.8802 - accuracy: 0.7494 - val_loss: 0.9222 - val_accuracy: 0.7337\n"
     ]
    }
   ],
   "source": [
    "# fit your model and save training results to history\n",
    "history = model.fit(X_scaled, y, \n",
    "                    epochs=10, \n",
    "                    # a held-out validation set will be generated within the model\n",
    "                    validation_split=0.2,\n",
    "                    batch_size=1024\n",
    "                   )"
   ]
  },
  {
   "cell_type": "markdown",
   "metadata": {
    "id": "b0QJURWh-9uv"
   },
   "source": [
    "----\n",
    "### Visualize the Results\n",
    "\n",
    "- Move results in `history` to a dataframe. \n",
    "- Use [**Seaborn**](https://seaborn.pydata.org/generated/seaborn.lineplot.html) to create line plots for both loss and accuracy by epoch. \n",
    "- Analyze the results and write a couple of observations. \n",
    "\n",
    "At what point should we have stopped training the model and why? "
   ]
  },
  {
   "cell_type": "code",
   "execution_count": 45,
   "metadata": {
    "deletable": false,
    "id": "ijAlzfYKAFaY",
    "nbgrader": {
     "cell_type": "code",
     "checksum": "6ef8cde40701c2ef57cf853b19455125",
     "grade": false,
     "grade_id": "cell-16e647cfc3291a01",
     "locked": false,
     "schema_version": 3,
     "solution": true,
     "task": false
    },
    "tags": []
   },
   "outputs": [],
   "source": [
    "# YOUR CODE HERE\n",
    "df = pd.DataFrame(history.history)"
   ]
  },
  {
   "cell_type": "code",
   "execution_count": 33,
   "metadata": {
    "id": "jFTzaMcALj1J",
    "tags": []
   },
   "outputs": [
    {
     "ename": "AssertionError",
     "evalue": "df should have the training results from 20 epochs",
     "output_type": "error",
     "traceback": [
      "\u001b[0;31m---------------------------------------------------------------------------\u001b[0m",
      "\u001b[0;31mAssertionError\u001b[0m                            Traceback (most recent call last)",
      "Cell \u001b[0;32mIn[33], line 2\u001b[0m\n\u001b[1;32m      1\u001b[0m \u001b[38;5;66;03m# a check on our model training\u001b[39;00m\n\u001b[0;32m----> 2\u001b[0m \u001b[38;5;28;01massert\u001b[39;00m df\u001b[38;5;241m.\u001b[39mshape[\u001b[38;5;241m0\u001b[39m] \u001b[38;5;241m==\u001b[39m \u001b[38;5;241m20\u001b[39m, \u001b[38;5;124m\"\u001b[39m\u001b[38;5;124mdf should have the training results from 20 epochs\u001b[39m\u001b[38;5;124m\"\u001b[39m\n",
      "\u001b[0;31mAssertionError\u001b[0m: df should have the training results from 20 epochs"
     ]
    }
   ],
   "source": [
    "# a check on our model training\n",
    "assert df.shape[0] == 20, \"df should have the training results from 20 epochs\""
   ]
  },
  {
   "cell_type": "code",
   "execution_count": 46,
   "metadata": {
    "deletable": false,
    "id": "i6NnocuJLj1J",
    "nbgrader": {
     "cell_type": "code",
     "checksum": "424d241660318a72ecda935be10485d7",
     "grade": false,
     "grade_id": "cell-96dba18873c4cffc",
     "locked": false,
     "schema_version": 3,
     "solution": true,
     "task": false
    },
    "tags": []
   },
   "outputs": [
    {
     "data": {
      "image/png": "[encoded data removed]",
      "text/plain": [
       "<Figure size 640x480 with 1 Axes>"
      ]
     },
     "metadata": {},
     "output_type": "display_data"
    }
   ],
   "source": [
    "# use seaborn to plot loss and accuracy metrics\n",
    "\n",
    "# YOUR CODE HERE\n",
    "sns.lineplot(x=df.index, y='loss', data=df ,label='train')\n",
    "sns.lineplot(x=df.index, y='val_loss', data=df, label='validation')\n",
    "plt.legend()\n",
    "plt.show()"
   ]
  },
  {
   "cell_type": "code",
   "execution_count": 47,
   "metadata": {
    "tags": []
   },
   "outputs": [
    {
     "data": {
      "image/png": "[encoded data removed]",
      "text/plain": [
       "<Figure size 640x480 with 1 Axes>"
      ]
     },
     "metadata": {},
     "output_type": "display_data"
    }
   ],
   "source": [
    "sns.lineplot(x=df.index, y='accuracy', data=df ,label='train')\n",
    "sns.lineplot(x=df.index, y='val_accuracy', data=df, label='validation')\n",
    "plt.legend()\n",
    "plt.show()"
   ]
  },
  {
   "cell_type": "markdown",
   "metadata": {
    "id": "GmjyuTlrLj1K"
   },
   "source": [
    "### Observations \n",
    "\n",
    "Based on the plot of the training and validation loss, answer the following questions. "
   ]
  },
  {
   "cell_type": "markdown",
   "metadata": {
    "id": "NF_mrNmPLj1K"
   },
   "source": [
    "**Was our model able to learn throughout the 20 epochs? Why or why not?**"
   ]
  },
  {
   "cell_type": "markdown",
   "metadata": {
    "deletable": false,
    "id": "yL42yLWELj1K",
    "nbgrader": {
     "cell_type": "markdown",
     "checksum": "b7713eb32ad3a910a58dfdb9494a9db3",
     "grade": true,
     "grade_id": "cell-820990a8232a858a",
     "locked": false,
     "points": 0,
     "schema_version": 3,
     "solution": true,
     "task": false
    }
   },
   "source": [
    "Yes, the model is able to classify images with an accuracy >85%"
   ]
  },
  {
   "cell_type": "markdown",
   "metadata": {
    "id": "_xKObFanLj1K"
   },
   "source": [
    "**Is our model overfitting? Why or why not?**"
   ]
  },
  {
   "cell_type": "markdown",
   "metadata": {
    "deletable": false,
    "id": "rx7xa4Z1Lj1L",
    "nbgrader": {
     "cell_type": "markdown",
     "checksum": "1d30c64465cd35081d70578c20ecf96d",
     "grade": true,
     "grade_id": "cell-33868e7ef6e401b5",
     "locked": false,
     "points": 0,
     "schema_version": 3,
     "solution": true,
     "task": false
    }
   },
   "source": [
    "Yes, our model is overfit as there was a significant gap between our training and validation metrics by the end of our training"
   ]
  },
  {
   "cell_type": "markdown",
   "metadata": {
    "id": "FIvb1mftLj1L"
   },
   "source": [
    "**Could the model score benefit from additional epochs? Why or why not?**"
   ]
  },
  {
   "cell_type": "markdown",
   "metadata": {
    "deletable": false,
    "id": "Ww1hBmfMLj1L",
    "nbgrader": {
     "cell_type": "markdown",
     "checksum": "0fc2208e2c78461578fc7a05224066b8",
     "grade": true,
     "grade_id": "cell-5c883f0a3161e469",
     "locked": false,
     "points": 0,
     "schema_version": 3,
     "solution": true,
     "task": false
    }
   },
   "source": [
    "No, the training and validation metrics have already diverged. It is more accurate to say that we should'be trained for fewer epochs."
   ]
  },
  {
   "cell_type": "markdown",
   "metadata": {
    "id": "MAhBrcE4yOZe"
   },
   "source": [
    "-----\n",
    "## Change Optimizers\n",
    "\n",
    "Let's compare model performance between different optimizers. \n",
    "- Build a new model, identical to the last one but using `adam` for the optimizer. \n",
    "- Train (fit) the model\n",
    "- Save the modeling results to adam_history, so we don't erase the results from the previous model run\n",
    "- Visualize the training results just as we did for the last model. \n"
   ]
  },
  {
   "cell_type": "code",
   "execution_count": 36,
   "metadata": {
    "deletable": false,
    "id": "jIW_spOZ0cxy",
    "nbgrader": {
     "cell_type": "code",
     "checksum": "6d30d8c6f4521861a77c9ef04dbde904",
     "grade": false,
     "grade_id": "cell-56663c8a5e75b71f",
     "locked": false,
     "schema_version": 3,
     "solution": true,
     "task": false
    },
    "tags": []
   },
   "outputs": [],
   "source": [
    "# train the same model as above but use the sgd optimizer if you used adam previously (or use adam if you used sgd previously)\n",
    "\n",
    "# YOUR CODE HERE\n",
    "model = Sequential()\n",
    "model.add(Dense(500, activation='relu', input_dim=input_dim))\n",
    "model.add(Dense(250, activation='relu'))\n",
    "model.add(Dense(100, activation='relu'))\n",
    "model.add(Dense(n_output_labels, activation='softmax'))\n",
    "model.compile(optimizer='adam', loss='sparse_categorical_crossentropy', metrics=['accuracy'])"
   ]
  },
  {
   "cell_type": "code",
   "execution_count": 19,
   "metadata": {
    "id": "u9DQypQOLj1L",
    "tags": []
   },
   "outputs": [],
   "source": [
    "# a check that we're using the correct optimizer in this model\n",
    "opt_name = model.optimizer.get_config()[\"name\"]\n",
    "assert opt_name == \"Adam\", \"you need to use adam for the optimizer in this model.\""
   ]
  },
  {
   "cell_type": "code",
   "execution_count": 39,
   "metadata": {
    "tags": []
   },
   "outputs": [
    {
     "name": "stdout",
     "output_type": "stream",
     "text": [
      "Epoch 1/20\n",
      "157/157 [==============================] - 2s 12ms/step - loss: 696704.9375 - accuracy: 0.1765 - val_loss: 846060.3750 - val_accuracy: 0.1759\n",
      "Epoch 2/20\n",
      "157/157 [==============================] - 2s 12ms/step - loss: 650222.6875 - accuracy: 0.1812 - val_loss: 686378.3125 - val_accuracy: 0.2421\n",
      "Epoch 3/20\n",
      "157/157 [==============================] - 2s 12ms/step - loss: 740293.5000 - accuracy: 0.1799 - val_loss: 816099.8125 - val_accuracy: 0.2165\n",
      "Epoch 4/20\n",
      "157/157 [==============================] - 2s 12ms/step - loss: 734118.4375 - accuracy: 0.1698 - val_loss: 470155.2188 - val_accuracy: 0.2043\n",
      "Epoch 5/20\n",
      "157/157 [==============================] - 2s 12ms/step - loss: 698705.6875 - accuracy: 0.1830 - val_loss: 902037.8125 - val_accuracy: 0.1944\n",
      "Epoch 6/20\n",
      "157/157 [==============================] - 2s 12ms/step - loss: 817547.1875 - accuracy: 0.1876 - val_loss: 668023.9375 - val_accuracy: 0.1882\n",
      "Epoch 7/20\n",
      "157/157 [==============================] - 2s 12ms/step - loss: 831974.9375 - accuracy: 0.1839 - val_loss: 722987.4375 - val_accuracy: 0.2043\n",
      "Epoch 8/20\n",
      "157/157 [==============================] - 2s 12ms/step - loss: 791581.4375 - accuracy: 0.1780 - val_loss: 847563.1875 - val_accuracy: 0.1184\n",
      "Epoch 9/20\n",
      "157/157 [==============================] - 2s 12ms/step - loss: 905146.7500 - accuracy: 0.1753 - val_loss: 805655.3750 - val_accuracy: 0.1717\n",
      "Epoch 10/20\n",
      "157/157 [==============================] - 2s 12ms/step - loss: 853815.6875 - accuracy: 0.1822 - val_loss: 1027104.3750 - val_accuracy: 0.1284\n",
      "Epoch 11/20\n",
      "157/157 [==============================] - 2s 12ms/step - loss: 957279.0000 - accuracy: 0.1826 - val_loss: 930474.0625 - val_accuracy: 0.1290\n",
      "Epoch 12/20\n",
      "157/157 [==============================] - 2s 12ms/step - loss: 880494.3125 - accuracy: 0.1877 - val_loss: 576016.0000 - val_accuracy: 0.2714\n",
      "Epoch 13/20\n",
      "157/157 [==============================] - 2s 12ms/step - loss: 945611.5625 - accuracy: 0.1870 - val_loss: 822738.3750 - val_accuracy: 0.1540\n",
      "Epoch 14/20\n",
      "157/157 [==============================] - 2s 12ms/step - loss: 872201.7500 - accuracy: 0.1779 - val_loss: 826167.3750 - val_accuracy: 0.2087\n",
      "Epoch 15/20\n",
      "157/157 [==============================] - 2s 12ms/step - loss: 965797.5000 - accuracy: 0.1863 - val_loss: 961689.0000 - val_accuracy: 0.1561\n",
      "Epoch 16/20\n",
      "157/157 [==============================] - 2s 12ms/step - loss: 963165.3750 - accuracy: 0.1778 - val_loss: 929946.7500 - val_accuracy: 0.1302\n",
      "Epoch 17/20\n",
      " 58/157 [==========>...................] - ETA: 0s - loss: 1062669.7500 - accuracy: 0.1723"
     ]
    },
    {
     "ename": "KeyboardInterrupt",
     "evalue": "",
     "output_type": "error",
     "traceback": [
      "\u001b[0;31m---------------------------------------------------------------------------\u001b[0m",
      "\u001b[0;31mKeyboardInterrupt\u001b[0m                         Traceback (most recent call last)",
      "Cell \u001b[0;32mIn[39], line 1\u001b[0m\n\u001b[0;32m----> 1\u001b[0m adam_history \u001b[38;5;241m=\u001b[39m \u001b[43mmodel\u001b[49m\u001b[38;5;241;43m.\u001b[39;49m\u001b[43mfit\u001b[49m\u001b[43m(\u001b[49m\u001b[43mX_scaled\u001b[49m\u001b[43m,\u001b[49m\u001b[43m \u001b[49m\u001b[43my\u001b[49m\u001b[43m,\u001b[49m\u001b[43m \u001b[49m\n\u001b[1;32m      2\u001b[0m \u001b[43m                         \u001b[49m\u001b[43mepochs\u001b[49m\u001b[38;5;241;43m=\u001b[39;49m\u001b[38;5;241;43m20\u001b[39;49m\u001b[43m,\u001b[49m\u001b[43m \u001b[49m\n\u001b[1;32m      3\u001b[0m \u001b[43m                         \u001b[49m\u001b[38;5;66;43;03m# a held-out validation set will be generated within the model\u001b[39;49;00m\n\u001b[1;32m      4\u001b[0m \u001b[43m                         \u001b[49m\u001b[43mvalidation_split\u001b[49m\u001b[38;5;241;43m=\u001b[39;49m\u001b[38;5;241;43m0.2\u001b[39;49m\u001b[43m,\u001b[49m\n\u001b[1;32m      5\u001b[0m \u001b[43m                         \u001b[49m\u001b[43mbatch_size\u001b[49m\u001b[38;5;241;43m=\u001b[39;49m\u001b[38;5;241;43m512\u001b[39;49m\n\u001b[1;32m      6\u001b[0m \u001b[43m                         \u001b[49m\u001b[43m)\u001b[49m\n",
      "File \u001b[0;32m~/anaconda3/envs/bt-nn/lib/python3.11/site-packages/keras/utils/traceback_utils.py:65\u001b[0m, in \u001b[0;36mfilter_traceback.<locals>.error_handler\u001b[0;34m(*args, **kwargs)\u001b[0m\n\u001b[1;32m     63\u001b[0m filtered_tb \u001b[38;5;241m=\u001b[39m \u001b[38;5;28;01mNone\u001b[39;00m\n\u001b[1;32m     64\u001b[0m \u001b[38;5;28;01mtry\u001b[39;00m:\n\u001b[0;32m---> 65\u001b[0m     \u001b[38;5;28;01mreturn\u001b[39;00m \u001b[43mfn\u001b[49m\u001b[43m(\u001b[49m\u001b[38;5;241;43m*\u001b[39;49m\u001b[43margs\u001b[49m\u001b[43m,\u001b[49m\u001b[43m \u001b[49m\u001b[38;5;241;43m*\u001b[39;49m\u001b[38;5;241;43m*\u001b[39;49m\u001b[43mkwargs\u001b[49m\u001b[43m)\u001b[49m\n\u001b[1;32m     66\u001b[0m \u001b[38;5;28;01mexcept\u001b[39;00m \u001b[38;5;167;01mException\u001b[39;00m \u001b[38;5;28;01mas\u001b[39;00m e:\n\u001b[1;32m     67\u001b[0m     filtered_tb \u001b[38;5;241m=\u001b[39m _process_traceback_frames(e\u001b[38;5;241m.\u001b[39m__traceback__)\n",
      "File \u001b[0;32m~/anaconda3/envs/bt-nn/lib/python3.11/site-packages/keras/engine/training.py:1676\u001b[0m, in \u001b[0;36mModel.fit\u001b[0;34m(self, x, y, batch_size, epochs, verbose, callbacks, validation_split, validation_data, shuffle, class_weight, sample_weight, initial_epoch, steps_per_epoch, validation_steps, validation_batch_size, validation_freq, max_queue_size, workers, use_multiprocessing)\u001b[0m\n\u001b[1;32m   1674\u001b[0m callbacks\u001b[38;5;241m.\u001b[39mon_epoch_begin(epoch)\n\u001b[1;32m   1675\u001b[0m \u001b[38;5;28;01mwith\u001b[39;00m data_handler\u001b[38;5;241m.\u001b[39mcatch_stop_iteration():\n\u001b[0;32m-> 1676\u001b[0m     \u001b[38;5;28;01mfor\u001b[39;00m step \u001b[38;5;129;01min\u001b[39;00m data_handler\u001b[38;5;241m.\u001b[39msteps():\n\u001b[1;32m   1677\u001b[0m         \u001b[38;5;28;01mwith\u001b[39;00m tf\u001b[38;5;241m.\u001b[39mprofiler\u001b[38;5;241m.\u001b[39mexperimental\u001b[38;5;241m.\u001b[39mTrace(\n\u001b[1;32m   1678\u001b[0m             \u001b[38;5;124m\"\u001b[39m\u001b[38;5;124mtrain\u001b[39m\u001b[38;5;124m\"\u001b[39m,\n\u001b[1;32m   1679\u001b[0m             epoch_num\u001b[38;5;241m=\u001b[39mepoch,\n\u001b[0;32m   (...)\u001b[0m\n\u001b[1;32m   1682\u001b[0m             _r\u001b[38;5;241m=\u001b[39m\u001b[38;5;241m1\u001b[39m,\n\u001b[1;32m   1683\u001b[0m         ):\n\u001b[1;32m   1684\u001b[0m             callbacks\u001b[38;5;241m.\u001b[39mon_train_batch_begin(step)\n",
      "File \u001b[0;32m~/anaconda3/envs/bt-nn/lib/python3.11/site-packages/keras/engine/data_adapter.py:1375\u001b[0m, in \u001b[0;36mDataHandler.steps\u001b[0;34m(self)\u001b[0m\n\u001b[1;32m   1373\u001b[0m \u001b[38;5;28;01mif\u001b[39;00m \u001b[38;5;28mself\u001b[39m\u001b[38;5;241m.\u001b[39m_insufficient_data:  \u001b[38;5;66;03m# Set by `catch_stop_iteration`.\u001b[39;00m\n\u001b[1;32m   1374\u001b[0m     \u001b[38;5;28;01mbreak\u001b[39;00m\n\u001b[0;32m-> 1375\u001b[0m original_spe \u001b[38;5;241m=\u001b[39m \u001b[38;5;28;43mself\u001b[39;49m\u001b[38;5;241;43m.\u001b[39;49m\u001b[43m_steps_per_execution\u001b[49m\u001b[38;5;241;43m.\u001b[39;49m\u001b[43mnumpy\u001b[49m\u001b[43m(\u001b[49m\u001b[43m)\u001b[49m\u001b[38;5;241m.\u001b[39mitem()\n\u001b[1;32m   1376\u001b[0m can_run_full_execution \u001b[38;5;241m=\u001b[39m (\n\u001b[1;32m   1377\u001b[0m     original_spe \u001b[38;5;241m==\u001b[39m \u001b[38;5;241m1\u001b[39m\n\u001b[1;32m   1378\u001b[0m     \u001b[38;5;129;01mor\u001b[39;00m \u001b[38;5;28mself\u001b[39m\u001b[38;5;241m.\u001b[39m_inferred_steps \u001b[38;5;129;01mis\u001b[39;00m \u001b[38;5;28;01mNone\u001b[39;00m\n\u001b[1;32m   1379\u001b[0m     \u001b[38;5;129;01mor\u001b[39;00m \u001b[38;5;28mself\u001b[39m\u001b[38;5;241m.\u001b[39m_inferred_steps \u001b[38;5;241m-\u001b[39m \u001b[38;5;28mself\u001b[39m\u001b[38;5;241m.\u001b[39m_current_step \u001b[38;5;241m>\u001b[39m\u001b[38;5;241m=\u001b[39m original_spe\n\u001b[1;32m   1380\u001b[0m )\n\u001b[1;32m   1382\u001b[0m \u001b[38;5;28;01mif\u001b[39;00m can_run_full_execution:\n",
      "File \u001b[0;32m~/anaconda3/envs/bt-nn/lib/python3.11/site-packages/tensorflow/python/ops/resource_variable_ops.py:647\u001b[0m, in \u001b[0;36mBaseResourceVariable.numpy\u001b[0;34m(self)\u001b[0m\n\u001b[1;32m    645\u001b[0m \u001b[38;5;28;01mdef\u001b[39;00m \u001b[38;5;21mnumpy\u001b[39m(\u001b[38;5;28mself\u001b[39m):\n\u001b[1;32m    646\u001b[0m   \u001b[38;5;28;01mif\u001b[39;00m context\u001b[38;5;241m.\u001b[39mexecuting_eagerly():\n\u001b[0;32m--> 647\u001b[0m     \u001b[38;5;28;01mreturn\u001b[39;00m \u001b[38;5;28;43mself\u001b[39;49m\u001b[38;5;241;43m.\u001b[39;49m\u001b[43mread_value\u001b[49m\u001b[43m(\u001b[49m\u001b[43m)\u001b[49m\u001b[38;5;241;43m.\u001b[39;49m\u001b[43mnumpy\u001b[49m\u001b[43m(\u001b[49m\u001b[43m)\u001b[49m\n\u001b[1;32m    648\u001b[0m   \u001b[38;5;28;01mraise\u001b[39;00m \u001b[38;5;167;01mNotImplementedError\u001b[39;00m(\n\u001b[1;32m    649\u001b[0m       \u001b[38;5;124m\"\u001b[39m\u001b[38;5;124mnumpy() is only available when eager execution is enabled.\u001b[39m\u001b[38;5;124m\"\u001b[39m)\n",
      "File \u001b[0;32m~/anaconda3/envs/bt-nn/lib/python3.11/site-packages/tensorflow/python/framework/ops.py:1160\u001b[0m, in \u001b[0;36m_EagerTensorBase.numpy\u001b[0;34m(self)\u001b[0m\n\u001b[1;32m   1137\u001b[0m \u001b[38;5;250m\u001b[39m\u001b[38;5;124;03m\"\"\"Copy of the contents of this Tensor into a NumPy array or scalar.\u001b[39;00m\n\u001b[1;32m   1138\u001b[0m \n\u001b[1;32m   1139\u001b[0m \u001b[38;5;124;03mUnlike NumPy arrays, Tensors are immutable, so this method has to copy\u001b[39;00m\n\u001b[0;32m   (...)\u001b[0m\n\u001b[1;32m   1157\u001b[0m \u001b[38;5;124;03m    NumPy dtype.\u001b[39;00m\n\u001b[1;32m   1158\u001b[0m \u001b[38;5;124;03m\"\"\"\u001b[39;00m\n\u001b[1;32m   1159\u001b[0m \u001b[38;5;66;03m# TODO(slebedev): Consider avoiding a copy for non-CPU or remote tensors.\u001b[39;00m\n\u001b[0;32m-> 1160\u001b[0m maybe_arr \u001b[38;5;241m=\u001b[39m \u001b[38;5;28;43mself\u001b[39;49m\u001b[38;5;241;43m.\u001b[39;49m\u001b[43m_numpy\u001b[49m\u001b[43m(\u001b[49m\u001b[43m)\u001b[49m  \u001b[38;5;66;03m# pylint: disable=protected-access\u001b[39;00m\n\u001b[1;32m   1161\u001b[0m \u001b[38;5;28;01mreturn\u001b[39;00m maybe_arr\u001b[38;5;241m.\u001b[39mcopy() \u001b[38;5;28;01mif\u001b[39;00m \u001b[38;5;28misinstance\u001b[39m(maybe_arr, np\u001b[38;5;241m.\u001b[39mndarray) \u001b[38;5;28;01melse\u001b[39;00m maybe_arr\n",
      "File \u001b[0;32m~/anaconda3/envs/bt-nn/lib/python3.11/site-packages/tensorflow/python/framework/ops.py:1126\u001b[0m, in \u001b[0;36m_EagerTensorBase._numpy\u001b[0;34m(self)\u001b[0m\n\u001b[1;32m   1124\u001b[0m \u001b[38;5;28;01mdef\u001b[39;00m \u001b[38;5;21m_numpy\u001b[39m(\u001b[38;5;28mself\u001b[39m):\n\u001b[1;32m   1125\u001b[0m   \u001b[38;5;28;01mtry\u001b[39;00m:\n\u001b[0;32m-> 1126\u001b[0m     \u001b[38;5;28;01mreturn\u001b[39;00m \u001b[38;5;28;43mself\u001b[39;49m\u001b[38;5;241;43m.\u001b[39;49m\u001b[43m_numpy_internal\u001b[49m\u001b[43m(\u001b[49m\u001b[43m)\u001b[49m\n\u001b[1;32m   1127\u001b[0m   \u001b[38;5;28;01mexcept\u001b[39;00m core\u001b[38;5;241m.\u001b[39m_NotOkStatusException \u001b[38;5;28;01mas\u001b[39;00m e:  \u001b[38;5;66;03m# pylint: disable=protected-access\u001b[39;00m\n\u001b[1;32m   1128\u001b[0m     \u001b[38;5;28;01mraise\u001b[39;00m core\u001b[38;5;241m.\u001b[39m_status_to_exception(e) \u001b[38;5;28;01mfrom\u001b[39;00m \u001b[38;5;28;01mNone\u001b[39;00m\n",
      "\u001b[0;31mKeyboardInterrupt\u001b[0m: "
     ]
    }
   ],
   "source": [
    "adam_history = model.fit(X_scaled, y, \n",
    "                         epochs=20, \n",
    "                         # a held-out validation set will be generated within the model\n",
    "                         validation_split=0.2,\n",
    "                         batch_size=512\n",
    "                         )"
   ]
  },
  {
   "cell_type": "code",
   "execution_count": 21,
   "metadata": {
    "deletable": false,
    "id": "wBVj55zVLj1L",
    "nbgrader": {
     "cell_type": "code",
     "checksum": "1a4c01aa7dbcc832d75b05bffaeaacc8",
     "grade": false,
     "grade_id": "cell-20118d1646215346",
     "locked": false,
     "schema_version": 3,
     "solution": true,
     "task": false
    },
    "tags": []
   },
   "outputs": [],
   "source": [
    "# YOUR CODE HERE\n",
    "df_a = pd.DataFrame(adam_history.history)"
   ]
  },
  {
   "cell_type": "code",
   "execution_count": 22,
   "metadata": {
    "tags": []
   },
   "outputs": [
    {
     "data": {
      "image/png": "[encoded data removed]",
      "text/plain": [
       "<Figure size 640x480 with 1 Axes>"
      ]
     },
     "metadata": {},
     "output_type": "display_data"
    }
   ],
   "source": [
    "sns.lineplot(x=df_a.index, y='loss', data=df_a ,label='train')\n",
    "sns.lineplot(x=df_a.index, y='val_loss', data=df_a, label='validation')\n",
    "plt.legend()\n",
    "plt.show()"
   ]
  },
  {
   "cell_type": "code",
   "execution_count": 23,
   "metadata": {
    "tags": []
   },
   "outputs": [
    {
     "data": {
      "image/png": "[encoded data removed]",
      "text/plain": [
       "<Figure size 640x480 with 1 Axes>"
      ]
     },
     "metadata": {},
     "output_type": "display_data"
    }
   ],
   "source": [
    "sns.lineplot(x=df_a.index, y='accuracy', data=df_a ,label='train')\n",
    "sns.lineplot(x=df_a.index, y='val_accuracy', data=df_a, label='validation')\n",
    "plt.legend()\n",
    "plt.show()"
   ]
  },
  {
   "cell_type": "markdown",
   "metadata": {
    "id": "XECc5OtzLj1M"
   },
   "source": [
    "### Observations \n",
    "\n",
    "This plot should look very different from the previous plot. Based on the plot of the training and validation loss, answer the following questions. "
   ]
  },
  {
   "cell_type": "markdown",
   "metadata": {
    "id": "tK8B5CszLj1M"
   },
   "source": [
    "**Is our model overfitting? Why or why not?**"
   ]
  },
  {
   "cell_type": "markdown",
   "metadata": {
    "deletable": false,
    "id": "Fn6C8NWTLj1M",
    "nbgrader": {
     "cell_type": "markdown",
     "checksum": "fa4141497af675d227aa510feb8db732",
     "grade": true,
     "grade_id": "cell-7e524ccac970c33e",
     "locked": false,
     "points": 0,
     "schema_version": 3,
     "solution": true,
     "task": false
    }
   },
   "source": [
    "Yes, our model is overfit as there was a significant gap between our training and validation metrics by the end of our training"
   ]
  },
  {
   "cell_type": "markdown",
   "metadata": {
    "id": "ygXQYH8ILj1M"
   },
   "source": [
    "**Could our model's performance improve by training on more than 20 epochs? Why or why not?**"
   ]
  },
  {
   "cell_type": "markdown",
   "metadata": {
    "deletable": false,
    "id": "Sa5SRkB1Lj1M",
    "nbgrader": {
     "cell_type": "markdown",
     "checksum": "ae03b8b897eb5d052590574ab3bba839",
     "grade": true,
     "grade_id": "cell-456c40e885652955",
     "locked": false,
     "points": 0,
     "schema_version": 3,
     "solution": true,
     "task": false
    }
   },
   "source": [
    "No, the training and validation metrics have already diverged. It is more accurate to say that we should'be trained for fewer epochs.No, the training and validation metrics have already diverged. It is more accurate to say that we should'be trained for fewer epochs."
   ]
  },
  {
   "cell_type": "markdown",
   "metadata": {
    "id": "bNxtLggeLj1M"
   },
   "source": [
    "**Assuming that you want to stick to this model architecture, what can you do to avoid overfitting?**"
   ]
  },
  {
   "cell_type": "markdown",
   "metadata": {
    "deletable": false,
    "id": "tfztMm3rLj1M",
    "nbgrader": {
     "cell_type": "markdown",
     "checksum": "9f5a9393314231d3ce253363c1df1223",
     "grade": true,
     "grade_id": "cell-74d7def19c66702b",
     "locked": false,
     "points": 0,
     "schema_version": 3,
     "solution": true,
     "task": false
    }
   },
   "source": [
    "train on fewer epochs, or lower the learning rate. We could also experiment with shrinking the size of the model"
   ]
  },
  {
   "cell_type": "markdown",
   "metadata": {
    "id": "ViaTP68cLj1M"
   },
   "source": [
    "------\n",
    "# Conclusion \n",
    "\n",
    "You have observed by comparing the two models that are identical except for the optimizer, that the choice of the optimizer can considerably influence the performance of a neural network. \n",
    "\n",
    "You might not know \n",
    "\n",
    "- why changing the optimizer from Stochastic Gradient Descent over to Adam made a difference.\n",
    "- how Gradient Descent works \n",
    "- or that Adam is known as Adaptive Gradient Descent (i.e., is it a different version of ordinary Gradient Descent). \n",
    "\n",
    "But that's ok - tomorrow's lesson will be a deep dive into Gradient Descent. You'll learn the theory of Gradient Descent, we'll code up Gradient Descent from scratch, and we'll talk about how Adam is different from ordinary Gradient Descent. "
   ]
  },
  {
   "cell_type": "markdown",
   "metadata": {
    "id": "8v_TuVH5Lj1N"
   },
   "source": [
    "-----\n",
    "# Preparation for Tomorrow \n",
    "\n",
    "In preparation for tomorrow, you might need to watch a few videos. I say it might because you may or may not already be comfortable with multi-variate calculus. \n",
    "\n",
    "### Theory of Calculus \n",
    "The theory of Gradient Descent rests on [**the derivative from Calculus**](https://www.youtube.com/watch?v=WUvTyaaNkzM). If you've never taken a Calculus course before, or are a bit rusty, definitely watch this video in preparation for tomorrow's lesson. The takeaway here is to understand the derivative conceptually; you won't be asked to calculate any derivatives by hand. \n",
    "\n",
    "### The Gradient - a Multi-Dimensional Derivative\n",
    "Once you've watched the previous video, you will be ready to understand how to conceptualize a derivative in an N-dimensional space (where N is any number ranging from 2, 3, 4, ..., all the way to a very large number of dimensions N ). [**This video visually explains the multi-dimensional derivative called the Gradient visually**](https://www.youtube.com/watch?v=GkB4vW16QHI) - and that's the takeaway. The point of this video is to help you understand the Gradient visually using 3D surfaces. You should also know that the Gradient is made up of partial derivatives, more on this tomorrow. \n",
    "\n",
    "### Contour Maps \n",
    "It is very common to visual 3D surfaces as 2D contour maps - and we'll be making a lot of use of contour maps to understand Gradient Descent. Watch this video to [**understand the relationship between 3D surfaces and 2D contour maps.**](https://www.youtube.com/watch?v=acdX4YamDtU)\n",
    "\n",
    "### The Calculus of Backpropagation \n",
    "\n",
    "Unlike standard Sklearn ML models, neural networks use Gradient Descent and something called Backpropagatin to learn from the data. [**In order to understand how backpropagation works, you need to understand the Chain Rule in Calculus**](https://www.youtube.com/watch?v=acdX4YamDtU). The takeaway here is to understand how a partial derivative can be decomposed into a product of multiple derivatives. "
   ]
  },
  {
   "cell_type": "markdown",
   "metadata": {
    "id": "XCjBp0vTLj1N"
   },
   "source": [
    "------\n",
    "# Stretch Goals\n",
    "\n",
    "### This Section is Optional!\n",
    "\n",
    "Only after you've completed the above work and watched the recommended videos are you then encouraged to experiment with building a few more models and analyze their results. \n",
    "\n",
    "Here are some suggestions to help you get started. \n",
    "\n",
    "- Train the same model using the Sigmoid and Relu activation functions and note the difference in their learning outcomes. [**Keras docs on activation functions**](https://keras.io/api/layers/activations/). We'll cover the Relu activation function in Sprint 2 Module 3.\n",
    "- Train the same model using normalized and non-normalized data and note the difference in their learning outcomes. \n",
    "\n",
    "\n",
    "The objective here is to get more practice with the Keras API (i.e., building models) and run a couple of experiments to help set you up for future lessons. In order words, we'll be discussing different activation functions and the effect of normalized data on model training."
   ]
  },
  {
   "cell_type": "code",
   "execution_count": null,
   "metadata": {},
   "outputs": [],
   "source": []
  }
 ],
 "metadata": {
  "accelerator": "GPU",
  "colab": {
   "collapsed_sections": [],
   "name": "DS_421_Architect_Assignment.ipynb",
   "provenance": [
    {
     "file_id": "https://github.com/ryanleeallred/DS-Unit-4-Sprint-2-Neural-Networks/blob/main/module1-Architect/LS_DS_421_Architect_Assignment.ipynb",
     "timestamp": 1635791066977
    }
   ]
  },
  "kernelspec": {
   "display_name": "Python 3 (ipykernel)",
   "language": "python",
   "name": "python3"
  },
  "language_info": {
   "codemirror_mode": {
    "name": "ipython",
    "version": 3
   },
   "file_extension": ".py",
   "mimetype": "text/x-python",
   "name": "python",
   "nbconvert_exporter": "python",
   "pygments_lexer": "ipython3",
   "version": "3.11.4"
  }
 },
 "nbformat": 4,
 "nbformat_minor": 4
}
