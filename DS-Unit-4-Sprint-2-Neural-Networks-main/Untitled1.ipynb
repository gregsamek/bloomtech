{
 "cells": [
  {
   "cell_type": "code",
   "execution_count": 3,
   "id": "f25ae788-882e-42b6-9231-9b0dc95181e3",
   "metadata": {
    "tags": []
   },
   "outputs": [
    {
     "ename": "AttributeError",
     "evalue": "module 'tensorflow' has no attribute 'Session'",
     "output_type": "error",
     "traceback": [
      "\u001b[0;31m---------------------------------------------------------------------------\u001b[0m",
      "\u001b[0;31mAttributeError\u001b[0m                            Traceback (most recent call last)",
      "Cell \u001b[0;32mIn[3], line 13\u001b[0m\n\u001b[1;32m     10\u001b[0m     v2 \u001b[38;5;241m=\u001b[39m tf\u001b[38;5;241m.\u001b[39mVariable(tf\u001b[38;5;241m.\u001b[39mrandom\u001b[38;5;241m.\u001b[39mnormal((size, size)))\n\u001b[1;32m     11\u001b[0m     op \u001b[38;5;241m=\u001b[39m tf\u001b[38;5;241m.\u001b[39mmatmul(v1, v2)\n\u001b[0;32m---> 13\u001b[0m \u001b[38;5;28;01mwith\u001b[39;00m \u001b[43mtf\u001b[49m\u001b[38;5;241;43m.\u001b[39;49m\u001b[43mSession\u001b[49m() \u001b[38;5;28;01mas\u001b[39;00m sess:\n\u001b[1;32m     14\u001b[0m     sess\u001b[38;5;241m.\u001b[39mrun(tf\u001b[38;5;241m.\u001b[39mglobal_variables_initializer())\n\u001b[1;32m     15\u001b[0m     sess\u001b[38;5;241m.\u001b[39mrun(op)\n",
      "\u001b[0;31mAttributeError\u001b[0m: module 'tensorflow' has no attribute 'Session'"
     ]
    }
   ],
   "source": [
    "import tensorflow as tf\n",
    "import time\n",
    "cpu_times = []\n",
    "sizes = [1, 10, 100, 500, 1000, 2000, 3000, 4000, 5000, 8000, 10000]\n",
    "for size in sizes:\n",
    "    tf.compat.v1.reset_default_graph()\n",
    "    start = time.time()\n",
    "    with tf.device('cpu:0'):\n",
    "        v1 = tf.Variable(tf.random.normal((size, size)))\n",
    "        v2 = tf.Variable(tf.random.normal((size, size)))\n",
    "        op = tf.matmul(v1, v2)\n",
    "\n",
    "        sess.run(tf.global_variables_initializer())\n",
    "        sess.run(op)\n",
    "    cpu_times.append(time.time() - start)\n",
    "    print('cpu time took: {0:.4f}'.format(time.time() - start))\n",
    "\n",
    "import tensorflow as tf\n",
    "import time\n",
    "\n",
    "gpu_times = []\n",
    "for size in sizes:\n",
    "    tf.compat.v1.reset_default_graph()\n",
    "    start = time.time()\n",
    "    with tf.device('gpu:0'):\n",
    "        v1 = tf.Variable(tf.random.normal((size, size)))\n",
    "        v2 = tf.Variable(tf.random.normal((size, size)))\n",
    "        op = tf.matmul(v1, v2)\n",
    "\n",
    "    with tf.Session() as sess:\n",
    "        sess.run(tf.global_variables_initializer())\n",
    "        sess.run(op)\n",
    "    gpu_times.append(time.time() - start)\n",
    "    print('gpu time took: {0:.4f}'.format(time.time() - start))\n",
    "\n",
    "import matplotlib.pyplot as plt\n",
    "\n",
    "fig, ax = plt.subplots(figsize=(8, 6))\n",
    "ax.plot(sizes, gpu_times, label='GPU')\n",
    "ax.plot(sizes, cpu_times, label='CPU')\n",
    "plt.xlabel('MATRIX SIZE')\n",
    "plt.ylabel('TIME (sec)')\n",
    "plt.legend()\n",
    "plt.show()\n"
   ]
  },
  {
   "cell_type": "code",
   "execution_count": null,
   "id": "ad481b39-c4af-43e4-8ea8-273f63ab95eb",
   "metadata": {},
   "outputs": [],
   "source": []
  }
 ],
 "metadata": {
  "kernelspec": {
   "display_name": "Python 3 (ipykernel)",
   "language": "python",
   "name": "python3"
  },
  "language_info": {
   "codemirror_mode": {
    "name": "ipython",
    "version": 3
   },
   "file_extension": ".py",
   "mimetype": "text/x-python",
   "name": "python",
   "nbconvert_exporter": "python",
   "pygments_lexer": "ipython3",
   "version": "3.11.4"
  }
 },
 "nbformat": 4,
 "nbformat_minor": 5
}
