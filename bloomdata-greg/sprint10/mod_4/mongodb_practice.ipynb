{
 "cells": [
  {
   "cell_type": "code",
   "execution_count": 1,
   "id": "1c80ff93-cefc-4078-b889-f11b47f1a09e",
   "metadata": {},
   "outputs": [],
   "source": [
    "from os import getenv\n",
    "from dotenv import load_dotenv\n",
    "from pymongo import MongoClient"
   ]
  },
  {
   "cell_type": "code",
   "execution_count": 2,
   "id": "3c69441c-ef1d-4294-bb3b-226e531ffca7",
   "metadata": {},
   "outputs": [],
   "source": [
    "load_dotenv()\n",
    "\n",
    "uri = \"mongodb+srv://camerapanicle0l:\" + getenv('MONGO_PW') + \"@cluster0.ubqc0jy.mongodb.net/?retryWrites=true&w=majority\"\n",
    "\n",
    "client = MongoClient(uri)\n",
    "\n",
    "db = client.rpg"
   ]
  },
  {
   "cell_type": "code",
   "execution_count": 5,
   "id": "0d98564f-f46f-4efc-aadf-c59880bf7f77",
   "metadata": {},
   "outputs": [
    {
     "data": {
      "text/plain": [
       "302"
      ]
     },
     "execution_count": 5,
     "metadata": {},
     "output_type": "execute_result"
    }
   ],
   "source": [
    "# How many total Characters are there?\n",
    "\n",
    "db.characters.count_documents({})"
   ]
  },
  {
   "cell_type": "code",
   "execution_count": 6,
   "id": "d12c1986-0523-4d64-8676-ae92b1d433d2",
   "metadata": {},
   "outputs": [
    {
     "data": {
      "text/plain": [
       "174"
      ]
     },
     "execution_count": 6,
     "metadata": {},
     "output_type": "execute_result"
    }
   ],
   "source": [
    "# How many total Items?\n",
    "\n",
    "db.items.count_documents({})"
   ]
  },
  {
   "cell_type": "code",
   "execution_count": 8,
   "id": "82208b34-b930-49b0-85ba-1013c7e00370",
   "metadata": {},
   "outputs": [
    {
     "data": {
      "text/plain": [
       "37"
      ]
     },
     "execution_count": 8,
     "metadata": {},
     "output_type": "execute_result"
    }
   ],
   "source": [
    "# How many of the Items are Weapons?\n",
    "\n",
    "db.items.count_documents({'power': {'$ne': None}})"
   ]
  },
  {
   "cell_type": "code",
   "execution_count": 30,
   "id": "15bb111a-4c95-4a9a-a41f-ea3fdd13d236",
   "metadata": {},
   "outputs": [],
   "source": [
    "# How many Items does each Character have? (Return first 20 rows)\n",
    "\n",
    "character_items = [(c['name'], len(c['items'])) for c in db.characters.find().limit(20)]"
   ]
  },
  {
   "cell_type": "code",
   "execution_count": 31,
   "id": "664b0e3f-90e9-41a6-81ee-cf3f61f7e70d",
   "metadata": {},
   "outputs": [
    {
     "data": {
      "text/plain": [
       "[('Aliquid iste optio reiciendi', 3),\n",
       " ('Optio dolorem ex a', 3),\n",
       " ('Minus c', 2),\n",
       " ('Sit ut repr', 4),\n",
       " ('At id recusandae expl', 4),\n",
       " ('Non nobis et of', 1),\n",
       " ('Perferendis', 5),\n",
       " ('Accusantium amet quidem eve', 3),\n",
       " ('Sed nostrum inventore error m', 4),\n",
       " ('Harum repellendus omnis od', 4),\n",
       " ('Itaque ut commodi,', 3),\n",
       " ('Molestiae quis', 3),\n",
       " ('Ali', 4),\n",
       " ('Tempora quod optio possimus il', 4),\n",
       " ('Sed itaque beatae pari', 4),\n",
       " ('Quam dolor', 1),\n",
       " ('Molestias expedita', 5),\n",
       " ('Lauda', 5),\n",
       " ('Incidunt sint perferen', 3),\n",
       " ('Laboriosa', 1)]"
      ]
     },
     "execution_count": 31,
     "metadata": {},
     "output_type": "execute_result"
    }
   ],
   "source": [
    "character_items"
   ]
  },
  {
   "cell_type": "code",
   "execution_count": 28,
   "id": "eb755980-05c2-4ae0-ab6c-e5cfedf2e21a",
   "metadata": {},
   "outputs": [],
   "source": [
    "# How many Weapons does each Character have? (Return first 20 rows)\n",
    "character_weapons = []\n",
    "for c in db.characters.find().limit(20):\n",
    "    weapon_count = 0\n",
    "    for item in c['items']:\n",
    "        if db.items.find_one({\"_id\": item})['power'] != None:\n",
    "            weapon_count += 1\n",
    "    character_weapons.append((c['name'], weapon_count))"
   ]
  },
  {
   "cell_type": "code",
   "execution_count": 29,
   "id": "36849d32-a164-40d8-8cb0-bb5399195ed9",
   "metadata": {},
   "outputs": [
    {
     "data": {
      "text/plain": [
       "[('Aliquid iste optio reiciendi', 0),\n",
       " ('Optio dolorem ex a', 0),\n",
       " ('Minus c', 0),\n",
       " ('Sit ut repr', 0),\n",
       " ('At id recusandae expl', 2),\n",
       " ('Non nobis et of', 0),\n",
       " ('Perferendis', 1),\n",
       " ('Accusantium amet quidem eve', 0),\n",
       " ('Sed nostrum inventore error m', 0),\n",
       " ('Harum repellendus omnis od', 0),\n",
       " ('Itaque ut commodi,', 1),\n",
       " ('Molestiae quis', 0),\n",
       " ('Ali', 0),\n",
       " ('Tempora quod optio possimus il', 0),\n",
       " ('Sed itaque beatae pari', 0),\n",
       " ('Quam dolor', 0),\n",
       " ('Molestias expedita', 0),\n",
       " ('Lauda', 0),\n",
       " ('Incidunt sint perferen', 0),\n",
       " ('Laboriosa', 1)]"
      ]
     },
     "execution_count": 29,
     "metadata": {},
     "output_type": "execute_result"
    }
   ],
   "source": [
    "character_weapons"
   ]
  },
  {
   "cell_type": "code",
   "execution_count": 33,
   "id": "d0e3584e-499d-4cdb-8cb0-99929e68e564",
   "metadata": {},
   "outputs": [
    {
     "data": {
      "text/plain": [
       "3.3"
      ]
     },
     "execution_count": 33,
     "metadata": {},
     "output_type": "execute_result"
    }
   ],
   "source": [
    "# On average, how many Items does each Character have?\n",
    "\n",
    "sum([c[1] for c in character_items]) / len(character_items)"
   ]
  },
  {
   "cell_type": "code",
   "execution_count": 34,
   "id": "4b11e43a-935a-4659-8b5d-0c15987153e5",
   "metadata": {},
   "outputs": [
    {
     "data": {
      "text/plain": [
       "0.25"
      ]
     },
     "execution_count": 34,
     "metadata": {},
     "output_type": "execute_result"
    }
   ],
   "source": [
    "# On average, how many Items does each Character have?\n",
    "\n",
    "sum([c[1] for c in character_weapons]) / len(character_weapons)"
   ]
  }
 ],
 "metadata": {
  "kernelspec": {
   "display_name": "Python 3 (ipykernel)",
   "language": "python",
   "name": "python3"
  },
  "language_info": {
   "codemirror_mode": {
    "name": "ipython",
    "version": 3
   },
   "file_extension": ".py",
   "mimetype": "text/x-python",
   "name": "python",
   "nbconvert_exporter": "python",
   "pygments_lexer": "ipython3",
   "version": "3.9.6"
  }
 },
 "nbformat": 4,
 "nbformat_minor": 5
}
