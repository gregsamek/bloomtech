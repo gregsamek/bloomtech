{
 "cells": [
  {
   "cell_type": "code",
   "execution_count": 1,
   "id": "65edf239-006a-4635-b885-d89f297840fd",
   "metadata": {},
   "outputs": [],
   "source": [
    "import psycopg2\n",
    "from os import getenv\n",
    "import pandas as pd\n",
    "from dotenv import load_dotenv"
   ]
  },
  {
   "cell_type": "code",
   "execution_count": 91,
   "id": "16aae94c-2df6-473a-badf-ce07e5c60fd9",
   "metadata": {},
   "outputs": [],
   "source": [
    "load_dotenv()  # Load variables from .env file\n",
    "\n",
    "### Connect to ElephantSQL-hosted PostgreSQL\n",
    "connection = psycopg2.connect(dbname=getenv('PG_DB'), \n",
    "                        user=getenv('PG_USER'),\n",
    "                        password=getenv('PG_PW'), \n",
    "                        host=getenv('PG_HOST'))\n",
    "\n",
    "cursor = connection.cursor()"
   ]
  },
  {
   "cell_type": "code",
   "execution_count": 70,
   "id": "be9deb08-ea02-4799-9922-59a8ec6e6797",
   "metadata": {},
   "outputs": [],
   "source": [
    "def q(query):\n",
    "    try:\n",
    "        cursor.execute(query)\n",
    "        print(cursor.fetchall())\n",
    "    except psycopg2.Error as e:\n",
    "        # Rollback the transaction\n",
    "        connection.rollback()\n",
    "        print(\"Error:\", e)    "
   ]
  },
  {
   "cell_type": "code",
   "execution_count": 9,
   "id": "71a3172a-5a60-46d7-83f3-3a03f55eb33f",
   "metadata": {},
   "outputs": [
    {
     "data": {
      "text/plain": [
       "[(1, '0', '3', 'Mr. Owen Harris Braund', 'male', 22.0, 1, 0, 7.25)]"
      ]
     },
     "execution_count": 9,
     "metadata": {},
     "output_type": "execute_result"
    }
   ],
   "source": [
    "q('select * from titanic limit 1')"
   ]
  },
  {
   "cell_type": "code",
   "execution_count": 14,
   "id": "0fa88ae1-86f4-4980-bad3-29269a203a0c",
   "metadata": {},
   "outputs": [
    {
     "data": {
      "text/plain": [
       "[('id', 'integer', None),\n",
       " ('survived', 'USER-DEFINED', None),\n",
       " ('pclass', 'USER-DEFINED', None),\n",
       " ('name', 'character varying', 200),\n",
       " ('sex', 'USER-DEFINED', None),\n",
       " ('age', 'double precision', None),\n",
       " ('sib_spouse', 'integer', None),\n",
       " ('parents_children', 'integer', None),\n",
       " ('fare', 'double precision', None)]"
      ]
     },
     "execution_count": 14,
     "metadata": {},
     "output_type": "execute_result"
    }
   ],
   "source": [
    "# view schema\n",
    "q('''\n",
    "SELECT column_name, data_type, character_maximum_length\n",
    "FROM information_schema.columns\n",
    "WHERE table_name = 'titanic';\n",
    "''')"
   ]
  },
  {
   "cell_type": "code",
   "execution_count": 92,
   "id": "b3fae8d4-940b-4128-9f0f-0659241fd091",
   "metadata": {},
   "outputs": [
    {
     "name": "stdout",
     "output_type": "stream",
     "text": [
      "[('1', 342), ('0', 545)]\n"
     ]
    }
   ],
   "source": [
    "# How many passengers survived, and how many died?\n",
    "q('''\n",
    "SELECT survived, COUNT(*)\n",
    "FROM titanic\n",
    "GROUP BY survived\n",
    "''')"
   ]
  },
  {
   "cell_type": "code",
   "execution_count": 93,
   "id": "4ad764af-f0ba-49d2-9327-9dff9e55e7e8",
   "metadata": {},
   "outputs": [
    {
     "name": "stdout",
     "output_type": "stream",
     "text": [
      "[('3', 487), ('2', 184), ('1', 216)]\n"
     ]
    }
   ],
   "source": [
    "# How many passengers were in each class?\n",
    "q('''\n",
    "SELECT pclass, COUNT(*)\n",
    "FROM titanic\n",
    "GROUP BY pclass\n",
    "''')"
   ]
  },
  {
   "cell_type": "code",
   "execution_count": 96,
   "id": "2cc51417-42cf-4fe1-8592-70652cb90b4a",
   "metadata": {},
   "outputs": [
    {
     "name": "stdout",
     "output_type": "stream",
     "text": [
      "[('3', 119), ('2', 87), ('1', 136)]\n"
     ]
    }
   ],
   "source": [
    "# How many passengers survived/died within each class?\n",
    "q('''\n",
    "SELECT pclass, COUNT(*)\n",
    "FROM titanic\n",
    "WHERE survived = '1'\n",
    "GROUP BY pclass\n",
    "''')"
   ]
  },
  {
   "cell_type": "code",
   "execution_count": 97,
   "id": "102fd365-27dd-428e-b601-253f32e5b56d",
   "metadata": {},
   "outputs": [
    {
     "name": "stdout",
     "output_type": "stream",
     "text": [
      "[('1', 28.4083918128655), ('0', 30.1385321100917)]\n"
     ]
    }
   ],
   "source": [
    "# What was the average age of survivors vs nonsurvivors?\n",
    "q('''\n",
    "SELECT survived, AVG(age)\n",
    "FROM titanic\n",
    "GROUP BY survived\n",
    "''')"
   ]
  },
  {
   "cell_type": "code",
   "execution_count": 98,
   "id": "7852c558-a717-480a-bb1d-ab7e17c0886c",
   "metadata": {},
   "outputs": [
    {
     "name": "stdout",
     "output_type": "stream",
     "text": [
      "[('3', 25.1887474332649), ('2', 29.8686413043478), ('1', 38.7889814814815)]\n"
     ]
    }
   ],
   "source": [
    "# What was the average age of each passenger class?\n",
    "q('''\n",
    "SELECT pclass, AVG(age)\n",
    "FROM titanic\n",
    "GROUP BY pclass\n",
    "''')"
   ]
  },
  {
   "cell_type": "code",
   "execution_count": 99,
   "id": "ecb419d2-0f91-45d5-bdf0-adf00603298c",
   "metadata": {},
   "outputs": [
    {
     "name": "stdout",
     "output_type": "stream",
     "text": [
      "[('3', 13.7077073921971), ('2', 20.6621831521739), ('1', 84.1546874999999)]\n"
     ]
    }
   ],
   "source": [
    "# What was the average fare by passenger class? \n",
    "q('''\n",
    "SELECT pclass, AVG(fare)\n",
    "FROM titanic\n",
    "GROUP BY pclass\n",
    "''')"
   ]
  },
  {
   "cell_type": "code",
   "execution_count": 100,
   "id": "4169697b-9762-4c35-9983-90726e698fd4",
   "metadata": {},
   "outputs": [
    {
     "name": "stdout",
     "output_type": "stream",
     "text": [
      "[('1', 48.3954076023392), ('0', 22.2085840366972)]\n"
     ]
    }
   ],
   "source": [
    "# What was the average fare by survival? \n",
    "q('''\n",
    "SELECT survived, AVG(fare)\n",
    "FROM titanic\n",
    "GROUP BY survived\n",
    "''')"
   ]
  },
  {
   "cell_type": "code",
   "execution_count": 101,
   "id": "e2aff4f4-3b46-48ce-9464-26099c81cda0",
   "metadata": {},
   "outputs": [
    {
     "name": "stdout",
     "output_type": "stream",
     "text": [
      "[('3', Decimal('0.62012320328542094456')), ('2', Decimal('0.40217391304347826087')), ('1', Decimal('0.41666666666666666667'))]\n"
     ]
    }
   ],
   "source": [
    "# How many siblings/spouses aboard on average, by passenger class?\n",
    "q('''\n",
    "SELECT pclass, AVG(sib_spouse)\n",
    "FROM titanic\n",
    "GROUP BY pclass\n",
    "''')"
   ]
  },
  {
   "cell_type": "code",
   "execution_count": 105,
   "id": "f5c14fce-0465-4594-9853-2b0f9f16f1eb",
   "metadata": {},
   "outputs": [
    {
     "name": "stdout",
     "output_type": "stream",
     "text": [
      "[]\n"
     ]
    }
   ],
   "source": [
    "# Do any passengers have the same name?\n",
    "q('''\n",
    "SELECT name, COUNT(*) \n",
    "FROM titanic \n",
    "GROUP BY name \n",
    "HAVING COUNT(*) > 1 \n",
    "''')\n",
    "\n",
    "# # alternative approach\n",
    "# q('''\n",
    "# SELECT COUNT(DISTINCT name) \n",
    "# FROM titanic  \n",
    "# ''')\n"
   ]
  },
  {
   "cell_type": "code",
   "execution_count": null,
   "id": "68eb4c99-7cad-41ef-8fef-85c6c6065689",
   "metadata": {},
   "outputs": [],
   "source": []
  }
 ],
 "metadata": {
  "kernelspec": {
   "display_name": "Python 3 (ipykernel)",
   "language": "python",
   "name": "python3"
  },
  "language_info": {
   "codemirror_mode": {
    "name": "ipython",
    "version": 3
   },
   "file_extension": ".py",
   "mimetype": "text/x-python",
   "name": "python",
   "nbconvert_exporter": "python",
   "pygments_lexer": "ipython3",
   "version": "3.9.6"
  }
 },
 "nbformat": 4,
 "nbformat_minor": 5
}
