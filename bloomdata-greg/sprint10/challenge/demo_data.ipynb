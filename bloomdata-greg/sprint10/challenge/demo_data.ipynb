{
 "cells": [
  {
   "cell_type": "code",
   "execution_count": 4,
   "id": "5cb1609d-4b50-414f-b8fa-8858dd786de6",
   "metadata": {},
   "outputs": [],
   "source": [
    "import sqlite3"
   ]
  },
  {
   "cell_type": "code",
   "execution_count": 5,
   "id": "ca5bf2fe-18f8-42c0-adbc-3b9dcf96e91b",
   "metadata": {},
   "outputs": [],
   "source": [
    "connection = sqlite3.connect('demo_data.sqlite3')\n",
    "\n",
    "cursor = connection.cursor()"
   ]
  },
  {
   "cell_type": "code",
   "execution_count": 6,
   "id": "6cb0cd08-5f93-44fc-92f1-0c1535d4f3b3",
   "metadata": {},
   "outputs": [],
   "source": [
    "CREATE_TABLE = '''\n",
    "CREATE TABLE IF NOT EXISTS demo(\n",
    "s VARCHAR(1) NOT NULL,\n",
    "x INT NOT NULL,\n",
    "y INT NOT NULL\n",
    ");\n",
    "'''"
   ]
  },
  {
   "cell_type": "code",
   "execution_count": 7,
   "id": "8aaaa73b-8011-41b6-94d4-feabcd019c01",
   "metadata": {},
   "outputs": [],
   "source": [
    "cursor.execute(CREATE_TABLE)\n",
    "connection.commit()"
   ]
  },
  {
   "cell_type": "code",
   "execution_count": 9,
   "id": "5e64184a-38f9-4515-9de4-88f215356a73",
   "metadata": {},
   "outputs": [],
   "source": [
    "for row in [('g', 3, 9), ('v', 5, 7), ('f', 8, 7)]:\n",
    "    cursor.execute(f\"INSERT INTO demo (s, x, y) VALUES {row}\")\n",
    "connection.commit()"
   ]
  },
  {
   "cell_type": "code",
   "execution_count": 11,
   "id": "adbdc025-5252-4767-be40-e64b5dc6250c",
   "metadata": {},
   "outputs": [],
   "source": [
    "row_count = cursor.execute('SELECT COUNT(*) FROM demo').fetchall()"
   ]
  },
  {
   "cell_type": "code",
   "execution_count": 13,
   "id": "5c0c0ff2-aa26-4f01-afca-f79450e57ed1",
   "metadata": {},
   "outputs": [
    {
     "data": {
      "text/plain": [
       "[(2,)]"
      ]
     },
     "execution_count": 13,
     "metadata": {},
     "output_type": "execute_result"
    }
   ],
   "source": [
    "xy_at_least_5 = cursor.execute('SELECT COUNT(*) FROM demo WHERE x >= 5 AND y >= 5').fetchall()"
   ]
  },
  {
   "cell_type": "code",
   "execution_count": 14,
   "id": "73e17cc2-a4a0-42b2-8adc-ee9ee17af0b6",
   "metadata": {},
   "outputs": [],
   "source": [
    "unique_y = cursor.execute('SELECT COUNT(DISTINCT y) FROM demo').fetchall()"
   ]
  }
 ],
 "metadata": {
  "kernelspec": {
   "display_name": "Python 3 (ipykernel)",
   "language": "python",
   "name": "python3"
  },
  "language_info": {
   "codemirror_mode": {
    "name": "ipython",
    "version": 3
   },
   "file_extension": ".py",
   "mimetype": "text/x-python",
   "name": "python",
   "nbconvert_exporter": "python",
   "pygments_lexer": "ipython3",
   "version": "3.9.6"
  }
 },
 "nbformat": 4,
 "nbformat_minor": 5
}
