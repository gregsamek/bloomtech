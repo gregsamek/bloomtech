{
 "cells": [
  {
   "cell_type": "code",
   "execution_count": 1,
   "id": "deda5de1-dcd8-4e70-9907-5f22a808d120",
   "metadata": {},
   "outputs": [],
   "source": [
    "import sqlite3"
   ]
  },
  {
   "cell_type": "code",
   "execution_count": 2,
   "id": "e869548a-7bf2-4c7b-909b-d37ef6c68cba",
   "metadata": {},
   "outputs": [],
   "source": [
    "connection = sqlite3.connect('northwind_small.sqlite3')\n",
    "cursor = connection.cursor()"
   ]
  },
  {
   "cell_type": "code",
   "execution_count": 3,
   "id": "96df4d1e-b3ee-4622-837b-fa9911f39092",
   "metadata": {},
   "outputs": [
    {
     "data": {
      "text/plain": [
       "[('Category',),\n",
       " ('Customer',),\n",
       " ('CustomerCustomerDemo',),\n",
       " ('CustomerDemographic',),\n",
       " ('Employee',),\n",
       " ('EmployeeTerritory',),\n",
       " ('Order',),\n",
       " ('OrderDetail',),\n",
       " ('Product',),\n",
       " ('Region',),\n",
       " ('Shipper',),\n",
       " ('Supplier',),\n",
       " ('Territory',)]"
      ]
     },
     "execution_count": 3,
     "metadata": {},
     "output_type": "execute_result"
    }
   ],
   "source": [
    "cursor.execute(\"SELECT name FROM sqlite_master WHERE type='table' ORDER BY name;\").fetchall()"
   ]
  },
  {
   "cell_type": "code",
   "execution_count": 51,
   "id": "42179b5a-efb1-4ef3-9c59-f4303b7615d1",
   "metadata": {},
   "outputs": [
    {
     "data": {
      "text/plain": [
       "[('CREATE TABLE \"Category\" \\n(\\n  \"Id\" INTEGER PRIMARY KEY, \\n  \"CategoryName\" VARCHAR(8000) NULL, \\n  \"Description\" VARCHAR(8000) NULL \\n)',)]"
      ]
     },
     "execution_count": 51,
     "metadata": {},
     "output_type": "execute_result"
    }
   ],
   "source": [
    "cursor.execute('SELECT sql FROM sqlite_master WHERE name=\"Category\";').fetchall()"
   ]
  },
  {
   "cell_type": "code",
   "execution_count": 8,
   "id": "c1000e8a-ea34-4df9-bdf3-a6ff154606af",
   "metadata": {},
   "outputs": [],
   "source": [
    "expensive_items = \"SELECT * FROM Product ORDER BY UnitPrice DESC LIMIT 10;\""
   ]
  },
  {
   "cell_type": "code",
   "execution_count": 26,
   "id": "237f42e2-418b-46da-8063-2c1defd99e9f",
   "metadata": {},
   "outputs": [],
   "source": [
    "avg_hire_age = \"SELECT AVG(HireDate - BirthDate) FROM Employee\""
   ]
  },
  {
   "cell_type": "code",
   "execution_count": 64,
   "id": "076aba72-44f9-49e7-b6bb-5a75afc8d0ce",
   "metadata": {},
   "outputs": [],
   "source": [
    "ten_most_expensive = \"\"\"\n",
    "SELECT ProductName, UnitPrice, CompanyName \n",
    "FROM Product JOIN Supplier \n",
    "ON Product.SupplierID = Supplier.Id \n",
    "ORDER BY UnitPrice DESC \n",
    "LIMIT 10\n",
    "\"\"\""
   ]
  },
  {
   "cell_type": "code",
   "execution_count": 56,
   "id": "4d1ea84c-334d-4c47-b7e8-85d0c39db43a",
   "metadata": {},
   "outputs": [],
   "source": [
    "largest_category = \"\"\"\n",
    "SELECT CategoryName\n",
    "FROM Product\n",
    "JOIN Category\n",
    "ON Product.CategoryID = Category.Id\n",
    "GROUP BY CategoryID\n",
    "ORDER BY COUNT(*) DESC\n",
    "LIMIT 1\n",
    "\"\"\""
   ]
  },
  {
   "cell_type": "code",
   "execution_count": 65,
   "id": "ea195814-0ec7-460a-8d97-1b1573b1411a",
   "metadata": {},
   "outputs": [
    {
     "data": {
      "text/plain": [
       "[('Côte de Blaye', 263.5, 'Aux joyeux ecclésiastiques'),\n",
       " ('Thüringer Rostbratwurst', 123.79, 'Plutzer Lebensmittelgroßmärkte AG'),\n",
       " ('Mishi Kobe Niku', 97, 'Tokyo Traders'),\n",
       " (\"Sir Rodney's Marmalade\", 81, 'Specialty Biscuits, Ltd.'),\n",
       " ('Carnarvon Tigers', 62.5, 'Pavlova, Ltd.'),\n",
       " ('Raclette Courdavault', 55, 'Gai pâturage'),\n",
       " ('Manjimup Dried Apples', 53, \"G'day, Mate\"),\n",
       " ('Tarte au sucre', 49.3, \"Forêts d'érables\"),\n",
       " ('Ipoh Coffee', 46, 'Leka Trading'),\n",
       " ('Rössle Sauerkraut', 45.6, 'Plutzer Lebensmittelgroßmärkte AG')]"
      ]
     },
     "execution_count": 65,
     "metadata": {},
     "output_type": "execute_result"
    }
   ],
   "source": [
    "cursor.execute(ten_most_expensive).fetchall()"
   ]
  },
  {
   "cell_type": "code",
   "execution_count": null,
   "id": "c166cee0-f896-4e67-a2c0-fe80e06477ec",
   "metadata": {},
   "outputs": [],
   "source": []
  }
 ],
 "metadata": {
  "kernelspec": {
   "display_name": "Python 3 (ipykernel)",
   "language": "python",
   "name": "python3"
  },
  "language_info": {
   "codemirror_mode": {
    "name": "ipython",
    "version": 3
   },
   "file_extension": ".py",
   "mimetype": "text/x-python",
   "name": "python",
   "nbconvert_exporter": "python",
   "pygments_lexer": "ipython3",
   "version": "3.9.6"
  }
 },
 "nbformat": 4,
 "nbformat_minor": 5
}
