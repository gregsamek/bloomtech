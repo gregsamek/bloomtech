{
 "cells": [
  {
   "cell_type": "markdown",
   "metadata": {
    "deletable": false,
    "editable": false,
    "nbgrader": {
     "cell_type": "markdown",
     "checksum": "be4be556e732c48fd93c858856029fbd",
     "grade": false,
     "grade_id": "cell-89fa18eaaf69c47f",
     "locked": true,
     "schema_version": 3,
     "solution": false,
     "task": false
    }
   },
   "source": [
    "\n",
    "## *Data Science Sprint 14*\n",
    "\n",
    "# Sprint Challenge - Neural Network Foundations\n",
    "\n",
    "Table of Problems\n",
    "\n",
    "1. [Defining Neural Networks](#Q1)\n",
    "2. [Simple Perceptron](#Q2)\n",
    "    - Perceptron\n",
    "    - Multilayer Perceptron (i.e. Neural Network)\n",
    "    - Analyze and Compare\n",
    "4. [Keras MMP](#Q3)\n",
    "\n",
    "\n",
    "____\n",
    "\n",
    "# Before you submit your notebook you must first\n",
    "\n",
    "1) Restart your notebook's Kernel\n",
    "\n",
    "2) Run all cells sequentially, from top to bottom, so that cell numbers are sequential numbers (i.e. 1,2,3,4,5...)\n",
    "- Easiest way to do this is to click on the **Cell** tab at the top of your notebook and select **Run All** from the drop down menu. \n",
    "\n",
    "____"
   ]
  },
  {
   "cell_type": "markdown",
   "metadata": {
    "deletable": false,
    "editable": false,
    "nbgrader": {
     "cell_type": "markdown",
     "checksum": "80b53343211b3ec6d5a7d63295854bf8",
     "grade": false,
     "grade_id": "cell-d282993617980687",
     "locked": true,
     "schema_version": 3,
     "solution": false,
     "task": false
    }
   },
   "source": [
    "## Part 0: Import Packages\n",
    "\n",
    "For this notebook, you will need to import: \n",
    "\n",
    "- `numpy`\n",
    "- `pandas`\n",
    "- `matplotlib`\n",
    "- `StandardScaler`\n",
    "- `tensorflow`\n",
    "- `keras`\n",
    "- `Sequential`\n",
    "- `Dense`\n",
    "- `GridSearchCV`\n",
    "- `KerasClassifier`\n",
    "\n",
    "You will also need to install `!pip install mlxtend` if you are working on a notebook. **Be sure to delete the install statement afterwards so that CodeGrade doesn't try to install it and potentially crash.**\n",
    "\n"
   ]
  },
  {
   "cell_type": "code",
   "execution_count": 61,
   "metadata": {
    "deletable": false,
    "nbgrader": {
     "cell_type": "code",
     "checksum": "84e2be87dc9ad72d512f91665cd5c2c3",
     "grade": false,
     "grade_id": "cell-22a157c6967388c1",
     "locked": false,
     "schema_version": 3,
     "solution": true,
     "task": false
    },
    "tags": []
   },
   "outputs": [],
   "source": [
    "# YOUR CODE HERE\n",
    "import numpy as np\n",
    "import pandas as pd\n",
    "import matplotlib.pyplot as plt\n",
    "\n",
    "from sklearn.preprocessing import StandardScaler\n",
    "\n",
    "import tensorflow as tf\n",
    "from tensorflow.keras import Sequential\n",
    "from tensorflow.keras.layers import Dense\n",
    "from tensorflow.keras.wrappers.scikit_learn import KerasClassifier\n",
    "from sklearn.model_selection import GridSearchCV\n",
    "\n",
    "import mlxtend"
   ]
  },
  {
   "cell_type": "code",
   "execution_count": 62,
   "metadata": {
    "deletable": false,
    "editable": false,
    "nbgrader": {
     "cell_type": "code",
     "checksum": "111db249c60793826d6f0ef305781ea4",
     "grade": true,
     "grade_id": "cell-ee3f0bbd9fd79ceb",
     "locked": true,
     "points": 1,
     "schema_version": 3,
     "solution": false,
     "task": false
    },
    "tags": []
   },
   "outputs": [],
   "source": [
    "# Visible Testing\n",
    "assert pd.__package__ == 'pandas'\n",
    "assert GridSearchCV.__module__ == 'sklearn.model_selection._search'"
   ]
  },
  {
   "cell_type": "markdown",
   "metadata": {
    "deletable": false,
    "editable": false,
    "nbgrader": {
     "cell_type": "markdown",
     "checksum": "9b2b58b20b3c75b2f8ac786fda7fa46d",
     "grade": false,
     "grade_id": "cell-6adae65226f09553",
     "locked": true,
     "schema_version": 3,
     "solution": false,
     "task": false
    }
   },
   "source": [
    "<a id=\"Q1\"></a>\n",
    "## Part 1: Review: \n",
    "### Defining Neural Networks \n",
    "\n",
    "\n",
    "- **Neuron:** An individual node of a neural network. It takes in a combination of inputs and weights, multiplies them together, adds a bias term, and then passes the result through an activation function. The result of this process is what the neuron will pass onto the subsequent layer. Neural Network nodes are modeled after the neurons in the human brain. They have a activation function that decides how much signal to pass onto other neurons. In the human brain there is an electrochemical threshold that decides when and when not to fire. \n",
    "- **Input Layer:** The first layer of nodes in a neural network. This layer receives values from our dataset and combines them with the weights and biases before passing the data to the first hidden layer. \n",
    "- **Hidden Layer:** The middle layers of a neural network that are not the input layer or output layer. These nodes perform the same operations as all others, but are not directly accessible during training. Having multiple hidden layers in a neural network architecture is what determines the designation of \"Deep Learning.\"\n",
    "- **Output Layer:** The final layer of our neural network, the output layer outputs our model's final predictions. For regression problems this is a single node that outputs a continuous value. For binary classification, it is a single node that outputs a probability between 0 & 1, and for multi-class implementations the output layer typically includes a node for each of the classes that we are trying to predict.\n",
    "- **Activation:** Activation functions express how strongly or weakly signal should be passed to the next layer given the weighted sum of the previous input + a bias term. The resulting output is usually referred to as an 'activation'. "
   ]
  },
  {
   "cell_type": "markdown",
   "metadata": {},
   "source": [
    "<a id=\"Q2\"></a>\n",
    "## Part 2. Simple Perceptron\n",
    "\n",
    "For this task, you will build two neural networks using `Keras`. After you build these two models, compare the results of the model."
   ]
  },
  {
   "cell_type": "code",
   "execution_count": 63,
   "metadata": {
    "tags": []
   },
   "outputs": [],
   "source": [
    "\"\"\"\n",
    "Our Dataset\n",
    "\"\"\"\n",
    "\n",
    "\n",
    "rng = np.random.RandomState(0)\n",
    "\n",
    "\"Use this X & y in the following 2 models\"\n",
    "X = rng.randn(300, 2)\n",
    "y = np.array(np.logical_xor(X[:, 0] > 0, X[:, 1] > 0), \n",
    "             dtype=int)"
   ]
  },
  {
   "cell_type": "markdown",
   "metadata": {},
   "source": [
    "### 2a. Simple Perceptron\n",
    "Construct a simple perceptron using Keras. \n",
    "\n",
    "Make sure to include the following in your model:\n",
    "- Add `1 dense layer` with a `single neuron` \n",
    "- Use a `sigmoid activation function`\n",
    "- Set `epochs` to 10 \n",
    "- Use the version of `crossentropy loss` that is appropriate for this data.\n",
    "---\n",
    "* Your model should be called `model1`. \n",
    "\n",
    "* The results of your fit model should be assigned to a variable called `h1`. \n"
   ]
  },
  {
   "cell_type": "code",
   "execution_count": 64,
   "metadata": {
    "deletable": false,
    "nbgrader": {
     "cell_type": "code",
     "checksum": "533f2731bf5c6bff190bfb764e02fada",
     "grade": false,
     "grade_id": "cell-427690628f9c900b",
     "locked": false,
     "schema_version": 3,
     "solution": true,
     "task": false
    },
    "tags": []
   },
   "outputs": [
    {
     "name": "stdout",
     "output_type": "stream",
     "text": [
      "Epoch 1/10\n",
      "8/8 [==============================] - 0s 7ms/step - loss: 0.7046 - accuracy: 0.5167 - val_loss: 0.7052 - val_accuracy: 0.5500\n",
      "Epoch 2/10\n",
      "8/8 [==============================] - 0s 2ms/step - loss: 0.7037 - accuracy: 0.5208 - val_loss: 0.7050 - val_accuracy: 0.5500\n",
      "Epoch 3/10\n",
      "8/8 [==============================] - 0s 2ms/step - loss: 0.7030 - accuracy: 0.5250 - val_loss: 0.7048 - val_accuracy: 0.5500\n",
      "Epoch 4/10\n",
      "8/8 [==============================] - 0s 2ms/step - loss: 0.7022 - accuracy: 0.5250 - val_loss: 0.7046 - val_accuracy: 0.5500\n",
      "Epoch 5/10\n",
      "8/8 [==============================] - 0s 2ms/step - loss: 0.7015 - accuracy: 0.5208 - val_loss: 0.7044 - val_accuracy: 0.5500\n",
      "Epoch 6/10\n",
      "8/8 [==============================] - 0s 2ms/step - loss: 0.7008 - accuracy: 0.5125 - val_loss: 0.7041 - val_accuracy: 0.5500\n",
      "Epoch 7/10\n",
      "8/8 [==============================] - 0s 2ms/step - loss: 0.7000 - accuracy: 0.5208 - val_loss: 0.7040 - val_accuracy: 0.5667\n",
      "Epoch 8/10\n",
      "8/8 [==============================] - 0s 2ms/step - loss: 0.6993 - accuracy: 0.5167 - val_loss: 0.7037 - val_accuracy: 0.5667\n",
      "Epoch 9/10\n",
      "8/8 [==============================] - 0s 2ms/step - loss: 0.6988 - accuracy: 0.5125 - val_loss: 0.7037 - val_accuracy: 0.5667\n",
      "Epoch 10/10\n",
      "8/8 [==============================] - 0s 2ms/step - loss: 0.6980 - accuracy: 0.5083 - val_loss: 0.7037 - val_accuracy: 0.5667\n"
     ]
    }
   ],
   "source": [
    "# build and fit model\n",
    "\n",
    "# YOUR CODE HERE\n",
    "model1 = Sequential([\n",
    "          Dense(1, activation='sigmoid', input_dim=2),\n",
    "         ])\n",
    "\n",
    "model1.compile(optimizer='sgd', \n",
    "               loss='binary_crossentropy',\n",
    "               metrics=['accuracy'])\n",
    "\n",
    "h1 = model1.fit(X, y, epochs=10, validation_split=0.2)"
   ]
  },
  {
   "cell_type": "code",
   "execution_count": 65,
   "metadata": {
    "deletable": false,
    "editable": false,
    "nbgrader": {
     "cell_type": "code",
     "checksum": "36f7f830036d0443ca8e8ba0f17b2a4e",
     "grade": true,
     "grade_id": "cell-bf2ae566afacde8c",
     "locked": true,
     "points": 1,
     "schema_version": 3,
     "solution": false,
     "task": false
    },
    "tags": []
   },
   "outputs": [],
   "source": [
    "# Visible test\n",
    "assert len(model1.get_config()[\"layers\"]) == 2, \"Make sure you only create 1 Dense layer.\"\n",
    "assert len(h1.epoch) <=10, \"Did you make sure to set epochs to 10 or less?\""
   ]
  },
  {
   "cell_type": "code",
   "execution_count": 66,
   "metadata": {
    "deletable": false,
    "editable": false,
    "nbgrader": {
     "cell_type": "code",
     "checksum": "95d3ee2935a0de64f2a5a22460520e69",
     "grade": true,
     "grade_id": "cell-a957e14380b2f508",
     "locked": true,
     "points": 1,
     "schema_version": 3,
     "solution": false,
     "task": false
    }
   },
   "outputs": [],
   "source": [
    "# Hidden tests - you will see the results when you submit to Canvas"
   ]
  },
  {
   "cell_type": "markdown",
   "metadata": {},
   "source": [
    "### 2b. Multi-Layer Perceptron\n",
    "Now construct a multi-layer perceptron model (also known as a neural network). \n",
    "\n",
    "Your neural network `must` have: \n",
    "- `2` Hidden Layers\n",
    "- Select any number between `5-32` for the number of neurons in each hidden layers\n",
    "- Your pick of activation function and optimizer\n",
    "- Incorporate the `myCallback` function below into your model\n",
    "- Set epochs to `100`\n",
    "- Your model should be called `model2` \n",
    "- Save the results of your fit statement to a variable called `h2`. \n",
    "- Use the version of `crossentropy loss` that is appropriate for this data."
   ]
  },
  {
   "cell_type": "code",
   "execution_count": 67,
   "metadata": {
    "deletable": false,
    "editable": false,
    "nbgrader": {
     "cell_type": "code",
     "checksum": "ad238f5d2d4fce7ec4b2bbeb786faf4e",
     "grade": false,
     "grade_id": "cell-eb88d895e6d9479d",
     "locked": true,
     "schema_version": 3,
     "solution": false,
     "task": false
    },
    "tags": []
   },
   "outputs": [],
   "source": [
    "#do not delete or modify\n",
    "import tensorflow as tf\n",
    "\n",
    "class myCallback(tf.keras.callbacks.Callback): \n",
    "    def on_epoch_end(self, epoch, logs={}): \n",
    "        # if model reaches 99% accuracy, training is terminated \n",
    "        acc_threshold = 0.99\n",
    "        if(logs.get('accuracy') > acc_threshold):   \n",
    "            self.model.stop_training = True\n",
    "            self.model.callback_used = True"
   ]
  },
  {
   "cell_type": "code",
   "execution_count": 68,
   "metadata": {
    "deletable": false,
    "nbgrader": {
     "cell_type": "code",
     "checksum": "314337f29c8cd7f38224a31687a86b12",
     "grade": false,
     "grade_id": "cell-77523c4c64743f16",
     "locked": false,
     "schema_version": 3,
     "solution": true,
     "task": false
    },
    "tags": []
   },
   "outputs": [
    {
     "name": "stdout",
     "output_type": "stream",
     "text": [
      "Epoch 1/100\n",
      "8/8 [==============================] - 0s 8ms/step - loss: 0.7119 - accuracy: 0.4875 - val_loss: 0.6956 - val_accuracy: 0.5833\n",
      "Epoch 2/100\n",
      "8/8 [==============================] - 0s 2ms/step - loss: 0.6814 - accuracy: 0.6042 - val_loss: 0.6732 - val_accuracy: 0.6000\n",
      "Epoch 3/100\n",
      "8/8 [==============================] - 0s 2ms/step - loss: 0.6559 - accuracy: 0.6667 - val_loss: 0.6548 - val_accuracy: 0.6000\n",
      "Epoch 4/100\n",
      "8/8 [==============================] - 0s 2ms/step - loss: 0.6330 - accuracy: 0.6833 - val_loss: 0.6375 - val_accuracy: 0.6000\n",
      "Epoch 5/100\n",
      "8/8 [==============================] - 0s 2ms/step - loss: 0.6111 - accuracy: 0.6750 - val_loss: 0.6218 - val_accuracy: 0.6333\n",
      "Epoch 6/100\n",
      "8/8 [==============================] - 0s 2ms/step - loss: 0.5917 - accuracy: 0.7125 - val_loss: 0.6079 - val_accuracy: 0.6833\n",
      "Epoch 7/100\n",
      "8/8 [==============================] - 0s 2ms/step - loss: 0.5728 - accuracy: 0.7750 - val_loss: 0.5929 - val_accuracy: 0.7000\n",
      "Epoch 8/100\n",
      "8/8 [==============================] - 0s 2ms/step - loss: 0.5555 - accuracy: 0.8167 - val_loss: 0.5773 - val_accuracy: 0.7500\n",
      "Epoch 9/100\n",
      "8/8 [==============================] - 0s 2ms/step - loss: 0.5375 - accuracy: 0.8500 - val_loss: 0.5601 - val_accuracy: 0.7667\n",
      "Epoch 10/100\n",
      "8/8 [==============================] - 0s 2ms/step - loss: 0.5190 - accuracy: 0.8833 - val_loss: 0.5418 - val_accuracy: 0.8500\n",
      "Epoch 11/100\n",
      "8/8 [==============================] - 0s 2ms/step - loss: 0.5000 - accuracy: 0.9000 - val_loss: 0.5234 - val_accuracy: 0.8500\n",
      "Epoch 12/100\n",
      "8/8 [==============================] - 0s 2ms/step - loss: 0.4808 - accuracy: 0.9250 - val_loss: 0.5049 - val_accuracy: 0.8500\n",
      "Epoch 13/100\n",
      "8/8 [==============================] - 0s 2ms/step - loss: 0.4618 - accuracy: 0.9333 - val_loss: 0.4857 - val_accuracy: 0.8833\n",
      "Epoch 14/100\n",
      "8/8 [==============================] - 0s 2ms/step - loss: 0.4427 - accuracy: 0.9417 - val_loss: 0.4651 - val_accuracy: 0.8833\n",
      "Epoch 15/100\n",
      "8/8 [==============================] - 0s 2ms/step - loss: 0.4234 - accuracy: 0.9458 - val_loss: 0.4460 - val_accuracy: 0.8833\n",
      "Epoch 16/100\n",
      "8/8 [==============================] - 0s 2ms/step - loss: 0.4047 - accuracy: 0.9583 - val_loss: 0.4257 - val_accuracy: 0.9333\n",
      "Epoch 17/100\n",
      "8/8 [==============================] - 0s 2ms/step - loss: 0.3859 - accuracy: 0.9667 - val_loss: 0.4067 - val_accuracy: 0.9333\n",
      "Epoch 18/100\n",
      "8/8 [==============================] - 0s 2ms/step - loss: 0.3678 - accuracy: 0.9625 - val_loss: 0.3876 - val_accuracy: 0.9333\n",
      "Epoch 19/100\n",
      "8/8 [==============================] - 0s 3ms/step - loss: 0.3505 - accuracy: 0.9667 - val_loss: 0.3715 - val_accuracy: 0.9333\n",
      "Epoch 20/100\n",
      "8/8 [==============================] - 0s 2ms/step - loss: 0.3333 - accuracy: 0.9667 - val_loss: 0.3539 - val_accuracy: 0.9333\n",
      "Epoch 21/100\n",
      "8/8 [==============================] - 0s 2ms/step - loss: 0.3169 - accuracy: 0.9708 - val_loss: 0.3368 - val_accuracy: 0.9333\n",
      "Epoch 22/100\n",
      "8/8 [==============================] - 0s 2ms/step - loss: 0.3020 - accuracy: 0.9750 - val_loss: 0.3205 - val_accuracy: 0.9333\n",
      "Epoch 23/100\n",
      "8/8 [==============================] - 0s 2ms/step - loss: 0.2871 - accuracy: 0.9750 - val_loss: 0.3068 - val_accuracy: 0.9333\n",
      "Epoch 24/100\n",
      "8/8 [==============================] - 0s 2ms/step - loss: 0.2741 - accuracy: 0.9792 - val_loss: 0.2910 - val_accuracy: 0.9333\n",
      "Epoch 25/100\n",
      "8/8 [==============================] - 0s 2ms/step - loss: 0.2612 - accuracy: 0.9833 - val_loss: 0.2781 - val_accuracy: 0.9333\n",
      "Epoch 26/100\n",
      "8/8 [==============================] - 0s 2ms/step - loss: 0.2492 - accuracy: 0.9833 - val_loss: 0.2660 - val_accuracy: 0.9500\n",
      "Epoch 27/100\n",
      "8/8 [==============================] - 0s 2ms/step - loss: 0.2383 - accuracy: 0.9833 - val_loss: 0.2550 - val_accuracy: 0.9333\n",
      "Epoch 28/100\n",
      "8/8 [==============================] - 0s 2ms/step - loss: 0.2283 - accuracy: 0.9875 - val_loss: 0.2443 - val_accuracy: 0.9500\n",
      "Epoch 29/100\n",
      "8/8 [==============================] - 0s 2ms/step - loss: 0.2181 - accuracy: 0.9833 - val_loss: 0.2348 - val_accuracy: 0.9500\n",
      "Epoch 30/100\n",
      "8/8 [==============================] - 0s 2ms/step - loss: 0.2100 - accuracy: 0.9875 - val_loss: 0.2264 - val_accuracy: 0.9667\n",
      "Epoch 31/100\n",
      "8/8 [==============================] - 0s 2ms/step - loss: 0.2010 - accuracy: 0.9875 - val_loss: 0.2167 - val_accuracy: 0.9667\n",
      "Epoch 32/100\n",
      "8/8 [==============================] - 0s 2ms/step - loss: 0.1936 - accuracy: 0.9875 - val_loss: 0.2085 - val_accuracy: 0.9833\n",
      "Epoch 33/100\n",
      "8/8 [==============================] - 0s 2ms/step - loss: 0.1863 - accuracy: 0.9917 - val_loss: 0.2003 - val_accuracy: 0.9833\n"
     ]
    }
   ],
   "source": [
    "# build and fit model\n",
    "\n",
    "# YOUR CODE HERE\n",
    "callback = myCallback()\n",
    "\n",
    "model2 = Sequential([\n",
    "         Dense(32, activation='relu', input_dim=2),\n",
    "         Dense(32, activation='relu'),\n",
    "         Dense(1, activation='sigmoid')\n",
    "         ])\n",
    "\n",
    "model2.compile(optimizer='adam', \n",
    "               loss='binary_crossentropy',\n",
    "               metrics=['accuracy'])\n",
    "\n",
    "h2 = model2.fit(X, y, epochs=100, validation_split=0.2, callbacks=[callback])"
   ]
  },
  {
   "cell_type": "code",
   "execution_count": 69,
   "metadata": {
    "deletable": false,
    "editable": false,
    "nbgrader": {
     "cell_type": "code",
     "checksum": "4a5f575f46f151f97f1cebc19a484bae",
     "grade": true,
     "grade_id": "cell-770612ca24334d8a",
     "locked": true,
     "points": 1,
     "schema_version": 3,
     "solution": false,
     "task": false
    },
    "tags": []
   },
   "outputs": [],
   "source": [
    "# Visible test\n",
    "assert len(model2.get_config()[\"layers\"]) == 4, \"You should have 4 layers: Input, hidden 1, hidden 2, output.\"\n",
    "assert 5 <= model2.get_config()[\"layers\"][1][\"config\"][\"units\"] <= 32, \"You should have 5 - 32 units in hidden layer 1, but don't.\"\n",
    "assert 5 <= model2.get_config()[\"layers\"][2][\"config\"][\"units\"] <= 32, \"You should have 5 - 32 units in hidden layer 2, but don't.\"\n",
    "assert h2.params[\"epochs\"] == 100, \"You didn't set epochs to 100.\""
   ]
  },
  {
   "cell_type": "code",
   "execution_count": 70,
   "metadata": {
    "deletable": false,
    "editable": false,
    "nbgrader": {
     "cell_type": "code",
     "checksum": "3ca73d4d3d17897a570e19a8a97c050f",
     "grade": true,
     "grade_id": "cell-49b1bf7cce22b5b9",
     "locked": true,
     "points": 1,
     "schema_version": 3,
     "solution": false,
     "task": false
    }
   },
   "outputs": [],
   "source": [
    "# Hidden tests - you will see the results when you submit to Canvas"
   ]
  },
  {
   "cell_type": "markdown",
   "metadata": {
    "deletable": false,
    "editable": false,
    "nbgrader": {
     "cell_type": "markdown",
     "checksum": "b322042f3d8b515b4c5603946e355b13",
     "grade": false,
     "grade_id": "cell-f3490b86d4b284b0",
     "locked": true,
     "schema_version": 3,
     "solution": false,
     "task": false
    }
   },
   "source": [
    "### 2c. Analyze and Compare\n",
    "\n",
    "**Before you Start**: You will need to install an additional library for this next segment. \n",
    "\n",
    "Install the package `mlxtend` into the environment you are using for the sprint challenge.\n",
    "\n",
    "You can install this package using the following statement in the terminal\n",
    "\n",
    "```python\n",
    "pip install mlxtend\n",
    "```\n",
    "\n",
    "Or you can install this package using the following statement in your notebook\n",
    "\n",
    "```python\n",
    "!pip install mlxtend\n",
    "```\n",
    "\n",
    "If you choose to install this package from within your notebook, be sure to delete the install statement afterwards so that CodeGrade doesn't try to install it and potentially crash. \n",
    "\n",
    "\n",
    "The cells below generate decision boundary plots of your models (`model1` & `model2`). Review the plots."
   ]
  },
  {
   "cell_type": "code",
   "execution_count": 71,
   "metadata": {
    "deletable": false,
    "editable": false,
    "nbgrader": {
     "cell_type": "code",
     "checksum": "77f6f2a9a5839eeba03aabe273a272d0",
     "grade": false,
     "grade_id": "cell-40d69928751b50a3",
     "locked": true,
     "schema_version": 3,
     "solution": false,
     "task": false
    },
    "tags": []
   },
   "outputs": [
    {
     "name": "stdout",
     "output_type": "stream",
     "text": [
      "22500/22500 [==============================] - 5s 215us/step\n",
      "22500/22500 [==============================] - 5s 229us/step\n"
     ]
    },
    {
     "data": {
      "image/png": "[encoded data removed]",
      "text/plain": [
       "<Figure size 1200x600 with 2 Axes>"
      ]
     },
     "metadata": {},
     "output_type": "display_data"
    }
   ],
   "source": [
    "from mlxtend.plotting import plot_decision_regions\n",
    "\n",
    "\n",
    "fig = plt.figure(figsize=(12,6))\n",
    "\n",
    "for clf, hist, name, grd in zip([model1,model2], [h1, h2],['Perceptron', 'Multi-Layer Perceptron'],[1,2]):\n",
    "\n",
    "    ax = plt.subplot(1,2, grd)\n",
    "    fig = plot_decision_regions(X=X, y=y, clf=clf, legend=2)\n",
    "    title = f\"{name} with {hist.history['accuracy'][-1]:,.2f} Accuracy\"\n",
    "    plt.title(title)\n",
    "\n",
    "plt.show()"
   ]
  },
  {
   "cell_type": "markdown",
   "metadata": {
    "deletable": false,
    "editable": false,
    "nbgrader": {
     "cell_type": "markdown",
     "checksum": "6115e8a53cd304ed19dcead4c4ebcaae",
     "grade": false,
     "grade_id": "cell-302694c508c8da0e",
     "locked": true,
     "schema_version": 3,
     "solution": false,
     "task": false
    }
   },
   "source": [
    "#### Review\n",
    "1) Why does the Perceptron (model1) only achieve about 50% accuracy?\n",
    "\n",
    "A simple perceptron can only learn a linear decision boundary as seen in the visualization above. Since the data points are distributed in a way where only a single class is represented per quadrant, a linear decision boundary can never reach an accuracy much higher than about 50% since each class will be equally represented on either side of that linear decision boundary.\n",
    "\n",
    "2) What is the architectural property of the Multi-Layer Perceptron that allows it to more accurately learn the relationship between X and Y?\n",
    "\n",
    "The additional layers and neurons allow a neural networks to learn non-linear relationships between X and Y. Each layer in a neural net represents an N-dimensional vector space. So by passing data from one layer to another, we are passing a data vector from one vector space to another, each with a different dimensions, often times this will change the geometry of the data points (i.e. their distribution in space) in such a way where a linear separation then becomes possible. This is the same idea behind the Kernel Trick in Support Vector Machines (SVM). "
   ]
  },
  {
   "cell_type": "markdown",
   "metadata": {
    "deletable": false,
    "editable": false,
    "nbgrader": {
     "cell_type": "markdown",
     "checksum": "54d26b93a7851569bb4b1b4800181af4",
     "grade": false,
     "grade_id": "cell-db1863a277e4fd6b",
     "locked": true,
     "schema_version": 3,
     "solution": false,
     "task": false
    }
   },
   "source": [
    "## 3. Keras MMP <a id=\"Q3\"></a>\n",
    "\n",
    "- Implement a Multilayer Perceptron architecture of your choosing using the Keras library. \n",
    "- Train your model and report its baseline accuracy. \n",
    "- Then `hyper-parameters tune two parameters each with no more than 2 values each`\n",
    "    - Due to limited computational resources on CodeGrade `DO NOT INCLUDE ADDITIONAL PARAMETERS OR VALUES PLEASE`\n",
    "- Report your optimized model's accuracy\n",
    "- Use the Heart Disease Dataset provided (binary classification)\n",
    "- Use an appropriate loss function for a binary classification task\n",
    "- Use an appropriate activation function on the final layer of your network.\n",
    "- Train your model using verbose output for ease of grading.\n",
    "- Use GridSearchCV to hyper-parameters tune your model. \n",
    "    - **Use `n_jobs` = 1**\n",
    "- When hyper-parameters tuning, show you work by adding code cells for each new experiment.\n",
    "- Report the accuracy for each combination of hyper-parameters as you test them so that we can easily see which resulted in the highest accuracy."
   ]
  },
  {
   "cell_type": "code",
   "execution_count": 72,
   "metadata": {
    "collapsed": false,
    "inputHidden": false,
    "jupyter": {
     "outputs_hidden": false
    },
    "outputHidden": false,
    "tags": []
   },
   "outputs": [
    {
     "name": "stdout",
     "output_type": "stream",
     "text": [
      "(303, 14)\n"
     ]
    },
    {
     "data": {
      "text/html": [
       "<div>\n",
       "<style scoped>\n",
       "    .dataframe tbody tr th:only-of-type {\n",
       "        vertical-align: middle;\n",
       "    }\n",
       "\n",
       "    .dataframe tbody tr th {\n",
       "        vertical-align: top;\n",
       "    }\n",
       "\n",
       "    .dataframe thead th {\n",
       "        text-align: right;\n",
       "    }\n",
       "</style>\n",
       "<table border=\"1\" class=\"dataframe\">\n",
       "  <thead>\n",
       "    <tr style=\"text-align: right;\">\n",
       "      <th></th>\n",
       "      <th>age</th>\n",
       "      <th>sex</th>\n",
       "      <th>cp</th>\n",
       "      <th>trestbps</th>\n",
       "      <th>chol</th>\n",
       "      <th>fbs</th>\n",
       "      <th>restecg</th>\n",
       "      <th>thalach</th>\n",
       "      <th>exang</th>\n",
       "      <th>oldpeak</th>\n",
       "      <th>slope</th>\n",
       "      <th>ca</th>\n",
       "      <th>thal</th>\n",
       "      <th>target</th>\n",
       "    </tr>\n",
       "  </thead>\n",
       "  <tbody>\n",
       "    <tr>\n",
       "      <th>188</th>\n",
       "      <td>50</td>\n",
       "      <td>1</td>\n",
       "      <td>2</td>\n",
       "      <td>140</td>\n",
       "      <td>233</td>\n",
       "      <td>0</td>\n",
       "      <td>1</td>\n",
       "      <td>163</td>\n",
       "      <td>0</td>\n",
       "      <td>0.6</td>\n",
       "      <td>1</td>\n",
       "      <td>1</td>\n",
       "      <td>3</td>\n",
       "      <td>0</td>\n",
       "    </tr>\n",
       "    <tr>\n",
       "      <th>56</th>\n",
       "      <td>48</td>\n",
       "      <td>1</td>\n",
       "      <td>0</td>\n",
       "      <td>122</td>\n",
       "      <td>222</td>\n",
       "      <td>0</td>\n",
       "      <td>0</td>\n",
       "      <td>186</td>\n",
       "      <td>0</td>\n",
       "      <td>0.0</td>\n",
       "      <td>2</td>\n",
       "      <td>0</td>\n",
       "      <td>2</td>\n",
       "      <td>1</td>\n",
       "    </tr>\n",
       "    <tr>\n",
       "      <th>66</th>\n",
       "      <td>51</td>\n",
       "      <td>1</td>\n",
       "      <td>2</td>\n",
       "      <td>100</td>\n",
       "      <td>222</td>\n",
       "      <td>0</td>\n",
       "      <td>1</td>\n",
       "      <td>143</td>\n",
       "      <td>1</td>\n",
       "      <td>1.2</td>\n",
       "      <td>1</td>\n",
       "      <td>0</td>\n",
       "      <td>2</td>\n",
       "      <td>1</td>\n",
       "    </tr>\n",
       "    <tr>\n",
       "      <th>1</th>\n",
       "      <td>37</td>\n",
       "      <td>1</td>\n",
       "      <td>2</td>\n",
       "      <td>130</td>\n",
       "      <td>250</td>\n",
       "      <td>0</td>\n",
       "      <td>1</td>\n",
       "      <td>187</td>\n",
       "      <td>0</td>\n",
       "      <td>3.5</td>\n",
       "      <td>0</td>\n",
       "      <td>0</td>\n",
       "      <td>2</td>\n",
       "      <td>1</td>\n",
       "    </tr>\n",
       "    <tr>\n",
       "      <th>73</th>\n",
       "      <td>51</td>\n",
       "      <td>1</td>\n",
       "      <td>0</td>\n",
       "      <td>140</td>\n",
       "      <td>261</td>\n",
       "      <td>0</td>\n",
       "      <td>0</td>\n",
       "      <td>186</td>\n",
       "      <td>1</td>\n",
       "      <td>0.0</td>\n",
       "      <td>2</td>\n",
       "      <td>0</td>\n",
       "      <td>2</td>\n",
       "      <td>1</td>\n",
       "    </tr>\n",
       "  </tbody>\n",
       "</table>\n",
       "</div>"
      ],
      "text/plain": [
       "     age  sex  cp  trestbps  chol  fbs  restecg  thalach  exang  oldpeak  \\\n",
       "188   50    1   2       140   233    0        1      163      0      0.6   \n",
       "56    48    1   0       122   222    0        0      186      0      0.0   \n",
       "66    51    1   2       100   222    0        1      143      1      1.2   \n",
       "1     37    1   2       130   250    0        1      187      0      3.5   \n",
       "73    51    1   0       140   261    0        0      186      1      0.0   \n",
       "\n",
       "     slope  ca  thal  target  \n",
       "188      1   1     3       0  \n",
       "56       2   0     2       1  \n",
       "66       1   0     2       1  \n",
       "1        0   0     2       1  \n",
       "73       2   0     2       1  "
      ]
     },
     "execution_count": 72,
     "metadata": {},
     "output_type": "execute_result"
    }
   ],
   "source": [
    "# load data\n",
    "data_path = 'https://raw.githubusercontent.com/ryanleeallred/datasets/master/heart.csv'\n",
    "df = pd.read_csv(data_path)\n",
    "df = df.sample(frac=1)\n",
    "print(df.shape)\n",
    "df.head()"
   ]
  },
  {
   "cell_type": "code",
   "execution_count": 73,
   "metadata": {
    "tags": []
   },
   "outputs": [],
   "source": [
    "# df.describe()"
   ]
  },
  {
   "cell_type": "code",
   "execution_count": 74,
   "metadata": {
    "deletable": false,
    "nbgrader": {
     "cell_type": "code",
     "checksum": "22de1dc5d17d7a0bc674d082c33e8b65",
     "grade": false,
     "grade_id": "cell-85dc40f19f5a1d6b",
     "locked": false,
     "schema_version": 3,
     "solution": true,
     "task": false
    },
    "tags": []
   },
   "outputs": [],
   "source": [
    "# Create an input matrix named 'X' store it in a 2D numpy array\n",
    "\n",
    "# Create an output vector for the labels named 'Y', store it in 1D numpy array\n",
    "\n",
    "# YOUR CODE HERE\n",
    "Y = df['target']\n",
    "X = df.drop('target', axis=1)\n",
    "\n",
    "columns_to_scale = ['age', 'trestbps', 'chol', 'thalach', 'oldpeak']\n",
    "\n",
    "# create a StandardScaler object\n",
    "scaler = StandardScaler()\n",
    "\n",
    "# fit and transform the selected columns\n",
    "X[columns_to_scale] = scaler.fit_transform(X[columns_to_scale])"
   ]
  },
  {
   "cell_type": "code",
   "execution_count": 75,
   "metadata": {
    "deletable": false,
    "editable": false,
    "nbgrader": {
     "cell_type": "code",
     "checksum": "825d4f808810a2a8d6301d7453afe478",
     "grade": true,
     "grade_id": "cell-c17c686c974edc2e",
     "locked": true,
     "points": 1,
     "schema_version": 3,
     "solution": false,
     "task": false
    },
    "tags": []
   },
   "outputs": [],
   "source": [
    "# Visible Testing\n",
    "assert X.shape[0] == 303, \"Did you drop/lose some rows in X? Did you properly load and split the data?\"\n",
    "assert X.shape[1] == 13, \"Did you drop/lose some columns in X? Did you properly load and split the data?\"\n",
    "assert len(Y)== 303, \"Did you drop/lose some rows in Y? Did you properly load and split the data?\""
   ]
  },
  {
   "cell_type": "code",
   "execution_count": 76,
   "metadata": {
    "deletable": false,
    "nbgrader": {
     "cell_type": "code",
     "checksum": "475835631ff6a34028443dbf604bd922",
     "grade": false,
     "grade_id": "cell-cfc5517cd0b6fa64",
     "locked": false,
     "schema_version": 3,
     "solution": true,
     "task": false
    },
    "tags": []
   },
   "outputs": [],
   "source": [
    "# Create a function named 'create_model' that returns a complied keras model -  required for KerasClassifier\n",
    "# YOUR CODE HERE\n",
    "\n",
    "def create_model(n_hidden_layers=1, layer_width=13):\n",
    "    \n",
    "    l2 = tf.keras.regularizers.l2(0.0001)\n",
    "    \n",
    "    # instantiate model & add first layer\n",
    "    model = Sequential()  \n",
    "    model.add(Dense(layer_width, kernel_regularizer=l2, input_dim=13, activation='relu'))\n",
    "    \n",
    "    # add variable number of layers\n",
    "    for i in range(1, n_hidden_layers):\n",
    "        model.add(Dense(layer_width/(2**i), kernel_regularizer=l2, activation='relu'))\n",
    "\n",
    "    # output layer   \n",
    "    model.add(Dense(1, activation=\"sigmoid\"))\n",
    "\n",
    "    # compile model \n",
    "    model.compile(loss=\"binary_crossentropy\", \n",
    "                 optimizer=\"adam\", \n",
    "                 metrics=[\"accuracy\"])\n",
    "    return model"
   ]
  },
  {
   "cell_type": "code",
   "execution_count": 77,
   "metadata": {
    "deletable": false,
    "editable": false,
    "nbgrader": {
     "cell_type": "code",
     "checksum": "14fafb133c4cbe053b272ae08156e2ab",
     "grade": true,
     "grade_id": "cell-fac25126eaf1eee4",
     "locked": true,
     "points": 1,
     "schema_version": 3,
     "solution": false,
     "task": false
    },
    "tags": []
   },
   "outputs": [],
   "source": [
    "# Visible Testing\n",
    "assert (create_model().__module__ == 'tensorflow.python.keras.engine.sequential') or (create_model().__module__ == 'keras.engine.sequential'), \"create_model should return a keras model that was created using the Sequential class.\""
   ]
  },
  {
   "cell_type": "code",
   "execution_count": 78,
   "metadata": {
    "deletable": false,
    "nbgrader": {
     "cell_type": "code",
     "checksum": "0412c74b7803790452d4914d99995dd2",
     "grade": false,
     "grade_id": "cell-fbc3d0a07230078c",
     "locked": false,
     "schema_version": 3,
     "solution": true,
     "task": false
    },
    "tags": []
   },
   "outputs": [
    {
     "name": "stderr",
     "output_type": "stream",
     "text": [
      "/var/folders/l5/9b73nm7x0d5bz481kpj_k3640000gn/T/ipykernel_11998/735925975.py:3: DeprecationWarning: KerasClassifier is deprecated, use Sci-Keras (https://github.com/adriangb/scikeras) instead. See https://www.adriangb.com/scikeras/stable/migration.html for help migrating.\n",
      "  model = KerasClassifier(create_model)\n"
     ]
    }
   ],
   "source": [
    "# Pass 'create_model' into KerasClassifier, store KerasClassifier to a variable named 'model'\n",
    "# YOUR CODE HERE\n",
    "model = KerasClassifier(create_model)"
   ]
  },
  {
   "cell_type": "code",
   "execution_count": 79,
   "metadata": {
    "deletable": false,
    "editable": false,
    "nbgrader": {
     "cell_type": "code",
     "checksum": "7b9a0fd482352443a412e7fdb13f5bae",
     "grade": true,
     "grade_id": "cell-464e7506993775f2",
     "locked": true,
     "points": 1,
     "schema_version": 3,
     "solution": false,
     "task": false
    },
    "tags": []
   },
   "outputs": [],
   "source": [
    "# Visible Testing\n",
    "assert model.__module__ == 'tensorflow.python.keras.wrappers.scikit_learn' or model.__module__== 'keras.wrappers.scikit_learn', \"model should be a instance of KerasClassifier.\""
   ]
  },
  {
   "cell_type": "code",
   "execution_count": 80,
   "metadata": {
    "deletable": false,
    "nbgrader": {
     "cell_type": "code",
     "checksum": "f88603ef37a4d3d2ef8699a41ac9a0b2",
     "grade": false,
     "grade_id": "cell-985c0425f3b1304d",
     "locked": false,
     "schema_version": 3,
     "solution": true,
     "task": false
    },
    "tags": []
   },
   "outputs": [],
   "source": [
    "# Define the grid search parameters inside a dictionary named 'param_grid' \n",
    "# Use 2 hyper-parameters with 2 possible values for each \n",
    "\n",
    "# YOUR CODE HERE\n",
    "param_grid = {\n",
    "    \"n_hidden_layers\": [4, 2],\n",
    "    \"layer_width\": [64, 32]\n",
    "}"
   ]
  },
  {
   "cell_type": "code",
   "execution_count": 81,
   "metadata": {
    "deletable": false,
    "editable": false,
    "nbgrader": {
     "cell_type": "code",
     "checksum": "a551fd8278b30c1318c036f6ad43b503",
     "grade": true,
     "grade_id": "cell-c765b5db5489d7a2",
     "locked": true,
     "points": 1,
     "schema_version": 3,
     "solution": false,
     "task": false
    },
    "tags": []
   },
   "outputs": [],
   "source": [
    "assert len(param_grid.keys()) == 2, \"Did you create a param dict with 2 hyper-parameters as keys?\""
   ]
  },
  {
   "cell_type": "code",
   "execution_count": 82,
   "metadata": {
    "deletable": false,
    "nbgrader": {
     "cell_type": "code",
     "checksum": "2ea6312f4bc1f42809196b696037dd52",
     "grade": false,
     "grade_id": "cell-7cfb4315eab5031c",
     "locked": false,
     "schema_version": 3,
     "solution": true,
     "task": false
    },
    "tags": []
   },
   "outputs": [
    {
     "name": "stdout",
     "output_type": "stream",
     "text": [
      "Fitting 3 folds for each of 4 candidates, totalling 12 fits\n",
      "Epoch 1/10\n",
      "7/7 [==============================] - 0s 685us/step - loss: 0.6983 - accuracy: 0.4752\n",
      "Epoch 2/10\n",
      "7/7 [==============================] - 0s 759us/step - loss: 0.6661 - accuracy: 0.6287\n",
      "Epoch 3/10\n",
      "7/7 [==============================] - 0s 752us/step - loss: 0.6320 - accuracy: 0.6980\n",
      "Epoch 4/10\n",
      "7/7 [==============================] - 0s 852us/step - loss: 0.6028 - accuracy: 0.7772\n",
      "Epoch 5/10\n",
      "7/7 [==============================] - 0s 880us/step - loss: 0.5709 - accuracy: 0.8119\n",
      "Epoch 6/10\n",
      "7/7 [==============================] - 0s 833us/step - loss: 0.5380 - accuracy: 0.8317\n",
      "Epoch 7/10\n",
      "7/7 [==============================] - 0s 677us/step - loss: 0.5032 - accuracy: 0.8317\n",
      "Epoch 8/10\n",
      "7/7 [==============================] - 0s 753us/step - loss: 0.4669 - accuracy: 0.8317\n",
      "Epoch 9/10\n",
      "7/7 [==============================] - 0s 759us/step - loss: 0.4324 - accuracy: 0.8317\n",
      "Epoch 10/10\n",
      "7/7 [==============================] - 0s 688us/step - loss: 0.4145 - accuracy: 0.8317\n",
      "4/4 [==============================] - 0s 744us/step - loss: 0.3782 - accuracy: 0.8416\n",
      "Epoch 1/10\n",
      "7/7 [==============================] - 0s 808us/step - loss: 0.6852 - accuracy: 0.5990\n",
      "Epoch 2/10\n",
      "7/7 [==============================] - 0s 871us/step - loss: 0.6575 - accuracy: 0.6733\n",
      "Epoch 3/10\n",
      "7/7 [==============================] - 0s 824us/step - loss: 0.6336 - accuracy: 0.7228\n",
      "Epoch 4/10\n",
      "7/7 [==============================] - 0s 828us/step - loss: 0.6059 - accuracy: 0.7970\n",
      "Epoch 5/10\n",
      "7/7 [==============================] - 0s 712us/step - loss: 0.5724 - accuracy: 0.8168\n",
      "Epoch 6/10\n",
      "7/7 [==============================] - 0s 737us/step - loss: 0.5365 - accuracy: 0.8218\n",
      "Epoch 7/10\n",
      "7/7 [==============================] - 0s 804us/step - loss: 0.5015 - accuracy: 0.8218\n",
      "Epoch 8/10\n",
      "7/7 [==============================] - 0s 742us/step - loss: 0.4633 - accuracy: 0.8366\n",
      "Epoch 9/10\n",
      "7/7 [==============================] - 0s 691us/step - loss: 0.4264 - accuracy: 0.8663\n",
      "Epoch 10/10\n",
      "7/7 [==============================] - 0s 721us/step - loss: 0.3934 - accuracy: 0.8812\n",
      "4/4 [==============================] - 0s 901us/step - loss: 0.4948 - accuracy: 0.7921\n",
      "Epoch 1/10\n",
      "7/7 [==============================] - 0s 705us/step - loss: 0.7035 - accuracy: 0.5099\n",
      "Epoch 2/10\n",
      "7/7 [==============================] - 0s 773us/step - loss: 0.6567 - accuracy: 0.7673\n",
      "Epoch 3/10\n",
      "7/7 [==============================] - 0s 849us/step - loss: 0.6249 - accuracy: 0.7970\n",
      "Epoch 4/10\n",
      "7/7 [==============================] - 0s 760us/step - loss: 0.5870 - accuracy: 0.8119\n",
      "Epoch 5/10\n",
      "7/7 [==============================] - 0s 745us/step - loss: 0.5394 - accuracy: 0.8366\n",
      "Epoch 6/10\n",
      "7/7 [==============================] - 0s 725us/step - loss: 0.4905 - accuracy: 0.8366\n",
      "Epoch 7/10\n",
      "7/7 [==============================] - 0s 787us/step - loss: 0.4454 - accuracy: 0.8317\n",
      "Epoch 8/10\n",
      "7/7 [==============================] - 0s 711us/step - loss: 0.4104 - accuracy: 0.8317\n",
      "Epoch 9/10\n",
      "7/7 [==============================] - 0s 679us/step - loss: 0.3864 - accuracy: 0.8515\n",
      "Epoch 10/10\n",
      "7/7 [==============================] - 0s 731us/step - loss: 0.3716 - accuracy: 0.8564\n",
      "4/4 [==============================] - 0s 760us/step - loss: 0.4199 - accuracy: 0.8515\n",
      "Epoch 1/10\n",
      "7/7 [==============================] - 0s 684us/step - loss: 0.7052 - accuracy: 0.5446\n",
      "Epoch 2/10\n",
      "7/7 [==============================] - 0s 627us/step - loss: 0.6320 - accuracy: 0.7030\n",
      "Epoch 3/10\n",
      "7/7 [==============================] - 0s 685us/step - loss: 0.5823 - accuracy: 0.7574\n",
      "Epoch 4/10\n",
      "7/7 [==============================] - 0s 751us/step - loss: 0.5427 - accuracy: 0.8168\n",
      "Epoch 5/10\n",
      "7/7 [==============================] - 0s 774us/step - loss: 0.5138 - accuracy: 0.8218\n",
      "Epoch 6/10\n",
      "7/7 [==============================] - 0s 692us/step - loss: 0.4872 - accuracy: 0.8218\n",
      "Epoch 7/10\n",
      "7/7 [==============================] - 0s 739us/step - loss: 0.4638 - accuracy: 0.8416\n",
      "Epoch 8/10\n",
      "7/7 [==============================] - 0s 827us/step - loss: 0.4450 - accuracy: 0.8465\n",
      "Epoch 9/10\n",
      "7/7 [==============================] - 0s 702us/step - loss: 0.4318 - accuracy: 0.8366\n",
      "Epoch 10/10\n",
      "7/7 [==============================] - 0s 722us/step - loss: 0.4185 - accuracy: 0.8465\n",
      "4/4 [==============================] - 0s 716us/step - loss: 0.3653 - accuracy: 0.8416\n",
      "Epoch 1/10\n",
      "7/7 [==============================] - 0s 724us/step - loss: 0.7369 - accuracy: 0.4307\n",
      "Epoch 2/10\n",
      "7/7 [==============================] - 0s 689us/step - loss: 0.6524 - accuracy: 0.6733\n",
      "Epoch 3/10\n",
      "7/7 [==============================] - 0s 788us/step - loss: 0.5962 - accuracy: 0.7624\n",
      "Epoch 4/10\n",
      "7/7 [==============================] - 0s 692us/step - loss: 0.5474 - accuracy: 0.8020\n",
      "Epoch 5/10\n",
      "7/7 [==============================] - 0s 723us/step - loss: 0.5031 - accuracy: 0.8168\n",
      "Epoch 6/10\n",
      "7/7 [==============================] - 0s 745us/step - loss: 0.4621 - accuracy: 0.8119\n",
      "Epoch 7/10\n",
      "7/7 [==============================] - 0s 736us/step - loss: 0.4316 - accuracy: 0.8267\n",
      "Epoch 8/10\n",
      "7/7 [==============================] - 0s 708us/step - loss: 0.4053 - accuracy: 0.8317\n",
      "Epoch 9/10\n",
      "7/7 [==============================] - 0s 766us/step - loss: 0.3844 - accuracy: 0.8416\n",
      "Epoch 10/10\n",
      "7/7 [==============================] - 0s 673us/step - loss: 0.3705 - accuracy: 0.8366\n",
      "4/4 [==============================] - 0s 777us/step - loss: 0.4647 - accuracy: 0.7525\n",
      "Epoch 1/10\n",
      "7/7 [==============================] - 0s 699us/step - loss: 0.6728 - accuracy: 0.6089\n",
      "Epoch 2/10\n",
      "7/7 [==============================] - 0s 785us/step - loss: 0.5797 - accuracy: 0.7673\n",
      "Epoch 3/10\n",
      "7/7 [==============================] - 0s 700us/step - loss: 0.5191 - accuracy: 0.8020\n",
      "Epoch 4/10\n",
      "7/7 [==============================] - 0s 789us/step - loss: 0.4749 - accuracy: 0.8267\n",
      "Epoch 5/10\n",
      "7/7 [==============================] - 0s 696us/step - loss: 0.4470 - accuracy: 0.8218\n",
      "Epoch 6/10\n",
      "7/7 [==============================] - 0s 717us/step - loss: 0.4233 - accuracy: 0.8267\n",
      "Epoch 7/10\n",
      "7/7 [==============================] - 0s 767us/step - loss: 0.4099 - accuracy: 0.8416\n",
      "Epoch 8/10\n",
      "7/7 [==============================] - 0s 656us/step - loss: 0.3967 - accuracy: 0.8416\n",
      "Epoch 9/10\n",
      "7/7 [==============================] - 0s 707us/step - loss: 0.3864 - accuracy: 0.8465\n",
      "Epoch 10/10\n",
      "7/7 [==============================] - 0s 690us/step - loss: 0.3780 - accuracy: 0.8465\n",
      "4/4 [==============================] - 0s 769us/step - loss: 0.4089 - accuracy: 0.8218\n",
      "Epoch 1/10\n",
      "7/7 [==============================] - 0s 725us/step - loss: 0.6915 - accuracy: 0.4950\n",
      "Epoch 2/10\n",
      "7/7 [==============================] - 0s 825us/step - loss: 0.6623 - accuracy: 0.5842\n",
      "Epoch 3/10\n",
      "7/7 [==============================] - 0s 820us/step - loss: 0.6416 - accuracy: 0.6832\n",
      "Epoch 4/10\n",
      "7/7 [==============================] - 0s 714us/step - loss: 0.6247 - accuracy: 0.7277\n",
      "Epoch 5/10\n",
      "7/7 [==============================] - 0s 741us/step - loss: 0.6084 - accuracy: 0.7426\n",
      "Epoch 6/10\n",
      "7/7 [==============================] - 0s 684us/step - loss: 0.5913 - accuracy: 0.7723\n",
      "Epoch 7/10\n",
      "7/7 [==============================] - 0s 758us/step - loss: 0.5740 - accuracy: 0.7871\n",
      "Epoch 8/10\n",
      "7/7 [==============================] - 0s 676us/step - loss: 0.5557 - accuracy: 0.7970\n",
      "Epoch 9/10\n",
      "7/7 [==============================] - 0s 760us/step - loss: 0.5369 - accuracy: 0.8020\n",
      "Epoch 10/10\n",
      "7/7 [==============================] - 0s 701us/step - loss: 0.5194 - accuracy: 0.8069\n",
      "4/4 [==============================] - 0s 753us/step - loss: 0.5000 - accuracy: 0.8416\n",
      "Epoch 1/10\n",
      "7/7 [==============================] - 0s 708us/step - loss: 0.7147 - accuracy: 0.5297\n",
      "Epoch 2/10\n",
      "7/7 [==============================] - 0s 763us/step - loss: 0.6864 - accuracy: 0.5842\n",
      "Epoch 3/10\n",
      "7/7 [==============================] - 0s 734us/step - loss: 0.6682 - accuracy: 0.6337\n",
      "Epoch 4/10\n",
      "7/7 [==============================] - 0s 760us/step - loss: 0.6511 - accuracy: 0.6485\n",
      "Epoch 5/10\n",
      "7/7 [==============================] - 0s 694us/step - loss: 0.6327 - accuracy: 0.6485\n",
      "Epoch 6/10\n",
      "7/7 [==============================] - 0s 774us/step - loss: 0.6160 - accuracy: 0.6733\n",
      "Epoch 7/10\n",
      "7/7 [==============================] - 0s 716us/step - loss: 0.6009 - accuracy: 0.6931\n",
      "Epoch 8/10\n",
      "7/7 [==============================] - 0s 790us/step - loss: 0.5857 - accuracy: 0.7079\n",
      "Epoch 9/10\n",
      "7/7 [==============================] - 0s 733us/step - loss: 0.5720 - accuracy: 0.7327\n",
      "Epoch 10/10\n",
      "7/7 [==============================] - 0s 727us/step - loss: 0.5587 - accuracy: 0.7624\n",
      "4/4 [==============================] - 0s 838us/step - loss: 0.6083 - accuracy: 0.7327\n",
      "Epoch 1/10\n",
      "7/7 [==============================] - 0s 719us/step - loss: 0.7173 - accuracy: 0.4554\n",
      "Epoch 2/10\n",
      "7/7 [==============================] - 0s 852us/step - loss: 0.6860 - accuracy: 0.5693\n",
      "Epoch 3/10\n",
      "7/7 [==============================] - 0s 817us/step - loss: 0.6702 - accuracy: 0.6683\n",
      "Epoch 4/10\n",
      "7/7 [==============================] - 0s 957us/step - loss: 0.6570 - accuracy: 0.7228\n",
      "Epoch 5/10\n",
      "7/7 [==============================] - 0s 1ms/step - loss: 0.6425 - accuracy: 0.7327\n",
      "Epoch 6/10\n",
      "7/7 [==============================] - 0s 1ms/step - loss: 0.6276 - accuracy: 0.7475\n",
      "Epoch 7/10\n",
      "7/7 [==============================] - 0s 785us/step - loss: 0.6114 - accuracy: 0.7772\n",
      "Epoch 8/10\n",
      "7/7 [==============================] - 0s 810us/step - loss: 0.5941 - accuracy: 0.7723\n",
      "Epoch 9/10\n",
      "7/7 [==============================] - 0s 691us/step - loss: 0.5780 - accuracy: 0.7772\n",
      "Epoch 10/10\n",
      "7/7 [==============================] - 0s 772us/step - loss: 0.5602 - accuracy: 0.7871\n",
      "4/4 [==============================] - 0s 814us/step - loss: 0.5581 - accuracy: 0.7327\n",
      "Epoch 1/10\n",
      "7/7 [==============================] - 0s 674us/step - loss: 0.6831 - accuracy: 0.5347\n",
      "Epoch 2/10\n",
      "7/7 [==============================] - 0s 699us/step - loss: 0.6433 - accuracy: 0.5644\n",
      "Epoch 3/10\n",
      "7/7 [==============================] - 0s 821us/step - loss: 0.6108 - accuracy: 0.6733\n",
      "Epoch 4/10\n",
      "7/7 [==============================] - 0s 682us/step - loss: 0.5825 - accuracy: 0.7475\n",
      "Epoch 5/10\n",
      "7/7 [==============================] - 0s 713us/step - loss: 0.5578 - accuracy: 0.7871\n",
      "Epoch 6/10\n",
      "7/7 [==============================] - 0s 648us/step - loss: 0.5332 - accuracy: 0.7822\n",
      "Epoch 7/10\n",
      "7/7 [==============================] - 0s 734us/step - loss: 0.5110 - accuracy: 0.7871\n",
      "Epoch 8/10\n",
      "7/7 [==============================] - 0s 742us/step - loss: 0.4924 - accuracy: 0.7970\n",
      "Epoch 9/10\n",
      "7/7 [==============================] - 0s 708us/step - loss: 0.4744 - accuracy: 0.8020\n",
      "Epoch 10/10\n",
      "7/7 [==============================] - 0s 628us/step - loss: 0.4588 - accuracy: 0.8020\n",
      "4/4 [==============================] - 0s 730us/step - loss: 0.4186 - accuracy: 0.7921\n",
      "Epoch 1/10\n",
      "7/7 [==============================] - 0s 694us/step - loss: 0.7068 - accuracy: 0.5446\n",
      "Epoch 2/10\n",
      "7/7 [==============================] - 0s 614us/step - loss: 0.6407 - accuracy: 0.6584\n",
      "Epoch 3/10\n",
      "7/7 [==============================] - 0s 782us/step - loss: 0.5886 - accuracy: 0.7624\n",
      "Epoch 4/10\n",
      "7/7 [==============================] - 0s 781us/step - loss: 0.5476 - accuracy: 0.7871\n",
      "Epoch 5/10\n",
      "7/7 [==============================] - 0s 660us/step - loss: 0.5147 - accuracy: 0.8119\n",
      "Epoch 6/10\n",
      "7/7 [==============================] - 0s 726us/step - loss: 0.4868 - accuracy: 0.8168\n",
      "Epoch 7/10\n",
      "7/7 [==============================] - 0s 725us/step - loss: 0.4625 - accuracy: 0.8119\n",
      "Epoch 8/10\n",
      "7/7 [==============================] - 0s 676us/step - loss: 0.4420 - accuracy: 0.8168\n",
      "Epoch 9/10\n",
      "7/7 [==============================] - 0s 615us/step - loss: 0.4249 - accuracy: 0.8168\n",
      "Epoch 10/10\n",
      "7/7 [==============================] - 0s 780us/step - loss: 0.4097 - accuracy: 0.8267\n",
      "4/4 [==============================] - 0s 679us/step - loss: 0.5155 - accuracy: 0.7723\n",
      "Epoch 1/10\n",
      "7/7 [==============================] - 0s 675us/step - loss: 0.6300 - accuracy: 0.6634\n",
      "Epoch 2/10\n",
      "7/7 [==============================] - 0s 621us/step - loss: 0.5840 - accuracy: 0.7723\n",
      "Epoch 3/10\n",
      "7/7 [==============================] - 0s 754us/step - loss: 0.5513 - accuracy: 0.7970\n",
      "Epoch 4/10\n",
      "7/7 [==============================] - 0s 708us/step - loss: 0.5228 - accuracy: 0.7921\n",
      "Epoch 5/10\n",
      "7/7 [==============================] - 0s 786us/step - loss: 0.4988 - accuracy: 0.7822\n",
      "Epoch 6/10\n",
      "7/7 [==============================] - 0s 846us/step - loss: 0.4790 - accuracy: 0.7772\n",
      "Epoch 7/10\n",
      "7/7 [==============================] - 0s 689us/step - loss: 0.4594 - accuracy: 0.7772\n",
      "Epoch 8/10\n",
      "7/7 [==============================] - 0s 671us/step - loss: 0.4448 - accuracy: 0.7772\n",
      "Epoch 9/10\n",
      "7/7 [==============================] - 0s 698us/step - loss: 0.4311 - accuracy: 0.7921\n",
      "Epoch 10/10\n",
      "7/7 [==============================] - 0s 664us/step - loss: 0.4160 - accuracy: 0.8020\n",
      "4/4 [==============================] - 0s 687us/step - loss: 0.4690 - accuracy: 0.7525\n",
      "Epoch 1/10\n",
      "10/10 [==============================] - 0s 676us/step - loss: 0.6723 - accuracy: 0.6568\n",
      "Epoch 2/10\n",
      "10/10 [==============================] - 0s 719us/step - loss: 0.6093 - accuracy: 0.8152\n",
      "Epoch 3/10\n",
      "10/10 [==============================] - 0s 769us/step - loss: 0.5479 - accuracy: 0.8185\n",
      "Epoch 4/10\n",
      "10/10 [==============================] - 0s 696us/step - loss: 0.4926 - accuracy: 0.8152\n",
      "Epoch 5/10\n",
      "10/10 [==============================] - 0s 677us/step - loss: 0.4500 - accuracy: 0.8251\n",
      "Epoch 6/10\n",
      "10/10 [==============================] - 0s 649us/step - loss: 0.4126 - accuracy: 0.8317\n",
      "Epoch 7/10\n",
      "10/10 [==============================] - 0s 638us/step - loss: 0.3928 - accuracy: 0.8317\n",
      "Epoch 8/10\n",
      "10/10 [==============================] - 0s 647us/step - loss: 0.3757 - accuracy: 0.8416\n",
      "Epoch 9/10\n",
      "10/10 [==============================] - 0s 707us/step - loss: 0.3649 - accuracy: 0.8515\n",
      "Epoch 10/10\n",
      "10/10 [==============================] - 0s 662us/step - loss: 0.3522 - accuracy: 0.8482\n"
     ]
    }
   ],
   "source": [
    "# Create Grid Search object and name it 'gs'\n",
    "# Run Grid Search \n",
    "# YOUR CODE HERE\n",
    "gs = GridSearchCV(estimator=model, \n",
    "                  param_grid=param_grid, \n",
    "                  n_jobs=1, \n",
    "                  verbose=1, \n",
    "                  cv=3)\n",
    "\n",
    "grid_result = gs.fit(X, Y, epochs=10)"
   ]
  },
  {
   "cell_type": "code",
   "execution_count": 83,
   "metadata": {
    "tags": []
   },
   "outputs": [
    {
     "name": "stdout",
     "output_type": "stream",
     "text": [
      "Best: 0.8283828298250834 using {'layer_width': 64, 'n_hidden_layers': 4}\n",
      "Means: 0.8283828298250834, Stdev: 0.025986816922028384 with: {'layer_width': 64, 'n_hidden_layers': 4}\n",
      "Means: 0.8052805264790853, Stdev: 0.03820407080172275 with: {'layer_width': 64, 'n_hidden_layers': 2}\n",
      "Means: 0.7689769069353739, Stdev: 0.051341071121949536 with: {'layer_width': 32, 'n_hidden_layers': 4}\n",
      "Means: 0.7722772359848022, Stdev: 0.016168244308767975 with: {'layer_width': 32, 'n_hidden_layers': 2}\n"
     ]
    }
   ],
   "source": [
    "# your grid_result object should be able to run in this code \n",
    "print(f\"Best: {grid_result.best_score_} using {grid_result.best_params_}\")\n",
    "means = grid_result.cv_results_['mean_test_score']\n",
    "stds = grid_result.cv_results_['std_test_score']\n",
    "params = grid_result.cv_results_['params']\n",
    "for mean, stdev, param in zip(means, stds, params):\n",
    "    print(f\"Means: {mean}, Stdev: {stdev} with: {param}\") "
   ]
  },
  {
   "cell_type": "code",
   "execution_count": null,
   "metadata": {},
   "outputs": [],
   "source": []
  }
 ],
 "metadata": {
  "kernelspec": {
   "display_name": "Python 3 (ipykernel)",
   "language": "python",
   "name": "python3"
  },
  "language_info": {
   "codemirror_mode": {
    "name": "ipython",
    "version": 3
   },
   "file_extension": ".py",
   "mimetype": "text/x-python",
   "name": "python",
   "nbconvert_exporter": "python",
   "pygments_lexer": "ipython3",
   "version": "3.11.4"
  }
 },
 "nbformat": 4,
 "nbformat_minor": 4
}
