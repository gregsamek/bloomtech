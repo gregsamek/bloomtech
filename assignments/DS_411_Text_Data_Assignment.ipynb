{
 "cells": [
  {
   "cell_type": "markdown",
   "metadata": {
    "id": "XLVEUBHAszyf"
   },
   "source": [
    "\n",
    "\n",
    "# Natural Language Processing (NLP)\n",
    "## *Data Science Unit 4 Sprint 1 Assignment 1*\n",
    "\n",
    "Your goal in this assignment: find the attributes of the best & worst coffee shops in the dataset. The text is fairly raw: dates in the review, extra words in the `star_rating` column, etc. You'll probably want to clean that stuff up for a better analysis. \n",
    "\n",
    "Analyze the corpus of text using text visualizations of token frequency. Try cleaning the data as much as possible. Try the following techniques: \n",
    "- Lemmatization\n",
    "- Custom stopword removal\n",
    "\n",
    "Keep in mind the attributes of good tokens. Once you have a solid baseline, layer in the star rating in your visualization(s). Key part of this assignment - produce a write-up of the attributes of the best and worst coffee shops. Based on your analysis, what makes the best the best and the worst the worst. Use graphs and numbesr from your analysis to support your conclusions. There should be plenty of markdown cells! :coffee:"
   ]
  },
  {
   "cell_type": "code",
   "execution_count": null,
   "metadata": {
    "colab": {
     "base_uri": "https://localhost:8080/",
     "height": 322
    },
    "executionInfo": {
     "elapsed": 157,
     "status": "ok",
     "timestamp": 1629922511462,
     "user": {
      "displayName": "Ryan Allred",
      "photoUrl": "",
      "userId": "04031804316926795705"
     },
     "user_tz": 360
    },
    "id": "WVikJqB6szyi",
    "outputId": "01cdfbb2-fc1f-42b1-9836-bd5ad8c25940"
   },
   "outputs": [
    {
     "data": {
      "image/jpeg": "[encoded data removed]",
      "text/html": [
       "\n",
       "        <iframe\n",
       "            width=\"400\"\n",
       "            height=\"300\"\n",
       "            src=\"https://www.youtube.com/embed/Jml7NVYm8cs\"\n",
       "            frameborder=\"0\"\n",
       "            allowfullscreen\n",
       "        ></iframe>\n",
       "        "
      ],
      "text/plain": [
       "<IPython.lib.display.YouTubeVideo at 0x7fa9656adb10>"
      ]
     },
     "execution_count": 1,
     "metadata": {},
     "output_type": "execute_result"
    }
   ],
   "source": [
    "from IPython.display import YouTubeVideo\n",
    "YouTubeVideo('Jml7NVYm8cs')"
   ]
  },
  {
   "cell_type": "markdown",
   "metadata": {
    "id": "Zwv93p0nw4y7"
   },
   "source": [
    "#0. Prepare"
   ]
  },
  {
   "cell_type": "markdown",
   "metadata": {
    "id": "NznKZiH9wpvW"
   },
   "source": [
    "## 0.1 Get spacy"
   ]
  },
  {
   "cell_type": "code",
   "execution_count": 2,
   "metadata": {
    "colab": {
     "base_uri": "https://localhost:8080/"
    },
    "executionInfo": {
     "elapsed": 44956,
     "status": "ok",
     "timestamp": 1638224220453,
     "user": {
      "displayName": "Joseph catanzarite",
      "photoUrl": "https://lh3.googleusercontent.com/a-/AOh14GgmMRaw8NgoEDqzevEZ6b18iOYdEH9nWTZeaFBW=s64",
      "userId": "16649206137414945374"
     },
     "user_tz": 480
    },
    "id": "jOfpgOqSyX4p",
    "outputId": "cc49e053-d958-419a-d8b3-7604be5d97c5"
   },
   "outputs": [],
   "source": [
    "# Locally (or on colab) let's use en_core_web_lg \n",
    "# !python -m spacy download en_core_web_md # Can do lg, takes awhile\n",
    "# Also on Colab, need to restart runtime after this step!"
   ]
  },
  {
   "cell_type": "markdown",
   "metadata": {
    "id": "S34mj-a5wwfa"
   },
   "source": [
    "## 0.2 Restart runtime!"
   ]
  },
  {
   "cell_type": "markdown",
   "metadata": {
    "id": "j7nBZY8Z0I4W"
   },
   "source": [
    "## 0.3 Install packages and do imports"
   ]
  },
  {
   "cell_type": "code",
   "execution_count": 4,
   "metadata": {
    "executionInfo": {
     "elapsed": 362,
     "status": "ok",
     "timestamp": 1638224237634,
     "user": {
      "displayName": "Joseph catanzarite",
      "photoUrl": "https://lh3.googleusercontent.com/a-/AOh14GgmMRaw8NgoEDqzevEZ6b18iOYdEH9nWTZeaFBW=s64",
      "userId": "16649206137414945374"
     },
     "user_tz": 480
    },
    "id": "IIyTZrE3-fNd"
   },
   "outputs": [],
   "source": [
    "import pandas as pd\n",
    "import matplotlib.pyplot as plt\n",
    "%matplotlib inline\n",
    "import seaborn as sns"
   ]
  },
  {
   "cell_type": "markdown",
   "metadata": {
    "id": "H9x5mry3szyk"
   },
   "source": [
    "-----"
   ]
  },
  {
   "cell_type": "markdown",
   "metadata": {
    "id": "xFOEkbR40TZf"
   },
   "source": [
    "## 0.4 Get data"
   ]
  },
  {
   "cell_type": "code",
   "execution_count": 5,
   "metadata": {
    "colab": {
     "base_uri": "https://localhost:8080/",
     "height": 206
    },
    "executionInfo": {
     "elapsed": 3825,
     "status": "ok",
     "timestamp": 1638224243352,
     "user": {
      "displayName": "Joseph catanzarite",
      "photoUrl": "https://lh3.googleusercontent.com/a-/AOh14GgmMRaw8NgoEDqzevEZ6b18iOYdEH9nWTZeaFBW=s64",
      "userId": "16649206137414945374"
     },
     "user_tz": 480
    },
    "id": "NXNgjaqaszyk",
    "outputId": "b18b1208-5d8b-4757-e865-7e407f4e732b"
   },
   "outputs": [
    {
     "data": {
      "text/html": [
       "<div>\n",
       "<style scoped>\n",
       "    .dataframe tbody tr th:only-of-type {\n",
       "        vertical-align: middle;\n",
       "    }\n",
       "\n",
       "    .dataframe tbody tr th {\n",
       "        vertical-align: top;\n",
       "    }\n",
       "\n",
       "    .dataframe thead th {\n",
       "        text-align: right;\n",
       "    }\n",
       "</style>\n",
       "<table border=\"1\" class=\"dataframe\">\n",
       "  <thead>\n",
       "    <tr style=\"text-align: right;\">\n",
       "      <th></th>\n",
       "      <th>coffee_shop_name</th>\n",
       "      <th>full_review_text</th>\n",
       "      <th>star_rating</th>\n",
       "    </tr>\n",
       "  </thead>\n",
       "  <tbody>\n",
       "    <tr>\n",
       "      <th>0</th>\n",
       "      <td>The Factory - Cafe With a Soul</td>\n",
       "      <td>11/25/2016 1 check-in Love love loved the atm...</td>\n",
       "      <td>5.0 star rating</td>\n",
       "    </tr>\n",
       "    <tr>\n",
       "      <th>1</th>\n",
       "      <td>The Factory - Cafe With a Soul</td>\n",
       "      <td>12/2/2016 Listed in Date Night: Austin, Ambia...</td>\n",
       "      <td>4.0 star rating</td>\n",
       "    </tr>\n",
       "    <tr>\n",
       "      <th>2</th>\n",
       "      <td>The Factory - Cafe With a Soul</td>\n",
       "      <td>11/30/2016 1 check-in Listed in Brunch Spots ...</td>\n",
       "      <td>4.0 star rating</td>\n",
       "    </tr>\n",
       "    <tr>\n",
       "      <th>3</th>\n",
       "      <td>The Factory - Cafe With a Soul</td>\n",
       "      <td>11/25/2016 Very cool decor! Good drinks Nice ...</td>\n",
       "      <td>2.0 star rating</td>\n",
       "    </tr>\n",
       "    <tr>\n",
       "      <th>4</th>\n",
       "      <td>The Factory - Cafe With a Soul</td>\n",
       "      <td>12/3/2016 1 check-in They are located within ...</td>\n",
       "      <td>4.0 star rating</td>\n",
       "    </tr>\n",
       "  </tbody>\n",
       "</table>\n",
       "</div>"
      ],
      "text/plain": [
       "                  coffee_shop_name  \\\n",
       "0  The Factory - Cafe With a Soul    \n",
       "1  The Factory - Cafe With a Soul    \n",
       "2  The Factory - Cafe With a Soul    \n",
       "3  The Factory - Cafe With a Soul    \n",
       "4  The Factory - Cafe With a Soul    \n",
       "\n",
       "                                    full_review_text        star_rating  \n",
       "0   11/25/2016 1 check-in Love love loved the atm...   5.0 star rating   \n",
       "1   12/2/2016 Listed in Date Night: Austin, Ambia...   4.0 star rating   \n",
       "2   11/30/2016 1 check-in Listed in Brunch Spots ...   4.0 star rating   \n",
       "3   11/25/2016 Very cool decor! Good drinks Nice ...   2.0 star rating   \n",
       "4   12/3/2016 1 check-in They are located within ...   4.0 star rating   "
      ]
     },
     "execution_count": 5,
     "metadata": {},
     "output_type": "execute_result"
    }
   ],
   "source": [
    "url = \"https://raw.githubusercontent.com/LambdaSchool/DS-Unit-4-Sprint-1-NLP/main/module1-text-data/data/yelp_coffeeshop_review_data.csv\"\n",
    "\n",
    "df = pd.read_csv(url)\n",
    "df.head()"
   ]
  },
  {
   "cell_type": "code",
   "execution_count": 8,
   "metadata": {
    "colab": {
     "base_uri": "https://localhost:8080/",
     "height": 73
    },
    "executionInfo": {
     "elapsed": 138,
     "status": "ok",
     "timestamp": 1638224246631,
     "user": {
      "displayName": "Joseph catanzarite",
      "photoUrl": "https://lh3.googleusercontent.com/a-/AOh14GgmMRaw8NgoEDqzevEZ6b18iOYdEH9nWTZeaFBW=s64",
      "userId": "16649206137414945374"
     },
     "user_tz": 480
    },
    "id": "6fDPYtqqszyl",
    "outputId": "de1fd92d-5177-4302-f0b7-179d76e7d759"
   },
   "outputs": [
    {
     "name": "stdout",
     "output_type": "stream",
     "text": [
      " 11/25/2016 1 check-in Love love loved the atmosphere! Every corner of the coffee shop had its own style, and there were swings!!! I ordered the matcha latte, and it was muy fantastico! Ordering and getting my drink were pretty streamlined. I ordered on an iPad, which included all beverage selections that ranged from coffee to wine, desired level of sweetness, and a checkout system. I got my latte within minutes!  I was hoping for a typical heart or feather on my latte, but found myself listing out all the possibilities of what the art may be. Any ideas? \n",
      "\n",
      " 12/2/2016 Listed in Date Night: Austin, Ambiance in Austin BEAUTIFUL!!!! Love the ambiance! Instagram-worthy!!!  Definitely $$$, so be prepared. This is gonna cost you a pretty penny :) Waffle dessert was just decent...nothing to rave about.  But, will probably be back just to be somewhere unique and nice. \n",
      "\n",
      " 11/30/2016 1 check-in Listed in Brunch Spots I loved the eclectic and homey plush decor and who doesn't want to swing and drink their coffee?  I would categorize this as a pricier coffee place but, to me it was worth it.  After Thanksgiving nobody wants to make brunch so we headed out in search of chicken and waffles.  There is ample parking in the private lot and  ordering is done through I-Pads.  Pick a seat and they will call your name when your items are ready.  Be patient because some of the coffee drinks take longer than others.  I had the cold brew coffee, chicken and waffles and we shared a pop+art!  The po+art was strawberry; light and fluffy on the outside and gooey sweet filling on the inside.  The chicken and waffles wasn't the standard so expect different, complex and interesting flavors from the accompanying slaw and sauce.  I thoroughly enjoyed it but, the waffle was a bit bland and maybe could have used a bit of honey to spruce it up.  The coffee here is spot on and I hear that their hot chocolate is the bomb but, I will have to wait for the weather to cool off to try that.  A great place to be cozy and chat with your friends, a date or read a book. Chicken and waffles Pop tart Coffee See all photos from Carmela S. for The Factory - Cafe With a Soul \n",
      "\n",
      " 11/25/2016 Very cool decor! Good drinks Nice seating  However...  Just about everything is overpriced. $1.50 extra for 3 ounces of Almond Milk in a cortado. No WiFi Music is a bit loud and the mix is odd.  Pleasant French oldies followed by loud techno. Several tables were dirty when we got there. Service is average.  It feels like a Los Angeles coffee shot that is out of place. \n",
      "\n"
     ]
    }
   ],
   "source": [
    "for x in range(4):\n",
    "    print(df['full_review_text'][x])\n",
    "    print(\"\")"
   ]
  },
  {
   "cell_type": "markdown",
   "metadata": {
    "id": "qDezrvTjxA1G"
   },
   "source": [
    "# 1 Practice: Clean, tokenize, remove stop words, lemmatize"
   ]
  },
  {
   "cell_type": "markdown",
   "metadata": {
    "id": "KXrDeo0Gt257"
   },
   "source": [
    "## 1.0 Save Dates for later use (optional)\n",
    "Each Review starts with a date, we could grab this date and add it as a new column on our dataframe if we want. This could be a valuable feature later on. This isn't absolutely necessary, but might be a good idea. Otherwise we might just be throwing away this useful information when we clean the text.\n",
    "\n"
   ]
  },
  {
   "cell_type": "code",
   "execution_count": 9,
   "metadata": {
    "executionInfo": {
     "elapsed": 137,
     "status": "ok",
     "timestamp": 1638224251186,
     "user": {
      "displayName": "Joseph catanzarite",
      "photoUrl": "https://lh3.googleusercontent.com/a-/AOh14GgmMRaw8NgoEDqzevEZ6b18iOYdEH9nWTZeaFBW=s64",
      "userId": "16649206137414945374"
     },
     "user_tz": 480
    },
    "id": "VelUfzqOuF2r"
   },
   "outputs": [],
   "source": [
    "# grab date from the beginning of the review text\n",
    "def get_date(text):\n",
    "  return text.split(' ')[1]\n",
    "\n",
    "df['date'] = df['full_review_text'].apply(get_date)"
   ]
  },
  {
   "cell_type": "code",
   "execution_count": 10,
   "metadata": {
    "colab": {
     "base_uri": "https://localhost:8080/",
     "height": 424
    },
    "executionInfo": {
     "elapsed": 142,
     "status": "ok",
     "timestamp": 1638224254553,
     "user": {
      "displayName": "Joseph catanzarite",
      "photoUrl": "https://lh3.googleusercontent.com/a-/AOh14GgmMRaw8NgoEDqzevEZ6b18iOYdEH9nWTZeaFBW=s64",
      "userId": "16649206137414945374"
     },
     "user_tz": 480
    },
    "id": "5AMm7yNGN83Z",
    "outputId": "d86b5cb0-800f-407f-c82e-c1fd3c7c985f"
   },
   "outputs": [
    {
     "data": {
      "text/html": [
       "<div>\n",
       "<style scoped>\n",
       "    .dataframe tbody tr th:only-of-type {\n",
       "        vertical-align: middle;\n",
       "    }\n",
       "\n",
       "    .dataframe tbody tr th {\n",
       "        vertical-align: top;\n",
       "    }\n",
       "\n",
       "    .dataframe thead th {\n",
       "        text-align: right;\n",
       "    }\n",
       "</style>\n",
       "<table border=\"1\" class=\"dataframe\">\n",
       "  <thead>\n",
       "    <tr style=\"text-align: right;\">\n",
       "      <th></th>\n",
       "      <th>coffee_shop_name</th>\n",
       "      <th>full_review_text</th>\n",
       "      <th>star_rating</th>\n",
       "      <th>date</th>\n",
       "    </tr>\n",
       "  </thead>\n",
       "  <tbody>\n",
       "    <tr>\n",
       "      <th>0</th>\n",
       "      <td>The Factory - Cafe With a Soul</td>\n",
       "      <td>11/25/2016 1 check-in Love love loved the atm...</td>\n",
       "      <td>5.0 star rating</td>\n",
       "      <td>11/25/2016</td>\n",
       "    </tr>\n",
       "    <tr>\n",
       "      <th>1</th>\n",
       "      <td>The Factory - Cafe With a Soul</td>\n",
       "      <td>12/2/2016 Listed in Date Night: Austin, Ambia...</td>\n",
       "      <td>4.0 star rating</td>\n",
       "      <td>12/2/2016</td>\n",
       "    </tr>\n",
       "    <tr>\n",
       "      <th>2</th>\n",
       "      <td>The Factory - Cafe With a Soul</td>\n",
       "      <td>11/30/2016 1 check-in Listed in Brunch Spots ...</td>\n",
       "      <td>4.0 star rating</td>\n",
       "      <td>11/30/2016</td>\n",
       "    </tr>\n",
       "    <tr>\n",
       "      <th>3</th>\n",
       "      <td>The Factory - Cafe With a Soul</td>\n",
       "      <td>11/25/2016 Very cool decor! Good drinks Nice ...</td>\n",
       "      <td>2.0 star rating</td>\n",
       "      <td>11/25/2016</td>\n",
       "    </tr>\n",
       "    <tr>\n",
       "      <th>4</th>\n",
       "      <td>The Factory - Cafe With a Soul</td>\n",
       "      <td>12/3/2016 1 check-in They are located within ...</td>\n",
       "      <td>4.0 star rating</td>\n",
       "      <td>12/3/2016</td>\n",
       "    </tr>\n",
       "    <tr>\n",
       "      <th>...</th>\n",
       "      <td>...</td>\n",
       "      <td>...</td>\n",
       "      <td>...</td>\n",
       "      <td>...</td>\n",
       "    </tr>\n",
       "    <tr>\n",
       "      <th>7611</th>\n",
       "      <td>The Steeping Room</td>\n",
       "      <td>2/19/2015 I actually step into this restauran...</td>\n",
       "      <td>4.0 star rating</td>\n",
       "      <td>2/19/2015</td>\n",
       "    </tr>\n",
       "    <tr>\n",
       "      <th>7612</th>\n",
       "      <td>The Steeping Room</td>\n",
       "      <td>1/21/2016 Ok, The Steeping Room IS awesome. H...</td>\n",
       "      <td>5.0 star rating</td>\n",
       "      <td>1/21/2016</td>\n",
       "    </tr>\n",
       "    <tr>\n",
       "      <th>7613</th>\n",
       "      <td>The Steeping Room</td>\n",
       "      <td>4/30/2015 Loved coming here for tea, and the ...</td>\n",
       "      <td>4.0 star rating</td>\n",
       "      <td>4/30/2015</td>\n",
       "    </tr>\n",
       "    <tr>\n",
       "      <th>7614</th>\n",
       "      <td>The Steeping Room</td>\n",
       "      <td>8/2/2015 The food is just average. The booths...</td>\n",
       "      <td>3.0 star rating</td>\n",
       "      <td>8/2/2015</td>\n",
       "    </tr>\n",
       "    <tr>\n",
       "      <th>7615</th>\n",
       "      <td>The Steeping Room</td>\n",
       "      <td>5/23/2015 I finally stopped in for lunch with...</td>\n",
       "      <td>4.0 star rating</td>\n",
       "      <td>5/23/2015</td>\n",
       "    </tr>\n",
       "  </tbody>\n",
       "</table>\n",
       "<p>7616 rows × 4 columns</p>\n",
       "</div>"
      ],
      "text/plain": [
       "                     coffee_shop_name  \\\n",
       "0     The Factory - Cafe With a Soul    \n",
       "1     The Factory - Cafe With a Soul    \n",
       "2     The Factory - Cafe With a Soul    \n",
       "3     The Factory - Cafe With a Soul    \n",
       "4     The Factory - Cafe With a Soul    \n",
       "...                               ...   \n",
       "7611               The Steeping Room    \n",
       "7612               The Steeping Room    \n",
       "7613               The Steeping Room    \n",
       "7614               The Steeping Room    \n",
       "7615               The Steeping Room    \n",
       "\n",
       "                                       full_review_text        star_rating  \\\n",
       "0      11/25/2016 1 check-in Love love loved the atm...   5.0 star rating    \n",
       "1      12/2/2016 Listed in Date Night: Austin, Ambia...   4.0 star rating    \n",
       "2      11/30/2016 1 check-in Listed in Brunch Spots ...   4.0 star rating    \n",
       "3      11/25/2016 Very cool decor! Good drinks Nice ...   2.0 star rating    \n",
       "4      12/3/2016 1 check-in They are located within ...   4.0 star rating    \n",
       "...                                                 ...                ...   \n",
       "7611   2/19/2015 I actually step into this restauran...   4.0 star rating    \n",
       "7612   1/21/2016 Ok, The Steeping Room IS awesome. H...   5.0 star rating    \n",
       "7613   4/30/2015 Loved coming here for tea, and the ...   4.0 star rating    \n",
       "7614   8/2/2015 The food is just average. The booths...   3.0 star rating    \n",
       "7615   5/23/2015 I finally stopped in for lunch with...   4.0 star rating    \n",
       "\n",
       "            date  \n",
       "0     11/25/2016  \n",
       "1      12/2/2016  \n",
       "2     11/30/2016  \n",
       "3     11/25/2016  \n",
       "4      12/3/2016  \n",
       "...          ...  \n",
       "7611   2/19/2015  \n",
       "7612   1/21/2016  \n",
       "7613   4/30/2015  \n",
       "7614    8/2/2015  \n",
       "7615   5/23/2015  \n",
       "\n",
       "[7616 rows x 4 columns]"
      ]
     },
     "execution_count": 10,
     "metadata": {},
     "output_type": "execute_result"
    }
   ],
   "source": [
    "df"
   ]
  },
  {
   "cell_type": "code",
   "execution_count": 29,
   "metadata": {
    "colab": {
     "base_uri": "https://localhost:8080/",
     "height": 36
    },
    "executionInfo": {
     "elapsed": 134,
     "status": "ok",
     "timestamp": 1638225626249,
     "user": {
      "displayName": "Joseph catanzarite",
      "photoUrl": "https://lh3.googleusercontent.com/a-/AOh14GgmMRaw8NgoEDqzevEZ6b18iOYdEH9nWTZeaFBW=s64",
      "userId": "16649206137414945374"
     },
     "user_tz": 480
    },
    "id": "sHFo6eDyvJsb",
    "outputId": "bab952bb-3b76-4551-ceb5-fbe0f2965ce7"
   },
   "outputs": [
    {
     "data": {
      "application/vnd.google.colaboratory.intrinsic+json": {
       "type": "string"
      },
      "text/plain": [
       "'11/25/2016'"
      ]
     },
     "execution_count": 29,
     "metadata": {},
     "output_type": "execute_result"
    }
   ],
   "source": [
    "# Another approach (we could also use regular expressions to grab the dates)\n",
    "import re\n",
    "\n",
    "def find_first_date(text):\n",
    "  #return re.findall('\\d+\\/\\d+\\/\\d+', text)[0]\n",
    "  return re.findall(r'\\d+/\\d+/\\d+', text)[0]\n",
    "\n",
    "example_text = \" 11/25/2016 1 check-in Love love loved the atmosphere! Every corner of the coffee shop had its own style, and there were swings!!! I ordered the matcha latte, and it was muy fantastico! Ordering and getting my drink were pretty streamlined. I ordered on an iPad, which included all beverage selections that ranged from coffee to wine, desired level of sweetness, and a checkout system. I got my latte within minutes!  I was hoping for a typical heart or feather on my latte, but found myself listing out all the possibilities of what the art may be. Any ideas? \"\n",
    "\n",
    "find_first_date(example_text)"
   ]
  },
  {
   "cell_type": "code",
   "execution_count": 11,
   "metadata": {
    "colab": {
     "base_uri": "https://localhost:8080/"
    },
    "executionInfo": {
     "elapsed": 141,
     "status": "ok",
     "timestamp": 1638224563731,
     "user": {
      "displayName": "Joseph catanzarite",
      "photoUrl": "https://lh3.googleusercontent.com/a-/AOh14GgmMRaw8NgoEDqzevEZ6b18iOYdEH9nWTZeaFBW=s64",
      "userId": "16649206137414945374"
     },
     "user_tz": 480
    },
    "id": "ebJFVk1aynMq",
    "outputId": "d499d798-2f24-4172-8285-394a0796b438"
   },
   "outputs": [
    {
     "name": "stdout",
     "output_type": "stream",
     "text": [
      "11/25/2016\n",
      "<class 'str'>\n"
     ]
    }
   ],
   "source": [
    "print(df['date'].iloc[0])\n",
    "print(type(df['date'].iloc[0]))"
   ]
  },
  {
   "cell_type": "code",
   "execution_count": 13,
   "metadata": {
    "executionInfo": {
     "elapsed": 131,
     "status": "ok",
     "timestamp": 1638224577824,
     "user": {
      "displayName": "Joseph catanzarite",
      "photoUrl": "https://lh3.googleusercontent.com/a-/AOh14GgmMRaw8NgoEDqzevEZ6b18iOYdEH9nWTZeaFBW=s64",
      "userId": "16649206137414945374"
     },
     "user_tz": 480
    },
    "id": "yeTdqBchuSad"
   },
   "outputs": [],
   "source": [
    "# turn date column strings into datetime objects\n",
    "df['date'] = pd.to_datetime(df['date'])"
   ]
  },
  {
   "cell_type": "code",
   "execution_count": 14,
   "metadata": {
    "colab": {
     "base_uri": "https://localhost:8080/"
    },
    "executionInfo": {
     "elapsed": 126,
     "status": "ok",
     "timestamp": 1638224622076,
     "user": {
      "displayName": "Joseph catanzarite",
      "photoUrl": "https://lh3.googleusercontent.com/a-/AOh14GgmMRaw8NgoEDqzevEZ6b18iOYdEH9nWTZeaFBW=s64",
      "userId": "16649206137414945374"
     },
     "user_tz": 480
    },
    "id": "JeRhPmpsy1_i",
    "outputId": "ea63385a-28cf-4272-c027-f6a0f8b9ea4a"
   },
   "outputs": [
    {
     "name": "stdout",
     "output_type": "stream",
     "text": [
      "<class 'pandas._libs.tslibs.timestamps.Timestamp'>\n",
      "2016-11-25 00:00:00\n"
     ]
    }
   ],
   "source": [
    "print(type(df['date'][0]))\n",
    "print(df['date'].iloc[0])"
   ]
  },
  {
   "cell_type": "code",
   "execution_count": 15,
   "metadata": {
    "colab": {
     "base_uri": "https://localhost:8080/"
    },
    "executionInfo": {
     "elapsed": 132,
     "status": "ok",
     "timestamp": 1638224681251,
     "user": {
      "displayName": "Joseph catanzarite",
      "photoUrl": "https://lh3.googleusercontent.com/a-/AOh14GgmMRaw8NgoEDqzevEZ6b18iOYdEH9nWTZeaFBW=s64",
      "userId": "16649206137414945374"
     },
     "user_tz": 480
    },
    "id": "Z09gKsu9zIWG",
    "outputId": "3d4503f2-021f-4503-8dc0-690fc04f9bd6"
   },
   "outputs": [
    {
     "data": {
      "text/plain": [
       "['__add__',\n",
       " '__array_priority__',\n",
       " '__class__',\n",
       " '__delattr__',\n",
       " '__dict__',\n",
       " '__dir__',\n",
       " '__doc__',\n",
       " '__eq__',\n",
       " '__format__',\n",
       " '__ge__',\n",
       " '__getattribute__',\n",
       " '__getstate__',\n",
       " '__gt__',\n",
       " '__hash__',\n",
       " '__init__',\n",
       " '__init_subclass__',\n",
       " '__le__',\n",
       " '__lt__',\n",
       " '__module__',\n",
       " '__ne__',\n",
       " '__new__',\n",
       " '__pyx_vtable__',\n",
       " '__radd__',\n",
       " '__reduce__',\n",
       " '__reduce_cython__',\n",
       " '__reduce_ex__',\n",
       " '__repr__',\n",
       " '__rsub__',\n",
       " '__setattr__',\n",
       " '__setstate__',\n",
       " '__setstate_cython__',\n",
       " '__sizeof__',\n",
       " '__str__',\n",
       " '__sub__',\n",
       " '__subclasshook__',\n",
       " '__weakref__',\n",
       " '_creso',\n",
       " '_date_repr',\n",
       " '_from_dt64',\n",
       " '_from_value_and_reso',\n",
       " '_repr_base',\n",
       " '_round',\n",
       " '_short_repr',\n",
       " '_time_repr',\n",
       " '_value',\n",
       " 'as_unit',\n",
       " 'asm8',\n",
       " 'astimezone',\n",
       " 'ceil',\n",
       " 'combine',\n",
       " 'ctime',\n",
       " 'date',\n",
       " 'day',\n",
       " 'day_name',\n",
       " 'day_of_week',\n",
       " 'day_of_year',\n",
       " 'dayofweek',\n",
       " 'dayofyear',\n",
       " 'days_in_month',\n",
       " 'daysinmonth',\n",
       " 'dst',\n",
       " 'floor',\n",
       " 'fold',\n",
       " 'fromisocalendar',\n",
       " 'fromisoformat',\n",
       " 'fromordinal',\n",
       " 'fromtimestamp',\n",
       " 'hour',\n",
       " 'is_leap_year',\n",
       " 'is_month_end',\n",
       " 'is_month_start',\n",
       " 'is_quarter_end',\n",
       " 'is_quarter_start',\n",
       " 'is_year_end',\n",
       " 'is_year_start',\n",
       " 'isocalendar',\n",
       " 'isoformat',\n",
       " 'isoweekday',\n",
       " 'max',\n",
       " 'microsecond',\n",
       " 'min',\n",
       " 'minute',\n",
       " 'month',\n",
       " 'month_name',\n",
       " 'nanosecond',\n",
       " 'normalize',\n",
       " 'now',\n",
       " 'quarter',\n",
       " 'replace',\n",
       " 'resolution',\n",
       " 'round',\n",
       " 'second',\n",
       " 'strftime',\n",
       " 'strptime',\n",
       " 'time',\n",
       " 'timestamp',\n",
       " 'timetuple',\n",
       " 'timetz',\n",
       " 'to_datetime64',\n",
       " 'to_julian_date',\n",
       " 'to_numpy',\n",
       " 'to_period',\n",
       " 'to_pydatetime',\n",
       " 'today',\n",
       " 'toordinal',\n",
       " 'tz',\n",
       " 'tz_convert',\n",
       " 'tz_localize',\n",
       " 'tzinfo',\n",
       " 'tzname',\n",
       " 'unit',\n",
       " 'utcfromtimestamp',\n",
       " 'utcnow',\n",
       " 'utcoffset',\n",
       " 'utctimetuple',\n",
       " 'value',\n",
       " 'week',\n",
       " 'weekday',\n",
       " 'weekofyear',\n",
       " 'year']"
      ]
     },
     "execution_count": 15,
     "metadata": {},
     "output_type": "execute_result"
    }
   ],
   "source": [
    "dir(df['date'].iloc[0])"
   ]
  },
  {
   "cell_type": "code",
   "execution_count": 16,
   "metadata": {
    "colab": {
     "base_uri": "https://localhost:8080/",
     "height": 36
    },
    "executionInfo": {
     "elapsed": 124,
     "status": "ok",
     "timestamp": 1638224835922,
     "user": {
      "displayName": "Joseph catanzarite",
      "photoUrl": "https://lh3.googleusercontent.com/a-/AOh14GgmMRaw8NgoEDqzevEZ6b18iOYdEH9nWTZeaFBW=s64",
      "userId": "16649206137414945374"
     },
     "user_tz": 480
    },
    "id": "cKV6JkwUzVnJ",
    "outputId": "550ddb1b-5c5a-4a88-90b1-ffa2c4184a01"
   },
   "outputs": [
    {
     "data": {
      "text/plain": [
       "'Friday'"
      ]
     },
     "execution_count": 16,
     "metadata": {},
     "output_type": "execute_result"
    }
   ],
   "source": [
    "df['date'].iloc[0].day_name()"
   ]
  },
  {
   "cell_type": "code",
   "execution_count": 17,
   "metadata": {
    "colab": {
     "base_uri": "https://localhost:8080/",
     "height": 206
    },
    "executionInfo": {
     "elapsed": 158,
     "status": "ok",
     "timestamp": 1632779274422,
     "user": {
      "displayName": "Joseph catanzarite",
      "photoUrl": "https://lh3.googleusercontent.com/a-/AOh14GgmMRaw8NgoEDqzevEZ6b18iOYdEH9nWTZeaFBW=s64",
      "userId": "16649206137414945374"
     },
     "user_tz": 420
    },
    "id": "cuxXAcl8uIsn",
    "outputId": "f32e37c6-6b6f-4741-9384-d503bd8e67d0"
   },
   "outputs": [
    {
     "data": {
      "text/html": [
       "<div>\n",
       "<style scoped>\n",
       "    .dataframe tbody tr th:only-of-type {\n",
       "        vertical-align: middle;\n",
       "    }\n",
       "\n",
       "    .dataframe tbody tr th {\n",
       "        vertical-align: top;\n",
       "    }\n",
       "\n",
       "    .dataframe thead th {\n",
       "        text-align: right;\n",
       "    }\n",
       "</style>\n",
       "<table border=\"1\" class=\"dataframe\">\n",
       "  <thead>\n",
       "    <tr style=\"text-align: right;\">\n",
       "      <th></th>\n",
       "      <th>coffee_shop_name</th>\n",
       "      <th>full_review_text</th>\n",
       "      <th>star_rating</th>\n",
       "      <th>date</th>\n",
       "    </tr>\n",
       "  </thead>\n",
       "  <tbody>\n",
       "    <tr>\n",
       "      <th>0</th>\n",
       "      <td>The Factory - Cafe With a Soul</td>\n",
       "      <td>11/25/2016 1 check-in Love love loved the atm...</td>\n",
       "      <td>5.0 star rating</td>\n",
       "      <td>2016-11-25</td>\n",
       "    </tr>\n",
       "    <tr>\n",
       "      <th>1</th>\n",
       "      <td>The Factory - Cafe With a Soul</td>\n",
       "      <td>12/2/2016 Listed in Date Night: Austin, Ambia...</td>\n",
       "      <td>4.0 star rating</td>\n",
       "      <td>2016-12-02</td>\n",
       "    </tr>\n",
       "    <tr>\n",
       "      <th>2</th>\n",
       "      <td>The Factory - Cafe With a Soul</td>\n",
       "      <td>11/30/2016 1 check-in Listed in Brunch Spots ...</td>\n",
       "      <td>4.0 star rating</td>\n",
       "      <td>2016-11-30</td>\n",
       "    </tr>\n",
       "    <tr>\n",
       "      <th>3</th>\n",
       "      <td>The Factory - Cafe With a Soul</td>\n",
       "      <td>11/25/2016 Very cool decor! Good drinks Nice ...</td>\n",
       "      <td>2.0 star rating</td>\n",
       "      <td>2016-11-25</td>\n",
       "    </tr>\n",
       "    <tr>\n",
       "      <th>4</th>\n",
       "      <td>The Factory - Cafe With a Soul</td>\n",
       "      <td>12/3/2016 1 check-in They are located within ...</td>\n",
       "      <td>4.0 star rating</td>\n",
       "      <td>2016-12-03</td>\n",
       "    </tr>\n",
       "  </tbody>\n",
       "</table>\n",
       "</div>"
      ],
      "text/plain": [
       "                  coffee_shop_name  \\\n",
       "0  The Factory - Cafe With a Soul    \n",
       "1  The Factory - Cafe With a Soul    \n",
       "2  The Factory - Cafe With a Soul    \n",
       "3  The Factory - Cafe With a Soul    \n",
       "4  The Factory - Cafe With a Soul    \n",
       "\n",
       "                                    full_review_text        star_rating  \\\n",
       "0   11/25/2016 1 check-in Love love loved the atm...   5.0 star rating    \n",
       "1   12/2/2016 Listed in Date Night: Austin, Ambia...   4.0 star rating    \n",
       "2   11/30/2016 1 check-in Listed in Brunch Spots ...   4.0 star rating    \n",
       "3   11/25/2016 Very cool decor! Good drinks Nice ...   2.0 star rating    \n",
       "4   12/3/2016 1 check-in They are located within ...   4.0 star rating    \n",
       "\n",
       "        date  \n",
       "0 2016-11-25  \n",
       "1 2016-12-02  \n",
       "2 2016-11-30  \n",
       "3 2016-11-25  \n",
       "4 2016-12-03  "
      ]
     },
     "execution_count": 17,
     "metadata": {},
     "output_type": "execute_result"
    }
   ],
   "source": [
    "df.head()"
   ]
  },
  {
   "cell_type": "code",
   "execution_count": 18,
   "metadata": {
    "colab": {
     "base_uri": "https://localhost:8080/"
    },
    "executionInfo": {
     "elapsed": 129,
     "status": "ok",
     "timestamp": 1638224966452,
     "user": {
      "displayName": "Joseph catanzarite",
      "photoUrl": "https://lh3.googleusercontent.com/a-/AOh14GgmMRaw8NgoEDqzevEZ6b18iOYdEH9nWTZeaFBW=s64",
      "userId": "16649206137414945374"
     },
     "user_tz": 480
    },
    "id": "5OdgeYLv0PU5",
    "outputId": "181edd2f-c6ab-4b5f-b809-df9407382a72"
   },
   "outputs": [
    {
     "data": {
      "text/plain": [
       "array([' 5.0 star rating ', ' 4.0 star rating ', ' 2.0 star rating ',\n",
       "       ' 3.0 star rating ', ' 1.0 star rating '], dtype=object)"
      ]
     },
     "execution_count": 18,
     "metadata": {},
     "output_type": "execute_result"
    }
   ],
   "source": [
    "df['star_rating'].unique()"
   ]
  },
  {
   "cell_type": "code",
   "execution_count": 20,
   "metadata": {
    "colab": {
     "base_uri": "https://localhost:8080/"
    },
    "executionInfo": {
     "elapsed": 169,
     "status": "ok",
     "timestamp": 1638224934218,
     "user": {
      "displayName": "Joseph catanzarite",
      "photoUrl": "https://lh3.googleusercontent.com/a-/AOh14GgmMRaw8NgoEDqzevEZ6b18iOYdEH9nWTZeaFBW=s64",
      "userId": "16649206137414945374"
     },
     "user_tz": 480
    },
    "id": "L7Nt13a_0FU8",
    "outputId": "55e8ca2c-bfe2-4c4c-cde5-e417f64afb48"
   },
   "outputs": [
    {
     "data": {
      "text/plain": [
       "star_rating\n",
       " 5.0 star rating     0.496324\n",
       " 4.0 star rating     0.309874\n",
       " 3.0 star rating     0.096901\n",
       " 2.0 star rating     0.060399\n",
       " 1.0 star rating     0.036502\n",
       "Name: proportion, dtype: float64"
      ]
     },
     "execution_count": 20,
     "metadata": {},
     "output_type": "execute_result"
    }
   ],
   "source": [
    "df['star_rating'].value_counts(normalize=True)"
   ]
  },
  {
   "cell_type": "code",
   "execution_count": 21,
   "metadata": {
    "colab": {
     "base_uri": "https://localhost:8080/"
    },
    "executionInfo": {
     "elapsed": 146,
     "status": "ok",
     "timestamp": 1632779296457,
     "user": {
      "displayName": "Joseph catanzarite",
      "photoUrl": "https://lh3.googleusercontent.com/a-/AOh14GgmMRaw8NgoEDqzevEZ6b18iOYdEH9nWTZeaFBW=s64",
      "userId": "16649206137414945374"
     },
     "user_tz": 420
    },
    "id": "KvuvWTk4uLhJ",
    "outputId": "79dc7fcc-745d-4c5a-ed63-ae330732a893"
   },
   "outputs": [
    {
     "data": {
      "text/plain": [
       "date\n",
       "2016-10-09    31\n",
       "2016-09-18    30\n",
       "2016-11-20    27\n",
       "2016-11-02    27\n",
       "2016-12-02    26\n",
       "              ..\n",
       "2012-03-06     1\n",
       "2011-10-29     1\n",
       "2012-03-14     1\n",
       "2012-10-03     1\n",
       "2013-01-09     1\n",
       "Name: count, Length: 1592, dtype: int64"
      ]
     },
     "execution_count": 21,
     "metadata": {},
     "output_type": "execute_result"
    }
   ],
   "source": [
    "# looks like most dates are in late 2016\n",
    "df['date'].value_counts()"
   ]
  },
  {
   "cell_type": "code",
   "execution_count": 22,
   "metadata": {
    "colab": {
     "base_uri": "https://localhost:8080/",
     "height": 265
    },
    "executionInfo": {
     "elapsed": 427,
     "status": "ok",
     "timestamp": 1632779314019,
     "user": {
      "displayName": "Joseph catanzarite",
      "photoUrl": "https://lh3.googleusercontent.com/a-/AOh14GgmMRaw8NgoEDqzevEZ6b18iOYdEH9nWTZeaFBW=s64",
      "userId": "16649206137414945374"
     },
     "user_tz": 420
    },
    "id": "qEqwsjWFucJb",
    "outputId": "cf98a66b-79f5-4099-a2ea-7e2b1a5c9d61"
   },
   "outputs": [
    {
     "data": {
      "image/png": "[encoded data removed]",
      "text/plain": [
       "<Figure size 640x480 with 1 Axes>"
      ]
     },
     "metadata": {},
     "output_type": "display_data"
    }
   ],
   "source": [
    "# histogram of review dates to see when most reviews were left\n",
    "# just a little EDA\n",
    "df['date'].hist(bins=20);"
   ]
  },
  {
   "cell_type": "markdown",
   "metadata": {
    "id": "1zbOpqPEusdt"
   },
   "source": [
    "## 1.1 Clean Review Text (with Regular Expressions `regex`)\n",
    "dataquest has a good [regex reference](https://www.dataquest.io/wp-content/uploads/2019/03/python-regular-expressions-cheat-sheet.pdf\n",
    ")\n",
    "\n",
    "It looks like the reviews have the following characteristics\n",
    "\n",
    "- Date at the beginning \n",
    "- Lots of punctuation \n",
    "- Use special characters like $ (as well as dollar amounts)\n",
    "- Upper and lower case words"
   ]
  },
  {
   "cell_type": "code",
   "execution_count": 34,
   "metadata": {
    "id": "386V8zRuszyp"
   },
   "outputs": [],
   "source": [
    "import re\n",
    "# considering using regex to remove dates\n",
    "# you can create and test regular expressions on this online regex editor: https://regex101.com/\n",
    "    \n",
    "def clean_data(text):\n",
    "    \"\"\"\n",
    "    Accepts a single text document and performs several regex substitutions in order to clean the document. \n",
    "    \n",
    "    Parameters\n",
    "    ----------\n",
    "    text: string or object \n",
    "    \n",
    "    Returns\n",
    "    -------\n",
    "    text: string or object\n",
    "    \"\"\"\n",
    "    \n",
    "    # order of operations - apply the expression from top to bottom\n",
    "    date_regex = r\"\\d+/\\d+/\\d+\"\n",
    "    punct_regex = r\"[^0-9a-zA-Z\\s]\" # any non-alphanumeric chars\n",
    "    special_chars_regex = r\"[\\$\\%\\&\\@+]\" \n",
    "    numerical_regex =  r\"\\d\"  # match one or more digits\n",
    "    \n",
    "    # Replace any strings matching the above regex patterns with blank strings\n",
    "    # (effectively removing them from the text)\n",
    "    text = re.sub(date_regex, \"\", text)\n",
    "    text = re.sub(punct_regex, \"\", text)\n",
    "    text = re.sub(special_chars_regex, \"\", text)\n",
    "    text = re.sub(numerical_regex, \"\", text)\n",
    "\n",
    "    # match one or more whitespace chars\n",
    "    whitespace_regex = r\"\\s+\" \n",
    "    # replace one or more whitespace characters with a single white space char\n",
    "    #    not a blank string!\n",
    "    text = re.sub(whitespace_regex, \" \", text) \n",
    "\n",
    "\n",
    "    # apply case normalization\n",
    "    text = text.lower().strip()\n",
    "    return text"
   ]
  },
  {
   "cell_type": "code",
   "execution_count": 35,
   "metadata": {
    "colab": {
     "base_uri": "https://localhost:8080/",
     "height": 87
    },
    "executionInfo": {
     "elapsed": 514,
     "status": "ok",
     "timestamp": 1629922516131,
     "user": {
      "displayName": "Ryan Allred",
      "photoUrl": "",
      "userId": "04031804316926795705"
     },
     "user_tz": 360
    },
    "id": "GpKDTXfRszyp",
    "outputId": "0cb6a0a1-07de-44cd-d42d-7a5b025a7a38"
   },
   "outputs": [],
   "source": [
    "df['cleaned_review'] = df['full_review_text'].apply(clean_data)"
   ]
  },
  {
   "cell_type": "code",
   "execution_count": 36,
   "metadata": {},
   "outputs": [
    {
     "data": {
      "text/plain": [
       "'checkin listed in brunch spots i loved the eclectic and homey plush decor and who doesnt want to swing and drink their coffee i would categorize this as a pricier coffee place but to me it was worth it after thanksgiving nobody wants to make brunch so we headed out in search of chicken and waffles there is ample parking in the private lot and ordering is done through ipads pick a seat and they will call your name when your items are ready be patient because some of the coffee drinks take longer than others i had the cold brew coffee chicken and waffles and we shared a popart the poart was strawberry light and fluffy on the outside and gooey sweet filling on the inside the chicken and waffles wasnt the standard so expect different complex and interesting flavors from the accompanying slaw and sauce i thoroughly enjoyed it but the waffle was a bit bland and maybe could have used a bit of honey to spruce it up the coffee here is spot on and i hear that their hot chocolate is the bomb but i will have to wait for the weather to cool off to try that a great place to be cozy and chat with your friends a date or read a book chicken and waffles pop tart coffee see all photos from carmela s for the factory cafe with a soul'"
      ]
     },
     "execution_count": 36,
     "metadata": {},
     "output_type": "execute_result"
    }
   ],
   "source": [
    "df['cleaned_review'][2]"
   ]
  },
  {
   "cell_type": "markdown",
   "metadata": {
    "id": "jYZSZec_szyr"
   },
   "source": [
    "## 1.2. Tokenize the cleaned up reviews"
   ]
  },
  {
   "cell_type": "code",
   "execution_count": 37,
   "metadata": {
    "colab": {
     "base_uri": "https://localhost:8080/",
     "height": 205
    },
    "executionInfo": {
     "elapsed": 6,
     "status": "ok",
     "timestamp": 1629922516131,
     "user": {
      "displayName": "Ryan Allred",
      "photoUrl": "",
      "userId": "04031804316926795705"
     },
     "user_tz": 360
    },
    "id": "KtzqhppBxUke",
    "outputId": "76bd5d29-500a-446f-fc96-bd34842367f0"
   },
   "outputs": [
    {
     "data": {
      "text/html": [
       "<div>\n",
       "<style scoped>\n",
       "    .dataframe tbody tr th:only-of-type {\n",
       "        vertical-align: middle;\n",
       "    }\n",
       "\n",
       "    .dataframe tbody tr th {\n",
       "        vertical-align: top;\n",
       "    }\n",
       "\n",
       "    .dataframe thead th {\n",
       "        text-align: right;\n",
       "    }\n",
       "</style>\n",
       "<table border=\"1\" class=\"dataframe\">\n",
       "  <thead>\n",
       "    <tr style=\"text-align: right;\">\n",
       "      <th></th>\n",
       "      <th>coffee_shop_name</th>\n",
       "      <th>full_review_text</th>\n",
       "      <th>star_rating</th>\n",
       "      <th>date</th>\n",
       "      <th>cleaned_review</th>\n",
       "      <th>tokens</th>\n",
       "    </tr>\n",
       "  </thead>\n",
       "  <tbody>\n",
       "    <tr>\n",
       "      <th>0</th>\n",
       "      <td>The Factory - Cafe With a Soul</td>\n",
       "      <td>11/25/2016 1 check-in Love love loved the atm...</td>\n",
       "      <td>5.0 star rating</td>\n",
       "      <td>2016-11-25</td>\n",
       "      <td>checkin love love loved the atmosphere every c...</td>\n",
       "      <td>[checkin, love, love, loved, the, atmosphere, ...</td>\n",
       "    </tr>\n",
       "    <tr>\n",
       "      <th>1</th>\n",
       "      <td>The Factory - Cafe With a Soul</td>\n",
       "      <td>12/2/2016 Listed in Date Night: Austin, Ambia...</td>\n",
       "      <td>4.0 star rating</td>\n",
       "      <td>2016-12-02</td>\n",
       "      <td>listed in date night austin ambiance in austin...</td>\n",
       "      <td>[listed, in, date, night, austin, ambiance, in...</td>\n",
       "    </tr>\n",
       "    <tr>\n",
       "      <th>2</th>\n",
       "      <td>The Factory - Cafe With a Soul</td>\n",
       "      <td>11/30/2016 1 check-in Listed in Brunch Spots ...</td>\n",
       "      <td>4.0 star rating</td>\n",
       "      <td>2016-11-30</td>\n",
       "      <td>checkin listed in brunch spots i loved the ecl...</td>\n",
       "      <td>[checkin, listed, in, brunch, spots, i, loved,...</td>\n",
       "    </tr>\n",
       "    <tr>\n",
       "      <th>3</th>\n",
       "      <td>The Factory - Cafe With a Soul</td>\n",
       "      <td>11/25/2016 Very cool decor! Good drinks Nice ...</td>\n",
       "      <td>2.0 star rating</td>\n",
       "      <td>2016-11-25</td>\n",
       "      <td>very cool decor good drinks nice seating howev...</td>\n",
       "      <td>[very, cool, decor, good, drinks, nice, seatin...</td>\n",
       "    </tr>\n",
       "    <tr>\n",
       "      <th>4</th>\n",
       "      <td>The Factory - Cafe With a Soul</td>\n",
       "      <td>12/3/2016 1 check-in They are located within ...</td>\n",
       "      <td>4.0 star rating</td>\n",
       "      <td>2016-12-03</td>\n",
       "      <td>checkin they are located within the northcross...</td>\n",
       "      <td>[checkin, they, are, located, within, the, nor...</td>\n",
       "    </tr>\n",
       "  </tbody>\n",
       "</table>\n",
       "</div>"
      ],
      "text/plain": [
       "                  coffee_shop_name  \\\n",
       "0  The Factory - Cafe With a Soul    \n",
       "1  The Factory - Cafe With a Soul    \n",
       "2  The Factory - Cafe With a Soul    \n",
       "3  The Factory - Cafe With a Soul    \n",
       "4  The Factory - Cafe With a Soul    \n",
       "\n",
       "                                    full_review_text        star_rating  \\\n",
       "0   11/25/2016 1 check-in Love love loved the atm...   5.0 star rating    \n",
       "1   12/2/2016 Listed in Date Night: Austin, Ambia...   4.0 star rating    \n",
       "2   11/30/2016 1 check-in Listed in Brunch Spots ...   4.0 star rating    \n",
       "3   11/25/2016 Very cool decor! Good drinks Nice ...   2.0 star rating    \n",
       "4   12/3/2016 1 check-in They are located within ...   4.0 star rating    \n",
       "\n",
       "        date                                     cleaned_review  \\\n",
       "0 2016-11-25  checkin love love loved the atmosphere every c...   \n",
       "1 2016-12-02  listed in date night austin ambiance in austin...   \n",
       "2 2016-11-30  checkin listed in brunch spots i loved the ecl...   \n",
       "3 2016-11-25  very cool decor good drinks nice seating howev...   \n",
       "4 2016-12-03  checkin they are located within the northcross...   \n",
       "\n",
       "                                              tokens  \n",
       "0  [checkin, love, love, loved, the, atmosphere, ...  \n",
       "1  [listed, in, date, night, austin, ambiance, in...  \n",
       "2  [checkin, listed, in, brunch, spots, i, loved,...  \n",
       "3  [very, cool, decor, good, drinks, nice, seatin...  \n",
       "4  [checkin, they, are, located, within, the, nor...  "
      ]
     },
     "execution_count": 37,
     "metadata": {},
     "output_type": "execute_result"
    }
   ],
   "source": [
    "# with a for loop\n",
    "tokens = []\n",
    "for review in df['cleaned_review']:\n",
    "  tokens.append(review.split(' '))\n",
    "\n",
    "df['tokens'] = tokens\n",
    "\n",
    "df.head()"
   ]
  },
  {
   "cell_type": "code",
   "execution_count": 38,
   "metadata": {
    "colab": {
     "base_uri": "https://localhost:8080/"
    },
    "executionInfo": {
     "elapsed": 215,
     "status": "ok",
     "timestamp": 1632779705066,
     "user": {
      "displayName": "Joseph catanzarite",
      "photoUrl": "https://lh3.googleusercontent.com/a-/AOh14GgmMRaw8NgoEDqzevEZ6b18iOYdEH9nWTZeaFBW=s64",
      "userId": "16649206137414945374"
     },
     "user_tz": 420
    },
    "id": "YwpERv5xQQMS",
    "outputId": "2966d3d8-1356-418f-dd5e-e8d6c0e5da70"
   },
   "outputs": [
    {
     "name": "stdout",
     "output_type": "stream",
     "text": [
      "<class 'pandas.core.frame.DataFrame'>\n",
      "RangeIndex: 7616 entries, 0 to 7615\n",
      "Data columns (total 6 columns):\n",
      " #   Column            Non-Null Count  Dtype         \n",
      "---  ------            --------------  -----         \n",
      " 0   coffee_shop_name  7616 non-null   object        \n",
      " 1   full_review_text  7616 non-null   object        \n",
      " 2   star_rating       7616 non-null   object        \n",
      " 3   date              7616 non-null   datetime64[ns]\n",
      " 4   cleaned_review    7616 non-null   object        \n",
      " 5   tokens            7616 non-null   object        \n",
      "dtypes: datetime64[ns](1), object(5)\n",
      "memory usage: 357.1+ KB\n"
     ]
    }
   ],
   "source": [
    "df.info()"
   ]
  },
  {
   "cell_type": "code",
   "execution_count": 44,
   "metadata": {
    "colab": {
     "base_uri": "https://localhost:8080/",
     "height": 205
    },
    "executionInfo": {
     "elapsed": 161,
     "status": "ok",
     "timestamp": 1629922516287,
     "user": {
      "displayName": "Ryan Allred",
      "photoUrl": "",
      "userId": "04031804316926795705"
     },
     "user_tz": 360
    },
    "id": "7BIHIfFyxycq",
    "outputId": "c87caa67-5a2e-4b07-d342-fab65c03e59b"
   },
   "outputs": [
    {
     "data": {
      "text/html": [
       "<div>\n",
       "<style scoped>\n",
       "    .dataframe tbody tr th:only-of-type {\n",
       "        vertical-align: middle;\n",
       "    }\n",
       "\n",
       "    .dataframe tbody tr th {\n",
       "        vertical-align: top;\n",
       "    }\n",
       "\n",
       "    .dataframe thead th {\n",
       "        text-align: right;\n",
       "    }\n",
       "</style>\n",
       "<table border=\"1\" class=\"dataframe\">\n",
       "  <thead>\n",
       "    <tr style=\"text-align: right;\">\n",
       "      <th></th>\n",
       "      <th>coffee_shop_name</th>\n",
       "      <th>full_review_text</th>\n",
       "      <th>star_rating</th>\n",
       "      <th>date</th>\n",
       "      <th>cleaned_review</th>\n",
       "      <th>tokens</th>\n",
       "    </tr>\n",
       "  </thead>\n",
       "  <tbody>\n",
       "    <tr>\n",
       "      <th>0</th>\n",
       "      <td>The Factory - Cafe With a Soul</td>\n",
       "      <td>11/25/2016 1 check-in Love love loved the atm...</td>\n",
       "      <td>5.0 star rating</td>\n",
       "      <td>2016-11-25</td>\n",
       "      <td>checkin love love loved the atmosphere every c...</td>\n",
       "      <td>[checkin, love, love, loved, the, atmosphere, ...</td>\n",
       "    </tr>\n",
       "    <tr>\n",
       "      <th>1</th>\n",
       "      <td>The Factory - Cafe With a Soul</td>\n",
       "      <td>12/2/2016 Listed in Date Night: Austin, Ambia...</td>\n",
       "      <td>4.0 star rating</td>\n",
       "      <td>2016-12-02</td>\n",
       "      <td>listed in date night austin ambiance in austin...</td>\n",
       "      <td>[listed, in, date, night, austin, ambiance, in...</td>\n",
       "    </tr>\n",
       "    <tr>\n",
       "      <th>2</th>\n",
       "      <td>The Factory - Cafe With a Soul</td>\n",
       "      <td>11/30/2016 1 check-in Listed in Brunch Spots ...</td>\n",
       "      <td>4.0 star rating</td>\n",
       "      <td>2016-11-30</td>\n",
       "      <td>checkin listed in brunch spots i loved the ecl...</td>\n",
       "      <td>[checkin, listed, in, brunch, spots, i, loved,...</td>\n",
       "    </tr>\n",
       "    <tr>\n",
       "      <th>3</th>\n",
       "      <td>The Factory - Cafe With a Soul</td>\n",
       "      <td>11/25/2016 Very cool decor! Good drinks Nice ...</td>\n",
       "      <td>2.0 star rating</td>\n",
       "      <td>2016-11-25</td>\n",
       "      <td>very cool decor good drinks nice seating howev...</td>\n",
       "      <td>[very, cool, decor, good, drinks, nice, seatin...</td>\n",
       "    </tr>\n",
       "    <tr>\n",
       "      <th>4</th>\n",
       "      <td>The Factory - Cafe With a Soul</td>\n",
       "      <td>12/3/2016 1 check-in They are located within ...</td>\n",
       "      <td>4.0 star rating</td>\n",
       "      <td>2016-12-03</td>\n",
       "      <td>checkin they are located within the northcross...</td>\n",
       "      <td>[checkin, they, are, located, within, the, nor...</td>\n",
       "    </tr>\n",
       "  </tbody>\n",
       "</table>\n",
       "</div>"
      ],
      "text/plain": [
       "                  coffee_shop_name  \\\n",
       "0  The Factory - Cafe With a Soul    \n",
       "1  The Factory - Cafe With a Soul    \n",
       "2  The Factory - Cafe With a Soul    \n",
       "3  The Factory - Cafe With a Soul    \n",
       "4  The Factory - Cafe With a Soul    \n",
       "\n",
       "                                    full_review_text        star_rating  \\\n",
       "0   11/25/2016 1 check-in Love love loved the atm...   5.0 star rating    \n",
       "1   12/2/2016 Listed in Date Night: Austin, Ambia...   4.0 star rating    \n",
       "2   11/30/2016 1 check-in Listed in Brunch Spots ...   4.0 star rating    \n",
       "3   11/25/2016 Very cool decor! Good drinks Nice ...   2.0 star rating    \n",
       "4   12/3/2016 1 check-in They are located within ...   4.0 star rating    \n",
       "\n",
       "        date                                     cleaned_review  \\\n",
       "0 2016-11-25  checkin love love loved the atmosphere every c...   \n",
       "1 2016-12-02  listed in date night austin ambiance in austin...   \n",
       "2 2016-11-30  checkin listed in brunch spots i loved the ecl...   \n",
       "3 2016-11-25  very cool decor good drinks nice seating howev...   \n",
       "4 2016-12-03  checkin they are located within the northcross...   \n",
       "\n",
       "                                              tokens  \n",
       "0  [checkin, love, love, loved, the, atmosphere, ...  \n",
       "1  [listed, in, date, night, austin, ambiance, in...  \n",
       "2  [checkin, listed, in, brunch, spots, i, loved,...  \n",
       "3  [very, cool, decor, good, drinks, nice, seatin...  \n",
       "4  [checkin, they, are, located, within, the, nor...  "
      ]
     },
     "execution_count": 44,
     "metadata": {},
     "output_type": "execute_result"
    }
   ],
   "source": [
    "# with a list comprehension\n",
    "df['tokens'] = [review.split() for review in df['cleaned_review']]\n",
    "df.head()"
   ]
  },
  {
   "cell_type": "code",
   "execution_count": 45,
   "metadata": {},
   "outputs": [
    {
     "data": {
      "text/plain": [
       "'checkin'"
      ]
     },
     "execution_count": 45,
     "metadata": {},
     "output_type": "execute_result"
    }
   ],
   "source": [
    "df['tokens'][0][0]"
   ]
  },
  {
   "cell_type": "markdown",
   "metadata": {
    "id": "ct0RJaQQ2FoX"
   },
   "source": [
    "### 1.3 Visualize the most common tokens\n",
    "Below is the `count()` function that we used in the lecture."
   ]
  },
  {
   "cell_type": "code",
   "execution_count": 68,
   "metadata": {
    "id": "ypyH-_x1GErX"
   },
   "outputs": [],
   "source": [
    "from collections import Counter\n",
    "\n",
    "def count(token_lists):\n",
    "    \"\"\"\n",
    "    Calculates some basic statistics about tokens in our corpus (i.e. corpus means collections text data)\n",
    "    \"\"\"\n",
    "    # stores the count of each token\n",
    "    word_counts = Counter()\n",
    "    \n",
    "    # stores the number of docs that each token appears in \n",
    "    appears_in_docs = Counter()\n",
    "\n",
    "    total_docs = len(token_lists)\n",
    "\n",
    "    for token_list in token_lists:\n",
    "        # stores count of every appearance of a token \n",
    "        word_counts.update(token_list)\n",
    "        \n",
    "        # use set() in order to not count duplicates, thereby count the num of docs that each token appears in\n",
    "        appears_in_docs.update(set(token_list))\n",
    "\n",
    "    # build word count dataframe\n",
    "    word_count_dict = zip(word_counts.keys(), word_counts.values())\n",
    "    wc = pd.DataFrame(word_count_dict, columns = ['word', 'count'])\n",
    "\n",
    "    # rank the the word counts\n",
    "    wc['rank'] = wc['count'].rank(method='first', ascending=False)\n",
    "    total = wc['count'].sum()\n",
    "\n",
    "    # calculate the percent total of each token\n",
    "    wc['fraction_of_total'] = wc['count'].apply(lambda token_count: token_count / total)\n",
    "\n",
    "    # calculate the cumulative percent total of word counts \n",
    "    wc = wc.sort_values(by='rank')\n",
    "    wc['cumulative_fraction_of_total'] = wc['fraction_of_total'].cumsum()\n",
    "\n",
    "    # create dataframe for document stats\n",
    "    t2 = zip(appears_in_docs.keys(), appears_in_docs.values())\n",
    "    ac = pd.DataFrame(t2, columns=['word', 'appears_in_docs'])\n",
    "    \n",
    "    # merge word count stats with doc stats\n",
    "    wc = ac.merge(wc, on='word')\n",
    "\n",
    "    wc['appears_in_fraction_of_docs'] = wc['appears_in_docs'].apply(lambda x: x / total_docs)\n",
    "\n",
    "    return wc.sort_values(by='rank')"
   ]
  },
  {
   "cell_type": "markdown",
   "metadata": {
    "id": "cBoda7E4S5K_"
   },
   "source": [
    "#### Summary of the descriptive token statistics \n",
    "\n",
    "`word` The specific token that is being analyzed\n",
    "\n",
    "`appears_in_docs` Number of documents that the word/token appears in\n",
    "\n",
    "`count` The total number of appearances of that token within the corpus \n",
    "\n",
    "`rank` Ranking of tokens by count \n",
    "\n",
    "`fraction_of_total` Fraction of the total tokens that this token makes up\n",
    "\n",
    "`cumulative_fraction_of_total` Sum of fractional total of ranked tokens, down to and including this token. \n",
    "\n",
    "`appears_in_fraction_of_docs` Fraction of documents that token appears in "
   ]
  },
  {
   "cell_type": "code",
   "execution_count": 77,
   "metadata": {},
   "outputs": [],
   "source": [
    "import squarify"
   ]
  },
  {
   "cell_type": "code",
   "execution_count": 79,
   "metadata": {
    "colab": {
     "base_uri": "https://localhost:8080/",
     "height": 248
    },
    "executionInfo": {
     "elapsed": 453,
     "status": "ok",
     "timestamp": 1629922516964,
     "user": {
      "displayName": "Ryan Allred",
      "photoUrl": "",
      "userId": "04031804316926795705"
     },
     "user_tz": 360
    },
    "id": "JWIXe-TK2zhU",
    "outputId": "375832e9-41eb-431d-b48a-27b491523594"
   },
   "outputs": [
    {
     "data": {
      "image/png": "[encoded data removed]",
      "text/plain": [
       "<Figure size 640x480 with 1 Axes>"
      ]
     },
     "metadata": {},
     "output_type": "display_data"
    }
   ],
   "source": [
    "# visualize the 20 most common tokens with squarify\n",
    "# Lots of stopwords!\n",
    "\n",
    "#YOUR CODE HERE\n",
    "wc = count(df['tokens'])\n",
    "wc_top20 = wc[wc['rank'] <= 20]\n",
    "\n",
    "squarify.plot(sizes=wc_top20['fraction_of_total'], label=wc_top20['word'], alpha=.8 )\n",
    "\n",
    "plt.axis('off')\n",
    "plt.show()"
   ]
  },
  {
   "cell_type": "markdown",
   "metadata": {
    "id": "wbB72j8YyNYB"
   },
   "source": [
    "## 1.4 Clean, tokenize, remove stopwords, and lemmatize the reviews (with Spacy)\n",
    "\n",
    "We can do all of the above with Spacy, but Spacy has the added benefit of making it easy to lemmatize tokens and remove stop words as well! Let's write a tokenize function with Spacy. "
   ]
  },
  {
   "cell_type": "code",
   "execution_count": 51,
   "metadata": {
    "id": "0j3WsTt4szyr"
   },
   "outputs": [],
   "source": [
    "import spacy\n",
    "# import the large version of the pre-trained model\n",
    "# depending on your computational resources/limitations, you might need to download and load in a smaller version of the model \n",
    "# see the spaCy docs: https://spacy.io/models/en\n",
    "nlp = spacy.load(\"en_core_web_lg\")"
   ]
  },
  {
   "cell_type": "markdown",
   "metadata": {
    "id": "GiXS6ZOT02vN"
   },
   "source": [
    "## Remove stop word, punctuation and whitespace from each token"
   ]
  },
  {
   "cell_type": "code",
   "execution_count": 47,
   "metadata": {
    "id": "YXgZXLPEszyr"
   },
   "outputs": [],
   "source": [
    "# this will take longer to run than a regex method because Spacy is doing a fair amount\n",
    "# of extra stuff under the hood in creating the token attributes and everything.\n",
    "\n",
    "def spacy_tokenizer(text):\n",
    "    \"\"\"\n",
    "    Use the pre-trained model from Space to tokenize our text into lemmas \n",
    "    \n",
    "    Notes\n",
    "    -----\n",
    "    Rememeber that the pre-trained spaCy model has a lot of built in flags for what kind of token each token is\n",
    "    so we can use that functionality to create filters for stop words, white spaces, punctuation, and so on!\n",
    "    \n",
    "    See list of flags here: https://spacy.io/api/token#attributes\n",
    "    \n",
    "    Parameter\n",
    "    ---------\n",
    "    text: string\n",
    "        Full text article/document that needs to be tokenized \n",
    "    \"\"\"\n",
    "    doc = nlp(text)\n",
    "    return [token.lemma_ for token in doc if (not token.is_stop)]"
   ]
  },
  {
   "cell_type": "code",
   "execution_count": null,
   "metadata": {
    "colab": {
     "base_uri": "https://localhost:8080/",
     "height": 127
    },
    "executionInfo": {
     "elapsed": 140,
     "status": "ok",
     "timestamp": 1630359619800,
     "user": {
      "displayName": "Joseph catanzarite",
      "photoUrl": "https://lh3.googleusercontent.com/a-/AOh14GgmMRaw8NgoEDqzevEZ6b18iOYdEH9nWTZeaFBW=s64",
      "userId": "16649206137414945374"
     },
     "user_tz": 420
    },
    "id": "7fMRJMoZ_5Aq",
    "outputId": "84949d10-b6b2-4c65-9fb3-e94b92d53bae"
   },
   "outputs": [
    {
     "data": {
      "application/vnd.google.colaboratory.intrinsic+json": {
       "type": "string"
      },
      "text/plain": [
       "' 10/22/2016 1 check-in Listed in Americano This is not your average cute study spot cafe.  Location/ Atmosphere: + Easy parking at the lot + Cute and classy interior decor! + Plenty of seats available (couches, swings, high chairs, etc) + Games like chess & tic tac toe available - No sign of outlets/ charging port on the walls - No wifi available - Not a study cafe unless you have all your papers printed out and don\\'t need the internet  Service: o You order by yourself using an iPad up at the counter. + There are 3 iPads available making lines go by faster. + You can request them to text you upon your order being ready + When I told one of the baristas that the fork bin was empty, he kindly brought it over to our table along with a couple of knives! - There was no option to make drinks half sweetened/ less ice on the iPad screen :\"(  Food/ Prices: + Highly recommend the Matcha Latte (it was thick and made to perfection!) + The chicken and waffle was well seasoned! + Aesthetically super cute - I didn\\'t enjoy the Milk Tea as much (It was way too sweet for me and had a super unique taste to it.) - Snack size portions, $$ Price tag of a Meal - The sides of corn/ coleslaw came out in a tiny cup - It was ~$7 for a cup of milk tea and ~$8 for the snack sized Chicken and Waffle - We were still pretty hungry after and even considered driving over to Tarka for some real food.  I\\'d come here again to socialize (when I\\'m less busy with schoolwork) but really only for the Matcha Latte & the classy atmosphere. If you haven\\'t had lunch/ dinner, don\\'t come here to fill your tummy up :\"o Matcha latte, Chicken & Waffle, Nutella Waffle, and Hot milk tea Matcha latte, Chicken & Waffle, Nutella Waffle, and Hot milk tea '"
      ]
     },
     "execution_count": 7,
     "metadata": {},
     "output_type": "execute_result"
    }
   ],
   "source": [
    "df['full_review_text'][10]"
   ]
  },
  {
   "cell_type": "code",
   "execution_count": 52,
   "metadata": {
    "colab": {
     "base_uri": "https://localhost:8080/"
    },
    "executionInfo": {
     "elapsed": 198752,
     "status": "ok",
     "timestamp": 1629922928876,
     "user": {
      "displayName": "Ryan Allred",
      "photoUrl": "",
      "userId": "04031804316926795705"
     },
     "user_tz": 360
    },
    "id": "SAuDB46Fszys",
    "outputId": "18731d37-72f1-42f7-884c-bc46a4e98215"
   },
   "outputs": [],
   "source": [
    "# This code cell takes ~ 3 minutes on Google Colab\n",
    "# YOUR CODE HERE\n",
    "df['spacy_tokens'] = df['cleaned_review'].apply(lambda text: spacy_tokenizer(text))"
   ]
  },
  {
   "cell_type": "code",
   "execution_count": 53,
   "metadata": {
    "colab": {
     "base_uri": "https://localhost:8080/",
     "height": 292
    },
    "executionInfo": {
     "elapsed": 153,
     "status": "ok",
     "timestamp": 1629922937494,
     "user": {
      "displayName": "Ryan Allred",
      "photoUrl": "",
      "userId": "04031804316926795705"
     },
     "user_tz": 360
    },
    "id": "o6ERmwRL1_xX",
    "outputId": "48e98d29-7411-4d86-e75e-e14001b7bb65"
   },
   "outputs": [
    {
     "data": {
      "text/html": [
       "<div>\n",
       "<style scoped>\n",
       "    .dataframe tbody tr th:only-of-type {\n",
       "        vertical-align: middle;\n",
       "    }\n",
       "\n",
       "    .dataframe tbody tr th {\n",
       "        vertical-align: top;\n",
       "    }\n",
       "\n",
       "    .dataframe thead th {\n",
       "        text-align: right;\n",
       "    }\n",
       "</style>\n",
       "<table border=\"1\" class=\"dataframe\">\n",
       "  <thead>\n",
       "    <tr style=\"text-align: right;\">\n",
       "      <th></th>\n",
       "      <th>coffee_shop_name</th>\n",
       "      <th>full_review_text</th>\n",
       "      <th>star_rating</th>\n",
       "      <th>date</th>\n",
       "      <th>cleaned_review</th>\n",
       "      <th>tokens</th>\n",
       "      <th>spacy_tokens</th>\n",
       "    </tr>\n",
       "  </thead>\n",
       "  <tbody>\n",
       "    <tr>\n",
       "      <th>0</th>\n",
       "      <td>The Factory - Cafe With a Soul</td>\n",
       "      <td>11/25/2016 1 check-in Love love loved the atm...</td>\n",
       "      <td>5.0 star rating</td>\n",
       "      <td>2016-11-25</td>\n",
       "      <td>checkin love love loved the atmosphere every c...</td>\n",
       "      <td>[checkin, love, love, loved, the, atmosphere, ...</td>\n",
       "      <td>[checkin, love, love, love, atmosphere, corner...</td>\n",
       "    </tr>\n",
       "    <tr>\n",
       "      <th>1</th>\n",
       "      <td>The Factory - Cafe With a Soul</td>\n",
       "      <td>12/2/2016 Listed in Date Night: Austin, Ambia...</td>\n",
       "      <td>4.0 star rating</td>\n",
       "      <td>2016-12-02</td>\n",
       "      <td>listed in date night austin ambiance in austin...</td>\n",
       "      <td>[listed, in, date, night, austin, ambiance, in...</td>\n",
       "      <td>[list, date, night, austin, ambiance, austin, ...</td>\n",
       "    </tr>\n",
       "    <tr>\n",
       "      <th>2</th>\n",
       "      <td>The Factory - Cafe With a Soul</td>\n",
       "      <td>11/30/2016 1 check-in Listed in Brunch Spots ...</td>\n",
       "      <td>4.0 star rating</td>\n",
       "      <td>2016-11-30</td>\n",
       "      <td>checkin listed in brunch spots i loved the ecl...</td>\n",
       "      <td>[checkin, listed, in, brunch, spots, i, loved,...</td>\n",
       "      <td>[checkin, list, brunch, spot, love, eclectic, ...</td>\n",
       "    </tr>\n",
       "    <tr>\n",
       "      <th>3</th>\n",
       "      <td>The Factory - Cafe With a Soul</td>\n",
       "      <td>11/25/2016 Very cool decor! Good drinks Nice ...</td>\n",
       "      <td>2.0 star rating</td>\n",
       "      <td>2016-11-25</td>\n",
       "      <td>very cool decor good drinks nice seating howev...</td>\n",
       "      <td>[very, cool, decor, good, drinks, nice, seatin...</td>\n",
       "      <td>[cool, decor, good, drink, nice, seating, over...</td>\n",
       "    </tr>\n",
       "    <tr>\n",
       "      <th>4</th>\n",
       "      <td>The Factory - Cafe With a Soul</td>\n",
       "      <td>12/3/2016 1 check-in They are located within ...</td>\n",
       "      <td>4.0 star rating</td>\n",
       "      <td>2016-12-03</td>\n",
       "      <td>checkin they are located within the northcross...</td>\n",
       "      <td>[checkin, they, are, located, within, the, nor...</td>\n",
       "      <td>[checkin, locate, northcross, mall, shopping, ...</td>\n",
       "    </tr>\n",
       "  </tbody>\n",
       "</table>\n",
       "</div>"
      ],
      "text/plain": [
       "                  coffee_shop_name  \\\n",
       "0  The Factory - Cafe With a Soul    \n",
       "1  The Factory - Cafe With a Soul    \n",
       "2  The Factory - Cafe With a Soul    \n",
       "3  The Factory - Cafe With a Soul    \n",
       "4  The Factory - Cafe With a Soul    \n",
       "\n",
       "                                    full_review_text        star_rating  \\\n",
       "0   11/25/2016 1 check-in Love love loved the atm...   5.0 star rating    \n",
       "1   12/2/2016 Listed in Date Night: Austin, Ambia...   4.0 star rating    \n",
       "2   11/30/2016 1 check-in Listed in Brunch Spots ...   4.0 star rating    \n",
       "3   11/25/2016 Very cool decor! Good drinks Nice ...   2.0 star rating    \n",
       "4   12/3/2016 1 check-in They are located within ...   4.0 star rating    \n",
       "\n",
       "        date                                     cleaned_review  \\\n",
       "0 2016-11-25  checkin love love loved the atmosphere every c...   \n",
       "1 2016-12-02  listed in date night austin ambiance in austin...   \n",
       "2 2016-11-30  checkin listed in brunch spots i loved the ecl...   \n",
       "3 2016-11-25  very cool decor good drinks nice seating howev...   \n",
       "4 2016-12-03  checkin they are located within the northcross...   \n",
       "\n",
       "                                              tokens  \\\n",
       "0  [checkin, love, love, loved, the, atmosphere, ...   \n",
       "1  [listed, in, date, night, austin, ambiance, in...   \n",
       "2  [checkin, listed, in, brunch, spots, i, loved,...   \n",
       "3  [very, cool, decor, good, drinks, nice, seatin...   \n",
       "4  [checkin, they, are, located, within, the, nor...   \n",
       "\n",
       "                                        spacy_tokens  \n",
       "0  [checkin, love, love, love, atmosphere, corner...  \n",
       "1  [list, date, night, austin, ambiance, austin, ...  \n",
       "2  [checkin, list, brunch, spot, love, eclectic, ...  \n",
       "3  [cool, decor, good, drink, nice, seating, over...  \n",
       "4  [checkin, locate, northcross, mall, shopping, ...  "
      ]
     },
     "execution_count": 53,
     "metadata": {},
     "output_type": "execute_result"
    }
   ],
   "source": [
    "df.head()"
   ]
  },
  {
   "cell_type": "markdown",
   "metadata": {
    "id": "enAfqOhN3SNc"
   },
   "source": [
    "##1.5 Visualize the Spacy Tokens"
   ]
  },
  {
   "cell_type": "code",
   "execution_count": 80,
   "metadata": {
    "colab": {
     "base_uri": "https://localhost:8080/",
     "height": 248
    },
    "executionInfo": {
     "elapsed": 796,
     "status": "ok",
     "timestamp": 1629922940438,
     "user": {
      "displayName": "Ryan Allred",
      "photoUrl": "",
      "userId": "04031804316926795705"
     },
     "user_tz": 360
    },
    "id": "Rk-50jGh3Rxu",
    "outputId": "1778d80f-886f-4615-a9b3-1cf746398353"
   },
   "outputs": [
    {
     "data": {
      "image/png": "[encoded data removed]",
      "text/plain": [
       "<Figure size 640x480 with 1 Axes>"
      ]
     },
     "metadata": {},
     "output_type": "display_data"
    }
   ],
   "source": [
    "wc = count(df['spacy_tokens'])\n",
    "\n",
    "wc_top20 = wc[wc['rank'] <= 20]\n",
    "\n",
    "squarify.plot(sizes=wc_top20['fraction_of_total'], label=wc_top20['word'], alpha=.8 )\n",
    "plt.axis('off')\n",
    "plt.show()"
   ]
  },
  {
   "cell_type": "markdown",
   "metadata": {
    "id": "qGzScOL73rFn"
   },
   "source": [
    "# 2. Compare High and Low Coffeeshop reviews!\n",
    "\n",
    "- We'll say that a \"good\" rating is 4 or 5 stars\n",
    "- a \"bad\" rating is 3 stars or less"
   ]
  },
  {
   "cell_type": "markdown",
   "metadata": {
    "id": "bOSuAA-G37e3"
   },
   "source": [
    "## 2.1 Create a numeric version of the star rating"
   ]
  },
  {
   "cell_type": "code",
   "execution_count": null,
   "metadata": {
    "colab": {
     "base_uri": "https://localhost:8080/",
     "height": 292
    },
    "executionInfo": {
     "elapsed": 152,
     "status": "ok",
     "timestamp": 1629922946341,
     "user": {
      "displayName": "Ryan Allred",
      "photoUrl": "",
      "userId": "04031804316926795705"
     },
     "user_tz": 360
    },
    "id": "CM-bcjks4HMM",
    "outputId": "9ffe6777-d3ef-4aa0-9202-ba3d88243578"
   },
   "outputs": [
    {
     "data": {
      "text/html": [
       "<div>\n",
       "<style scoped>\n",
       "    .dataframe tbody tr th:only-of-type {\n",
       "        vertical-align: middle;\n",
       "    }\n",
       "\n",
       "    .dataframe tbody tr th {\n",
       "        vertical-align: top;\n",
       "    }\n",
       "\n",
       "    .dataframe thead th {\n",
       "        text-align: right;\n",
       "    }\n",
       "</style>\n",
       "<table border=\"1\" class=\"dataframe\">\n",
       "  <thead>\n",
       "    <tr style=\"text-align: right;\">\n",
       "      <th></th>\n",
       "      <th>coffee_shop_name</th>\n",
       "      <th>full_review_text</th>\n",
       "      <th>star_rating</th>\n",
       "      <th>date</th>\n",
       "      <th>cleaned_review</th>\n",
       "      <th>tokens</th>\n",
       "      <th>spacy_tokens</th>\n",
       "    </tr>\n",
       "  </thead>\n",
       "  <tbody>\n",
       "    <tr>\n",
       "      <th>0</th>\n",
       "      <td>The Factory - Cafe With a Soul</td>\n",
       "      <td>11/25/2016 1 check-in Love love loved the atm...</td>\n",
       "      <td>5.0 star rating</td>\n",
       "      <td>2016-11-25</td>\n",
       "      <td>checkin love love loved the atmosphere every c...</td>\n",
       "      <td>[checkin, love, love, loved, the, atmosphere, ...</td>\n",
       "      <td>[11/25/2016, 1, check, Love, love, love, atmos...</td>\n",
       "    </tr>\n",
       "    <tr>\n",
       "      <th>1</th>\n",
       "      <td>The Factory - Cafe With a Soul</td>\n",
       "      <td>12/2/2016 Listed in Date Night: Austin, Ambia...</td>\n",
       "      <td>4.0 star rating</td>\n",
       "      <td>2016-12-02</td>\n",
       "      <td>listed in date night austin ambiance in austin...</td>\n",
       "      <td>[listed, in, date, night, austin, ambiance, in...</td>\n",
       "      <td>[12/2/2016, list, Date, Night, Austin, ambianc...</td>\n",
       "    </tr>\n",
       "    <tr>\n",
       "      <th>2</th>\n",
       "      <td>The Factory - Cafe With a Soul</td>\n",
       "      <td>11/30/2016 1 check-in Listed in Brunch Spots ...</td>\n",
       "      <td>4.0 star rating</td>\n",
       "      <td>2016-11-30</td>\n",
       "      <td>checkin listed in brunch spots i loved the ecl...</td>\n",
       "      <td>[checkin, listed, in, brunch, spots, i, loved,...</td>\n",
       "      <td>[11/30/2016, 1, check, list, Brunch, Spots, lo...</td>\n",
       "    </tr>\n",
       "    <tr>\n",
       "      <th>3</th>\n",
       "      <td>The Factory - Cafe With a Soul</td>\n",
       "      <td>11/25/2016 Very cool decor! Good drinks Nice ...</td>\n",
       "      <td>2.0 star rating</td>\n",
       "      <td>2016-11-25</td>\n",
       "      <td>very cool decor good drinks nice seating howev...</td>\n",
       "      <td>[very, cool, decor, good, drinks, nice, seatin...</td>\n",
       "      <td>[11/25/2016, cool, decor, good, drink, nice, s...</td>\n",
       "    </tr>\n",
       "    <tr>\n",
       "      <th>4</th>\n",
       "      <td>The Factory - Cafe With a Soul</td>\n",
       "      <td>12/3/2016 1 check-in They are located within ...</td>\n",
       "      <td>4.0 star rating</td>\n",
       "      <td>2016-12-03</td>\n",
       "      <td>checkin they are located within the northcross...</td>\n",
       "      <td>[checkin, they, are, located, within, the, nor...</td>\n",
       "      <td>[12/3/2016, 1, check, locate, Northcross, mall...</td>\n",
       "    </tr>\n",
       "  </tbody>\n",
       "</table>\n",
       "</div>"
      ],
      "text/plain": [
       "                  coffee_shop_name  ...                                       spacy_tokens\n",
       "0  The Factory - Cafe With a Soul   ...  [11/25/2016, 1, check, Love, love, love, atmos...\n",
       "1  The Factory - Cafe With a Soul   ...  [12/2/2016, list, Date, Night, Austin, ambianc...\n",
       "2  The Factory - Cafe With a Soul   ...  [11/30/2016, 1, check, list, Brunch, Spots, lo...\n",
       "3  The Factory - Cafe With a Soul   ...  [11/25/2016, cool, decor, good, drink, nice, s...\n",
       "4  The Factory - Cafe With a Soul   ...  [12/3/2016, 1, check, locate, Northcross, mall...\n",
       "\n",
       "[5 rows x 7 columns]"
      ]
     },
     "execution_count": 26,
     "metadata": {},
     "output_type": "execute_result"
    }
   ],
   "source": [
    "df.head()"
   ]
  },
  {
   "cell_type": "code",
   "execution_count": 54,
   "metadata": {
    "colab": {
     "base_uri": "https://localhost:8080/"
    },
    "executionInfo": {
     "elapsed": 140,
     "status": "ok",
     "timestamp": 1630359818616,
     "user": {
      "displayName": "Joseph catanzarite",
      "photoUrl": "https://lh3.googleusercontent.com/a-/AOh14GgmMRaw8NgoEDqzevEZ6b18iOYdEH9nWTZeaFBW=s64",
      "userId": "16649206137414945374"
     },
     "user_tz": 420
    },
    "id": "OG3x8rdiBCNO",
    "outputId": "788cf327-d18a-4ca1-abe1-0a3652ac5d1b"
   },
   "outputs": [
    {
     "data": {
      "text/plain": [
       "array([' 5.0 star rating ', ' 4.0 star rating ', ' 2.0 star rating ',\n",
       "       ' 3.0 star rating ', ' 1.0 star rating '], dtype=object)"
      ]
     },
     "execution_count": 54,
     "metadata": {},
     "output_type": "execute_result"
    }
   ],
   "source": [
    "df['star_rating'].unique()"
   ]
  },
  {
   "cell_type": "markdown",
   "metadata": {
    "id": "OLkuO5fBBUVG"
   },
   "source": [
    "Let's write a `regex` to extract only the numerical value of the rating from this text string<br>\n",
    "Reference: [Easiest way to remember Regular Expressions](https://towardsdatascience.com/easiest-way-to-remember-regular-expressions-regex-178ba518bebd)"
   ]
  },
  {
   "cell_type": "code",
   "execution_count": 59,
   "metadata": {
    "colab": {
     "base_uri": "https://localhost:8080/",
     "height": 424
    },
    "executionInfo": {
     "elapsed": 151,
     "status": "ok",
     "timestamp": 1630360087428,
     "user": {
      "displayName": "Joseph catanzarite",
      "photoUrl": "https://lh3.googleusercontent.com/a-/AOh14GgmMRaw8NgoEDqzevEZ6b18iOYdEH9nWTZeaFBW=s64",
      "userId": "16649206137414945374"
     },
     "user_tz": 420
    },
    "id": "XWRZejBCBaPI",
    "outputId": "e85ef1cd-05f4-498d-d232-da79619ffde6"
   },
   "outputs": [],
   "source": [
    "df['stars'] = df['star_rating'].str.extract(r\"(\\d)\").astype(int) # COMPLETE THE CODE"
   ]
  },
  {
   "cell_type": "code",
   "execution_count": 60,
   "metadata": {},
   "outputs": [
    {
     "data": {
      "text/plain": [
       "0       5\n",
       "1       4\n",
       "2       4\n",
       "3       2\n",
       "4       4\n",
       "       ..\n",
       "7611    4\n",
       "7612    5\n",
       "7613    4\n",
       "7614    3\n",
       "7615    4\n",
       "Name: stars, Length: 7616, dtype: int64"
      ]
     },
     "execution_count": 60,
     "metadata": {},
     "output_type": "execute_result"
    }
   ],
   "source": [
    "df['stars']"
   ]
  },
  {
   "cell_type": "code",
   "execution_count": 61,
   "metadata": {
    "colab": {
     "base_uri": "https://localhost:8080/"
    },
    "executionInfo": {
     "elapsed": 137,
     "status": "ok",
     "timestamp": 1630360130526,
     "user": {
      "displayName": "Joseph catanzarite",
      "photoUrl": "https://lh3.googleusercontent.com/a-/AOh14GgmMRaw8NgoEDqzevEZ6b18iOYdEH9nWTZeaFBW=s64",
      "userId": "16649206137414945374"
     },
     "user_tz": 420
    },
    "id": "5oWq_lTIB4gP",
    "outputId": "e2a0a949-c05c-4373-8a74-78e7ae01015e"
   },
   "outputs": [
    {
     "data": {
      "text/plain": [
       "numpy.int64"
      ]
     },
     "execution_count": 61,
     "metadata": {},
     "output_type": "execute_result"
    }
   ],
   "source": [
    "type(df['stars'][0])"
   ]
  },
  {
   "cell_type": "code",
   "execution_count": 62,
   "metadata": {
    "colab": {
     "base_uri": "https://localhost:8080/",
     "height": 206
    },
    "executionInfo": {
     "elapsed": 141,
     "status": "ok",
     "timestamp": 1630360162663,
     "user": {
      "displayName": "Joseph catanzarite",
      "photoUrl": "https://lh3.googleusercontent.com/a-/AOh14GgmMRaw8NgoEDqzevEZ6b18iOYdEH9nWTZeaFBW=s64",
      "userId": "16649206137414945374"
     },
     "user_tz": 420
    },
    "id": "Ug2Ym8GEBScT",
    "outputId": "f9fb61cc-6360-4a45-f3d1-eead92b34fa6"
   },
   "outputs": [
    {
     "data": {
      "text/html": [
       "<div>\n",
       "<style scoped>\n",
       "    .dataframe tbody tr th:only-of-type {\n",
       "        vertical-align: middle;\n",
       "    }\n",
       "\n",
       "    .dataframe tbody tr th {\n",
       "        vertical-align: top;\n",
       "    }\n",
       "\n",
       "    .dataframe thead th {\n",
       "        text-align: right;\n",
       "    }\n",
       "</style>\n",
       "<table border=\"1\" class=\"dataframe\">\n",
       "  <thead>\n",
       "    <tr style=\"text-align: right;\">\n",
       "      <th></th>\n",
       "      <th>coffee_shop_name</th>\n",
       "      <th>full_review_text</th>\n",
       "      <th>star_rating</th>\n",
       "      <th>date</th>\n",
       "      <th>cleaned_review</th>\n",
       "      <th>tokens</th>\n",
       "      <th>spacy_tokens</th>\n",
       "      <th>stars</th>\n",
       "    </tr>\n",
       "  </thead>\n",
       "  <tbody>\n",
       "    <tr>\n",
       "      <th>0</th>\n",
       "      <td>The Factory - Cafe With a Soul</td>\n",
       "      <td>11/25/2016 1 check-in Love love loved the atm...</td>\n",
       "      <td>5.0 star rating</td>\n",
       "      <td>2016-11-25</td>\n",
       "      <td>checkin love love loved the atmosphere every c...</td>\n",
       "      <td>[checkin, love, love, loved, the, atmosphere, ...</td>\n",
       "      <td>[checkin, love, love, love, atmosphere, corner...</td>\n",
       "      <td>5</td>\n",
       "    </tr>\n",
       "    <tr>\n",
       "      <th>1</th>\n",
       "      <td>The Factory - Cafe With a Soul</td>\n",
       "      <td>12/2/2016 Listed in Date Night: Austin, Ambia...</td>\n",
       "      <td>4.0 star rating</td>\n",
       "      <td>2016-12-02</td>\n",
       "      <td>listed in date night austin ambiance in austin...</td>\n",
       "      <td>[listed, in, date, night, austin, ambiance, in...</td>\n",
       "      <td>[list, date, night, austin, ambiance, austin, ...</td>\n",
       "      <td>4</td>\n",
       "    </tr>\n",
       "    <tr>\n",
       "      <th>2</th>\n",
       "      <td>The Factory - Cafe With a Soul</td>\n",
       "      <td>11/30/2016 1 check-in Listed in Brunch Spots ...</td>\n",
       "      <td>4.0 star rating</td>\n",
       "      <td>2016-11-30</td>\n",
       "      <td>checkin listed in brunch spots i loved the ecl...</td>\n",
       "      <td>[checkin, listed, in, brunch, spots, i, loved,...</td>\n",
       "      <td>[checkin, list, brunch, spot, love, eclectic, ...</td>\n",
       "      <td>4</td>\n",
       "    </tr>\n",
       "    <tr>\n",
       "      <th>3</th>\n",
       "      <td>The Factory - Cafe With a Soul</td>\n",
       "      <td>11/25/2016 Very cool decor! Good drinks Nice ...</td>\n",
       "      <td>2.0 star rating</td>\n",
       "      <td>2016-11-25</td>\n",
       "      <td>very cool decor good drinks nice seating howev...</td>\n",
       "      <td>[very, cool, decor, good, drinks, nice, seatin...</td>\n",
       "      <td>[cool, decor, good, drink, nice, seating, over...</td>\n",
       "      <td>2</td>\n",
       "    </tr>\n",
       "    <tr>\n",
       "      <th>4</th>\n",
       "      <td>The Factory - Cafe With a Soul</td>\n",
       "      <td>12/3/2016 1 check-in They are located within ...</td>\n",
       "      <td>4.0 star rating</td>\n",
       "      <td>2016-12-03</td>\n",
       "      <td>checkin they are located within the northcross...</td>\n",
       "      <td>[checkin, they, are, located, within, the, nor...</td>\n",
       "      <td>[checkin, locate, northcross, mall, shopping, ...</td>\n",
       "      <td>4</td>\n",
       "    </tr>\n",
       "  </tbody>\n",
       "</table>\n",
       "</div>"
      ],
      "text/plain": [
       "                  coffee_shop_name  \\\n",
       "0  The Factory - Cafe With a Soul    \n",
       "1  The Factory - Cafe With a Soul    \n",
       "2  The Factory - Cafe With a Soul    \n",
       "3  The Factory - Cafe With a Soul    \n",
       "4  The Factory - Cafe With a Soul    \n",
       "\n",
       "                                    full_review_text        star_rating  \\\n",
       "0   11/25/2016 1 check-in Love love loved the atm...   5.0 star rating    \n",
       "1   12/2/2016 Listed in Date Night: Austin, Ambia...   4.0 star rating    \n",
       "2   11/30/2016 1 check-in Listed in Brunch Spots ...   4.0 star rating    \n",
       "3   11/25/2016 Very cool decor! Good drinks Nice ...   2.0 star rating    \n",
       "4   12/3/2016 1 check-in They are located within ...   4.0 star rating    \n",
       "\n",
       "        date                                     cleaned_review  \\\n",
       "0 2016-11-25  checkin love love loved the atmosphere every c...   \n",
       "1 2016-12-02  listed in date night austin ambiance in austin...   \n",
       "2 2016-11-30  checkin listed in brunch spots i loved the ecl...   \n",
       "3 2016-11-25  very cool decor good drinks nice seating howev...   \n",
       "4 2016-12-03  checkin they are located within the northcross...   \n",
       "\n",
       "                                              tokens  \\\n",
       "0  [checkin, love, love, loved, the, atmosphere, ...   \n",
       "1  [listed, in, date, night, austin, ambiance, in...   \n",
       "2  [checkin, listed, in, brunch, spots, i, loved,...   \n",
       "3  [very, cool, decor, good, drinks, nice, seatin...   \n",
       "4  [checkin, they, are, located, within, the, nor...   \n",
       "\n",
       "                                        spacy_tokens  stars  \n",
       "0  [checkin, love, love, love, atmosphere, corner...      5  \n",
       "1  [list, date, night, austin, ambiance, austin, ...      4  \n",
       "2  [checkin, list, brunch, spot, love, eclectic, ...      4  \n",
       "3  [cool, decor, good, drink, nice, seating, over...      2  \n",
       "4  [checkin, locate, northcross, mall, shopping, ...      4  "
      ]
     },
     "execution_count": 62,
     "metadata": {},
     "output_type": "execute_result"
    }
   ],
   "source": [
    "df.head()"
   ]
  },
  {
   "cell_type": "code",
   "execution_count": 65,
   "metadata": {},
   "outputs": [
    {
     "data": {
      "text/plain": [
       "'5.0'"
      ]
     },
     "execution_count": 65,
     "metadata": {},
     "output_type": "execute_result"
    }
   ],
   "source": [
    "df['star_rating'][0].split()[0]"
   ]
  },
  {
   "cell_type": "code",
   "execution_count": 66,
   "metadata": {
    "colab": {
     "base_uri": "https://localhost:8080/",
     "height": 292
    },
    "executionInfo": {
     "elapsed": 179,
     "status": "ok",
     "timestamp": 1629922955665,
     "user": {
      "displayName": "Ryan Allred",
      "photoUrl": "",
      "userId": "04031804316926795705"
     },
     "user_tz": 360
    },
    "id": "55Qc1RPa4JD-",
    "outputId": "fe02bca8-0bfb-4a24-db2a-dc35131fd499"
   },
   "outputs": [
    {
     "data": {
      "text/html": [
       "<div>\n",
       "<style scoped>\n",
       "    .dataframe tbody tr th:only-of-type {\n",
       "        vertical-align: middle;\n",
       "    }\n",
       "\n",
       "    .dataframe tbody tr th {\n",
       "        vertical-align: top;\n",
       "    }\n",
       "\n",
       "    .dataframe thead th {\n",
       "        text-align: right;\n",
       "    }\n",
       "</style>\n",
       "<table border=\"1\" class=\"dataframe\">\n",
       "  <thead>\n",
       "    <tr style=\"text-align: right;\">\n",
       "      <th></th>\n",
       "      <th>coffee_shop_name</th>\n",
       "      <th>full_review_text</th>\n",
       "      <th>star_rating</th>\n",
       "      <th>date</th>\n",
       "      <th>cleaned_review</th>\n",
       "      <th>tokens</th>\n",
       "      <th>spacy_tokens</th>\n",
       "      <th>stars</th>\n",
       "    </tr>\n",
       "  </thead>\n",
       "  <tbody>\n",
       "    <tr>\n",
       "      <th>0</th>\n",
       "      <td>The Factory - Cafe With a Soul</td>\n",
       "      <td>11/25/2016 1 check-in Love love loved the atm...</td>\n",
       "      <td>5.0</td>\n",
       "      <td>2016-11-25</td>\n",
       "      <td>checkin love love loved the atmosphere every c...</td>\n",
       "      <td>[checkin, love, love, loved, the, atmosphere, ...</td>\n",
       "      <td>[checkin, love, love, love, atmosphere, corner...</td>\n",
       "      <td>5</td>\n",
       "    </tr>\n",
       "    <tr>\n",
       "      <th>1</th>\n",
       "      <td>The Factory - Cafe With a Soul</td>\n",
       "      <td>12/2/2016 Listed in Date Night: Austin, Ambia...</td>\n",
       "      <td>4.0</td>\n",
       "      <td>2016-12-02</td>\n",
       "      <td>listed in date night austin ambiance in austin...</td>\n",
       "      <td>[listed, in, date, night, austin, ambiance, in...</td>\n",
       "      <td>[list, date, night, austin, ambiance, austin, ...</td>\n",
       "      <td>4</td>\n",
       "    </tr>\n",
       "    <tr>\n",
       "      <th>2</th>\n",
       "      <td>The Factory - Cafe With a Soul</td>\n",
       "      <td>11/30/2016 1 check-in Listed in Brunch Spots ...</td>\n",
       "      <td>4.0</td>\n",
       "      <td>2016-11-30</td>\n",
       "      <td>checkin listed in brunch spots i loved the ecl...</td>\n",
       "      <td>[checkin, listed, in, brunch, spots, i, loved,...</td>\n",
       "      <td>[checkin, list, brunch, spot, love, eclectic, ...</td>\n",
       "      <td>4</td>\n",
       "    </tr>\n",
       "    <tr>\n",
       "      <th>3</th>\n",
       "      <td>The Factory - Cafe With a Soul</td>\n",
       "      <td>11/25/2016 Very cool decor! Good drinks Nice ...</td>\n",
       "      <td>2.0</td>\n",
       "      <td>2016-11-25</td>\n",
       "      <td>very cool decor good drinks nice seating howev...</td>\n",
       "      <td>[very, cool, decor, good, drinks, nice, seatin...</td>\n",
       "      <td>[cool, decor, good, drink, nice, seating, over...</td>\n",
       "      <td>2</td>\n",
       "    </tr>\n",
       "    <tr>\n",
       "      <th>4</th>\n",
       "      <td>The Factory - Cafe With a Soul</td>\n",
       "      <td>12/3/2016 1 check-in They are located within ...</td>\n",
       "      <td>4.0</td>\n",
       "      <td>2016-12-03</td>\n",
       "      <td>checkin they are located within the northcross...</td>\n",
       "      <td>[checkin, they, are, located, within, the, nor...</td>\n",
       "      <td>[checkin, locate, northcross, mall, shopping, ...</td>\n",
       "      <td>4</td>\n",
       "    </tr>\n",
       "  </tbody>\n",
       "</table>\n",
       "</div>"
      ],
      "text/plain": [
       "                  coffee_shop_name  \\\n",
       "0  The Factory - Cafe With a Soul    \n",
       "1  The Factory - Cafe With a Soul    \n",
       "2  The Factory - Cafe With a Soul    \n",
       "3  The Factory - Cafe With a Soul    \n",
       "4  The Factory - Cafe With a Soul    \n",
       "\n",
       "                                    full_review_text  star_rating       date  \\\n",
       "0   11/25/2016 1 check-in Love love loved the atm...          5.0 2016-11-25   \n",
       "1   12/2/2016 Listed in Date Night: Austin, Ambia...          4.0 2016-12-02   \n",
       "2   11/30/2016 1 check-in Listed in Brunch Spots ...          4.0 2016-11-30   \n",
       "3   11/25/2016 Very cool decor! Good drinks Nice ...          2.0 2016-11-25   \n",
       "4   12/3/2016 1 check-in They are located within ...          4.0 2016-12-03   \n",
       "\n",
       "                                      cleaned_review  \\\n",
       "0  checkin love love loved the atmosphere every c...   \n",
       "1  listed in date night austin ambiance in austin...   \n",
       "2  checkin listed in brunch spots i loved the ecl...   \n",
       "3  very cool decor good drinks nice seating howev...   \n",
       "4  checkin they are located within the northcross...   \n",
       "\n",
       "                                              tokens  \\\n",
       "0  [checkin, love, love, loved, the, atmosphere, ...   \n",
       "1  [listed, in, date, night, austin, ambiance, in...   \n",
       "2  [checkin, listed, in, brunch, spots, i, loved,...   \n",
       "3  [very, cool, decor, good, drinks, nice, seatin...   \n",
       "4  [checkin, they, are, located, within, the, nor...   \n",
       "\n",
       "                                        spacy_tokens  stars  \n",
       "0  [checkin, love, love, love, atmosphere, corner...      5  \n",
       "1  [list, date, night, austin, ambiance, austin, ...      4  \n",
       "2  [checkin, list, brunch, spot, love, eclectic, ...      4  \n",
       "3  [cool, decor, good, drink, nice, seating, over...      2  \n",
       "4  [checkin, locate, northcross, mall, shopping, ...      4  "
      ]
     },
     "execution_count": 66,
     "metadata": {},
     "output_type": "execute_result"
    }
   ],
   "source": [
    "# COMPLETE CODE HERE\n",
    "def star_rating_numeric(rating_string):\n",
    "  return float(rating_string.split()[0])\n",
    "\n",
    "df['star_rating'] = df['star_rating'].apply(lambda rating: star_rating_numeric(rating))\n",
    "\n",
    "df.head()"
   ]
  },
  {
   "cell_type": "code",
   "execution_count": 70,
   "metadata": {
    "id": "sY-vLc_WwUNA"
   },
   "outputs": [
    {
     "data": {
      "image/png": "[encoded data removed]",
      "text/plain": [
       "<Figure size 640x480 with 1 Axes>"
      ]
     },
     "metadata": {},
     "output_type": "display_data"
    }
   ],
   "source": [
    "# most coffee shops get 4 or 5 star ratings.\n",
    "bin_edges = [0.5, 1.5, 2.5, 3.5, 4.5, 5.5]\n",
    "df['stars'].hist(bins=bin_edges);"
   ]
  },
  {
   "cell_type": "markdown",
   "metadata": {
    "id": "eCrNUerr4kKG"
   },
   "source": [
    "##2.2 Split into two dataframes based on star rating\n",
    "good: ratings 4 and 5 <br>\n",
    "bad: ratings <4"
   ]
  },
  {
   "cell_type": "code",
   "execution_count": 71,
   "metadata": {
    "id": "d-ErzFog4pgM"
   },
   "outputs": [],
   "source": [
    "# Complete code here\n",
    "good = df[df['stars'] >= 4]\n",
    "bad = df[df['stars'] < 4]"
   ]
  },
  {
   "cell_type": "code",
   "execution_count": 72,
   "metadata": {
    "id": "y9ahpHof4yiV"
   },
   "outputs": [],
   "source": [
    "# make sure that all reviews are accounted for in one of the two groups\n",
    "assert df.shape[0] == good.shape[0] + bad.shape[0]"
   ]
  },
  {
   "cell_type": "markdown",
   "metadata": {
    "id": "6HzFcfdkNZv3"
   },
   "source": [
    "#### Summary of the descriptive token statistics \n",
    "\n",
    "`word` The specific token that is being analyzed\n",
    "\n",
    "`appears_in_docs` Number of documents that the word/token appears in\n",
    "\n",
    "`count` The total number of appearances of that token within the corpus \n",
    "\n",
    "`rank` Ranking of tokens by count \n",
    "\n",
    "`fraction_of_total` Fraction of the total tokens that this token makes up\n",
    "\n",
    "`cumulative_fraction_of_total` Sum of fractional total of ranked tokens, down to and including this token. \n",
    "\n",
    "`appears_in_fraction_of_docs` Fraction of documents that token appears in "
   ]
  },
  {
   "cell_type": "code",
   "execution_count": 73,
   "metadata": {
    "colab": {
     "base_uri": "https://localhost:8080/",
     "height": 362
    },
    "executionInfo": {
     "elapsed": 345,
     "status": "ok",
     "timestamp": 1629922992199,
     "user": {
      "displayName": "Ryan Allred",
      "photoUrl": "",
      "userId": "04031804316926795705"
     },
     "user_tz": 360
    },
    "id": "V4aKjuS8szyw",
    "outputId": "a1b69fb1-1c9f-44a4-d36f-907801a732b1"
   },
   "outputs": [
    {
     "data": {
      "text/html": [
       "<div>\n",
       "<style scoped>\n",
       "    .dataframe tbody tr th:only-of-type {\n",
       "        vertical-align: middle;\n",
       "    }\n",
       "\n",
       "    .dataframe tbody tr th {\n",
       "        vertical-align: top;\n",
       "    }\n",
       "\n",
       "    .dataframe thead th {\n",
       "        text-align: right;\n",
       "    }\n",
       "</style>\n",
       "<table border=\"1\" class=\"dataframe\">\n",
       "  <thead>\n",
       "    <tr style=\"text-align: right;\">\n",
       "      <th></th>\n",
       "      <th>word</th>\n",
       "      <th>appears_in_docs</th>\n",
       "      <th>count</th>\n",
       "      <th>rank</th>\n",
       "      <th>fraction_of_total</th>\n",
       "      <th>cumulative_fraction_of_total</th>\n",
       "      <th>appears_in_fraction_of_docs</th>\n",
       "    </tr>\n",
       "  </thead>\n",
       "  <tbody>\n",
       "    <tr>\n",
       "      <th>24</th>\n",
       "      <td>coffee</td>\n",
       "      <td>3976</td>\n",
       "      <td>8422</td>\n",
       "      <td>1.0</td>\n",
       "      <td>0.029982</td>\n",
       "      <td>0.029982</td>\n",
       "      <td>0.647557</td>\n",
       "    </tr>\n",
       "    <tr>\n",
       "      <th>71</th>\n",
       "      <td>place</td>\n",
       "      <td>3133</td>\n",
       "      <td>4816</td>\n",
       "      <td>2.0</td>\n",
       "      <td>0.017145</td>\n",
       "      <td>0.047127</td>\n",
       "      <td>0.510261</td>\n",
       "    </tr>\n",
       "    <tr>\n",
       "      <th>190</th>\n",
       "      <td>good</td>\n",
       "      <td>2934</td>\n",
       "      <td>4370</td>\n",
       "      <td>3.0</td>\n",
       "      <td>0.015557</td>\n",
       "      <td>0.062685</td>\n",
       "      <td>0.477850</td>\n",
       "    </tr>\n",
       "    <tr>\n",
       "      <th>131</th>\n",
       "      <td>great</td>\n",
       "      <td>2504</td>\n",
       "      <td>3473</td>\n",
       "      <td>4.0</td>\n",
       "      <td>0.012364</td>\n",
       "      <td>0.075049</td>\n",
       "      <td>0.407818</td>\n",
       "    </tr>\n",
       "    <tr>\n",
       "      <th>108</th>\n",
       "      <td>not</td>\n",
       "      <td>2187</td>\n",
       "      <td>3469</td>\n",
       "      <td>5.0</td>\n",
       "      <td>0.012350</td>\n",
       "      <td>0.087398</td>\n",
       "      <td>0.356189</td>\n",
       "    </tr>\n",
       "    <tr>\n",
       "      <th>12</th>\n",
       "      <td>checkin</td>\n",
       "      <td>2518</td>\n",
       "      <td>2531</td>\n",
       "      <td>6.0</td>\n",
       "      <td>0.009010</td>\n",
       "      <td>0.096409</td>\n",
       "      <td>0.410098</td>\n",
       "    </tr>\n",
       "    <tr>\n",
       "      <th>174</th>\n",
       "      <td>like</td>\n",
       "      <td>1669</td>\n",
       "      <td>2415</td>\n",
       "      <td>7.0</td>\n",
       "      <td>0.008597</td>\n",
       "      <td>0.105006</td>\n",
       "      <td>0.271824</td>\n",
       "    </tr>\n",
       "    <tr>\n",
       "      <th>21</th>\n",
       "      <td>love</td>\n",
       "      <td>1608</td>\n",
       "      <td>2116</td>\n",
       "      <td>8.0</td>\n",
       "      <td>0.007533</td>\n",
       "      <td>0.112539</td>\n",
       "      <td>0.261889</td>\n",
       "    </tr>\n",
       "    <tr>\n",
       "      <th>40</th>\n",
       "      <td>austin</td>\n",
       "      <td>1570</td>\n",
       "      <td>2012</td>\n",
       "      <td>9.0</td>\n",
       "      <td>0.007163</td>\n",
       "      <td>0.119702</td>\n",
       "      <td>0.255700</td>\n",
       "    </tr>\n",
       "    <tr>\n",
       "      <th>370</th>\n",
       "      <td>come</td>\n",
       "      <td>1479</td>\n",
       "      <td>1981</td>\n",
       "      <td>10.0</td>\n",
       "      <td>0.007052</td>\n",
       "      <td>0.126754</td>\n",
       "      <td>0.240879</td>\n",
       "    </tr>\n",
       "  </tbody>\n",
       "</table>\n",
       "</div>"
      ],
      "text/plain": [
       "        word  appears_in_docs  count  rank  fraction_of_total  \\\n",
       "24    coffee             3976   8422   1.0           0.029982   \n",
       "71     place             3133   4816   2.0           0.017145   \n",
       "190     good             2934   4370   3.0           0.015557   \n",
       "131    great             2504   3473   4.0           0.012364   \n",
       "108      not             2187   3469   5.0           0.012350   \n",
       "12   checkin             2518   2531   6.0           0.009010   \n",
       "174     like             1669   2415   7.0           0.008597   \n",
       "21      love             1608   2116   8.0           0.007533   \n",
       "40    austin             1570   2012   9.0           0.007163   \n",
       "370     come             1479   1981  10.0           0.007052   \n",
       "\n",
       "     cumulative_fraction_of_total  appears_in_fraction_of_docs  \n",
       "24                       0.029982                     0.647557  \n",
       "71                       0.047127                     0.510261  \n",
       "190                      0.062685                     0.477850  \n",
       "131                      0.075049                     0.407818  \n",
       "108                      0.087398                     0.356189  \n",
       "12                       0.096409                     0.410098  \n",
       "174                      0.105006                     0.271824  \n",
       "21                       0.112539                     0.261889  \n",
       "40                       0.119702                     0.255700  \n",
       "370                      0.126754                     0.240879  "
      ]
     },
     "execution_count": 73,
     "metadata": {},
     "output_type": "execute_result"
    }
   ],
   "source": [
    "good_wc = count(good[\"spacy_tokens\"])\n",
    "good_wc.head(10)"
   ]
  },
  {
   "cell_type": "code",
   "execution_count": 74,
   "metadata": {
    "colab": {
     "base_uri": "https://localhost:8080/",
     "height": 362
    },
    "executionInfo": {
     "elapsed": 154,
     "status": "ok",
     "timestamp": 1629922993418,
     "user": {
      "displayName": "Ryan Allred",
      "photoUrl": "",
      "userId": "04031804316926795705"
     },
     "user_tz": 360
    },
    "id": "VVPvC0Bk5wty",
    "outputId": "5fb04cbb-a8be-43a1-c8ca-348a46e1ad71"
   },
   "outputs": [
    {
     "data": {
      "text/html": [
       "<div>\n",
       "<style scoped>\n",
       "    .dataframe tbody tr th:only-of-type {\n",
       "        vertical-align: middle;\n",
       "    }\n",
       "\n",
       "    .dataframe tbody tr th {\n",
       "        vertical-align: top;\n",
       "    }\n",
       "\n",
       "    .dataframe thead th {\n",
       "        text-align: right;\n",
       "    }\n",
       "</style>\n",
       "<table border=\"1\" class=\"dataframe\">\n",
       "  <thead>\n",
       "    <tr style=\"text-align: right;\">\n",
       "      <th></th>\n",
       "      <th>word</th>\n",
       "      <th>appears_in_docs</th>\n",
       "      <th>count</th>\n",
       "      <th>rank</th>\n",
       "      <th>fraction_of_total</th>\n",
       "      <th>cumulative_fraction_of_total</th>\n",
       "      <th>appears_in_fraction_of_docs</th>\n",
       "    </tr>\n",
       "  </thead>\n",
       "  <tbody>\n",
       "    <tr>\n",
       "      <th>18</th>\n",
       "      <td>coffee</td>\n",
       "      <td>948</td>\n",
       "      <td>2172</td>\n",
       "      <td>1.0</td>\n",
       "      <td>0.027449</td>\n",
       "      <td>0.027449</td>\n",
       "      <td>0.642276</td>\n",
       "    </tr>\n",
       "    <tr>\n",
       "      <th>114</th>\n",
       "      <td>not</td>\n",
       "      <td>868</td>\n",
       "      <td>1706</td>\n",
       "      <td>2.0</td>\n",
       "      <td>0.021560</td>\n",
       "      <td>0.049009</td>\n",
       "      <td>0.588076</td>\n",
       "    </tr>\n",
       "    <tr>\n",
       "      <th>23</th>\n",
       "      <td>place</td>\n",
       "      <td>755</td>\n",
       "      <td>1228</td>\n",
       "      <td>3.0</td>\n",
       "      <td>0.015519</td>\n",
       "      <td>0.064528</td>\n",
       "      <td>0.511518</td>\n",
       "    </tr>\n",
       "    <tr>\n",
       "      <th>27</th>\n",
       "      <td>good</td>\n",
       "      <td>648</td>\n",
       "      <td>1000</td>\n",
       "      <td>4.0</td>\n",
       "      <td>0.012638</td>\n",
       "      <td>0.077166</td>\n",
       "      <td>0.439024</td>\n",
       "    </tr>\n",
       "    <tr>\n",
       "      <th>6</th>\n",
       "      <td>like</td>\n",
       "      <td>592</td>\n",
       "      <td>936</td>\n",
       "      <td>5.0</td>\n",
       "      <td>0.011829</td>\n",
       "      <td>0.088995</td>\n",
       "      <td>0.401084</td>\n",
       "    </tr>\n",
       "    <tr>\n",
       "      <th>130</th>\n",
       "      <td>order</td>\n",
       "      <td>439</td>\n",
       "      <td>767</td>\n",
       "      <td>6.0</td>\n",
       "      <td>0.009693</td>\n",
       "      <td>0.098688</td>\n",
       "      <td>0.297425</td>\n",
       "    </tr>\n",
       "    <tr>\n",
       "      <th>60</th>\n",
       "      <td>come</td>\n",
       "      <td>452</td>\n",
       "      <td>650</td>\n",
       "      <td>7.0</td>\n",
       "      <td>0.008215</td>\n",
       "      <td>0.106903</td>\n",
       "      <td>0.306233</td>\n",
       "    </tr>\n",
       "    <tr>\n",
       "      <th>191</th>\n",
       "      <td>time</td>\n",
       "      <td>420</td>\n",
       "      <td>610</td>\n",
       "      <td>8.0</td>\n",
       "      <td>0.007709</td>\n",
       "      <td>0.114612</td>\n",
       "      <td>0.284553</td>\n",
       "    </tr>\n",
       "    <tr>\n",
       "      <th>9</th>\n",
       "      <td>drink</td>\n",
       "      <td>363</td>\n",
       "      <td>607</td>\n",
       "      <td>9.0</td>\n",
       "      <td>0.007671</td>\n",
       "      <td>0.122283</td>\n",
       "      <td>0.245935</td>\n",
       "    </tr>\n",
       "    <tr>\n",
       "      <th>138</th>\n",
       "      <td>food</td>\n",
       "      <td>316</td>\n",
       "      <td>494</td>\n",
       "      <td>10.0</td>\n",
       "      <td>0.006243</td>\n",
       "      <td>0.128526</td>\n",
       "      <td>0.214092</td>\n",
       "    </tr>\n",
       "  </tbody>\n",
       "</table>\n",
       "</div>"
      ],
      "text/plain": [
       "       word  appears_in_docs  count  rank  fraction_of_total  \\\n",
       "18   coffee              948   2172   1.0           0.027449   \n",
       "114     not              868   1706   2.0           0.021560   \n",
       "23    place              755   1228   3.0           0.015519   \n",
       "27     good              648   1000   4.0           0.012638   \n",
       "6      like              592    936   5.0           0.011829   \n",
       "130   order              439    767   6.0           0.009693   \n",
       "60     come              452    650   7.0           0.008215   \n",
       "191    time              420    610   8.0           0.007709   \n",
       "9     drink              363    607   9.0           0.007671   \n",
       "138    food              316    494  10.0           0.006243   \n",
       "\n",
       "     cumulative_fraction_of_total  appears_in_fraction_of_docs  \n",
       "18                       0.027449                     0.642276  \n",
       "114                      0.049009                     0.588076  \n",
       "23                       0.064528                     0.511518  \n",
       "27                       0.077166                     0.439024  \n",
       "6                        0.088995                     0.401084  \n",
       "130                      0.098688                     0.297425  \n",
       "60                       0.106903                     0.306233  \n",
       "191                      0.114612                     0.284553  \n",
       "9                        0.122283                     0.245935  \n",
       "138                      0.128526                     0.214092  "
      ]
     },
     "execution_count": 74,
     "metadata": {},
     "output_type": "execute_result"
    }
   ],
   "source": [
    "bad_wc = count(bad[\"spacy_tokens\"])\n",
    "bad_wc.head(10)"
   ]
  },
  {
   "cell_type": "markdown",
   "metadata": {
    "id": "w1BTCz_gszyx"
   },
   "source": [
    "##2.3 Visualize top 20 `good` and top 20 `bad` tokens using a word cloud"
   ]
  },
  {
   "cell_type": "code",
   "execution_count": 81,
   "metadata": {
    "colab": {
     "base_uri": "https://localhost:8080/",
     "height": 837
    },
    "executionInfo": {
     "elapsed": 557,
     "status": "ok",
     "timestamp": 1629923000985,
     "user": {
      "displayName": "Ryan Allred",
      "photoUrl": "",
      "userId": "04031804316926795705"
     },
     "user_tz": 360
    },
    "id": "7MWQ1BHeszyx",
    "outputId": "5a9dcca4-5398-4527-b537-4725dc16a36a"
   },
   "outputs": [
    {
     "data": {
      "image/png": "[encoded data removed]",
      "text/plain": [
       "<Figure size 1000x700 with 1 Axes>"
      ]
     },
     "metadata": {},
     "output_type": "display_data"
    },
    {
     "data": {
      "image/png": "[encoded data removed]",
      "text/plain": [
       "<Figure size 1000x700 with 1 Axes>"
      ]
     },
     "metadata": {},
     "output_type": "display_data"
    }
   ],
   "source": [
    "# COMPLETE CODE HERE\n",
    "good_top20 = good_wc[good_wc['rank'] <= 20]\n",
    "plt.figure(figsize=(10,7))\n",
    "squarify.plot(sizes=good_top20['fraction_of_total'], label=good_top20['word'], alpha=.8 )\n",
    "plt.title(\"Positive Reviews\")\n",
    "plt.axis('off')\n",
    "plt.show()\n",
    "\n",
    "bad_top20 = bad_wc[bad_wc['rank'] <= 20]\n",
    "plt.figure(figsize=(10,7))\n",
    "squarify.plot(sizes=bad_top20['fraction_of_total'], label=bad_top20['word'], alpha=.8 )\n",
    "plt.title(\"Negative Reviews\")\n",
    "plt.axis('off')\n",
    "plt.show()"
   ]
  },
  {
   "cell_type": "markdown",
   "metadata": {
    "id": "hhRS5oWkszy1"
   },
   "source": [
    "## 3. Find out which words are likely to occur in \"good\" and \"bad\" reviews\n",
    "Ok - let's do a more thorough analysis! <br>\n",
    "Looking at `df_pos_wc` and `df_neg_wc` we notice that certain words are ranked higher in one data set and lower in the other. "
   ]
  },
  {
   "cell_type": "code",
   "execution_count": 87,
   "metadata": {
    "id": "ad_p-iZaszy1"
   },
   "outputs": [],
   "source": [
    "# these are words that are ranked high in one data set but not the other\n",
    "# you might try working with two keyword lists -- one for the good reviews and one for the bad reviews \n",
    "key_words = ['love', 'order', 'friendly', 'not']"
   ]
  },
  {
   "cell_type": "code",
   "execution_count": 88,
   "metadata": {
    "colab": {
     "base_uri": "https://localhost:8080/",
     "height": 205
    },
    "executionInfo": {
     "elapsed": 168,
     "status": "ok",
     "timestamp": 1629923004892,
     "user": {
      "displayName": "Ryan Allred",
      "photoUrl": "",
      "userId": "04031804316926795705"
     },
     "user_tz": 360
    },
    "id": "00yVhq9hszy1",
    "outputId": "123c19a8-25fa-429d-c8fa-ac43a84da71e"
   },
   "outputs": [
    {
     "data": {
      "text/html": [
       "<div>\n",
       "<style scoped>\n",
       "    .dataframe tbody tr th:only-of-type {\n",
       "        vertical-align: middle;\n",
       "    }\n",
       "\n",
       "    .dataframe tbody tr th {\n",
       "        vertical-align: top;\n",
       "    }\n",
       "\n",
       "    .dataframe thead th {\n",
       "        text-align: right;\n",
       "    }\n",
       "</style>\n",
       "<table border=\"1\" class=\"dataframe\">\n",
       "  <thead>\n",
       "    <tr style=\"text-align: right;\">\n",
       "      <th></th>\n",
       "      <th>word</th>\n",
       "      <th>appears_in_docs</th>\n",
       "      <th>count</th>\n",
       "      <th>rank</th>\n",
       "      <th>fraction_of_total</th>\n",
       "      <th>cumulative_fraction_of_total</th>\n",
       "      <th>appears_in_fraction_of_docs</th>\n",
       "    </tr>\n",
       "  </thead>\n",
       "  <tbody>\n",
       "    <tr>\n",
       "      <th>24</th>\n",
       "      <td>coffee</td>\n",
       "      <td>3976</td>\n",
       "      <td>8422</td>\n",
       "      <td>1.0</td>\n",
       "      <td>0.029982</td>\n",
       "      <td>0.029982</td>\n",
       "      <td>0.647557</td>\n",
       "    </tr>\n",
       "    <tr>\n",
       "      <th>71</th>\n",
       "      <td>place</td>\n",
       "      <td>3133</td>\n",
       "      <td>4816</td>\n",
       "      <td>2.0</td>\n",
       "      <td>0.017145</td>\n",
       "      <td>0.047127</td>\n",
       "      <td>0.510261</td>\n",
       "    </tr>\n",
       "    <tr>\n",
       "      <th>190</th>\n",
       "      <td>good</td>\n",
       "      <td>2934</td>\n",
       "      <td>4370</td>\n",
       "      <td>3.0</td>\n",
       "      <td>0.015557</td>\n",
       "      <td>0.062685</td>\n",
       "      <td>0.477850</td>\n",
       "    </tr>\n",
       "    <tr>\n",
       "      <th>131</th>\n",
       "      <td>great</td>\n",
       "      <td>2504</td>\n",
       "      <td>3473</td>\n",
       "      <td>4.0</td>\n",
       "      <td>0.012364</td>\n",
       "      <td>0.075049</td>\n",
       "      <td>0.407818</td>\n",
       "    </tr>\n",
       "    <tr>\n",
       "      <th>108</th>\n",
       "      <td>not</td>\n",
       "      <td>2187</td>\n",
       "      <td>3469</td>\n",
       "      <td>5.0</td>\n",
       "      <td>0.012350</td>\n",
       "      <td>0.087398</td>\n",
       "      <td>0.356189</td>\n",
       "    </tr>\n",
       "  </tbody>\n",
       "</table>\n",
       "</div>"
      ],
      "text/plain": [
       "       word  appears_in_docs  count  rank  fraction_of_total  \\\n",
       "24   coffee             3976   8422   1.0           0.029982   \n",
       "71    place             3133   4816   2.0           0.017145   \n",
       "190    good             2934   4370   3.0           0.015557   \n",
       "131   great             2504   3473   4.0           0.012364   \n",
       "108     not             2187   3469   5.0           0.012350   \n",
       "\n",
       "     cumulative_fraction_of_total  appears_in_fraction_of_docs  \n",
       "24                       0.029982                     0.647557  \n",
       "71                       0.047127                     0.510261  \n",
       "190                      0.062685                     0.477850  \n",
       "131                      0.075049                     0.407818  \n",
       "108                      0.087398                     0.356189  "
      ]
     },
     "execution_count": 88,
     "metadata": {},
     "output_type": "execute_result"
    }
   ],
   "source": [
    "good_wc.head()"
   ]
  },
  {
   "cell_type": "code",
   "execution_count": 89,
   "metadata": {
    "colab": {
     "base_uri": "https://localhost:8080/",
     "height": 205
    },
    "executionInfo": {
     "elapsed": 6,
     "status": "ok",
     "timestamp": 1629923005561,
     "user": {
      "displayName": "Ryan Allred",
      "photoUrl": "",
      "userId": "04031804316926795705"
     },
     "user_tz": 360
    },
    "id": "NuKHEw0Dszy1",
    "outputId": "06c78d3f-0cb7-426e-8177-c8cc9b4aa530"
   },
   "outputs": [
    {
     "data": {
      "text/html": [
       "<div>\n",
       "<style scoped>\n",
       "    .dataframe tbody tr th:only-of-type {\n",
       "        vertical-align: middle;\n",
       "    }\n",
       "\n",
       "    .dataframe tbody tr th {\n",
       "        vertical-align: top;\n",
       "    }\n",
       "\n",
       "    .dataframe thead th {\n",
       "        text-align: right;\n",
       "    }\n",
       "</style>\n",
       "<table border=\"1\" class=\"dataframe\">\n",
       "  <thead>\n",
       "    <tr style=\"text-align: right;\">\n",
       "      <th></th>\n",
       "      <th>word</th>\n",
       "      <th>appears_in_docs</th>\n",
       "      <th>count</th>\n",
       "      <th>rank</th>\n",
       "      <th>fraction_of_total</th>\n",
       "      <th>cumulative_fraction_of_total</th>\n",
       "      <th>appears_in_fraction_of_docs</th>\n",
       "    </tr>\n",
       "  </thead>\n",
       "  <tbody>\n",
       "    <tr>\n",
       "      <th>108</th>\n",
       "      <td>not</td>\n",
       "      <td>2187</td>\n",
       "      <td>3469</td>\n",
       "      <td>5.0</td>\n",
       "      <td>0.012350</td>\n",
       "      <td>0.087398</td>\n",
       "      <td>0.356189</td>\n",
       "    </tr>\n",
       "    <tr>\n",
       "      <th>21</th>\n",
       "      <td>love</td>\n",
       "      <td>1608</td>\n",
       "      <td>2116</td>\n",
       "      <td>8.0</td>\n",
       "      <td>0.007533</td>\n",
       "      <td>0.112539</td>\n",
       "      <td>0.261889</td>\n",
       "    </tr>\n",
       "    <tr>\n",
       "      <th>158</th>\n",
       "      <td>friendly</td>\n",
       "      <td>1420</td>\n",
       "      <td>1487</td>\n",
       "      <td>16.0</td>\n",
       "      <td>0.005294</td>\n",
       "      <td>0.162255</td>\n",
       "      <td>0.231270</td>\n",
       "    </tr>\n",
       "    <tr>\n",
       "      <th>6</th>\n",
       "      <td>order</td>\n",
       "      <td>1011</td>\n",
       "      <td>1363</td>\n",
       "      <td>23.0</td>\n",
       "      <td>0.004852</td>\n",
       "      <td>0.197677</td>\n",
       "      <td>0.164658</td>\n",
       "    </tr>\n",
       "  </tbody>\n",
       "</table>\n",
       "</div>"
      ],
      "text/plain": [
       "         word  appears_in_docs  count  rank  fraction_of_total  \\\n",
       "108       not             2187   3469   5.0           0.012350   \n",
       "21       love             1608   2116   8.0           0.007533   \n",
       "158  friendly             1420   1487  16.0           0.005294   \n",
       "6       order             1011   1363  23.0           0.004852   \n",
       "\n",
       "     cumulative_fraction_of_total  appears_in_fraction_of_docs  \n",
       "108                      0.087398                     0.356189  \n",
       "21                       0.112539                     0.261889  \n",
       "158                      0.162255                     0.231270  \n",
       "6                        0.197677                     0.164658  "
      ]
     },
     "execution_count": 89,
     "metadata": {},
     "output_type": "execute_result"
    }
   ],
   "source": [
    "df_pos_keywords_mask = good_wc.word.isin(key_words)\n",
    "df_pos_keywords = good_wc[df_pos_keywords_mask]\n",
    "df_pos_keywords.head()"
   ]
  },
  {
   "cell_type": "code",
   "execution_count": 90,
   "metadata": {
    "colab": {
     "base_uri": "https://localhost:8080/",
     "height": 205
    },
    "executionInfo": {
     "elapsed": 151,
     "status": "ok",
     "timestamp": 1629923006406,
     "user": {
      "displayName": "Ryan Allred",
      "photoUrl": "",
      "userId": "04031804316926795705"
     },
     "user_tz": 360
    },
    "id": "945bUvfmszy1",
    "outputId": "e3c4d346-9191-4ef6-d145-94e2f44b2f61"
   },
   "outputs": [
    {
     "data": {
      "text/html": [
       "<div>\n",
       "<style scoped>\n",
       "    .dataframe tbody tr th:only-of-type {\n",
       "        vertical-align: middle;\n",
       "    }\n",
       "\n",
       "    .dataframe tbody tr th {\n",
       "        vertical-align: top;\n",
       "    }\n",
       "\n",
       "    .dataframe thead th {\n",
       "        text-align: right;\n",
       "    }\n",
       "</style>\n",
       "<table border=\"1\" class=\"dataframe\">\n",
       "  <thead>\n",
       "    <tr style=\"text-align: right;\">\n",
       "      <th></th>\n",
       "      <th>word</th>\n",
       "      <th>appears_in_docs</th>\n",
       "      <th>count</th>\n",
       "      <th>rank</th>\n",
       "      <th>fraction_of_total</th>\n",
       "      <th>cumulative_fraction_of_total</th>\n",
       "      <th>appears_in_fraction_of_docs</th>\n",
       "    </tr>\n",
       "  </thead>\n",
       "  <tbody>\n",
       "    <tr>\n",
       "      <th>114</th>\n",
       "      <td>not</td>\n",
       "      <td>868</td>\n",
       "      <td>1706</td>\n",
       "      <td>2.0</td>\n",
       "      <td>0.021560</td>\n",
       "      <td>0.049009</td>\n",
       "      <td>0.588076</td>\n",
       "    </tr>\n",
       "    <tr>\n",
       "      <th>130</th>\n",
       "      <td>order</td>\n",
       "      <td>439</td>\n",
       "      <td>767</td>\n",
       "      <td>6.0</td>\n",
       "      <td>0.009693</td>\n",
       "      <td>0.098688</td>\n",
       "      <td>0.297425</td>\n",
       "    </tr>\n",
       "    <tr>\n",
       "      <th>269</th>\n",
       "      <td>love</td>\n",
       "      <td>209</td>\n",
       "      <td>253</td>\n",
       "      <td>41.0</td>\n",
       "      <td>0.003197</td>\n",
       "      <td>0.264786</td>\n",
       "      <td>0.141599</td>\n",
       "    </tr>\n",
       "    <tr>\n",
       "      <th>519</th>\n",
       "      <td>friendly</td>\n",
       "      <td>181</td>\n",
       "      <td>201</td>\n",
       "      <td>59.0</td>\n",
       "      <td>0.002540</td>\n",
       "      <td>0.316247</td>\n",
       "      <td>0.122629</td>\n",
       "    </tr>\n",
       "  </tbody>\n",
       "</table>\n",
       "</div>"
      ],
      "text/plain": [
       "         word  appears_in_docs  count  rank  fraction_of_total  \\\n",
       "114       not              868   1706   2.0           0.021560   \n",
       "130     order              439    767   6.0           0.009693   \n",
       "269      love              209    253  41.0           0.003197   \n",
       "519  friendly              181    201  59.0           0.002540   \n",
       "\n",
       "     cumulative_fraction_of_total  appears_in_fraction_of_docs  \n",
       "114                      0.049009                     0.588076  \n",
       "130                      0.098688                     0.297425  \n",
       "269                      0.264786                     0.141599  \n",
       "519                      0.316247                     0.122629  "
      ]
     },
     "execution_count": 90,
     "metadata": {},
     "output_type": "execute_result"
    }
   ],
   "source": [
    "df_neg_keywords_mask = bad_wc.word.isin(key_words)\n",
    "df_neg_keywords = bad_wc[df_neg_keywords_mask]\n",
    "df_neg_keywords.head()"
   ]
  },
  {
   "cell_type": "code",
   "execution_count": 91,
   "metadata": {
    "id": "4m0c-J5p3O7_"
   },
   "outputs": [
    {
     "data": {
      "image/png": "[encoded data removed]",
      "text/plain": [
       "<Figure size 1500x600 with 1 Axes>"
      ]
     },
     "metadata": {},
     "output_type": "display_data"
    },
    {
     "data": {
      "image/png": "[encoded data removed]",
      "text/plain": [
       "<Figure size 1500x600 with 1 Axes>"
      ]
     },
     "metadata": {},
     "output_type": "display_data"
    }
   ],
   "source": [
    "import seaborn as sns\n",
    "\n",
    "plt.figure(figsize=(15,6))\n",
    "plt.title(\"4 and 5 star reviews: Percent of Documents that Keywords appear in\")\n",
    "sns.barplot(x=df_pos_keywords.word, y=df_pos_keywords.appears_in_fraction_of_docs, palette=\"rocket\", order=key_words);\n",
    "plt.ylim(0,.42)\n",
    "plt.show();\n",
    "\n",
    "plt.figure(figsize=(15,6))\n",
    "plt.title(\"1, 2, and 3 star reviews: Percent of Documents that Keywords appear in\")\n",
    "sns.barplot(x=df_neg_keywords.word, y=df_neg_keywords.appears_in_fraction_of_docs, palette=\"rocket\", order=key_words);\n",
    "plt.ylim(0,.42)\n",
    "plt.show();"
   ]
  },
  {
   "cell_type": "code",
   "execution_count": null,
   "metadata": {},
   "outputs": [],
   "source": []
  }
 ],
 "metadata": {
  "colab": {
   "collapsed_sections": [],
   "name": "DS_411_Text_Data_Assignment.ipynb",
   "provenance": [
    {
     "file_id": "1UI9TRMnDxIuDedSUxH-Jq05eBynf1Vsm",
     "timestamp": 1630355286289
    },
    {
     "file_id": "14ltrJWbpaZwp8_2YVhCMlbOM_38O7Gl9",
     "timestamp": 1630004707795
    },
    {
     "file_id": "1tMoaGg3p4K4YbusPpibe0xrRk_hu98Bl",
     "timestamp": 1629918494288
    }
   ]
  },
  "kernelspec": {
   "display_name": "Python 3 (ipykernel)",
   "language": "python",
   "name": "python3"
  },
  "language_info": {
   "codemirror_mode": {
    "name": "ipython",
    "version": 3
   },
   "file_extension": ".py",
   "mimetype": "text/x-python",
   "name": "python",
   "nbconvert_exporter": "python",
   "pygments_lexer": "ipython3",
   "version": "3.11.4"
  },
  "toc-autonumbering": false
 },
 "nbformat": 4,
 "nbformat_minor": 4
}
