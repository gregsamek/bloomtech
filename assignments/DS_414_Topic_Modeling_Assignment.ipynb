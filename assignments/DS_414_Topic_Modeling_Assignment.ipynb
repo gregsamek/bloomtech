{
 "cells": [
  {
   "cell_type": "markdown",
   "metadata": {
    "id": "5utTU63WzGd3"
   },
   "source": [
    "# Topic Modeling\n",
    "## *Data Science Unit 4 Sprint 1 Assignment 4*\n",
    "\n",
    "\n",
    "![](https://drive.google.com/uc?export=view&id=1Aze8Xe_ZZpV22IwFNUH09T2howHmF1AK)\n",
    "\n",
    "[Image Credit: slides from Ben Mabey](https://speakerdeck.com/bmabey/visualizing-topic-models)\n",
    "\n",
    "Apply Topic Modeling to Analyze a corpus of Amazon reviews\n",
    "\n",
    "- Load in the Amazon Review dataset\n",
    "- Clean the dataset \n",
    "- Vectorize the dataset \n",
    "- Fit a Gensim LDA topic model on Amazon Reviews\n",
    "- Select appropriate number of topics\n",
    "- Create some dope visualization of the topics\n",
    "- Write a few bullets on your findings in markdown at the end"
   ]
  },
  {
   "cell_type": "code",
   "execution_count": 2,
   "metadata": {
    "colab": {
     "base_uri": "https://localhost:8080/"
    },
    "executionInfo": {
     "elapsed": 2104,
     "status": "ok",
     "timestamp": 1633045400428,
     "user": {
      "displayName": "Joseph catanzarite",
      "photoUrl": "https://lh3.googleusercontent.com/a-/AOh14GgmMRaw8NgoEDqzevEZ6b18iOYdEH9nWTZeaFBW=s64",
      "userId": "16649206137414945374"
     },
     "user_tz": 420
    },
    "id": "rXrXC0mrzGd5",
    "outputId": "7f868b3f-9038-442a-9861-743fc374bea6"
   },
   "outputs": [],
   "source": [
    "import re\n",
    "import pandas as pd\n",
    "import numpy as np\n",
    "import matplotlib.pyplot as plt\n",
    "from sklearn.feature_extraction.text import CountVectorizer, TfidfVectorizer\n",
    "\n",
    "import spacy\n",
    "spacy.util.fix_random_seed(0)\n",
    "\n",
    "import pyLDAvis\n",
    "import pyLDAvis.gensim_models \n",
    "\n",
    "import gensim\n",
    "import gensim.corpora as corpora\n",
    "from gensim.utils import simple_preprocess\n",
    "from gensim.models import CoherenceModel\n",
    "\n",
    "from pandarallel import pandarallel\n",
    "\n",
    "%matplotlib inline\n",
    "\n",
    "import warnings\n",
    "warnings.filterwarnings(\"ignore\")"
   ]
  },
  {
   "cell_type": "markdown",
   "metadata": {
    "id": "x9ph4ZzpzGd6"
   },
   "source": [
    "----\n",
    "### Load the Amazon Review corpus \n",
    "This dataset is located in the Sprint 1 Module 1 `/data` directory. \n",
    "\n",
    "If the provided relative path doesn't work for you, then you'll have to provide the file path so pandas can read in the file."
   ]
  },
  {
   "cell_type": "code",
   "execution_count": 3,
   "metadata": {
    "id": "Ov482n4pzGd6"
   },
   "outputs": [],
   "source": [
    "data_path = \"/Users/gregorysamek/github/DS-Unit-4-Sprint-1-NLP/module1-text-data/data/Datafiniti_Amazon_Consumer_Reviews_of_Amazon_Products_May19.csv\"\n",
    "df = pd.read_csv(data_path)"
   ]
  },
  {
   "cell_type": "code",
   "execution_count": 4,
   "metadata": {
    "colab": {
     "base_uri": "https://localhost:8080/",
     "height": 271
    },
    "executionInfo": {
     "elapsed": 129,
     "status": "ok",
     "timestamp": 1630270167063,
     "user": {
      "displayName": "Joseph catanzarite",
      "photoUrl": "https://lh3.googleusercontent.com/a-/AOh14GgmMRaw8NgoEDqzevEZ6b18iOYdEH9nWTZeaFBW=s64",
      "userId": "16649206137414945374"
     },
     "user_tz": 420
    },
    "id": "-yZZEwZNzGd7",
    "outputId": "8e9b4d24-867c-4043-9f78-4df1548748be"
   },
   "outputs": [
    {
     "data": {
      "text/html": [
       "<div>\n",
       "<style scoped>\n",
       "    .dataframe tbody tr th:only-of-type {\n",
       "        vertical-align: middle;\n",
       "    }\n",
       "\n",
       "    .dataframe tbody tr th {\n",
       "        vertical-align: top;\n",
       "    }\n",
       "\n",
       "    .dataframe thead th {\n",
       "        text-align: right;\n",
       "    }\n",
       "</style>\n",
       "<table border=\"1\" class=\"dataframe\">\n",
       "  <thead>\n",
       "    <tr style=\"text-align: right;\">\n",
       "      <th></th>\n",
       "      <th>id</th>\n",
       "      <th>dateAdded</th>\n",
       "      <th>dateUpdated</th>\n",
       "      <th>name</th>\n",
       "      <th>asins</th>\n",
       "      <th>brand</th>\n",
       "      <th>categories</th>\n",
       "      <th>primaryCategories</th>\n",
       "      <th>imageURLs</th>\n",
       "      <th>keys</th>\n",
       "      <th>...</th>\n",
       "      <th>reviews.didPurchase</th>\n",
       "      <th>reviews.doRecommend</th>\n",
       "      <th>reviews.id</th>\n",
       "      <th>reviews.numHelpful</th>\n",
       "      <th>reviews.rating</th>\n",
       "      <th>reviews.sourceURLs</th>\n",
       "      <th>reviews.text</th>\n",
       "      <th>reviews.title</th>\n",
       "      <th>reviews.username</th>\n",
       "      <th>sourceURLs</th>\n",
       "    </tr>\n",
       "  </thead>\n",
       "  <tbody>\n",
       "    <tr>\n",
       "      <th>0</th>\n",
       "      <td>AVpgNzjwLJeJML43Kpxn</td>\n",
       "      <td>2015-10-30T08:59:32Z</td>\n",
       "      <td>2019-04-25T09:08:16Z</td>\n",
       "      <td>AmazonBasics AAA Performance Alkaline Batterie...</td>\n",
       "      <td>B00QWO9P0O,B00LH3DMUO</td>\n",
       "      <td>Amazonbasics</td>\n",
       "      <td>AA,AAA,Health,Electronics,Health &amp; Household,C...</td>\n",
       "      <td>Health &amp; Beauty</td>\n",
       "      <td>https://images-na.ssl-images-amazon.com/images...</td>\n",
       "      <td>amazonbasics/hl002619,amazonbasicsaaaperforman...</td>\n",
       "      <td>...</td>\n",
       "      <td>NaN</td>\n",
       "      <td>NaN</td>\n",
       "      <td>NaN</td>\n",
       "      <td>NaN</td>\n",
       "      <td>3</td>\n",
       "      <td>https://www.amazon.com/product-reviews/B00QWO9...</td>\n",
       "      <td>I order 3 of them and one of the item is bad q...</td>\n",
       "      <td>... 3 of them and one of the item is bad quali...</td>\n",
       "      <td>Byger yang</td>\n",
       "      <td>https://www.barcodable.com/upc/841710106442,ht...</td>\n",
       "    </tr>\n",
       "    <tr>\n",
       "      <th>1</th>\n",
       "      <td>AVpgNzjwLJeJML43Kpxn</td>\n",
       "      <td>2015-10-30T08:59:32Z</td>\n",
       "      <td>2019-04-25T09:08:16Z</td>\n",
       "      <td>AmazonBasics AAA Performance Alkaline Batterie...</td>\n",
       "      <td>B00QWO9P0O,B00LH3DMUO</td>\n",
       "      <td>Amazonbasics</td>\n",
       "      <td>AA,AAA,Health,Electronics,Health &amp; Household,C...</td>\n",
       "      <td>Health &amp; Beauty</td>\n",
       "      <td>https://images-na.ssl-images-amazon.com/images...</td>\n",
       "      <td>amazonbasics/hl002619,amazonbasicsaaaperforman...</td>\n",
       "      <td>...</td>\n",
       "      <td>NaN</td>\n",
       "      <td>NaN</td>\n",
       "      <td>NaN</td>\n",
       "      <td>NaN</td>\n",
       "      <td>4</td>\n",
       "      <td>https://www.amazon.com/product-reviews/B00QWO9...</td>\n",
       "      <td>Bulk is always the less expensive way to go fo...</td>\n",
       "      <td>... always the less expensive way to go for pr...</td>\n",
       "      <td>ByMG</td>\n",
       "      <td>https://www.barcodable.com/upc/841710106442,ht...</td>\n",
       "    </tr>\n",
       "  </tbody>\n",
       "</table>\n",
       "<p>2 rows × 24 columns</p>\n",
       "</div>"
      ],
      "text/plain": [
       "                     id             dateAdded           dateUpdated  \\\n",
       "0  AVpgNzjwLJeJML43Kpxn  2015-10-30T08:59:32Z  2019-04-25T09:08:16Z   \n",
       "1  AVpgNzjwLJeJML43Kpxn  2015-10-30T08:59:32Z  2019-04-25T09:08:16Z   \n",
       "\n",
       "                                                name                  asins  \\\n",
       "0  AmazonBasics AAA Performance Alkaline Batterie...  B00QWO9P0O,B00LH3DMUO   \n",
       "1  AmazonBasics AAA Performance Alkaline Batterie...  B00QWO9P0O,B00LH3DMUO   \n",
       "\n",
       "          brand                                         categories  \\\n",
       "0  Amazonbasics  AA,AAA,Health,Electronics,Health & Household,C...   \n",
       "1  Amazonbasics  AA,AAA,Health,Electronics,Health & Household,C...   \n",
       "\n",
       "  primaryCategories                                          imageURLs  \\\n",
       "0   Health & Beauty  https://images-na.ssl-images-amazon.com/images...   \n",
       "1   Health & Beauty  https://images-na.ssl-images-amazon.com/images...   \n",
       "\n",
       "                                                keys  ... reviews.didPurchase  \\\n",
       "0  amazonbasics/hl002619,amazonbasicsaaaperforman...  ...                 NaN   \n",
       "1  amazonbasics/hl002619,amazonbasicsaaaperforman...  ...                 NaN   \n",
       "\n",
       "  reviews.doRecommend reviews.id reviews.numHelpful reviews.rating  \\\n",
       "0                 NaN        NaN                NaN              3   \n",
       "1                 NaN        NaN                NaN              4   \n",
       "\n",
       "                                  reviews.sourceURLs  \\\n",
       "0  https://www.amazon.com/product-reviews/B00QWO9...   \n",
       "1  https://www.amazon.com/product-reviews/B00QWO9...   \n",
       "\n",
       "                                        reviews.text  \\\n",
       "0  I order 3 of them and one of the item is bad q...   \n",
       "1  Bulk is always the less expensive way to go fo...   \n",
       "\n",
       "                                       reviews.title  reviews.username  \\\n",
       "0  ... 3 of them and one of the item is bad quali...        Byger yang   \n",
       "1  ... always the less expensive way to go for pr...              ByMG   \n",
       "\n",
       "                                          sourceURLs  \n",
       "0  https://www.barcodable.com/upc/841710106442,ht...  \n",
       "1  https://www.barcodable.com/upc/841710106442,ht...  \n",
       "\n",
       "[2 rows x 24 columns]"
      ]
     },
     "execution_count": 4,
     "metadata": {},
     "output_type": "execute_result"
    }
   ],
   "source": [
    "df.head(2)"
   ]
  },
  {
   "cell_type": "markdown",
   "metadata": {
    "id": "kdwr6x8PzGd7"
   },
   "source": [
    "----\n",
    "\n",
    "### Clean data\n",
    "\n",
    "- Create a function called `clean_data` that uses regex expressions to clean your data in preparation for the vectorizer. \n",
    "\n",
    "- Save the clean text data to a column in your dataframe named `clean_text`\n",
    "\n",
    "- Feel free to re-use old code that you have written in previous modules  "
   ]
  },
  {
   "cell_type": "code",
   "execution_count": 5,
   "metadata": {
    "colab": {
     "base_uri": "https://localhost:8080/"
    },
    "executionInfo": {
     "elapsed": 123,
     "status": "ok",
     "timestamp": 1630270170899,
     "user": {
      "displayName": "Joseph catanzarite",
      "photoUrl": "https://lh3.googleusercontent.com/a-/AOh14GgmMRaw8NgoEDqzevEZ6b18iOYdEH9nWTZeaFBW=s64",
      "userId": "16649206137414945374"
     },
     "user_tz": 420
    },
    "id": "g5cL1Amq8iT_",
    "outputId": "5e1e4f93-dccc-4f41-fea4-03c0bd421965"
   },
   "outputs": [
    {
     "data": {
      "text/plain": [
       "(28332, 24)"
      ]
     },
     "execution_count": 5,
     "metadata": {},
     "output_type": "execute_result"
    }
   ],
   "source": [
    "df.shape"
   ]
  },
  {
   "cell_type": "code",
   "execution_count": 6,
   "metadata": {
    "colab": {
     "base_uri": "https://localhost:8080/",
     "height": 36
    },
    "executionInfo": {
     "elapsed": 132,
     "status": "ok",
     "timestamp": 1630270172642,
     "user": {
      "displayName": "Joseph catanzarite",
      "photoUrl": "https://lh3.googleusercontent.com/a-/AOh14GgmMRaw8NgoEDqzevEZ6b18iOYdEH9nWTZeaFBW=s64",
      "userId": "16649206137414945374"
     },
     "user_tz": 420
    },
    "id": "dgW6kglx8T_l",
    "outputId": "cd6a2c7d-62e6-46c6-b999-57c07438db84"
   },
   "outputs": [
    {
     "data": {
      "text/plain": [
       "'Have had zero issues with longevity or voltage. As good as the major brand batteries'"
      ]
     },
     "execution_count": 6,
     "metadata": {},
     "output_type": "execute_result"
    }
   ],
   "source": [
    "df['reviews.text'][8505]"
   ]
  },
  {
   "cell_type": "code",
   "execution_count": 10,
   "metadata": {
    "deletable": false,
    "id": "4xo_hkHKzGd7",
    "nbgrader": {
     "cell_type": "code",
     "checksum": "a2513c0ebd04cf8645fe0a1feb1e1a36",
     "grade": false,
     "grade_id": "cell-fa0950cfe5ef7725",
     "locked": false,
     "schema_version": 3,
     "solution": true,
     "task": false
    }
   },
   "outputs": [],
   "source": [
    "def clean_data(text):\n",
    "    \"\"\"\n",
    "    Cleans data to remove unwanted characters and punctuation.\n",
    "    \"\"\"\n",
    "    non_alpha = '[^a-zA-Z]'\n",
    "    multi_white_spaces = \"[ ]{2,}\"\n",
    "    \n",
    "    text = re.sub(non_alpha, ' ', text)\n",
    "    text = re.sub(multi_white_spaces, \" \", text)\n",
    "    \n",
    "    # apply case normalization \n",
    "    return text.lower().strip()\n"
   ]
  },
  {
   "cell_type": "code",
   "execution_count": 15,
   "metadata": {
    "deletable": false,
    "id": "H693L3fJzGd8",
    "nbgrader": {
     "cell_type": "code",
     "checksum": "a6ceefe5476e71efcb3d36c3e203616f",
     "grade": false,
     "grade_id": "cell-5b8e2bc0f9a745f3",
     "locked": false,
     "schema_version": 3,
     "solution": true,
     "task": false
    }
   },
   "outputs": [],
   "source": [
    "# create a clean_text column by applying  clean_data to your text\n",
    "df['clean_text'] = df['reviews.text'].apply(clean_data)"
   ]
  },
  {
   "cell_type": "code",
   "execution_count": 16,
   "metadata": {
    "id": "5FMvAhkBzGd8"
   },
   "outputs": [],
   "source": [
    "alphebetical_chars = [\"ABCDEFGHIJKLMNOP\"]\n",
    "# check if any of these alphabetical chars exist in your clean chars\n",
    "assert df.clean_text.isin(alphebetical_chars).sum() == 0, \"Did you case normalize your text inside of your clean_data function?\""
   ]
  },
  {
   "cell_type": "markdown",
   "metadata": {
    "id": "kzqt1ainzGd8"
   },
   "source": [
    "------\n",
    "\n",
    "## Determine number of topics\n",
    "\n",
    "We are going to run an experiment to determine how many topics exists within the `primaryCategories` of `Electronics`. This is the largest primary category containing nearly 14K documents, so we should have plenty of data. \n",
    "\n",
    "Just as we did in the guided project, we'll be running a gridseach over the number of topics and scoring each model using the Coherence metric to determine which number of topics we should use. \n"
   ]
  },
  {
   "cell_type": "code",
   "execution_count": 17,
   "metadata": {
    "id": "3jrHewGbzGd9"
   },
   "outputs": [],
   "source": [
    "# create a mask for docs that are in the Electronics primaryCategories - save result to `electronics_mask`\n",
    "electronics_mask = df.primaryCategories.isin([\"Electronics\"])\n",
    "\n",
    "# use mask to select all the documents in the Electronics primaryCategories - save result to `df_electronics`\n",
    "df_electronics = df[electronics_mask]"
   ]
  },
  {
   "cell_type": "code",
   "execution_count": 22,
   "metadata": {
    "colab": {
     "base_uri": "https://localhost:8080/",
     "height": 372
    },
    "executionInfo": {
     "elapsed": 210,
     "status": "ok",
     "timestamp": 1630270183672,
     "user": {
      "displayName": "Joseph catanzarite",
      "photoUrl": "https://lh3.googleusercontent.com/a-/AOh14GgmMRaw8NgoEDqzevEZ6b18iOYdEH9nWTZeaFBW=s64",
      "userId": "16649206137414945374"
     },
     "user_tz": 420
    },
    "id": "peb18zW3zGd9",
    "outputId": "a3978c32-5d74-4361-e642-76dc927f65e9"
   },
   "outputs": [
    {
     "data": {
      "text/html": [
       "<div>\n",
       "<style scoped>\n",
       "    .dataframe tbody tr th:only-of-type {\n",
       "        vertical-align: middle;\n",
       "    }\n",
       "\n",
       "    .dataframe tbody tr th {\n",
       "        vertical-align: top;\n",
       "    }\n",
       "\n",
       "    .dataframe thead th {\n",
       "        text-align: right;\n",
       "    }\n",
       "</style>\n",
       "<table border=\"1\" class=\"dataframe\">\n",
       "  <thead>\n",
       "    <tr style=\"text-align: right;\">\n",
       "      <th></th>\n",
       "      <th>id</th>\n",
       "      <th>dateAdded</th>\n",
       "      <th>dateUpdated</th>\n",
       "      <th>name</th>\n",
       "      <th>asins</th>\n",
       "      <th>brand</th>\n",
       "      <th>categories</th>\n",
       "      <th>primaryCategories</th>\n",
       "      <th>imageURLs</th>\n",
       "      <th>keys</th>\n",
       "      <th>...</th>\n",
       "      <th>reviews.id</th>\n",
       "      <th>reviews.numHelpful</th>\n",
       "      <th>reviews.rating</th>\n",
       "      <th>reviews.sourceURLs</th>\n",
       "      <th>reviews.text</th>\n",
       "      <th>reviews.title</th>\n",
       "      <th>reviews.username</th>\n",
       "      <th>sourceURLs</th>\n",
       "      <th>clean_text</th>\n",
       "      <th>lemmas</th>\n",
       "    </tr>\n",
       "  </thead>\n",
       "  <tbody>\n",
       "    <tr>\n",
       "      <th>8343</th>\n",
       "      <td>AVpe7nGV1cnluZ0-aG2o</td>\n",
       "      <td>2014-10-28T11:14:38Z</td>\n",
       "      <td>2019-04-25T09:05:28Z</td>\n",
       "      <td>AmazonBasics Nylon CD/DVD Binder (400 Capacity)</td>\n",
       "      <td>B00DIHVMEA,B00EZ1ZTV0</td>\n",
       "      <td>Amazonbasics</td>\n",
       "      <td>Audio &amp; Video Accessories,TV, Video &amp; Home Aud...</td>\n",
       "      <td>Electronics</td>\n",
       "      <td>http://ecx.images-amazon.com/images/I/41jQha7Z...</td>\n",
       "      <td>amazonbasicsnyloncddvdbinder400capacity/b00ez1...</td>\n",
       "      <td>...</td>\n",
       "      <td>NaN</td>\n",
       "      <td>NaN</td>\n",
       "      <td>5</td>\n",
       "      <td>https://www.ebay.com/itm/Amazonbasics-Nylon-Cd...</td>\n",
       "      <td>Great case to keep everything in its place! My...</td>\n",
       "      <td>Excellent product</td>\n",
       "      <td>qs341_5</td>\n",
       "      <td>https://www.ebay.com/itm/AmazonBasics-Nylon-CD...</td>\n",
       "      <td>great case to keep everything in its place my ...</td>\n",
       "      <td>[great, case, place, husband, love, hold, lot,...</td>\n",
       "    </tr>\n",
       "    <tr>\n",
       "      <th>8344</th>\n",
       "      <td>AVpe7nGV1cnluZ0-aG2o</td>\n",
       "      <td>2014-10-28T11:14:38Z</td>\n",
       "      <td>2019-04-25T09:05:28Z</td>\n",
       "      <td>AmazonBasics Nylon CD/DVD Binder (400 Capacity)</td>\n",
       "      <td>B00DIHVMEA,B00EZ1ZTV0</td>\n",
       "      <td>Amazonbasics</td>\n",
       "      <td>Audio &amp; Video Accessories,TV, Video &amp; Home Aud...</td>\n",
       "      <td>Electronics</td>\n",
       "      <td>http://ecx.images-amazon.com/images/I/41jQha7Z...</td>\n",
       "      <td>amazonbasicsnyloncddvdbinder400capacity/b00ez1...</td>\n",
       "      <td>...</td>\n",
       "      <td>NaN</td>\n",
       "      <td>NaN</td>\n",
       "      <td>5</td>\n",
       "      <td>http://www.amazon.co.uk/gp/product-reviews/B00...</td>\n",
       "      <td>After discarding and getting rid of broken cd ...</td>\n",
       "      <td>It was a much needed storage</td>\n",
       "      <td>Diablita</td>\n",
       "      <td>https://www.ebay.com/itm/AmazonBasics-Nylon-CD...</td>\n",
       "      <td>after discarding and getting rid of broken cd ...</td>\n",
       "      <td>[discard, getting, rid, broken, cd, case, brea...</td>\n",
       "    </tr>\n",
       "    <tr>\n",
       "      <th>8345</th>\n",
       "      <td>AVpe7nGV1cnluZ0-aG2o</td>\n",
       "      <td>2014-10-28T11:14:38Z</td>\n",
       "      <td>2019-04-25T09:05:28Z</td>\n",
       "      <td>AmazonBasics Nylon CD/DVD Binder (400 Capacity)</td>\n",
       "      <td>B00DIHVMEA,B00EZ1ZTV0</td>\n",
       "      <td>Amazonbasics</td>\n",
       "      <td>Audio &amp; Video Accessories,TV, Video &amp; Home Aud...</td>\n",
       "      <td>Electronics</td>\n",
       "      <td>http://ecx.images-amazon.com/images/I/41jQha7Z...</td>\n",
       "      <td>amazonbasicsnyloncddvdbinder400capacity/b00ez1...</td>\n",
       "      <td>...</td>\n",
       "      <td>NaN</td>\n",
       "      <td>NaN</td>\n",
       "      <td>5</td>\n",
       "      <td>https://www.ebay.com/itm/Amazonbasics-Nylon-Cd...</td>\n",
       "      <td>A few dollars more, but I am boycotting amazon</td>\n",
       "      <td>it was worth it</td>\n",
       "      <td>coldbloodblazing</td>\n",
       "      <td>https://www.ebay.com/itm/AmazonBasics-Nylon-CD...</td>\n",
       "      <td>a few dollars more but i am boycotting amazon</td>\n",
       "      <td>[dollar, boycott, amazon]</td>\n",
       "    </tr>\n",
       "  </tbody>\n",
       "</table>\n",
       "<p>3 rows × 26 columns</p>\n",
       "</div>"
      ],
      "text/plain": [
       "                        id             dateAdded           dateUpdated  \\\n",
       "8343  AVpe7nGV1cnluZ0-aG2o  2014-10-28T11:14:38Z  2019-04-25T09:05:28Z   \n",
       "8344  AVpe7nGV1cnluZ0-aG2o  2014-10-28T11:14:38Z  2019-04-25T09:05:28Z   \n",
       "8345  AVpe7nGV1cnluZ0-aG2o  2014-10-28T11:14:38Z  2019-04-25T09:05:28Z   \n",
       "\n",
       "                                                 name                  asins  \\\n",
       "8343  AmazonBasics Nylon CD/DVD Binder (400 Capacity)  B00DIHVMEA,B00EZ1ZTV0   \n",
       "8344  AmazonBasics Nylon CD/DVD Binder (400 Capacity)  B00DIHVMEA,B00EZ1ZTV0   \n",
       "8345  AmazonBasics Nylon CD/DVD Binder (400 Capacity)  B00DIHVMEA,B00EZ1ZTV0   \n",
       "\n",
       "             brand                                         categories  \\\n",
       "8343  Amazonbasics  Audio & Video Accessories,TV, Video & Home Aud...   \n",
       "8344  Amazonbasics  Audio & Video Accessories,TV, Video & Home Aud...   \n",
       "8345  Amazonbasics  Audio & Video Accessories,TV, Video & Home Aud...   \n",
       "\n",
       "     primaryCategories                                          imageURLs  \\\n",
       "8343       Electronics  http://ecx.images-amazon.com/images/I/41jQha7Z...   \n",
       "8344       Electronics  http://ecx.images-amazon.com/images/I/41jQha7Z...   \n",
       "8345       Electronics  http://ecx.images-amazon.com/images/I/41jQha7Z...   \n",
       "\n",
       "                                                   keys  ... reviews.id  \\\n",
       "8343  amazonbasicsnyloncddvdbinder400capacity/b00ez1...  ...        NaN   \n",
       "8344  amazonbasicsnyloncddvdbinder400capacity/b00ez1...  ...        NaN   \n",
       "8345  amazonbasicsnyloncddvdbinder400capacity/b00ez1...  ...        NaN   \n",
       "\n",
       "     reviews.numHelpful reviews.rating  \\\n",
       "8343                NaN              5   \n",
       "8344                NaN              5   \n",
       "8345                NaN              5   \n",
       "\n",
       "                                     reviews.sourceURLs  \\\n",
       "8343  https://www.ebay.com/itm/Amazonbasics-Nylon-Cd...   \n",
       "8344  http://www.amazon.co.uk/gp/product-reviews/B00...   \n",
       "8345  https://www.ebay.com/itm/Amazonbasics-Nylon-Cd...   \n",
       "\n",
       "                                           reviews.text  \\\n",
       "8343  Great case to keep everything in its place! My...   \n",
       "8344  After discarding and getting rid of broken cd ...   \n",
       "8345     A few dollars more, but I am boycotting amazon   \n",
       "\n",
       "                     reviews.title  reviews.username  \\\n",
       "8343             Excellent product           qs341_5   \n",
       "8344  It was a much needed storage          Diablita   \n",
       "8345               it was worth it  coldbloodblazing   \n",
       "\n",
       "                                             sourceURLs  \\\n",
       "8343  https://www.ebay.com/itm/AmazonBasics-Nylon-CD...   \n",
       "8344  https://www.ebay.com/itm/AmazonBasics-Nylon-CD...   \n",
       "8345  https://www.ebay.com/itm/AmazonBasics-Nylon-CD...   \n",
       "\n",
       "                                             clean_text  \\\n",
       "8343  great case to keep everything in its place my ...   \n",
       "8344  after discarding and getting rid of broken cd ...   \n",
       "8345      a few dollars more but i am boycotting amazon   \n",
       "\n",
       "                                                 lemmas  \n",
       "8343  [great, case, place, husband, love, hold, lot,...  \n",
       "8344  [discard, getting, rid, broken, cd, case, brea...  \n",
       "8345                          [dollar, boycott, amazon]  \n",
       "\n",
       "[3 rows x 26 columns]"
      ]
     },
     "execution_count": 22,
     "metadata": {},
     "output_type": "execute_result"
    }
   ],
   "source": [
    "df_electronics.head(3)"
   ]
  },
  {
   "cell_type": "markdown",
   "metadata": {
    "id": "FfZWF0I9zGd-"
   },
   "source": [
    "------\n",
    "### Tokenize your documents \n",
    "\n",
    "Remember that you'll need to use the [**corpora**](https://radimrehurek.com/gensim/corpora/dictionary.html) class from the Gensim library. So definitely check out the docs to learn more about this tool. There is an example on how to do this in the guided project.\n",
    "\n",
    "But before we can use the [**corpora**](https://radimrehurek.com/gensim/corpora/dictionary.html) class, we must first tokenize our articles. \n",
    "\n"
   ]
  },
  {
   "cell_type": "code",
   "execution_count": 19,
   "metadata": {
    "id": "2rAMfVfB1PS-"
   },
   "outputs": [
    {
     "name": "stdout",
     "output_type": "stream",
     "text": [
      "INFO: Pandarallel will run on 6 workers.\n",
      "INFO: Pandarallel will use standard multiprocessing data transfer (pipe) to transfer data between the main process and workers.\n"
     ]
    }
   ],
   "source": [
    "# identify how many processors your machine has - save the result to `n_processors`\n",
    "\n",
    "# subtract 1 from n_processors - save the result to `nb_workers`\n",
    "\n",
    "# initialize just like we did in the guided project\n",
    "# YOUR CODE HERE\n",
    "pandarallel.initialize(progress_bar=True, nb_workers=6)"
   ]
  },
  {
   "cell_type": "code",
   "execution_count": 20,
   "metadata": {
    "id": "t6pNnk3vzGd-"
   },
   "outputs": [],
   "source": [
    "# load in the spaCy language model\n",
    "nlp = spacy.load(\"en_core_web_md\")"
   ]
  },
  {
   "cell_type": "code",
   "execution_count": 21,
   "metadata": {
    "id": "05x-KJPIBQa2"
   },
   "outputs": [
    {
     "data": {
      "application/vnd.jupyter.widget-view+json": {
       "model_id": "d07dbc0023e543b698f6e0ab60870c23",
       "version_major": 2,
       "version_minor": 0
      },
      "text/plain": [
       "VBox(children=(HBox(children=(IntProgress(value=0, description='0.00%', max=2333), Label(value='0 / 2333'))), …"
      ]
     },
     "metadata": {},
     "output_type": "display_data"
    },
    {
     "name": "stdout",
     "output_type": "stream",
     "text": [
      "CPU times: user 295 ms, sys: 112 ms, total: 408 ms\n",
      "Wall time: 19.1 s\n"
     ]
    }
   ],
   "source": [
    "%%time\n",
    "# create our tokens in the form of lemmas \n",
    "df_electronics['lemmas'] = df_electronics['clean_text'].parallel_apply(lambda x: [token.lemma_ for token in nlp(x) if (token.is_stop != True) and (token.is_punct != True)])"
   ]
  },
  {
   "cell_type": "markdown",
   "metadata": {
    "id": "WS7vTVqnzGd_"
   },
   "source": [
    "### Use the corpora class to prep your data for LDA\n",
    "\n",
    "You'll need to create the same `id2word` and `corpus` objects that we created in the guided projects. So be sure to reference the guided project notebook if you need to. "
   ]
  },
  {
   "cell_type": "code",
   "execution_count": 23,
   "metadata": {
    "deletable": false,
    "id": "7paL9zS7zGd_",
    "nbgrader": {
     "cell_type": "code",
     "checksum": "53bf811aebb39e7ed6fc592851f82f8b",
     "grade": false,
     "grade_id": "cell-9d92f28649aa999e",
     "locked": false,
     "schema_version": 3,
     "solution": true,
     "task": false
    }
   },
   "outputs": [],
   "source": [
    "# Create lemma dictionary using Dictionary - save result to `id2word`\n",
    "id2word = corpora.Dictionary(df_electronics['lemmas'])\n",
    "id2word.filter_extremes(no_below=2, no_above=0.5)"
   ]
  },
  {
   "cell_type": "code",
   "execution_count": 24,
   "metadata": {},
   "outputs": [],
   "source": [
    "# Create Term Document Frequency list - save result to `corpus`\n",
    "corpus = [id2word.doc2bow(doc_lemmas) for doc_lemmas in df_electronics['lemmas']]"
   ]
  },
  {
   "cell_type": "markdown",
   "metadata": {
    "id": "vtmHceiazGd_"
   },
   "source": [
    "## Gridsearch the number of topics \n",
    "\n",
    "Just as we did in the guided project, we're going to run a `for` loop over a range of possible number of topics and then plot the `coherence_values` to determine which number of topics leads to the most sensible grouping of documents. "
   ]
  },
  {
   "cell_type": "code",
   "execution_count": 25,
   "metadata": {
    "id": "FBICFYD4zGeA"
   },
   "outputs": [],
   "source": [
    "def compute_coherence_values(dictionary, corpus, texts, limit, start=2, step=3):\n",
    "    \"\"\"\n",
    "    Compute c_v coherence for various number of topics\n",
    "\n",
    "    Parameters:\n",
    "    ----------\n",
    "    dictionary : Gensim dictionary\n",
    "    corpus : Gensim corpus\n",
    "    texts : List of input texts\n",
    "    limit : Max num of topics\n",
    "\n",
    "    Returns:\n",
    "    -------\n",
    "    model_list : List of LDA topic models\n",
    "    coherence_values : Coherence values corresponding to the LDA model with respective number of topics\n",
    "    \"\"\"\n",
    "    coherence_values = []\n",
    "    model_list = []\n",
    "    for num_topics in range(start, limit, step):\n",
    "        model = gensim.models.ldamulticore.LdaMulticore(corpus=corpus,\n",
    "                                                        id2word=id2word,\n",
    "                                                        num_topics=num_topics, \n",
    "                                                        chunksize=100,\n",
    "                                                        passes=10,\n",
    "                                                        random_state=1234,\n",
    "                                                        per_word_topics=True,\n",
    "                                                        workers=6)\n",
    "        model_list.append(model)\n",
    "        coherencemodel = CoherenceModel(model=model, texts=texts, dictionary=dictionary, coherence='c_v')\n",
    "        coherence_values.append(coherencemodel.get_coherence())\n",
    "\n",
    "    return model_list, coherence_values"
   ]
  },
  {
   "cell_type": "code",
   "execution_count": 26,
   "metadata": {
    "id": "Nn20KdDl2HUR"
   },
   "outputs": [
    {
     "name": "stdout",
     "output_type": "stream",
     "text": [
      "CPU times: user 10.8 s, sys: 3.64 s, total: 14.4 s\n",
      "Wall time: 40.7 s\n"
     ]
    }
   ],
   "source": [
    "%%time\n",
    "model_list, coherence_values = compute_coherence_values(dictionary=id2word, corpus=corpus, texts=df_electronics['lemmas'], start=2, limit=16, step=2)"
   ]
  },
  {
   "cell_type": "code",
   "execution_count": 27,
   "metadata": {
    "id": "k2kJsVLt2P5-"
   },
   "outputs": [
    {
     "data": {
      "image/png": "[encoded data removed]",
      "text/plain": [
       "<Figure size 2000x500 with 1 Axes>"
      ]
     },
     "metadata": {},
     "output_type": "display_data"
    }
   ],
   "source": [
    "start=2; limit=16;  step=2;\n",
    "x = range(start, limit, step)\n",
    "\n",
    "plt.figure(figsize=(20,5))\n",
    "plt.grid()\n",
    "plt.title(\"Coherence Score vs. Number of Topics\")\n",
    "plt.xticks(x)\n",
    "plt.plot(x, coherence_values, \"-o\")\n",
    "\n",
    "plt.xlabel(\"Num Topics\")\n",
    "plt.ylabel(\"Coherence score\")\n",
    "\n",
    "plt.show();"
   ]
  },
  {
   "cell_type": "code",
   "execution_count": 30,
   "metadata": {
    "deletable": false,
    "id": "1Qx7OVX-zGeB",
    "nbgrader": {
     "cell_type": "code",
     "checksum": "45f72ff929ab8b765d0f0b5f35137f0d",
     "grade": false,
     "grade_id": "cell-e97661faebf1ac3c",
     "locked": false,
     "schema_version": 3,
     "solution": true,
     "task": false
    }
   },
   "outputs": [],
   "source": [
    "# use np.argmax() to get index of largest coherence value from coherence_values - save result to `max_cohereance_val_index`\n",
    "\n",
    "# use `max_coherence_val_index` to index model_list for the corresponding model - save result to `lda_trained_model`\n",
    "\n",
    "max_coherence_val_index = np.argmax(coherence_values)\n",
    "\n",
    "lda_trained_model = model_list[max_coherence_val_index]\n",
    "\n",
    "# YOUR CODE HERE"
   ]
  },
  {
   "cell_type": "code",
   "execution_count": 31,
   "metadata": {
    "colab": {
     "base_uri": "https://localhost:8080/"
    },
    "executionInfo": {
     "elapsed": 244,
     "status": "ok",
     "timestamp": 1630271190181,
     "user": {
      "displayName": "Joseph catanzarite",
      "photoUrl": "https://lh3.googleusercontent.com/a-/AOh14GgmMRaw8NgoEDqzevEZ6b18iOYdEH9nWTZeaFBW=s64",
      "userId": "16649206137414945374"
     },
     "user_tz": 420
    },
    "id": "7y-wokYcIg9_",
    "outputId": "b5fabbe1-26f3-4770-a011-f892bc76a3c5"
   },
   "outputs": [
    {
     "data": {
      "text/plain": [
       "<gensim.models.ldamulticore.LdaMulticore at 0x10648b090>"
      ]
     },
     "execution_count": 31,
     "metadata": {},
     "output_type": "execute_result"
    }
   ],
   "source": [
    "lda_trained_model"
   ]
  },
  {
   "cell_type": "markdown",
   "metadata": {
    "id": "LwGY4o8fzGeB"
   },
   "source": [
    "## Use pyLDAvis to visualize your topics \n",
    "\n",
    "Take a look at the topic bubbles and bar chart for the terms on the right hand side.  \n",
    "\n",
    "- Describe the topic bubbles. \n",
    "- Do they overlap or not? \n",
    "- What does it mean when they overlap? \n",
    "- What does it mean when they don't overlap?\n",
    "- Are the terms in each topic distinct from the topics in the other topic bubbles?\n"
   ]
  },
  {
   "cell_type": "code",
   "execution_count": 33,
   "metadata": {
    "id": "YBqK345s2oYC"
   },
   "outputs": [
    {
     "data": {
      "text/html": [
       "\n",
       "<link rel=\"stylesheet\" type=\"text/css\" href=\"https://cdn.jsdelivr.net/gh/bmabey/pyLDAvis@3.4.0/pyLDAvis/js/ldavis.v1.0.0.css\">\n",
       "\n",
       "\n",
       "<div id=\"ldavis_el33909108368276488444218515\" style=\"background-color:white;\"></div>\n",
       "<script type=\"text/javascript\">\n",
       "\n",
       "var ldavis_el33909108368276488444218515_data = {\"mdsDat\": {\"x\": [-0.089953724242346, -0.10013923184549547, -0.1539363589026686, 0.17988557139332956, 0.03642109513152782, -0.1699175740082059, 0.12943556581138094, 0.16820465666247789], \"y\": [0.14760679300581503, -0.09343430991447557, 0.08388761890230495, -0.10264289828580184, -0.032559977208410376, -0.13483420556724024, 0.22247882496300925, -0.09050184589520108], \"topics\": [1, 2, 3, 4, 5, 6, 7, 8], \"cluster\": [1, 1, 1, 1, 1, 1, 1, 1], \"Freq\": [15.450238792179082, 13.9050055781533, 13.855170743461152, 12.398340219023456, 11.998772144528859, 11.667900597917821, 10.924432307875339, 9.80013961686099]}, \"tinfo\": {\"Term\": [\"kid\", \"old\", \"tablet\", \"year\", \"t\", \"love\", \"app\", \"easy\", \"kindle\", \"book\", \"use\", \"price\", \"read\", \"game\", \"great\", \"fire\", \"gift\", \"good\", \"watch\", \"play\", \"movie\", \"store\", \"buy\", \"google\", \"christmas\", \"daughter\", \"amazon\", \"download\", \"son\", \"grandson\", \"adult\", \"nephew\", \"kid\", \"appropriate\", \"kids\", \"bumper\", \"slot\", \"smooth\", \"transfer\", \"activity\", \"rubber\", \"credit\", \"nexus\", \"teen\", \"entertain\", \"durability\", \"brand\", \"selection\", \"expansion\", \"edit\", \"teenage\", \"loaded\", \"microsd\", \"password\", \"kiddo\", \"entertaining\", \"age\", \"rugged\", \"unwanted\", \"processor\", \"crack\", \"protect\", \"tough\", \"table\", \"android\", \"hd\", \"fire\", \"speed\", \"budget\", \"tablet\", \"fast\", \"storage\", \"good\", \"value\", \"child\", \"great\", \"parent\", \"price\", \"replace\", \"recommend\", \"display\", \"love\", \"amazon\", \"product\", \"buy\", \"awesome\", \"deal\", \"work\", \"well\", \"kindle\", \"purchase\", \"lot\", \"old\", \"case\", \"battery\", \"feature\", \"screen\", \"app\", \"get\", \"year\", \"movie\", \"surf\", \"social\", \"galaxy\", \"mail\", \"nd\", \"streaming\", \"hulu\", \"thrilled\", \"loose\", \"membership\", \"nabi\", \"audiobook\", \"plane\", \"cartoon\", \"brainer\", \"teach\", \"sunlight\", \"visit\", \"downfall\", \"watch\", \"memory\", \"subscribe\", \"offline\", \"maneuver\", \"breeze\", \"boot\", \"mouse\", \"email\", \"grandmother\", \"web\", \"library\", \"check\", \"book\", \"show\", \"mainly\", \"internet\", \"download\", \"tool\", \"read\", \"game\", \"ton\", \"video\", \"grand\", \"card\", \"use\", \"access\", \"gb\", \"reading\", \"play\", \"easy\", \"fire\", \"great\", \"navigate\", \"tablet\", \"kindle\", \"app\", \"music\", \"love\", \"hd\", \"want\", \"amazon\", \"purchase\", \"perfect\", \"s\", \"mother\", \"tech\", \"friday\", \"friendly\", \"law\", \"birthday\", \"mom\", \"perform\", \"savvy\", \"busy\", \"trouble\", \"holiday\", \"numerous\", \"grandma\", \"reasonably\", \"defective\", \"aunt\", \"granddaughter\", \"purse\", \"match\", \"story\", \"buying\", \"lead\", \"programming\", \"savy\", \"instagram\", \"copy\", \"wonderfully\", \"guide\", \"versatility\", \"present\", \"gift\", \"christmas\", \"black\", \"totally\", \"person\", \"user\", \"niece\", \"bag\", \"hope\", \"easy\", \"friend\", \"facebook\", \"use\", \"ease\", \"carry\", \"love\", \"lightweight\", \"size\", \"recommend\", \"great\", \"buy\", \"family\", \"purchase\", \"perfect\", \"product\", \"get\", \"small\", \"wife\", \"daughter\", \"tablet\", \"s\", \"work\", \"price\", \"set\", \"good\", \"need\", \"kindle\", \"enjoy\", \"google\", \"instal\", \"install\", \"grandchild\", \"pre\", \"ride\", \"lol\", \"sort\", \"protector\", \"chrome\", \"rough\", \"mind\", \"root\", \"college\", \"interested\", \"complete\", \"aspect\", \"limited\", \"compatible\", \"appstore\", \"fight\", \"knowledgeable\", \"specific\", \"window\", \"playstore\", \"security\", \"textbook\", \"necessary\", \"popular\", \"technical\", \"store\", \"haven\", \"os\", \"wouldn\", \"con\", \"slow\", \"difficult\", \"app\", \"probably\", \"load\", \"doesn\", \"t\", \"iphone\", \"isn\", \"don\", \"available\", \"thing\", \"not\", \"didn\", \"ok\", \"like\", \"amazon\", \"s\", \"play\", \"wish\", \"device\", \"find\", \"think\", \"come\", \"little\", \"need\", \"download\", \"want\", \"tablet\", \"free\", \"work\", \"get\", \"time\", \"use\", \"page\", \"voyage\", \"paperwhite\", \"ereader\", \"past\", \"adjust\", \"white\", \"paper\", \"oasis\", \"boy\", \"thin\", \"lighting\", \"n\", \"efficient\", \"backlight\", \"b\", \"constant\", \"challenge\", \"gen\", \"complicated\", \"aware\", \"background\", \"auto\", \"explain\", \"sensitive\", \"impossible\", \"noticeable\", \"thoroughly\", \"invest\", \"x\", \"nook\", \"model\", \"improve\", \"generation\", \"previous\", \"own\", \"light\", \"upgrade\", \"original\", \"reasonable\", \"kindle\", \"reader\", \"weight\", \"eye\", \"cover\", \"screen\", \"new\", \"turn\", \"battery\", \"hold\", \"e\", \"read\", \"well\", \"charge\", \"like\", \"version\", \"life\", \"fire\", \"large\", \"long\", \"book\", \"good\", \"device\", \"s\", \"feature\", \"nice\", \"love\", \"m\", \"parental\", \"yr\", \"grandson\", \"associate\", \"menu\", \"homework\", \"monitor\", \"rear\", \"puzzle\", \"pic\", \"advertisement\", \"entry\", \"frustrating\", \"anymore\", \"quirk\", \"sleek\", \"inappropriate\", \"washington\", \"yrs\", \"control\", \"gets\", \"vibrant\", \"period\", \"fianc\", \"article\", \"aside\", \"flash\", \"twin\", \"comfortably\", \"saver\", \"advanced\", \"year\", \"old\", \"restriction\", \"warranty\", \"educational\", \"month\", \"son\", \"daughter\", \"worry\", \"setting\", \"break\", \"send\", \"charge\", \"learning\", \"time\", \"content\", \"love\", \"game\", \"play\", \"child\", \"drop\", \"durable\", \"buy\", \"set\", \"operate\", \"s\", \"long\", \"get\", \"easy\", \"use\", \"tablet\", \"case\", \"new\", \"screen\", \"come\", \"like\", \"kindle\", \"beginner\", \"functional\", \"call\", \"starter\", \"operating\", \"task\", \"pink\", \"hasn\", \"recipient\", \"xmas\", \"gig\", \"state\", \"silk\", \"honestly\", \"hundred\", \"employee\", \"entire\", \"fraction\", \"glitch\", \"fancy\", \"delighted\", \"concern\", \"teenager\", \"basic\", \"properly\", \"bargain\", \"bb\", \"snappy\", \"pin\", \"beat\", \"camera\", \"expect\", \"customer\", \"samsung\", \"couldn\", \"cost\", \"overall\", \"one\", \"ipad\", \"decent\", \"low\", \"price\", \"performance\", \"happy\", \"mini\", \"t\", \"cheap\", \"tablet\", \"good\", \"need\", \"picture\", \"quality\", \"money\", \"little\", \"look\", \"buy\", \"well\", \"s\", \"great\", \"work\", \"nice\", \"m\", \"purchase\", \"product\", \"don\", \"amazon\", \"speaker\", \"netflix\", \"alexa\", \"tap\", \"echo\", \"grandkid\", \"toddler\", \"bluetooth\", \"voice\", \"dad\", \"browser\", \"dot\", \"loud\", \"wireless\", \"playing\", \"audible\", \"command\", \"steal\", \"pair\", \"weather\", \"bill\", \"answer\", \"bang\", \"proof\", \"browsing\", \"stereo\", \"net\", \"oh\", \"average\", \"ship\", \"till\", \"sound\", \"support\", \"office\", \"activate\", \"portable\", \"music\", \"prime\", \"home\", \"connect\", \"listen\", \"amazon\", \"reliable\", \"device\", \"button\", \"live\", \"wifi\", \"great\", \"work\", \"quality\", \"s\", \"good\", \"like\", \"member\", \"use\", \"battery\", \"t\", \"time\", \"want\"], \"Freq\": [1854.0, 1879.0, 6454.0, 1508.0, 2367.0, 4523.0, 1975.0, 2460.0, 2650.0, 1575.0, 3284.0, 2007.0, 1732.0, 1471.0, 4580.0, 2112.0, 973.0, 3147.0, 716.0, 1414.0, 573.0, 595.0, 3429.0, 491.0, 638.0, 786.0, 2131.0, 713.0, 795.0, 401.0, 141.9214721392391, 134.01346697560396, 1840.296104524864, 73.4626419902724, 48.80610054142519, 47.35009630596941, 44.26783324614895, 42.204546406702136, 41.409595100212776, 41.0039923933529, 34.99775632573331, 32.38508907282165, 31.55273018966624, 28.36222556970828, 92.04894375779831, 24.89382583118905, 87.5320542232175, 53.09654001287562, 22.427489350237543, 22.402570240823646, 21.646507183769813, 20.82365789957293, 19.938378545043545, 18.939429080980396, 18.80126741724664, 17.929333392672692, 215.77225716361983, 14.772418141138548, 14.409608629592054, 41.02999265672984, 39.5122908020867, 81.9458771350592, 33.755063591957565, 73.63051698909733, 205.75561977600702, 407.7813600115069, 1149.0572447647683, 107.89067748892182, 38.12226674705923, 2508.415806248799, 334.6621570036328, 179.58427824068974, 1263.9105187301514, 165.96658860489168, 316.8017318436935, 1467.3465042795658, 92.97406109506626, 618.5228483280391, 166.11396198075462, 276.06771954061816, 115.39797930790239, 816.6158796331945, 487.97731673795573, 352.09009254194905, 621.4219810788204, 155.06348206770753, 126.04808530408265, 345.37997092385166, 253.70644167117055, 439.10133545091304, 292.74366255779006, 200.30929529740797, 297.6481834620429, 176.73439143962852, 191.33639728706615, 179.7574030568133, 210.48418418698182, 207.28272083625427, 188.2760411751321, 183.05831154483485, 572.4644196010946, 163.63081761985742, 57.375577531190906, 56.688688879947755, 49.19060441477567, 45.55867042067035, 42.035850729484295, 36.828602050960754, 28.873328814259377, 28.59432800467325, 28.34086867868418, 26.628450666224406, 24.010404440849083, 22.79593654386359, 22.775266487954315, 22.41496377386321, 22.40001989274653, 21.451474543833804, 20.71536696797568, 19.724221464925677, 683.1798940932072, 266.0523308545698, 17.47109705746066, 17.169893324463633, 16.838828638644287, 16.464594492959183, 16.435734950490293, 16.010831017945875, 236.99325067040652, 14.81229579623706, 260.6773278060689, 122.77374199912374, 152.67457460887138, 1263.4714000976676, 194.36614834396778, 65.27816554413268, 322.6584909052016, 512.7921965261811, 83.42249106940122, 1124.3435514965634, 873.7451744590066, 71.78161770579582, 306.16897469914755, 70.73859914643822, 159.98100332561484, 995.7308459355864, 185.3889823638057, 144.85025115186656, 129.89649155573403, 448.0199024899719, 645.736848727721, 526.274365472172, 812.911555081791, 124.18488846654681, 829.4400805579276, 494.9840862476993, 419.0200679501514, 181.82648474428538, 511.23217897629553, 185.85127753962539, 232.8019241218034, 313.16745475048197, 204.16459066777898, 170.15539559741745, 166.84560033228047, 158.39841629814208, 104.2346558044887, 171.88902379849029, 293.14051546939635, 84.53509788560052, 173.58944965881997, 234.3483912877697, 54.16883288312777, 45.86856205480039, 43.57071619624615, 42.391784771989954, 28.317645060955805, 27.276214990035157, 22.72839984123701, 19.887784738339832, 19.917673809031402, 17.323632146891224, 285.50057923959577, 60.2685666480035, 15.674341880822894, 14.93009286386007, 14.062703264133711, 13.829488058482596, 13.198450123326463, 13.019734819825384, 11.815211242169353, 11.551625340246149, 11.424442402487923, 11.068287749715383, 10.584706596493001, 122.26985399787252, 861.397379247677, 564.1040161756929, 199.46238212955038, 37.85615090051693, 77.11878677689029, 261.2948601062921, 112.86500279249164, 37.69981193720027, 58.36787254302318, 1396.580302580415, 125.9761301910717, 104.12154214775865, 1499.3295402404979, 107.4455789095995, 121.98026895714865, 1569.5474008496224, 75.2316253293305, 372.58532280845793, 346.40226431955347, 1272.5315043959254, 920.8658471678444, 124.69221853261317, 511.54893226212425, 325.0325828819168, 413.9200800690307, 378.92345887863, 197.6542607038499, 182.6920442780242, 255.9715036344614, 716.08049826677, 425.1926517050639, 330.91585069746344, 354.4672001611266, 209.6506315189836, 302.01039615068254, 199.52907116588653, 200.52811190023309, 181.44261481120944, 490.67003409303294, 102.2199708606182, 96.73181274882174, 89.96106293396866, 56.962048768963335, 45.04284065419172, 42.97507332317074, 37.63079780010439, 36.076482244909414, 39.38240140824089, 31.59680434637375, 40.07769611802741, 25.969533296574028, 32.67032729666886, 25.490599618048236, 25.01798516427669, 25.769227652105446, 85.61514055325077, 23.49324931801145, 21.98135018798597, 21.40507176284543, 20.504368501017307, 20.34366839380462, 20.148860784224578, 19.950243922339407, 21.612142380676865, 18.819442978911386, 17.991118323174742, 16.782391523620642, 16.404236402757636, 561.4496260275179, 129.51929177917438, 89.58447426089744, 86.34946990459888, 62.74899062634955, 216.43748066247883, 66.67949780219512, 1336.456223652147, 69.01303817112215, 179.01689340652456, 196.56749820648287, 1370.8526948588215, 45.082724608559616, 96.88744510213718, 351.1907329178972, 171.6731836735225, 286.5368124112254, 125.51720609489759, 137.28316949401128, 90.57131949594978, 462.1663763659513, 517.287249960947, 550.2560657123292, 352.9808818284287, 110.49909459489176, 260.5954020552577, 175.01970111391327, 153.36224705133148, 158.22390479065263, 181.41480156191136, 213.11172920143176, 176.01309336953875, 189.64133539725108, 296.56097585929797, 133.2439840264866, 176.17646515610906, 156.73855231041247, 139.61902719324425, 156.11528045151877, 209.00605977883873, 151.25814555542524, 126.05581762900408, 73.46855861718237, 65.93474044924649, 65.18949530935821, 64.07541615125584, 56.859781895430324, 55.98266140674302, 53.05638622777477, 37.20534706864159, 36.79563370632875, 32.93778305087507, 32.71632968261384, 30.836045875375213, 30.15103108734482, 28.194802059218592, 27.973656238619355, 27.047009689708013, 25.771634030362712, 23.52584751763816, 23.40260799832152, 22.96813841004847, 22.223845851414154, 22.095769940988095, 21.871694252617733, 21.11759555038902, 20.603544602498946, 20.47973353442993, 19.91660560033554, 103.79843547412888, 204.61737097213935, 46.845442142167656, 111.15639081261833, 136.472179331369, 93.44870002632706, 434.7616115822653, 247.27411193772596, 126.44767145363542, 54.247869416913666, 1367.475656729012, 296.0335565418619, 113.32699144779772, 89.81017167878645, 117.996076629093, 643.518214825637, 398.8732271488564, 171.47908317560814, 298.69449157336834, 177.8834448023419, 131.49654805922611, 418.60639962043723, 251.70295068344961, 198.09350666626523, 321.12541770275175, 135.09620564828347, 153.02348002191746, 310.1101600010364, 116.37675381720865, 154.17255429362982, 220.73260718122958, 253.41977426916844, 172.88801072675943, 187.29286824272907, 146.67615351734972, 144.35296569524937, 158.80599660606242, 132.7945842657729, 309.30053184392995, 246.40198898749964, 394.1057619349563, 39.58653762770921, 35.31601584643295, 35.06742773665611, 35.62081000651833, 31.04057401771478, 30.158763363100057, 26.647273365606296, 32.067291846906585, 23.305947139105985, 22.232511355398646, 21.54825688222581, 20.27737342807449, 19.50561145161015, 18.64058559574557, 18.13785017250619, 18.159670146220407, 378.2447358363029, 16.948089275732674, 16.588090807112145, 16.514520350528024, 16.313416388776364, 14.496592931253733, 13.215762194525558, 12.98950617744088, 12.887703011826934, 12.864306982033295, 12.185888283260345, 14.69961303843193, 1324.1006140147538, 1567.0793721452073, 22.203803579926742, 152.04171446436226, 119.14361477846914, 147.8168784598165, 491.49684920093574, 468.21498356353703, 73.38081111908697, 84.88577171757387, 165.86336898860534, 45.27559986519755, 298.6090967230549, 84.52371021668817, 484.7837342702287, 108.86924300137247, 1382.1735828093215, 556.345604644029, 539.4374950545025, 265.5314298618859, 132.42735117335727, 125.87824135285976, 804.6794493332765, 188.95728299118218, 67.21580376509976, 415.35151662110144, 161.52906920665404, 254.32060287959195, 358.19935627515383, 414.7484707201218, 537.3558624163201, 155.88553394931392, 171.40911731055908, 162.34546360918625, 139.34954827077217, 161.832825895735, 147.54685016481815, 95.64945673370502, 50.0612450415893, 49.73989692577072, 48.34703490015891, 48.29032407692497, 36.3008541741521, 35.20262526893436, 33.565997892715515, 28.141932016672396, 28.01485427709771, 25.649825118110346, 25.299122968732853, 24.840515134283912, 25.623172071937827, 24.49038291802465, 21.115058100052163, 20.615804122393122, 20.477647378594067, 20.26650946002065, 24.056723286333696, 19.86253095393907, 20.00283114185669, 19.378466932865894, 194.85501859251494, 18.6644596782878, 18.493281505212526, 18.473055074440566, 17.607295693223556, 17.339382524194136, 212.7338105995025, 309.3695688079152, 209.88531461023106, 69.5998458348872, 115.36913271257477, 98.99267449336054, 136.4427814546324, 206.5360704273428, 86.57592325388073, 421.1622175694532, 110.74026478075669, 166.69320582189664, 968.3387687218966, 85.36837869861645, 271.3365937245998, 73.55763486578029, 764.9819537300048, 162.4381644562357, 1564.4315593695253, 902.4955750865689, 377.03861009268405, 150.86053318063583, 221.9413527012132, 157.00756417309358, 241.24192464463755, 226.7426675267871, 624.5489664399024, 258.09781060290663, 457.8672980466948, 605.5128038158155, 344.50492462310785, 228.74223079066473, 180.7337411186745, 250.63364930639943, 192.34959260477686, 148.74004497689032, 171.60382886360688, 330.0572007056187, 312.293066245753, 301.31728364884526, 227.5032223894142, 214.64646950919655, 175.25016312665326, 111.13508496573087, 105.6230435524549, 72.31369091713306, 72.03133197156008, 70.20376580814028, 53.664827315241254, 54.25236599787872, 50.578294148001156, 46.531238179403715, 48.11138125922996, 41.74860403565285, 38.10844549134655, 41.147660972273734, 46.32006694342788, 36.0149613110379, 36.83238845781782, 34.15548027294016, 31.05131023060814, 30.98698476368919, 30.471151737699085, 30.541121271401295, 30.724067727563398, 28.610963801910497, 26.54273231898579, 32.16708821600506, 369.017346767008, 79.50754863848763, 45.12069274871576, 39.915831726346326, 136.78068408886995, 298.09059356522687, 250.24578386980747, 132.73649127821534, 107.90745235185796, 117.74724591366673, 537.9885156070912, 56.597794739463936, 283.4509468989334, 109.15804773082368, 61.11463979735133, 98.95463311027578, 354.4046066719413, 223.81824919904625, 135.9359635777872, 238.50987729805325, 235.5507057543973, 167.10346511469476, 78.64669841154063, 158.225701513471, 109.26377117163183, 131.64866020404298, 106.69185507743562, 103.9748337830251], \"Total\": [1854.0, 1879.0, 6454.0, 1508.0, 2367.0, 4523.0, 1975.0, 2460.0, 2650.0, 1575.0, 3284.0, 2007.0, 1732.0, 1471.0, 4580.0, 2112.0, 973.0, 3147.0, 716.0, 1414.0, 573.0, 595.0, 3429.0, 491.0, 638.0, 786.0, 2131.0, 713.0, 795.0, 401.0, 142.83022014363306, 134.92106466677114, 1854.8607933426333, 74.37304655371943, 49.71324630410706, 48.25871674209843, 45.190518726403205, 43.11192982763249, 42.3172209238169, 41.91185421488153, 35.94788701983386, 33.295147762581095, 32.459519251744425, 29.269759945316355, 95.150291917428, 25.80161557741068, 90.8117087829596, 55.2378325760697, 23.334425885066256, 23.313376910385053, 22.553680012858457, 21.731714298473836, 20.85744136296158, 19.84758874661764, 19.70813973829584, 18.837184798151036, 228.98925189553148, 15.691014220671752, 15.316878153402747, 43.729493248096134, 43.12119778789743, 92.682878159155, 36.966215919310095, 86.44681833332558, 274.84567992076296, 598.2297231433838, 2112.6322556770956, 142.6307972603655, 43.779907226967765, 6454.152678476578, 587.232899753885, 278.9022198623614, 3147.0913476713117, 261.39077236781014, 607.7783952626608, 4580.977686252169, 139.64308770201185, 2007.5011212734694, 345.55297820320766, 762.1629134084371, 201.32548331994718, 4523.085265962206, 2131.197655442013, 1275.0538258206384, 3429.519645000172, 341.14380954500547, 242.56799000153856, 1630.570374794767, 917.8461278123146, 2650.4272131341427, 1583.8648832410431, 684.5806904405534, 1879.1321988590225, 552.9463183404127, 711.7521490112579, 642.4327704717289, 1378.0499742372317, 1975.1434805960964, 1243.9916613590158, 1508.4613483258495, 573.4825524903423, 164.53734066625884, 58.28223082721707, 57.596460592631416, 50.09869188435339, 46.46595975773994, 42.94294711433491, 37.982104333021354, 29.781112430107417, 29.502935381182095, 29.247776946341506, 27.53661773788601, 24.91787975048901, 23.70405906037448, 23.683604074774006, 23.322208144595983, 23.31183276222379, 22.357968601289183, 21.621641653009675, 20.63259298538918, 716.713633437454, 279.64267363947005, 18.378218904689767, 18.08103072533785, 17.745976486961734, 17.372035604089742, 17.345500754620847, 16.917577288244022, 250.6524279854393, 15.719058215888836, 284.294714593278, 134.5259558500219, 172.3239916523139, 1575.6963834535889, 224.7464637778164, 72.8562161978942, 427.2362669217679, 713.5300047516729, 99.18803783279094, 1732.4936944095375, 1471.1117960827237, 87.31199558751467, 521.3495133401397, 94.23931617317072, 266.7720387891537, 3284.2277541371404, 361.79580665949436, 269.34026850536026, 236.0963083942289, 1414.7561842055975, 2460.2036996314196, 2112.6322556770956, 4580.977686252169, 239.69290821811902, 6454.152678476578, 2650.4272131341427, 1975.1434805960964, 480.78161925900645, 4523.085265962206, 598.2297231433838, 1003.7331823448748, 2131.197655442013, 1583.8648832410431, 831.506477792808, 2590.592785706312, 159.3050048572909, 105.14135940387807, 173.4193544457247, 295.76616076433106, 85.44145084043409, 175.7664997000819, 238.18270639961673, 55.08336073099046, 46.77535996082581, 44.482803796850845, 43.29902993429584, 29.2246102474413, 28.184915968415233, 23.63496687500755, 20.794721090669288, 20.828876274756272, 18.229970612913085, 300.8058213996072, 63.71726040219068, 16.58688761014263, 15.837981643906108, 14.971443841615324, 14.737994071234814, 14.106362256252627, 13.926799715051512, 12.722111095384948, 12.462862842308713, 12.331256910709246, 11.976119045656667, 11.492146137217233, 134.4607502095713, 973.3444824937773, 638.0492762198655, 225.38737714245292, 42.58098823332906, 91.63578568769304, 340.33887608853104, 142.88670565681576, 43.38761211300002, 71.16672504488446, 2460.2036996314196, 171.4465213003865, 139.16724933630402, 3284.2277541371404, 155.9933883624676, 184.476938843632, 4523.085265962206, 102.69469432739614, 803.0224893476619, 762.1629134084371, 4580.977686252169, 3429.519645000172, 201.9323076327651, 1583.8648832410431, 831.506477792808, 1275.0538258206384, 1243.9916613590158, 442.7051737414025, 413.3805391404366, 786.9386137049147, 6454.152678476578, 2590.592785706312, 1630.570374794767, 2007.5011212734694, 603.2341323593737, 3147.0913476713117, 1063.9947624068136, 2650.4272131341427, 608.516386961382, 491.65002354104234, 103.11323200182397, 97.62794632614509, 90.85501387262924, 57.85659755075328, 45.93631727976526, 43.86906242741699, 38.52467811458961, 36.975282627322535, 40.41471529817988, 32.49126021425991, 41.21487683309024, 26.86437092808878, 33.808399277800085, 26.384305570686394, 25.912827968790662, 26.717867097162582, 88.77173050761056, 24.386368124236068, 22.874975715046, 22.298640763086613, 21.399346665498154, 21.23705486175426, 21.04219704216332, 20.843795251193146, 22.629356734018643, 19.71297552964319, 18.884339606986853, 17.676592918659214, 17.297076743760744, 595.6326402071697, 139.43968206198002, 98.96503660835327, 96.44413516988502, 69.43800763575591, 257.7984217190317, 75.47859050012144, 1975.1434805960964, 80.90135393810108, 232.21878290713565, 261.13907478650077, 2367.9886719214965, 50.81356667262384, 123.85326060154966, 555.9515539678054, 273.12984781558055, 615.8701932448312, 210.28407582726146, 251.8567439491538, 140.65217958520046, 1703.974138354858, 2131.197655442013, 2590.592785706312, 1414.7561842055975, 208.2316380923328, 900.1520787440043, 494.76372124428326, 440.9196507095099, 491.8674374401223, 681.9911234440561, 1063.9947624068136, 713.5300047516729, 1003.7331823448748, 6454.152678476578, 423.48837530276734, 1630.570374794767, 1243.9916613590158, 1161.3587511514688, 3284.2277541371404, 209.8927875562805, 152.14136029008804, 126.93927566880305, 74.35221207281157, 66.82003367064382, 66.07638976152269, 64.95859503959717, 57.743425596769015, 56.8659669246683, 53.94160941456539, 38.096169235409, 37.68102026884807, 33.82132038838723, 33.61377148634605, 31.71924186569239, 31.067084684309254, 29.07899618245852, 28.857621246069822, 27.930889337450274, 26.655879815485438, 24.41028866433795, 24.285877375076392, 23.851201753529324, 23.10982672955927, 22.97894559136779, 22.75515241527957, 22.00123942870934, 21.48772566067844, 21.367376914837642, 20.800864647207405, 111.38161575940757, 230.2249678818809, 50.799582310163366, 127.22246368327309, 161.79043232361414, 108.35105677038179, 585.8014620347992, 327.264456640655, 156.28951656891277, 62.0603565663952, 2650.4272131341427, 451.339822393742, 149.5744348847717, 114.20562688337266, 161.47495129909836, 1378.0499742372317, 793.5869969712257, 292.7084008171996, 711.7521490112579, 346.6561330072303, 256.00286348131806, 1732.4936944095375, 917.8461278123146, 592.1782935365555, 1703.974138354858, 320.5071359492615, 431.8344619705527, 2112.6322556770956, 238.1739950841708, 513.4605723123077, 1575.6963834535889, 3147.0913476713117, 900.1520787440043, 2590.592785706312, 642.4327704717289, 820.2076864976951, 4523.085265962206, 599.8037859539968, 310.2165122949084, 247.30006578169213, 401.0287766174495, 40.48532958567261, 36.214623044687045, 35.96598594999638, 36.53364629429593, 31.939320175597736, 31.0581667329246, 27.545519016683173, 33.16646073040391, 24.204508939559616, 23.131042106420836, 22.44928150203275, 21.199144289593722, 20.40385114825684, 19.538593647700637, 19.036414636092562, 19.05947613847795, 397.92839843617344, 17.846947984827093, 17.486263270486777, 17.412877940867848, 17.211188084814324, 15.395693161214089, 14.114774444418028, 13.888130175090675, 13.785548734998917, 13.76451114789015, 13.08370406684412, 15.801648903226528, 1508.4613483258495, 1879.1321988590225, 24.211157391060436, 184.20352512910878, 154.83383503706568, 200.14197958594713, 795.585442958672, 786.9386137049147, 95.10485280169377, 115.13201761696669, 254.54014537306617, 56.23707195973524, 592.1782935365555, 125.05112022334185, 1161.3587511514688, 177.63279617477932, 4523.085265962206, 1471.1117960827237, 1414.7561842055975, 607.7783952626608, 247.8804930791142, 232.2960950431302, 3429.519645000172, 603.2341323593737, 110.2136087239202, 2590.592785706312, 513.4605723123077, 1243.9916613590158, 2460.2036996314196, 3284.2277541371404, 6454.152678476578, 552.9463183404127, 793.5869969712257, 1378.0499742372317, 491.8674374401223, 1703.974138354858, 2650.4272131341427, 96.54918529039219, 50.961433518357694, 50.64067158648245, 49.24737555927238, 49.19074232317836, 37.20036228932344, 36.10479728322791, 34.46591793354575, 29.041261580315265, 28.914478010012786, 26.550011003426587, 26.199547541616276, 25.740782947408356, 26.588734799790863, 25.513193724985317, 22.014595520458688, 21.515941751125105, 21.37765697729101, 21.16700409834508, 25.14712108215208, 20.763004470624928, 20.911638299777568, 20.278582716630552, 203.99350504064068, 19.56591666997088, 19.39287264900322, 19.372942679680946, 18.507355318815875, 18.239969127946168, 224.12004225447092, 349.5240180837747, 240.66156272962044, 78.33857113120897, 134.76340356992694, 118.44820893475419, 169.17564874521779, 273.15302730034847, 108.1093614934205, 679.7500552826831, 152.3458625931292, 250.47579651787265, 2007.5011212734694, 128.75943738679484, 580.2924864854893, 107.36381289131099, 2367.9886719214965, 311.3942268986279, 6454.152678476578, 3147.0913476713117, 1063.9947624068136, 304.8788586718647, 542.7508051317708, 334.2173144217706, 681.9911234440561, 621.6589427536177, 3429.519645000172, 917.8461278123146, 2590.592785706312, 4580.977686252169, 1630.570374794767, 820.2076864976951, 599.8037859539968, 1583.8648832410431, 1275.0538258206384, 555.9515539678054, 2131.197655442013, 330.9728458798215, 313.1700621478817, 302.22067974240457, 228.39833267640734, 215.5244378578299, 176.12694059607347, 112.0127625181284, 106.49921180042774, 73.19128249812334, 72.90783306034035, 71.08087212209972, 54.541365453334144, 55.17907020609369, 51.456312553345924, 47.407918339662224, 49.03078928254555, 42.62536228882766, 38.985504009275914, 42.10120473175464, 47.4445515213669, 36.89153343421523, 37.73098490127466, 35.03104014129003, 31.929010206858997, 31.86419905888453, 31.34670918982625, 31.419282582430796, 31.628875658635568, 29.488737611935218, 27.41883439246142, 33.31157100926734, 410.70186069585867, 87.41603359297518, 47.88902894453835, 42.256283051158775, 177.36266347615242, 480.78161925900645, 389.9831456851648, 211.7239102561827, 163.66541374061214, 203.46455776028893, 2131.197655442013, 72.00525767959392, 900.1520787440043, 208.17476229957015, 83.14442038049854, 228.91192555877774, 4580.977686252169, 1630.570374794767, 542.7508051317708, 2590.592785706312, 3147.0913476713117, 1703.974138354858, 178.35583395158113, 3284.2277541371404, 711.7521490112579, 2367.9886719214965, 1161.3587511514688, 1003.7331823448748], \"Category\": [\"Default\", \"Default\", \"Default\", \"Default\", \"Default\", \"Default\", \"Default\", \"Default\", \"Default\", \"Default\", \"Default\", \"Default\", \"Default\", \"Default\", \"Default\", \"Default\", \"Default\", \"Default\", \"Default\", \"Default\", \"Default\", \"Default\", \"Default\", \"Default\", \"Default\", \"Default\", \"Default\", \"Default\", \"Default\", \"Default\", \"Topic1\", \"Topic1\", \"Topic1\", \"Topic1\", \"Topic1\", \"Topic1\", \"Topic1\", \"Topic1\", \"Topic1\", \"Topic1\", \"Topic1\", \"Topic1\", \"Topic1\", \"Topic1\", \"Topic1\", \"Topic1\", \"Topic1\", \"Topic1\", \"Topic1\", \"Topic1\", \"Topic1\", \"Topic1\", \"Topic1\", \"Topic1\", \"Topic1\", \"Topic1\", \"Topic1\", \"Topic1\", \"Topic1\", \"Topic1\", \"Topic1\", \"Topic1\", \"Topic1\", \"Topic1\", \"Topic1\", \"Topic1\", \"Topic1\", \"Topic1\", \"Topic1\", \"Topic1\", \"Topic1\", \"Topic1\", \"Topic1\", \"Topic1\", \"Topic1\", \"Topic1\", \"Topic1\", \"Topic1\", \"Topic1\", \"Topic1\", \"Topic1\", \"Topic1\", \"Topic1\", \"Topic1\", \"Topic1\", \"Topic1\", \"Topic1\", \"Topic1\", \"Topic1\", \"Topic1\", \"Topic1\", \"Topic1\", \"Topic1\", \"Topic1\", \"Topic1\", \"Topic1\", \"Topic1\", \"Topic1\", \"Topic1\", \"Topic1\", \"Topic2\", \"Topic2\", \"Topic2\", \"Topic2\", \"Topic2\", \"Topic2\", \"Topic2\", \"Topic2\", \"Topic2\", \"Topic2\", \"Topic2\", \"Topic2\", \"Topic2\", \"Topic2\", \"Topic2\", \"Topic2\", \"Topic2\", \"Topic2\", \"Topic2\", \"Topic2\", \"Topic2\", \"Topic2\", \"Topic2\", \"Topic2\", \"Topic2\", \"Topic2\", \"Topic2\", \"Topic2\", \"Topic2\", \"Topic2\", \"Topic2\", \"Topic2\", \"Topic2\", \"Topic2\", \"Topic2\", \"Topic2\", \"Topic2\", \"Topic2\", \"Topic2\", \"Topic2\", \"Topic2\", \"Topic2\", \"Topic2\", \"Topic2\", \"Topic2\", \"Topic2\", \"Topic2\", \"Topic2\", \"Topic2\", \"Topic2\", \"Topic2\", \"Topic2\", \"Topic2\", \"Topic2\", \"Topic2\", \"Topic2\", \"Topic2\", \"Topic2\", \"Topic2\", \"Topic2\", \"Topic2\", \"Topic2\", \"Topic2\", \"Topic2\", \"Topic2\", \"Topic3\", \"Topic3\", \"Topic3\", \"Topic3\", \"Topic3\", \"Topic3\", \"Topic3\", \"Topic3\", \"Topic3\", \"Topic3\", \"Topic3\", \"Topic3\", \"Topic3\", \"Topic3\", \"Topic3\", \"Topic3\", \"Topic3\", \"Topic3\", \"Topic3\", \"Topic3\", \"Topic3\", \"Topic3\", \"Topic3\", \"Topic3\", \"Topic3\", \"Topic3\", \"Topic3\", \"Topic3\", \"Topic3\", \"Topic3\", \"Topic3\", \"Topic3\", \"Topic3\", \"Topic3\", \"Topic3\", \"Topic3\", \"Topic3\", \"Topic3\", \"Topic3\", \"Topic3\", \"Topic3\", \"Topic3\", \"Topic3\", \"Topic3\", \"Topic3\", \"Topic3\", \"Topic3\", \"Topic3\", \"Topic3\", \"Topic3\", \"Topic3\", \"Topic3\", \"Topic3\", \"Topic3\", \"Topic3\", \"Topic3\", \"Topic3\", \"Topic3\", \"Topic3\", \"Topic3\", \"Topic3\", \"Topic3\", \"Topic3\", \"Topic3\", \"Topic3\", \"Topic3\", \"Topic3\", \"Topic3\", \"Topic3\", \"Topic4\", \"Topic4\", \"Topic4\", \"Topic4\", \"Topic4\", \"Topic4\", \"Topic4\", \"Topic4\", \"Topic4\", \"Topic4\", \"Topic4\", \"Topic4\", \"Topic4\", \"Topic4\", \"Topic4\", \"Topic4\", \"Topic4\", \"Topic4\", \"Topic4\", \"Topic4\", \"Topic4\", \"Topic4\", \"Topic4\", \"Topic4\", \"Topic4\", \"Topic4\", \"Topic4\", \"Topic4\", \"Topic4\", \"Topic4\", \"Topic4\", \"Topic4\", \"Topic4\", \"Topic4\", \"Topic4\", \"Topic4\", \"Topic4\", \"Topic4\", \"Topic4\", \"Topic4\", \"Topic4\", \"Topic4\", \"Topic4\", \"Topic4\", \"Topic4\", \"Topic4\", \"Topic4\", \"Topic4\", \"Topic4\", \"Topic4\", \"Topic4\", \"Topic4\", \"Topic4\", \"Topic4\", \"Topic4\", \"Topic4\", \"Topic4\", \"Topic4\", \"Topic4\", \"Topic4\", \"Topic4\", \"Topic4\", \"Topic4\", \"Topic4\", \"Topic4\", \"Topic4\", \"Topic4\", \"Topic4\", \"Topic4\", \"Topic5\", \"Topic5\", \"Topic5\", \"Topic5\", \"Topic5\", \"Topic5\", \"Topic5\", \"Topic5\", \"Topic5\", \"Topic5\", \"Topic5\", \"Topic5\", \"Topic5\", \"Topic5\", \"Topic5\", \"Topic5\", \"Topic5\", \"Topic5\", \"Topic5\", \"Topic5\", \"Topic5\", \"Topic5\", \"Topic5\", \"Topic5\", \"Topic5\", \"Topic5\", \"Topic5\", \"Topic5\", \"Topic5\", \"Topic5\", \"Topic5\", \"Topic5\", \"Topic5\", \"Topic5\", \"Topic5\", \"Topic5\", \"Topic5\", \"Topic5\", \"Topic5\", \"Topic5\", \"Topic5\", \"Topic5\", \"Topic5\", \"Topic5\", \"Topic5\", \"Topic5\", \"Topic5\", \"Topic5\", \"Topic5\", \"Topic5\", \"Topic5\", \"Topic5\", \"Topic5\", \"Topic5\", \"Topic5\", \"Topic5\", \"Topic5\", \"Topic5\", \"Topic5\", \"Topic5\", \"Topic5\", \"Topic5\", \"Topic5\", \"Topic5\", \"Topic5\", \"Topic5\", \"Topic5\", \"Topic5\", \"Topic6\", \"Topic6\", \"Topic6\", \"Topic6\", \"Topic6\", \"Topic6\", \"Topic6\", \"Topic6\", \"Topic6\", \"Topic6\", \"Topic6\", \"Topic6\", \"Topic6\", \"Topic6\", \"Topic6\", \"Topic6\", \"Topic6\", \"Topic6\", \"Topic6\", \"Topic6\", \"Topic6\", \"Topic6\", \"Topic6\", \"Topic6\", \"Topic6\", \"Topic6\", \"Topic6\", \"Topic6\", \"Topic6\", \"Topic6\", \"Topic6\", \"Topic6\", \"Topic6\", \"Topic6\", \"Topic6\", \"Topic6\", \"Topic6\", \"Topic6\", \"Topic6\", \"Topic6\", \"Topic6\", \"Topic6\", \"Topic6\", \"Topic6\", \"Topic6\", \"Topic6\", \"Topic6\", \"Topic6\", \"Topic6\", \"Topic6\", \"Topic6\", \"Topic6\", \"Topic6\", \"Topic6\", \"Topic6\", \"Topic6\", \"Topic6\", \"Topic6\", \"Topic6\", \"Topic6\", \"Topic6\", \"Topic6\", \"Topic6\", \"Topic6\", \"Topic6\", \"Topic6\", \"Topic6\", \"Topic6\", \"Topic7\", \"Topic7\", \"Topic7\", \"Topic7\", \"Topic7\", \"Topic7\", \"Topic7\", \"Topic7\", \"Topic7\", \"Topic7\", \"Topic7\", \"Topic7\", \"Topic7\", \"Topic7\", \"Topic7\", \"Topic7\", \"Topic7\", \"Topic7\", \"Topic7\", \"Topic7\", \"Topic7\", \"Topic7\", \"Topic7\", \"Topic7\", \"Topic7\", \"Topic7\", \"Topic7\", \"Topic7\", \"Topic7\", \"Topic7\", \"Topic7\", \"Topic7\", \"Topic7\", \"Topic7\", \"Topic7\", \"Topic7\", \"Topic7\", \"Topic7\", \"Topic7\", \"Topic7\", \"Topic7\", \"Topic7\", \"Topic7\", \"Topic7\", \"Topic7\", \"Topic7\", \"Topic7\", \"Topic7\", \"Topic7\", \"Topic7\", \"Topic7\", \"Topic7\", \"Topic7\", \"Topic7\", \"Topic7\", \"Topic7\", \"Topic7\", \"Topic7\", \"Topic7\", \"Topic7\", \"Topic7\", \"Topic7\", \"Topic7\", \"Topic7\", \"Topic7\", \"Topic7\", \"Topic8\", \"Topic8\", \"Topic8\", \"Topic8\", \"Topic8\", \"Topic8\", \"Topic8\", \"Topic8\", \"Topic8\", \"Topic8\", \"Topic8\", \"Topic8\", \"Topic8\", \"Topic8\", \"Topic8\", \"Topic8\", \"Topic8\", \"Topic8\", \"Topic8\", \"Topic8\", \"Topic8\", \"Topic8\", \"Topic8\", \"Topic8\", \"Topic8\", \"Topic8\", \"Topic8\", \"Topic8\", \"Topic8\", \"Topic8\", \"Topic8\", \"Topic8\", \"Topic8\", \"Topic8\", \"Topic8\", \"Topic8\", \"Topic8\", \"Topic8\", \"Topic8\", \"Topic8\", \"Topic8\", \"Topic8\", \"Topic8\", \"Topic8\", \"Topic8\", \"Topic8\", \"Topic8\", \"Topic8\", \"Topic8\", \"Topic8\", \"Topic8\", \"Topic8\", \"Topic8\", \"Topic8\", \"Topic8\", \"Topic8\", \"Topic8\", \"Topic8\", \"Topic8\"], \"logprob\": [30.0, 29.0, 28.0, 27.0, 26.0, 25.0, 24.0, 23.0, 22.0, 21.0, 20.0, 19.0, 18.0, 17.0, 16.0, 15.0, 14.0, 13.0, 12.0, 11.0, 10.0, 9.0, 8.0, 7.0, 6.0, 5.0, 4.0, 3.0, 2.0, 1.0, -5.3571, -5.4145, -2.7947, -6.0156, -6.4246, -6.4548, -6.5222, -6.5699, -6.5889, -6.5987, -6.7571, -6.8347, -6.8607, -6.9674, -5.7901, -7.0978, -5.8404, -6.3403, -7.2021, -7.2032, -7.2376, -7.2763, -7.3198, -7.3712, -7.3785, -7.426, -4.9382, -7.6196, -7.6445, -6.5981, -6.6358, -5.9063, -6.7933, -6.0133, -4.9857, -4.3017, -3.2657, -5.6313, -6.6716, -2.485, -4.4993, -5.1218, -3.1704, -5.2006, -4.5541, -3.0212, -5.7801, -3.8851, -5.1997, -4.6918, -5.564, -3.6072, -4.1221, -4.4485, -3.8804, -5.2686, -5.4757, -4.4678, -4.7762, -4.2277, -4.6331, -5.0125, -4.6165, -5.1378, -5.0584, -5.1208, -4.963, -4.9783, -5.0745, -5.1026, -3.8571, -5.1094, -6.1574, -6.1695, -6.3113, -6.388, -6.4685, -6.6008, -6.8441, -6.8538, -6.8627, -6.9251, -7.0285, -7.0805, -7.0814, -7.0973, -7.098, -7.1412, -7.1762, -7.2252, -3.6803, -4.6233, -7.3465, -7.3639, -7.3833, -7.4058, -7.4076, -7.4338, -4.739, -7.5116, -4.6437, -5.3967, -5.1787, -3.0654, -4.9373, -6.0284, -4.4304, -3.9672, -5.7831, -3.1821, -3.4342, -5.9334, -4.4829, -5.948, -5.132, -3.3036, -4.9846, -5.2313, -5.3403, -4.1022, -3.7366, -3.9412, -3.5064, -5.3853, -3.4863, -4.0025, -4.1691, -5.004, -3.9702, -4.9821, -4.7568, -4.4603, -4.8881, -5.0703, -5.09, -5.1383, -5.5568, -5.0566, -4.5228, -5.7663, -5.0467, -4.7466, -6.2113, -6.3777, -6.4291, -6.4565, -6.86, -6.8974, -7.0798, -7.2133, -7.2118, -7.3514, -4.5492, -6.1046, -7.4514, -7.5001, -7.5599, -7.5766, -7.6233, -7.637, -7.7341, -7.7566, -7.7677, -7.7994, -7.844, -5.3972, -3.4449, -3.8682, -4.9078, -6.5696, -5.8581, -4.6378, -5.4773, -6.5738, -6.1367, -2.9617, -5.3674, -5.5579, -2.8907, -5.5265, -5.3996, -2.8449, -5.8829, -4.283, -4.3558, -3.0547, -3.3781, -5.3776, -3.966, -4.4195, -4.1778, -4.2661, -4.9169, -4.9956, -4.6584, -3.6297, -4.1509, -4.4016, -4.3328, -4.858, -4.493, -4.9075, -4.9025, -5.0025, -3.8966, -5.4652, -5.5204, -5.593, -6.05, -6.2847, -6.3317, -6.4645, -6.5067, -6.419, -6.6393, -6.4015, -6.8354, -6.6059, -6.854, -6.8728, -6.8432, -5.6425, -6.9356, -7.0022, -7.0287, -7.0717, -7.0796, -7.0892, -7.0991, -7.0191, -7.1575, -7.2025, -7.272, -7.2948, -3.7618, -5.2285, -5.5972, -5.6339, -5.9532, -4.715, -5.8924, -2.8946, -5.8581, -4.9049, -4.8113, -2.8692, -6.2838, -5.5188, -4.231, -4.9468, -4.4345, -5.2599, -5.1703, -5.5862, -3.9564, -3.8437, -3.782, -4.2259, -5.3873, -4.5294, -4.9274, -5.0595, -5.0283, -4.8916, -4.7305, -4.9218, -4.8472, -4.4001, -5.2002, -4.9209, -5.0378, -5.1534, -5.0418, -4.7172, -5.0406, -5.2229, -5.7627, -5.8709, -5.8823, -5.8995, -6.019, -6.0345, -6.0882, -6.4431, -6.4542, -6.565, -6.5717, -6.6309, -6.6534, -6.7205, -6.7283, -6.762, -6.8103, -6.9015, -6.9067, -6.9255, -6.9584, -6.9642, -6.9744, -7.0095, -7.0341, -7.0402, -7.068, -5.4171, -4.7384, -6.2127, -5.3487, -5.1435, -5.5222, -3.9848, -4.5491, -5.2198, -6.066, -2.8389, -4.3691, -5.3293, -5.5619, -5.2889, -3.5926, -4.0709, -4.9151, -4.3602, -4.8785, -5.1806, -4.0227, -4.5313, -4.7708, -4.2878, -5.1536, -5.029, -4.3227, -5.3028, -5.0215, -4.6626, -4.5245, -4.9069, -4.8269, -5.0714, -5.0873, -4.9919, -5.1708, -4.2973, -4.5247, -4.055, -6.3531, -6.4673, -6.4744, -6.4587, -6.5963, -6.6252, -6.7489, -6.5638, -6.8829, -6.9301, -6.9613, -7.0221, -7.0609, -7.1063, -7.1336, -7.1324, -4.0961, -7.2015, -7.2229, -7.2274, -7.2396, -7.3577, -7.4502, -7.4675, -7.4754, -7.4772, -7.5313, -7.3438, -2.8431, -2.6747, -6.9314, -5.0075, -5.2513, -5.0357, -3.8342, -3.8827, -5.736, -5.5903, -4.9205, -6.2189, -4.3325, -5.5946, -3.8479, -5.3415, -2.8002, -3.7102, -3.7411, -4.4499, -5.1456, -5.1963, -3.3412, -4.7901, -5.8237, -4.0025, -4.9469, -4.493, -4.1505, -4.004, -3.745, -4.9825, -4.8876, -4.9419, -5.0946, -4.9451, -5.0375, -5.4051, -6.0525, -6.059, -6.0874, -6.0886, -6.3739, -6.4047, -6.4523, -6.6285, -6.6331, -6.7212, -6.735, -6.7533, -6.7223, -6.7675, -6.9158, -6.9397, -6.9465, -6.9568, -6.7854, -6.977, -6.9699, -7.0016, -4.6935, -7.0392, -7.0484, -7.0495, -7.0975, -7.1128, -4.6057, -4.2312, -4.6192, -5.723, -5.2176, -5.3707, -5.0499, -4.6353, -5.5048, -3.9228, -5.2586, -4.8496, -3.0902, -5.5188, -4.3624, -5.6677, -3.3259, -4.8755, -2.6105, -3.1606, -4.0334, -4.9494, -4.5634, -4.9095, -4.48, -4.542, -3.5288, -4.4124, -3.8392, -3.5597, -4.1237, -4.5332, -4.7688, -4.4418, -4.7065, -4.9636, -4.8206, -4.0579, -4.1132, -4.149, -4.43, -4.4882, -4.691, -5.1464, -5.1973, -5.5762, -5.5801, -5.6058, -5.8744, -5.8635, -5.9337, -6.0171, -5.9837, -6.1255, -6.2167, -6.14, -6.0216, -6.2732, -6.2508, -6.3263, -6.4215, -6.4236, -6.4404, -6.4381, -6.4321, -6.5034, -6.5784, -6.3862, -3.9463, -5.4813, -6.0478, -6.1704, -4.9388, -4.1598, -4.3347, -4.9688, -5.1759, -5.0886, -3.5693, -5.8212, -4.2101, -5.1644, -5.7444, -5.2625, -3.9867, -4.4463, -4.945, -4.3828, -4.3953, -4.7386, -5.4922, -4.7932, -5.1634, -4.977, -5.1872, -5.213], \"loglift\": [30.0, 29.0, 28.0, 27.0, 26.0, 25.0, 24.0, 23.0, 22.0, 21.0, 20.0, 19.0, 18.0, 17.0, 16.0, 15.0, 14.0, 13.0, 12.0, 11.0, 10.0, 9.0, 8.0, 7.0, 6.0, 5.0, 4.0, 3.0, 2.0, 1.0, 1.8612, 1.8608, 1.8597, 1.8552, 1.8491, 1.8485, 1.8469, 1.8463, 1.8459, 1.8456, 1.8408, 1.8398, 1.8392, 1.836, 1.8344, 1.8317, 1.8308, 1.828, 1.8279, 1.8277, 1.8265, 1.8249, 1.8225, 1.8207, 1.8204, 1.8182, 1.8081, 1.8072, 1.8065, 1.8038, 1.7801, 1.7444, 1.7767, 1.7071, 1.578, 1.4843, 1.2586, 1.5884, 1.7292, 0.9225, 1.3052, 1.4273, 0.9553, 1.4133, 1.216, 0.7291, 1.4608, 0.6902, 1.1351, 0.852, 1.311, 0.1558, 0.3934, 0.5807, 0.1594, 1.0791, 1.2129, 0.3155, 0.5817, 0.0698, 0.1792, 0.6386, 0.0249, 0.7269, 0.5538, 0.5939, -0.0115, -0.3868, -0.0206, -0.2415, 1.9711, 1.9674, 1.9572, 1.957, 1.9546, 1.9532, 1.9516, 1.9421, 1.942, 1.9416, 1.9414, 1.9394, 1.9358, 1.9339, 1.9338, 1.9332, 1.933, 1.9315, 1.9301, 1.9279, 1.925, 1.9231, 1.9223, 1.9212, 1.9204, 1.9193, 1.919, 1.9178, 1.9169, 1.9135, 1.8862, 1.8815, 1.8519, 1.7521, 1.8277, 1.8631, 1.6922, 1.6426, 1.7998, 1.5406, 1.4519, 1.7771, 1.4406, 1.6861, 1.4616, 0.7795, 1.3043, 1.3526, 1.3754, 0.823, 0.6353, 0.5831, 0.2439, 1.3153, -0.0788, 0.295, 0.4224, 1.0006, -0.2072, 0.8039, 0.5116, 0.0552, -0.0758, 0.3864, -0.7697, 1.9708, 1.9679, 1.9676, 1.9676, 1.9658, 1.964, 1.9603, 1.9598, 1.9569, 1.9558, 1.9553, 1.945, 1.9437, 1.9374, 1.9319, 1.9318, 1.9255, 1.9243, 1.9209, 1.9199, 1.9175, 1.9139, 1.9129, 1.91, 1.9092, 1.9026, 1.9006, 1.9001, 1.8977, 1.8943, 1.8815, 1.8543, 1.8533, 1.8543, 1.8589, 1.804, 1.7122, 1.7407, 1.836, 1.7783, 1.4103, 1.6683, 1.6864, 1.1924, 1.6037, 1.5628, 0.9181, 1.6653, 1.2086, 1.188, 0.6956, 0.6617, 1.4944, 0.8463, 1.0372, 0.8514, 0.7878, 1.1701, 1.1599, 0.8534, -0.2222, 0.1694, 0.3817, 0.2425, 0.9196, -0.3673, 0.3027, -0.605, 0.7664, 2.0856, 2.0789, 2.0784, 2.0777, 2.072, 2.068, 2.067, 2.0641, 2.063, 2.0617, 2.0597, 2.0596, 2.0537, 2.0534, 2.0531, 2.0525, 2.0515, 2.0514, 2.0503, 2.0478, 2.0467, 2.0449, 2.0446, 2.0442, 2.0438, 2.0416, 2.0412, 2.0392, 2.0357, 2.0346, 2.0285, 2.0138, 1.988, 1.977, 1.9863, 1.9127, 1.9637, 1.697, 1.9287, 1.8274, 1.8036, 1.541, 1.9679, 1.8421, 1.6283, 1.6233, 1.3224, 1.5716, 1.4808, 1.6475, 0.7828, 0.6718, 0.5383, 0.6993, 1.454, 0.848, 1.0484, 1.0315, 0.9534, 0.7634, 0.4796, 0.6879, 0.4213, -0.9926, 0.9313, -0.1376, 0.0161, -0.0308, -0.9587, 2.1161, 2.1145, 2.1134, 2.1084, 2.107, 2.1069, 2.1067, 2.1049, 2.1047, 2.1038, 2.0967, 2.0966, 2.0939, 2.0933, 2.0921, 2.0904, 2.0895, 2.0893, 2.0882, 2.0866, 2.0835, 2.0833, 2.0826, 2.0813, 2.0812, 2.0808, 2.0794, 2.0783, 2.0779, 2.0769, 2.0499, 2.0025, 2.0393, 1.9854, 1.9502, 1.9724, 1.8222, 1.8401, 1.9085, 1.9858, 1.4586, 1.6986, 1.8428, 1.8801, 1.8067, 1.3589, 1.4324, 1.5857, 1.2521, 1.4532, 1.4542, 0.7, 0.8266, 1.0253, 0.4515, 1.2564, 1.0829, 0.2016, 1.4042, 0.9173, 0.1549, -0.3988, 0.4704, -0.5066, 0.6433, 0.3831, -1.2289, 0.6126, 2.1454, 2.1447, 2.1309, 2.1259, 2.1232, 2.123, 2.123, 2.1198, 2.1189, 2.1152, 2.1146, 2.1105, 2.1087, 2.1074, 2.1039, 2.1033, 2.1013, 2.1, 2.1, 2.0976, 2.0967, 2.0956, 2.0954, 2.0948, 2.0882, 2.0825, 2.0814, 2.081, 2.0807, 2.0772, 2.076, 2.018, 1.9667, 2.0618, 1.9564, 1.8863, 1.8453, 1.6667, 1.6291, 1.889, 1.8436, 1.72, 1.9315, 1.4637, 1.7566, 1.2747, 1.6588, 0.9628, 1.1759, 1.1841, 1.3203, 1.5214, 1.5356, 0.6986, 0.9875, 1.6538, 0.3178, 0.9918, 0.5608, 0.2214, 0.0791, -0.3375, 0.8822, 0.6158, 0.0096, 0.8871, -0.2058, -0.74, 2.2048, 2.1963, 2.1962, 2.1957, 2.1957, 2.1897, 2.1889, 2.1877, 2.1827, 2.1826, 2.1797, 2.1792, 2.1786, 2.1772, 2.1733, 2.1724, 2.1714, 2.1712, 2.1707, 2.1698, 2.1698, 2.1697, 2.1688, 2.1683, 2.167, 2.1667, 2.1666, 2.1643, 2.1635, 2.162, 2.0921, 2.0773, 2.0959, 2.0588, 2.0347, 1.9991, 1.9346, 1.992, 1.7355, 1.8952, 1.807, 1.4851, 1.8032, 1.454, 1.836, 1.0842, 1.5634, 0.797, 0.9651, 1.1767, 1.5106, 1.3199, 1.4587, 1.175, 1.2056, 0.511, 0.9455, 0.4811, 0.1906, 0.6596, 0.9372, 1.0146, 0.3705, 0.3227, 0.8957, -0.3051, 2.32, 2.32, 2.3198, 2.3188, 2.3187, 2.3178, 2.3149, 2.3145, 2.3107, 2.3107, 2.3104, 2.3066, 2.3058, 2.3056, 2.3041, 2.3038, 2.302, 2.3, 2.2999, 2.2988, 2.2987, 2.2987, 2.2975, 2.2949, 2.2949, 2.2944, 2.2944, 2.2937, 2.2926, 2.2903, 2.2878, 2.2157, 2.2279, 2.2632, 2.2658, 2.063, 1.8448, 1.8791, 1.8559, 1.9062, 1.7758, 0.9462, 2.082, 1.1672, 1.6772, 2.0149, 1.4841, -0.2365, 0.3369, 0.9383, -0.0625, -0.2695, 0.0007, 1.504, -0.7101, 0.4488, -0.5669, -0.0646, 0.0554]}, \"token.table\": {\"Topic\": [1, 2, 3, 4, 6, 7, 8, 4, 8, 1, 5, 1, 6, 6, 1, 2, 8, 1, 2, 3, 4, 5, 6, 7, 8, 1, 8, 8, 6, 1, 2, 3, 4, 6, 7, 8, 1, 4, 6, 6, 4, 6, 8, 2, 3, 5, 1, 2, 4, 5, 6, 7, 8, 8, 5, 1, 2, 4, 5, 6, 7, 8, 5, 5, 5, 3, 4, 7, 8, 7, 2, 5, 7, 1, 2, 4, 5, 6, 7, 8, 7, 7, 8, 7, 8, 3, 4, 1, 3, 4, 5, 7, 8, 8, 2, 3, 4, 5, 6, 2, 5, 2, 1, 4, 1, 4, 6, 8, 2, 8, 8, 1, 8, 1, 3, 4, 5, 8, 1, 2, 3, 4, 5, 6, 7, 8, 3, 7, 4, 7, 1, 2, 4, 2, 3, 8, 2, 1, 3, 4, 5, 6, 8, 5, 2, 4, 5, 6, 7, 8, 1, 2, 4, 5, 7, 2, 3, 4, 1, 2, 6, 1, 2, 3, 7, 4, 4, 1, 2, 3, 4, 5, 6, 7, 8, 6, 8, 4, 4, 5, 3, 4, 5, 7, 2, 3, 4, 5, 8, 5, 2, 4, 6, 8, 6, 8, 3, 7, 8, 6, 7, 8, 1, 3, 4, 5, 6, 1, 5, 8, 1, 4, 5, 7, 8, 2, 3, 4, 6, 7, 1, 2, 3, 4, 6, 8, 7, 8, 3, 7, 1, 2, 3, 4, 5, 6, 7, 8, 4, 5, 7, 8, 3, 4, 1, 2, 4, 5, 6, 4, 5, 6, 7, 8, 4, 5, 6, 7, 8, 8, 2, 2, 4, 6, 1, 4, 6, 7, 8, 1, 1, 3, 5, 6, 8, 2, 3, 5, 7, 1, 2, 3, 1, 2, 3, 5, 6, 8, 8, 1, 1, 6, 5, 2, 3, 5, 7, 1, 2, 3, 4, 5, 6, 7, 8, 1, 3, 1, 7, 6, 5, 1, 1, 5, 7, 8, 5, 3, 5, 3, 4, 1, 2, 3, 8, 7, 1, 2, 3, 4, 5, 6, 1, 2, 3, 4, 5, 6, 7, 8, 6, 4, 1, 2, 3, 4, 5, 6, 7, 8, 1, 2, 3, 5, 6, 7, 6, 7, 1, 2, 4, 6, 8, 3, 8, 1, 3, 5, 8, 2, 3, 6, 8, 6, 7, 2, 2, 4, 6, 1, 2, 5, 2, 5, 1, 2, 3, 4, 5, 6, 7, 8, 6, 1, 3, 7, 7, 7, 1, 2, 3, 4, 5, 6, 7, 8, 4, 2, 4, 4, 2, 3, 8, 3, 2, 4, 6, 1, 2, 3, 4, 5, 6, 7, 8, 3, 1, 2, 3, 5, 7, 7, 4, 8, 1, 2, 3, 6, 2, 3, 4, 5, 6, 8, 3, 2, 3, 4, 5, 6, 8, 6, 7, 3, 5, 2, 7, 5, 5, 6, 6, 3, 4, 4, 4, 2, 3, 4, 7, 8, 5, 1, 2, 3, 4, 5, 7, 4, 5, 4, 7, 8, 1, 2, 4, 1, 1, 1, 2, 3, 5, 6, 4, 1, 2, 3, 5, 6, 8, 3, 3, 1, 6, 2, 8, 1, 2, 4, 5, 6, 7, 8, 2, 3, 5, 8, 5, 3, 5, 1, 2, 3, 4, 5, 6, 7, 8, 4, 7, 2, 8, 1, 2, 3, 4, 5, 6, 7, 8, 2, 5, 7, 8, 3, 4, 5, 8, 1, 4, 1, 2, 4, 5, 6, 7, 8, 1, 2, 3, 4, 5, 7, 8, 2, 1, 2, 3, 4, 5, 6, 7, 8, 8, 1, 2, 3, 4, 5, 6, 7, 8, 1, 5, 7, 8, 2, 3, 4, 5, 6, 7, 8, 2, 2, 4, 8, 2, 3, 2, 3, 4, 8, 2, 1, 2, 6, 1, 4, 2, 4, 5, 7, 8, 1, 2, 4, 5, 2, 3, 4, 1, 3, 4, 5, 6, 7, 8, 6, 1, 3, 4, 5, 6, 8, 3, 2, 2, 2, 8, 5, 2, 2, 6, 7, 2, 4, 1, 2, 3, 4, 5, 7, 8, 1, 8, 8, 1, 2, 3, 4, 5, 6, 7, 8, 1, 1, 2, 3, 4, 5, 6, 7, 8, 1, 3, 2, 5, 2, 4, 6, 7, 8, 5, 3, 5, 2, 5, 8, 2, 8, 3, 4, 5, 6, 8, 1, 2, 5, 6, 1, 4, 5, 7, 2, 4, 5, 6, 8, 7, 1, 5, 8, 1, 4, 1, 2, 3, 4, 5, 6, 7, 1, 5, 8, 5, 8, 5, 5, 1, 3, 4, 5, 6, 1, 5, 1, 2, 3, 4, 5, 6, 7, 8, 3, 1, 5, 7, 6, 3, 4, 5, 6, 1, 2, 3, 4, 6, 7, 7, 7, 2, 2, 4, 6, 7, 8, 8, 4, 4, 3, 4, 5, 8, 4, 1, 3, 5, 1, 5, 1, 2, 3, 4, 5, 7, 8, 2, 4, 8, 4, 5, 8, 1, 4, 1, 2, 3, 4, 5, 6, 7, 8, 3, 8, 7, 1, 3, 4, 5, 4, 1, 2, 3, 4, 5, 6, 7, 8, 3, 5, 6, 1, 2, 3, 4, 5, 7, 8, 6, 2, 3, 4, 5, 6, 8, 2, 3, 5, 7, 1, 2, 3, 5, 6, 4, 5, 3, 7, 1, 2, 3, 4, 5, 6, 8, 5, 8, 1, 4, 5, 6, 2, 6, 4, 4, 4, 1, 1, 1, 2, 3, 4, 5, 6, 7, 8, 2, 7, 6, 3, 3, 1, 2, 3, 4, 5, 6, 7, 8, 4, 1, 3, 6, 8, 5, 1, 2, 3, 4, 6, 8, 5, 6, 8, 2, 4, 7, 1, 2, 3, 4, 5, 6, 7, 8, 6, 1, 2, 4, 1, 2, 3, 5, 6, 8, 1, 7, 2, 1, 2, 3, 4, 6, 4, 3, 7, 8, 8, 4, 1, 2, 4, 6, 7, 7, 8, 8, 1, 2, 6, 4, 5, 7, 3, 2, 2, 2, 2, 8, 2, 1, 2, 4, 5, 6, 7, 8, 1, 4, 1, 2, 3, 4, 6, 7, 8, 8, 7, 2, 3, 4, 1, 1, 7, 4, 5, 1, 2, 3, 4, 5, 6, 7, 8, 1, 2, 3, 4, 5, 6, 7, 8, 5, 2, 8, 1, 2, 3, 4, 5, 6, 7, 8, 8, 2, 3, 2, 7, 3, 4, 1, 4, 1, 3, 4, 5, 6, 8, 6, 1, 1, 2, 5, 1, 2, 3, 4, 5, 6, 7, 8, 1, 2, 3, 4, 7, 8, 1, 3, 7, 3, 1, 2, 4, 5, 6, 8, 6, 1, 2, 4, 8, 2, 8, 5, 1, 2, 3, 4, 5, 6, 7, 8, 4, 6, 6, 2, 4, 7, 8, 2, 8, 3, 5, 1, 2, 3, 4, 5, 6, 7, 8, 5, 1, 2, 3, 5, 7, 2, 4, 7, 8, 4, 8, 2, 4, 5, 8, 3, 1, 2, 3, 4, 5, 6, 7, 8, 2, 4, 6, 8, 4, 7, 5, 7, 1, 6, 6, 6], \"Freq\": [0.013819950115413501, 0.5113381542702996, 0.024875910207744302, 0.24875910207744303, 0.11332359094639072, 0.019347930161578902, 0.0690997505770675, 0.023665119783236058, 0.9466047913294423, 0.9782435248460623, 0.9837099186955052, 0.9941873635509476, 0.9492680220819968, 0.96483011136203, 0.9432757136502748, 0.052404206313904154, 0.9959609655320576, 0.2289792308817026, 0.14686577718437074, 0.0075075157666132, 0.24258660320868905, 0.022991767035252925, 0.017830349945706352, 0.0807057944910919, 0.25244021765236885, 0.7495115079101446, 0.2474115657179118, 0.9806264028572982, 0.9799868204248734, 0.10480251284708066, 0.21213648735713428, 0.0005062923325945926, 0.6764065563463756, 0.0020251693303783703, 0.0020251693303783703, 0.0020251693303783703, 0.9815383849748889, 0.9617496549091205, 0.9093452209913993, 0.9210207397356683, 0.9731315716725449, 0.9880122110739994, 0.9789766940808253, 0.9631638100962022, 0.9325303019390584, 0.9643119972601226, 0.09153155614424169, 0.04759640919500568, 0.6297371062723829, 0.17574058779694404, 0.007322524491539336, 0.021967573474618005, 0.029290097966157343, 0.9834262958839782, 0.9831919781867487, 0.4543538404133099, 0.14656575497203544, 0.014656575497203546, 0.023450520795525672, 0.1934667965630868, 0.08207682278433985, 0.08500813788378056, 0.9656522427143543, 0.9470524636513221, 0.977324746009446, 0.8758260284302267, 0.04609610675948561, 0.06914416013922842, 0.9705678125133723, 0.928176053428845, 0.014706350574261293, 0.024510584290435487, 0.955912787326984, 0.26835184167034937, 0.04355448739152268, 0.008429900785456001, 0.4200900558085574, 0.08148904092607469, 0.025289702356368005, 0.1531431976024507, 0.9291309171568995, 0.9503835438249428, 0.04908084029142897, 0.9943118599215478, 0.9758336574486661, 0.9899497361380231, 0.005689366299643811, 0.022184028508570028, 0.8829243346410871, 0.022184028508570028, 0.03993125131542605, 0.013310417105142016, 0.017747222806856023, 0.9953125305625432, 0.8015503578371962, 0.04759800224686438, 0.008250320389456493, 0.14025544662076037, 0.0019039200898745751, 0.9224294084295949, 0.9825439132279369, 0.9433069057441564, 0.9690380368276122, 0.022023591746082097, 0.3378641898469662, 0.00392865337031356, 0.652156459472051, 0.00392865337031356, 0.9210204471508948, 0.984793769549661, 0.9728786825211736, 0.8679780841699127, 0.11420764265393589, 0.9739173184230075, 0.9891462822564925, 0.004803656259546813, 0.46595465717604084, 0.5235985322906026, 0.18107492135388215, 0.04082204346142271, 0.2685507287712165, 0.03761459718945378, 0.026242742225200313, 0.23472674990318057, 0.18224126545277994, 0.028867016447720342, 0.9351135500428454, 0.9873486751575099, 0.11158031489170049, 0.8840594179880885, 0.39359447293120525, 0.5997630063713604, 0.007497037579642004, 0.2385121971115082, 0.6613292738091818, 0.09215243979308271, 0.9711359777584642, 0.3201034062967261, 0.007233975283541833, 0.12297757982021117, 0.20074281411828587, 0.2821250360581315, 0.06691427137276196, 0.9702809445464385, 0.045594376380723035, 0.0067547224267737824, 0.33435876012530225, 0.5049155014013402, 0.0033773612133868912, 0.10469819761499363, 0.3243476958642519, 0.08991817311088171, 0.016056816626943162, 0.044959086555440855, 0.5202408587129584, 0.8878624417469242, 0.046424179960623486, 0.06383324744585729, 0.5215716821638643, 0.04113341341986312, 0.43765951878734355, 0.07993113055805097, 0.0015672770697657053, 0.8839442673478578, 0.03291281846507981, 0.9649950448062765, 0.9760888035201681, 0.16467851667830843, 0.02439681728567532, 0.03252908971423376, 0.3212247609280584, 0.10978567778553895, 0.2825964668924058, 0.00813227242855844, 0.054892838892769476, 0.9444578060436722, 0.985328868653591, 0.9431498730285203, 0.9647731243425044, 0.9753945538460744, 0.014401334860377923, 0.9072840962038091, 0.07200667430188962, 0.95640521862951, 0.1283105545639728, 0.07943034330150699, 0.07943034330150699, 0.048880211262465834, 0.6598828520432888, 0.962894311217338, 0.08444386578951872, 0.29273873473699824, 0.6136254247371694, 0.011259182105269164, 0.9499196375164717, 0.04523426845316532, 0.9628606325717239, 0.803898202895731, 0.1891525183284073, 0.008442508409315317, 0.8358083325222164, 0.15196515136767572, 0.14862986368421346, 0.006192910986842228, 0.049543287894737824, 0.7307634964473829, 0.06192910986842228, 0.9276180174017931, 0.023190450435044828, 0.046380900870089656, 0.9611010057136117, 0.05106041560676944, 0.05106041560676944, 0.8935572731184651, 0.9875482095375265, 0.04574689737298777, 0.325311270207913, 0.031768678731241506, 0.594709665848841, 0.0012707471492496602, 0.5194419923222384, 0.07832855439779786, 0.18963755275256322, 0.06596088791393503, 0.03298044395696752, 0.11543155384938632, 0.7286052808434201, 0.26912447310432636, 0.9602054252076558, 0.9632517311401435, 0.0022218467825910375, 0.0833192543471639, 0.055546169564775934, 0.2899510051281304, 0.19218974669412472, 0.05998986312995801, 0.0022218467825910375, 0.3143913197366318, 0.5439600220816732, 0.05955766665127808, 0.3533754887975833, 0.03970511110085205, 0.1059903205265489, 0.887668934409847, 0.57121432470246, 0.05463789192806139, 0.004967081084369217, 0.2831236218090454, 0.0844403784342767, 0.7543872940541783, 0.00765875425435714, 0.01148813138153571, 0.16849259359585708, 0.053611279780499975, 0.6313499755418007, 0.01978589666940116, 0.017987178790364693, 0.2680089639764339, 0.06115640788723995, 0.9900742225862068, 0.9693401122274283, 0.7189606555908429, 0.246660965660796, 0.03363558622647218, 0.3227361661511097, 0.12102606230666614, 0.5325146741493311, 0.004034202076888872, 0.020171010384444358, 0.968931574264966, 0.3056443974523872, 0.0473533573517783, 0.051658208020121776, 0.5424111842112787, 0.051658208020121776, 0.3437461550363551, 0.13671722075309578, 0.5117130262473013, 0.003906206307231308, 0.006410528103129545, 0.30129482084708864, 0.6859265070348614, 0.0008129408147380781, 0.2625798831603992, 0.5678391590945475, 0.01747822751686868, 0.14551640583811595, 0.005690585703166546, 0.997566689591944, 0.9436642355402403, 0.22604878314627644, 0.76856586269734, 0.9817404754299777, 0.9455324327190145, 0.039895883237089216, 0.011968764971126766, 0.9539125976893011, 0.10353049046811971, 0.22185105100311367, 0.2974447424560265, 0.004930023355624748, 0.11339053717936921, 0.2169210276474889, 0.008216705592707913, 0.03122348125229007, 0.9668914109043213, 0.021019378497920026, 0.9555567985810062, 0.9760204895006223, 0.9502361753106678, 0.9818134251138705, 0.9428129969154171, 0.004155212775392323, 0.09141468105863113, 0.8725946828323881, 0.029086489427746266, 0.9519759822283862, 0.20139112780745655, 0.7880522392465692, 0.7473022603808116, 0.24431035435526532, 0.13370817338007304, 0.07428231854448503, 0.6190193212040418, 0.17827756450676405, 0.954383602067028, 0.570472124672173, 0.03405803729386108, 0.13623214917544432, 0.03916674288794024, 0.13452924731075125, 0.08684799509934575, 0.28018495984852804, 0.060706741300514414, 0.07627257240321042, 0.0031131662205392007, 0.22881771720963126, 0.07938573862374962, 0.14009247992426402, 0.13230956437291602, 0.9296278630594379, 0.9417614384264894, 0.050529169635007594, 0.09297367212841398, 0.004042333570800608, 0.35370418744505316, 0.23041301353563465, 0.07276200427441094, 0.08691017177221307, 0.10914300641161641, 0.5438712757094335, 0.2489784952333873, 0.04875434412364808, 0.1467363755177758, 0.0108868923771253, 0.00047334314683153476, 0.9360511340336082, 0.9355562221456513, 0.02833607886266243, 0.29516748815273364, 0.3140582073945086, 0.21724327128041196, 0.14404173421853403, 0.9918154784380256, 0.005766369060686196, 0.21581073631219014, 0.7349230479820529, 0.02916361301516083, 0.017498167809096497, 0.003381049398672786, 0.9906474738111262, 0.003381049398672786, 0.003381049398672786, 0.951102846935423, 0.9811340958842659, 0.9896441450308888, 0.5941084847033972, 0.02719031966605937, 0.3779454433582252, 0.4603841849869256, 0.5383524743798728, 0.9666716900345125, 0.11790370635600389, 0.8724874270344288, 0.15112641494285967, 0.05305501801185499, 0.30466442161353097, 0.12620663375547325, 0.04742797064696128, 0.20418143295471466, 0.08440571047340567, 0.028135236824468557, 0.9525438195064422, 0.01335601139556787, 0.8845789085833797, 0.10068377821274241, 0.9792839632587873, 0.9448668270236543, 0.4016407089471032, 0.027326820387223793, 0.09596162508071611, 0.025738051760059617, 0.0803916925345072, 0.006990581959522365, 0.28661386034041697, 0.07498987920214902, 0.9986778734670637, 0.753401052587574, 0.2440594959086507, 0.9905892494405658, 0.04654165246822674, 0.9507794718509176, 0.993601543339937, 0.9731344292392902, 0.9542556426718993, 0.014961519845553469, 0.9824731365246778, 0.3202373162398429, 0.17747303210837923, 0.2778882778277574, 0.005893938335702631, 0.00829517247247037, 0.0006548820373002923, 0.13228617153465905, 0.0772760804014345, 0.9184945438555345, 0.10511940343988126, 0.022402495815056662, 0.275723025416082, 0.12752189925493793, 0.4670058742984889, 0.9864817778988481, 0.9323027568451845, 0.06454403701235893, 0.6820122508393159, 0.3109173496473352, 0.005014795962053793, 0.0016715986540179312, 0.057694060758425564, 0.011538812151685113, 0.01730821822752767, 0.5134771407499875, 0.33462555239886826, 0.0663481698721894, 0.9580966097726309, 0.1700327561324583, 0.02833879268874305, 0.1133551707549722, 0.05195445326269559, 0.004723132114790508, 0.6281765712671376, 0.9731416802714823, 0.9778577354573676, 0.814987621861477, 0.16861812866099524, 0.9741429720583564, 0.9406897567863708, 0.9668140031981283, 0.9252044576476135, 0.05905560367963491, 0.9724343697703125, 0.9432396801151265, 0.9892037910148691, 0.9935679654261361, 0.9475329920290041, 0.7560219602310709, 0.08894376002718482, 0.08426250949943824, 0.0608562568607054, 0.011703126319366423, 0.9360063277636982, 0.14122838130565082, 0.16770870280046035, 0.0014711289719338628, 0.055902900933486786, 0.013240160747404766, 0.6193452971841562, 0.8855902654879776, 0.09839891838755307, 0.7831848715881633, 0.19377770018676205, 0.016148141682230173, 0.9919881894123964, 0.005391240159849981, 0.002156496063939992, 0.9640686666677211, 0.9856527916172689, 0.16563367513906577, 0.18676234440509693, 0.0758368307584333, 0.5157659086904394, 0.055840054488796656, 0.9813383711315816, 0.17214305863035376, 0.20153333693309708, 0.06297916779159284, 0.4870388975883179, 0.008397222372212378, 0.06717777897769903, 0.9948332941904449, 0.949925745140907, 0.319869185726284, 0.6797220196683534, 0.9143216951911365, 0.08176860688701221, 0.33114541008946, 0.013894213010746575, 0.0046314043369155245, 0.35430243177403764, 0.07873387372756392, 0.05789255421144406, 0.15746774745512784, 0.09047433889274173, 0.14680741782595827, 0.7425724041196726, 0.020484755975715106, 0.9819267030460136, 0.7303201055440705, 0.26291523799586536, 0.0897900951405973, 0.07277105749956905, 0.10622226941469354, 0.2711308755225879, 0.1883831407851747, 0.09507186544298538, 0.07863969116888914, 0.09800618227764542, 0.9687768787229745, 0.02252969485402266, 0.4177631767206476, 0.5799535865063108, 0.12756764275853016, 0.017595536932211057, 0.06598326349579146, 0.2653993487275168, 0.07917991619494975, 0.05718549502968594, 0.35337703338857207, 0.03372477912007119, 0.14432718329244124, 0.08419085692059072, 0.03608179582311031, 0.7336631817365763, 0.1033508129684652, 0.7708248133898029, 0.11626966458952336, 0.00430628387368605, 0.9663296558925762, 0.9801896284231082, 0.17917636710777832, 0.08764061434619591, 0.02337083049231891, 0.29992565798475934, 0.3155062116463053, 0.017528122869239184, 0.07595519910003647, 0.18177169542429528, 0.14959971393326957, 0.003217198149102571, 0.07560415650391042, 0.1560341102314747, 0.3651519899231418, 0.07077835928025657, 0.9829530392591754, 0.29214963669409444, 0.2191122275205708, 0.07157666099005314, 0.18405427111727948, 0.04674394187105511, 0.14023182561316533, 0.001460748183470472, 0.045283193687584634, 0.9786319305184037, 0.18062891852784865, 0.11297598209024562, 0.34710820329096986, 0.00574828871692052, 0.03515299638424472, 0.30554365410708306, 0.00022108802757386616, 0.012823105599284238, 0.023954410299966332, 0.13174925664981482, 0.6667310866823962, 0.1796580772497475, 0.11837204376273393, 0.08502780608309056, 0.18672773100600282, 0.22173918056962832, 0.051683568403447205, 0.3017653510007724, 0.03501144956362553, 0.978069449659692, 0.8921682101009073, 0.02745132954156638, 0.06862832385391594, 0.9579636269939941, 0.9646173758491161, 0.20745046113851548, 0.3027655378778334, 0.03924738453971914, 0.4429347683768303, 0.9573377166876409, 0.04648789768317077, 0.9512139064402635, 0.9664604255803447, 0.9588903860238478, 0.9705233418988445, 0.08382712720077376, 0.11176950293436502, 0.018628250489060836, 0.689245268095251, 0.09314125244530418, 0.07384081820665954, 0.004343577541568208, 0.034748620332545666, 0.8904333960214827, 0.008396915251455965, 0.9824390844203479, 0.008396915251455965, 0.39495260809085614, 0.06881749989461887, 0.002992065212809516, 0.053857173830571294, 0.002992065212809516, 0.46975423841109404, 0.002992065212809516, 0.9853930185342806, 0.024982265141695804, 0.024982265141695804, 0.029978718170034963, 0.11991487268013985, 0.7394750481941957, 0.0649538893684091, 0.9918081364834711, 0.9457618976635831, 0.9974148254660855, 0.3785502454950405, 0.6198240283380334, 0.9757158981685046, 0.9805125762722954, 0.5173286140245784, 0.3796524506148116, 0.09595611389165568, 0.9899720190830166, 0.9531707422450895, 0.047932566777523646, 0.08364702829803146, 0.18797085010793588, 0.2001889553649517, 0.06766950603885691, 0.35432505245345913, 0.05827096353346012, 0.993173307155217, 0.9866552464611253, 0.9962638122563287, 0.14239144596782904, 0.08820709042254897, 0.006300506458753498, 0.0012601012917506996, 0.5027804154085291, 0.2154773208893696, 0.0012601012917506996, 0.042843443919523785, 0.9858433130761871, 0.1975109507833846, 0.07315220399384614, 0.18166130658471794, 0.010972830599076921, 0.17556528958523074, 0.021945661198153842, 0.2791975785765128, 0.060960169994871784, 0.2029579999531376, 0.7908363446449844, 0.06284699635818278, 0.9337268030358583, 0.009510943670517908, 0.5991894512426281, 0.03804377468207163, 0.3471494439739036, 0.004755471835258954, 0.9544916807094592, 0.9579592158535054, 0.9847717893232086, 0.020881609463372676, 0.04176321892674535, 0.9396724258517704, 0.9402118860501162, 0.9801170403455721, 0.12086552835608354, 0.646986063553153, 0.07820710658334817, 0.1421947392424512, 0.0071097369621225615, 0.15858384001984566, 0.002128642147917391, 0.005321605369793478, 0.833895561446638, 0.009249892758462547, 0.055499356550775286, 0.12949849861847568, 0.8047406699862416, 0.08165960723184891, 0.009073289692427657, 0.11795276600155953, 0.607910409392653, 0.18146579384855313, 0.9757933654394703, 0.09597572715880816, 0.8061961081339886, 0.08957734534822095, 0.090941208212925, 0.90941208212925, 0.07687998265129684, 0.0073219031096473175, 0.010982854664470977, 0.09884569198023878, 0.04393141865788391, 0.0036609515548236588, 0.7578169718484974, 0.11075111178131351, 0.8583211163051797, 0.01845851863021892, 0.9957464591009775, 0.9738438664933485, 0.9871253638126621, 0.9926005906063801, 0.665983555150651, 0.09309447545116627, 0.23631674537603745, 0.007161113496243559, 0.9960785056671906, 0.9572951275120469, 0.9877277273656315, 0.16836910323491758, 0.20444819678525705, 0.3908568467953444, 0.0012026364516779828, 0.02645800193691562, 0.12146628161947626, 0.06494236839061107, 0.022850092581881674, 0.9803323414437031, 0.27182473541616675, 0.054364947083233355, 0.6601457860106907, 0.9762889315442321, 0.8402830774259551, 0.14186597411087554, 0.010912767239298118, 0.9801957256150166, 0.1738395382050511, 0.07871979088530616, 0.19351948592637766, 0.02951992158198981, 0.02951992158198981, 0.4952786843200513, 0.9320191213456407, 0.9694002635006863, 0.970297953671933, 0.31666233729987714, 0.24951295773851925, 0.38098437456391465, 0.0014136711486601658, 0.05089216135176597, 0.9913955652568497, 0.9595181567932143, 0.96172379361947, 0.0902106434714841, 0.04510532173574205, 0.0902106434714841, 0.7724286347245826, 0.985194470691059, 0.0669340308303542, 0.9073279734781347, 0.022311343610118065, 0.15452088013458581, 0.8405935879321469, 0.3083435388605581, 0.0004981317267537288, 0.17633863127082, 0.00398505381402983, 0.011457029715335762, 0.48219151149760947, 0.01693647870962678, 0.3461688062514018, 0.010256853518560052, 0.6410533449100032, 0.8528905468355079, 0.11124659306550103, 0.024721465125666895, 0.9375823261291745, 0.04573572322581339, 0.2760667768464198, 0.0564682043549495, 0.32469217504095965, 0.06901669421160495, 0.052546801274744676, 0.03999831141808923, 0.15058187827986536, 0.030586944025597647, 0.9215699812499687, 0.9709038833073683, 0.9710764039571206, 0.8847373067028588, 0.032368438050104587, 0.021578958700069727, 0.05394739675017431, 0.9736233895180058, 0.18499052734879615, 0.1287988654578649, 0.32325989761973933, 0.058717129841085465, 0.06692490067908666, 0.06313669875385534, 0.1584731138721769, 0.015784174688463836, 0.9416600717179787, 0.04708300358589893, 0.9659295172820731, 0.2634726630488959, 0.0018424661751671042, 0.05158905290467892, 0.0018424661751671042, 0.02210959410200525, 0.4090274908870971, 0.25057539982272614, 0.9434343069129276, 0.6487758100516942, 0.10043326596885657, 0.0023088107119277374, 0.24184792207443048, 0.005194824101837409, 0.0011544053559638687, 0.01994062910794638, 0.250365676577549, 0.655825135105792, 0.07090001460603157, 0.012706678983691095, 0.5506227559599475, 0.06776895457968583, 0.3642581308658114, 0.97059047686571, 0.1127934221987761, 0.8701206855334156, 0.9617825559090627, 0.9641454425994684, 0.36212730263364806, 0.024929053442171424, 0.45397118373638484, 0.009184388110273682, 0.03280138610812029, 0.07741127121516389, 0.03673755244109473, 0.20831812125090077, 0.7916088607534228, 0.48038943511110815, 0.09549910457028053, 0.30386078726907445, 0.11575649038821884, 0.041303271208721036, 0.9086719665918628, 0.9796170582403717, 0.9678246354473534, 0.9848802351456869, 0.9736316346128808, 0.9559611500599247, 0.05751579361376779, 0.06446401029194107, 0.1640551160124249, 0.21230662072196163, 0.07218425104546695, 0.16019499563566195, 0.17679351325574258, 0.09225687700463424, 0.1409878312411511, 0.8533473996174936, 0.9171714629658757, 0.983423752131995, 0.9334520683851104, 0.15238924852216457, 0.1066724739655152, 0.021044229557822727, 0.01378759867581489, 0.4673270288013047, 0.11755742028852696, 0.09578752764250345, 0.02539820808702743, 0.9721884832425425, 0.9594873210677136, 0.01810353435976818, 0.8001839077293927, 0.17781864616208726, 0.9573981500815452, 0.001657731130181233, 0.18235042431993562, 0.3481235373380589, 0.04641647164507452, 0.31331118360425303, 0.10775252346178014, 0.251884754564801, 0.7382829013106236, 0.9847245733911805, 0.8631948940998144, 0.13348374651028058, 0.9712214290869914, 0.158152482258833, 0.12328421845373595, 0.46449508568932835, 0.014943541630755872, 0.16188836766652195, 0.024905902717926455, 0.0273964929897191, 0.0273964929897191, 0.9802071116220947, 0.9736555640440652, 0.15903898761911317, 0.8378639347738646, 0.06098867056785633, 0.06550634986917903, 0.44725025083094644, 0.2868726356339909, 0.011294198253306728, 0.12649502043703537, 0.9742083030827398, 0.9725862874475608, 0.9779996268327759, 0.11438117779227283, 0.09678407351653855, 0.16968636265886627, 0.0012569360196953059, 0.6171555856703952, 0.9863807268414032, 0.002434856268500182, 0.09739425074000728, 0.8984619630765671, 0.9970606474460605, 0.9417501687589428, 0.7571997217603104, 0.1892999304400776, 0.04206665120890613, 0.007011108534817689, 0.9746712277536276, 0.9542149520059126, 0.9747212705255413, 0.9570382593697162, 0.6453874769760894, 0.3477921403704482, 0.003585485983200497, 0.9418557045578899, 0.013431097391199857, 0.04197217934749955, 0.9470903766182521, 0.978041863036919, 0.925008026521108, 0.939262433653705, 0.08007684302622632, 0.9151639202997293, 0.9967342327031481, 0.00042229931749992425, 0.0012668979524997728, 0.5789723642923962, 0.017736571334996818, 0.023226462462495833, 0.32305897788744203, 0.055743509909990004, 0.8560176236292171, 0.1388136686966298, 0.38858702682440754, 0.12844443590009325, 0.11093632823216738, 0.046016884755521945, 0.08320224617412554, 0.24232460524456675, 0.0003098780118216966, 0.9982559737991972, 0.9677325107753603, 0.9437267427402971, 0.9891445249486096, 0.9250117945953721, 0.956618709969313, 0.9754505689296474, 0.9369491085990945, 0.9638321709185373, 0.9712262608706035, 0.02435578172888933, 0.08280965787822372, 0.09092825178785349, 0.4660072904127492, 0.01786090660118551, 0.13639237768178025, 0.05520643858548248, 0.12827378377215048, 0.176902979657372, 0.006803960756052769, 0.06123564680447493, 0.34700199855869124, 0.14288317587710817, 0.0022679869186842568, 0.19051090116947755, 0.07257558139789622, 0.9773021273456151, 0.9737715496041126, 0.9606271643897414, 0.12829799564714078, 0.08438391660013286, 0.08007861473277915, 0.12054845228590409, 0.07577331286542542, 0.4176142811333106, 0.0008610603734707435, 0.09213345996136955, 0.9909585078042826, 0.8246289586616179, 0.1717976997211704, 0.8367944543869253, 0.15122791344342024, 0.8924170522246494, 0.09393863707627888, 0.9197587352250294, 0.054103455013237024, 0.9688726978033773, 0.9699986365452747, 0.10249107957354257, 0.5841991535691927, 0.1947330511897309, 0.11615655685001491, 0.9430165059005191, 0.9140243762329471, 0.2108386615163767, 0.033611960531596284, 0.7547412955731166, 0.0076121395565540515, 0.3032676399331134, 0.4564238878109809, 0.04749975083289728, 0.006394197227505403, 0.12636151663879724, 0.004262798151670268, 0.048108721997421604, 0.011752991741559067, 0.08227094219091347, 0.7668827111367291, 0.09990042980325207, 0.0029382479353897667, 0.0352589752246772, 0.6350644993940981, 0.17980741850314827, 0.18363310825853438, 0.9571754369165719, 0.17784315419742633, 0.0031200553367969532, 0.33696597637407094, 0.42120747046758866, 0.0062401106735939064, 0.05304094072554821, 0.9721916991088948, 0.14577552688807435, 0.5869383056282993, 0.20715469610410564, 0.059461070178030324, 0.9712491001846225, 0.9837237105641115, 0.9924980275717805, 0.1474495439657074, 0.23213340367574203, 0.12752392991628747, 0.1892933334694892, 0.06376196495814374, 0.0039851228098839835, 0.13350161413111344, 0.10361319305698356, 0.16829211047004672, 0.8251742190789387, 0.9455562060448323, 0.952960803500055, 0.0432529793682309, 0.0027905147979503807, 0.9695528469540631, 0.9180613870131064, 0.08090196130766837, 0.23399720698903592, 0.7554766968503159, 0.2767348385566639, 0.039222260582834255, 0.003268521715236188, 0.016342608576180938, 0.2745558240798398, 0.011984579622532689, 0.28109286751031215, 0.09805565145708564, 0.9852429837958652, 0.10643945670856074, 0.07499143540830415, 0.44269137676515036, 0.1451447136934919, 0.23223154190958706, 0.4281122521720107, 0.0961068321202473, 0.03931643132191935, 0.43248074454111285, 0.9504710919646358, 0.9911320393805356, 0.1872914239031576, 0.5282578622909574, 0.14887267028199708, 0.12486094926877174, 0.8920420748388513, 0.21158240412863116, 0.08217983232822196, 0.2029964514973244, 0.10793769022214228, 0.04415632781814911, 0.0024531293232305062, 0.21158240412863116, 0.13737524210090835, 0.052573552796781706, 0.1261765267122761, 0.767573870833013, 0.04205884223742536, 0.8917079286211876, 0.09331827159989173, 0.9614984924525758, 0.9683730064331055, 0.12131567056928617, 0.8777155619329776, 0.9947429622487858, 0.9444121060421465], \"Term\": [\"access\", \"access\", \"access\", \"access\", \"access\", \"access\", \"access\", \"activate\", \"activate\", \"activity\", \"adjust\", \"adult\", \"advanced\", \"advertisement\", \"age\", \"age\", \"alexa\", \"amazon\", \"amazon\", \"amazon\", \"amazon\", \"amazon\", \"amazon\", \"amazon\", \"amazon\", \"android\", \"android\", \"answer\", \"anymore\", \"app\", \"app\", \"app\", \"app\", \"app\", \"app\", \"app\", \"appropriate\", \"appstore\", \"article\", \"aside\", \"aspect\", \"associate\", \"audible\", \"audiobook\", \"aunt\", \"auto\", \"available\", \"available\", \"available\", \"available\", \"available\", \"available\", \"available\", \"average\", \"aware\", \"awesome\", \"awesome\", \"awesome\", \"awesome\", \"awesome\", \"awesome\", \"awesome\", \"b\", \"background\", \"backlight\", \"bag\", \"bag\", \"bag\", \"bang\", \"bargain\", \"basic\", \"basic\", \"basic\", \"battery\", \"battery\", \"battery\", \"battery\", \"battery\", \"battery\", \"battery\", \"bb\", \"beat\", \"beat\", \"beginner\", \"bill\", \"birthday\", \"birthday\", \"black\", \"black\", \"black\", \"black\", \"black\", \"black\", \"bluetooth\", \"book\", \"book\", \"book\", \"book\", \"book\", \"boot\", \"boy\", \"brainer\", \"brand\", \"brand\", \"break\", \"break\", \"break\", \"break\", \"breeze\", \"browser\", \"browsing\", \"budget\", \"budget\", \"bumper\", \"busy\", \"button\", \"button\", \"button\", \"buy\", \"buy\", \"buy\", \"buy\", \"buy\", \"buy\", \"buy\", \"buy\", \"buying\", \"call\", \"camera\", \"camera\", \"card\", \"card\", \"card\", \"carry\", \"carry\", \"carry\", \"cartoon\", \"case\", \"case\", \"case\", \"case\", \"case\", \"case\", \"challenge\", \"charge\", \"charge\", \"charge\", \"charge\", \"charge\", \"charge\", \"cheap\", \"cheap\", \"cheap\", \"cheap\", \"cheap\", \"check\", \"check\", \"check\", \"child\", \"child\", \"child\", \"christmas\", \"christmas\", \"christmas\", \"christmas\", \"chrome\", \"college\", \"come\", \"come\", \"come\", \"come\", \"come\", \"come\", \"come\", \"come\", \"comfortably\", \"command\", \"compatible\", \"complete\", \"complicated\", \"con\", \"con\", \"con\", \"concern\", \"connect\", \"connect\", \"connect\", \"connect\", \"connect\", \"constant\", \"content\", \"content\", \"content\", \"content\", \"control\", \"control\", \"copy\", \"cost\", \"cost\", \"couldn\", \"couldn\", \"couldn\", \"cover\", \"cover\", \"cover\", \"cover\", \"cover\", \"crack\", \"crack\", \"crack\", \"credit\", \"customer\", \"customer\", \"customer\", \"dad\", \"daughter\", \"daughter\", \"daughter\", \"daughter\", \"daughter\", \"deal\", \"deal\", \"deal\", \"deal\", \"deal\", \"deal\", \"decent\", \"decent\", \"defective\", \"delighted\", \"device\", \"device\", \"device\", \"device\", \"device\", \"device\", \"device\", \"device\", \"didn\", \"didn\", \"didn\", \"didn\", \"difficult\", \"difficult\", \"display\", \"display\", \"display\", \"display\", \"display\", \"doesn\", \"doesn\", \"doesn\", \"doesn\", \"doesn\", \"don\", \"don\", \"don\", \"don\", \"don\", \"dot\", \"downfall\", \"download\", \"download\", \"download\", \"drop\", \"drop\", \"drop\", \"drop\", \"drop\", \"durability\", \"durable\", \"durable\", \"durable\", \"durable\", \"durable\", \"e\", \"e\", \"e\", \"e\", \"ease\", \"ease\", \"ease\", \"easy\", \"easy\", \"easy\", \"easy\", \"easy\", \"easy\", \"echo\", \"edit\", \"educational\", \"educational\", \"efficient\", \"email\", \"email\", \"email\", \"employee\", \"enjoy\", \"enjoy\", \"enjoy\", \"enjoy\", \"enjoy\", \"enjoy\", \"enjoy\", \"enjoy\", \"entertain\", \"entertain\", \"entertaining\", \"entire\", \"entry\", \"ereader\", \"expansion\", \"expect\", \"expect\", \"expect\", \"expect\", \"explain\", \"eye\", \"eye\", \"facebook\", \"facebook\", \"family\", \"family\", \"family\", \"family\", \"fancy\", \"fast\", \"fast\", \"fast\", \"fast\", \"fast\", \"fast\", \"feature\", \"feature\", \"feature\", \"feature\", \"feature\", \"feature\", \"feature\", \"feature\", \"fianc\", \"fight\", \"find\", \"find\", \"find\", \"find\", \"find\", \"find\", \"find\", \"find\", \"fire\", \"fire\", \"fire\", \"fire\", \"fire\", \"fire\", \"flash\", \"fraction\", \"free\", \"free\", \"free\", \"free\", \"free\", \"friday\", \"friday\", \"friend\", \"friend\", \"friend\", \"friend\", \"friendly\", \"friendly\", \"friendly\", \"friendly\", \"frustrating\", \"functional\", \"galaxy\", \"game\", \"game\", \"game\", \"gb\", \"gb\", \"gen\", \"generation\", \"generation\", \"get\", \"get\", \"get\", \"get\", \"get\", \"get\", \"get\", \"get\", \"gets\", \"gift\", \"gift\", \"gift\", \"gig\", \"glitch\", \"good\", \"good\", \"good\", \"good\", \"good\", \"good\", \"good\", \"good\", \"google\", \"grand\", \"grand\", \"grandchild\", \"granddaughter\", \"granddaughter\", \"grandkid\", \"grandma\", \"grandmother\", \"grandson\", \"grandson\", \"great\", \"great\", \"great\", \"great\", \"great\", \"great\", \"great\", \"great\", \"guide\", \"happy\", \"happy\", \"happy\", \"happy\", \"happy\", \"hasn\", \"haven\", \"haven\", \"hd\", \"hd\", \"hd\", \"hd\", \"hold\", \"hold\", \"hold\", \"hold\", \"hold\", \"hold\", \"holiday\", \"home\", \"home\", \"home\", \"home\", \"home\", \"home\", \"homework\", \"honestly\", \"hope\", \"hope\", \"hulu\", \"hundred\", \"impossible\", \"improve\", \"improve\", \"inappropriate\", \"instagram\", \"instal\", \"install\", \"interested\", \"internet\", \"internet\", \"internet\", \"internet\", \"internet\", \"invest\", \"ipad\", \"ipad\", \"ipad\", \"ipad\", \"ipad\", \"ipad\", \"iphone\", \"iphone\", \"isn\", \"isn\", \"isn\", \"kid\", \"kid\", \"kid\", \"kiddo\", \"kids\", \"kindle\", \"kindle\", \"kindle\", \"kindle\", \"kindle\", \"knowledgeable\", \"large\", \"large\", \"large\", \"large\", \"large\", \"large\", \"law\", \"lead\", \"learning\", \"learning\", \"library\", \"library\", \"life\", \"life\", \"life\", \"life\", \"life\", \"life\", \"life\", \"light\", \"light\", \"light\", \"light\", \"lighting\", \"lightweight\", \"lightweight\", \"like\", \"like\", \"like\", \"like\", \"like\", \"like\", \"like\", \"like\", \"limited\", \"limited\", \"listen\", \"listen\", \"little\", \"little\", \"little\", \"little\", \"little\", \"little\", \"little\", \"little\", \"live\", \"live\", \"live\", \"live\", \"load\", \"load\", \"load\", \"load\", \"loaded\", \"lol\", \"long\", \"long\", \"long\", \"long\", \"long\", \"long\", \"long\", \"look\", \"look\", \"look\", \"look\", \"look\", \"look\", \"look\", \"loose\", \"lot\", \"lot\", \"lot\", \"lot\", \"lot\", \"lot\", \"lot\", \"lot\", \"loud\", \"love\", \"love\", \"love\", \"love\", \"love\", \"love\", \"love\", \"love\", \"low\", \"low\", \"low\", \"low\", \"m\", \"m\", \"m\", \"m\", \"m\", \"m\", \"m\", \"mail\", \"mainly\", \"mainly\", \"mainly\", \"maneuver\", \"match\", \"member\", \"member\", \"member\", \"member\", \"membership\", \"memory\", \"memory\", \"menu\", \"microsd\", \"mind\", \"mini\", \"mini\", \"mini\", \"mini\", \"mini\", \"model\", \"model\", \"model\", \"model\", \"mom\", \"mom\", \"mom\", \"money\", \"money\", \"money\", \"money\", \"money\", \"money\", \"money\", \"monitor\", \"month\", \"month\", \"month\", \"month\", \"month\", \"month\", \"mother\", \"mouse\", \"movie\", \"music\", \"music\", \"n\", \"nabi\", \"navigate\", \"navigate\", \"navigate\", \"nd\", \"necessary\", \"need\", \"need\", \"need\", \"need\", \"need\", \"need\", \"need\", \"nephew\", \"net\", \"netflix\", \"new\", \"new\", \"new\", \"new\", \"new\", \"new\", \"new\", \"new\", \"nexus\", \"nice\", \"nice\", \"nice\", \"nice\", \"nice\", \"nice\", \"nice\", \"nice\", \"niece\", \"niece\", \"nook\", \"nook\", \"not\", \"not\", \"not\", \"not\", \"not\", \"noticeable\", \"numerous\", \"oasis\", \"office\", \"office\", \"office\", \"offline\", \"oh\", \"ok\", \"ok\", \"ok\", \"ok\", \"ok\", \"old\", \"old\", \"old\", \"old\", \"one\", \"one\", \"one\", \"one\", \"operate\", \"operate\", \"operate\", \"operate\", \"operate\", \"operating\", \"original\", \"original\", \"original\", \"os\", \"os\", \"overall\", \"overall\", \"overall\", \"overall\", \"overall\", \"overall\", \"overall\", \"own\", \"own\", \"own\", \"page\", \"pair\", \"paper\", \"paperwhite\", \"parent\", \"parent\", \"parent\", \"parent\", \"parental\", \"password\", \"past\", \"perfect\", \"perfect\", \"perfect\", \"perfect\", \"perfect\", \"perfect\", \"perfect\", \"perfect\", \"perform\", \"performance\", \"performance\", \"performance\", \"period\", \"person\", \"person\", \"person\", \"pic\", \"picture\", \"picture\", \"picture\", \"picture\", \"picture\", \"picture\", \"pin\", \"pink\", \"plane\", \"play\", \"play\", \"play\", \"play\", \"play\", \"playing\", \"playstore\", \"popular\", \"portable\", \"portable\", \"portable\", \"portable\", \"pre\", \"present\", \"present\", \"present\", \"previous\", \"previous\", \"price\", \"price\", \"price\", \"price\", \"price\", \"price\", \"price\", \"prime\", \"prime\", \"prime\", \"probably\", \"probably\", \"probably\", \"processor\", \"processor\", \"product\", \"product\", \"product\", \"product\", \"product\", \"product\", \"product\", \"product\", \"programming\", \"proof\", \"properly\", \"protect\", \"protect\", \"protect\", \"protect\", \"protector\", \"purchase\", \"purchase\", \"purchase\", \"purchase\", \"purchase\", \"purchase\", \"purchase\", \"purchase\", \"purse\", \"purse\", \"puzzle\", \"quality\", \"quality\", \"quality\", \"quality\", \"quality\", \"quality\", \"quality\", \"quirk\", \"read\", \"read\", \"read\", \"read\", \"read\", \"read\", \"reader\", \"reader\", \"reader\", \"reader\", \"reading\", \"reading\", \"reading\", \"reading\", \"rear\", \"reasonable\", \"reasonable\", \"reasonably\", \"recipient\", \"recommend\", \"recommend\", \"recommend\", \"recommend\", \"recommend\", \"recommend\", \"recommend\", \"reliable\", \"reliable\", \"replace\", \"replace\", \"replace\", \"replace\", \"restriction\", \"restriction\", \"ride\", \"root\", \"rough\", \"rubber\", \"rugged\", \"s\", \"s\", \"s\", \"s\", \"s\", \"s\", \"s\", \"s\", \"samsung\", \"samsung\", \"saver\", \"savvy\", \"savy\", \"screen\", \"screen\", \"screen\", \"screen\", \"screen\", \"screen\", \"screen\", \"screen\", \"security\", \"selection\", \"selection\", \"send\", \"send\", \"sensitive\", \"set\", \"set\", \"set\", \"set\", \"set\", \"set\", \"setting\", \"setting\", \"ship\", \"show\", \"show\", \"silk\", \"size\", \"size\", \"size\", \"size\", \"size\", \"size\", \"size\", \"size\", \"sleek\", \"slot\", \"slow\", \"slow\", \"small\", \"small\", \"small\", \"small\", \"small\", \"small\", \"smooth\", \"snappy\", \"social\", \"son\", \"son\", \"son\", \"son\", \"son\", \"sort\", \"sound\", \"sound\", \"sound\", \"speaker\", \"specific\", \"speed\", \"speed\", \"speed\", \"speed\", \"starter\", \"state\", \"steal\", \"stereo\", \"storage\", \"storage\", \"storage\", \"store\", \"store\", \"store\", \"story\", \"streaming\", \"subscribe\", \"sunlight\", \"support\", \"support\", \"surf\", \"t\", \"t\", \"t\", \"t\", \"t\", \"t\", \"t\", \"table\", \"table\", \"tablet\", \"tablet\", \"tablet\", \"tablet\", \"tablet\", \"tablet\", \"tablet\", \"tap\", \"task\", \"teach\", \"tech\", \"technical\", \"teen\", \"teenage\", \"teenager\", \"textbook\", \"thin\", \"thing\", \"thing\", \"thing\", \"thing\", \"thing\", \"thing\", \"thing\", \"thing\", \"think\", \"think\", \"think\", \"think\", \"think\", \"think\", \"think\", \"think\", \"thoroughly\", \"thrilled\", \"till\", \"time\", \"time\", \"time\", \"time\", \"time\", \"time\", \"time\", \"time\", \"toddler\", \"ton\", \"ton\", \"tool\", \"tool\", \"totally\", \"totally\", \"tough\", \"tough\", \"transfer\", \"trouble\", \"turn\", \"turn\", \"turn\", \"turn\", \"twin\", \"unwanted\", \"upgrade\", \"upgrade\", \"upgrade\", \"use\", \"use\", \"use\", \"use\", \"use\", \"use\", \"use\", \"use\", \"user\", \"user\", \"user\", \"user\", \"user\", \"user\", \"value\", \"value\", \"value\", \"versatility\", \"version\", \"version\", \"version\", \"version\", \"version\", \"version\", \"vibrant\", \"video\", \"video\", \"video\", \"video\", \"visit\", \"voice\", \"voyage\", \"want\", \"want\", \"want\", \"want\", \"want\", \"want\", \"want\", \"want\", \"warranty\", \"warranty\", \"washington\", \"watch\", \"watch\", \"watch\", \"weather\", \"web\", \"web\", \"weight\", \"weight\", \"well\", \"well\", \"well\", \"well\", \"well\", \"well\", \"well\", \"well\", \"white\", \"wife\", \"wife\", \"wife\", \"wife\", \"wife\", \"wifi\", \"wifi\", \"wifi\", \"wifi\", \"window\", \"wireless\", \"wish\", \"wish\", \"wish\", \"wish\", \"wonderfully\", \"work\", \"work\", \"work\", \"work\", \"work\", \"work\", \"work\", \"work\", \"worry\", \"worry\", \"worry\", \"worry\", \"wouldn\", \"wouldn\", \"x\", \"xmas\", \"year\", \"year\", \"yr\", \"yrs\"]}, \"R\": 30, \"lambda.step\": 0.01, \"plot.opts\": {\"xlab\": \"PC1\", \"ylab\": \"PC2\"}, \"topic.order\": [6, 2, 3, 5, 1, 8, 4, 7]};\n",
       "\n",
       "function LDAvis_load_lib(url, callback){\n",
       "  var s = document.createElement('script');\n",
       "  s.src = url;\n",
       "  s.async = true;\n",
       "  s.onreadystatechange = s.onload = callback;\n",
       "  s.onerror = function(){console.warn(\"failed to load library \" + url);};\n",
       "  document.getElementsByTagName(\"head\")[0].appendChild(s);\n",
       "}\n",
       "\n",
       "if(typeof(LDAvis) !== \"undefined\"){\n",
       "   // already loaded: just create the visualization\n",
       "   !function(LDAvis){\n",
       "       new LDAvis(\"#\" + \"ldavis_el33909108368276488444218515\", ldavis_el33909108368276488444218515_data);\n",
       "   }(LDAvis);\n",
       "}else if(typeof define === \"function\" && define.amd){\n",
       "   // require.js is available: use it to load d3/LDAvis\n",
       "   require.config({paths: {d3: \"https://d3js.org/d3.v5\"}});\n",
       "   require([\"d3\"], function(d3){\n",
       "      window.d3 = d3;\n",
       "      LDAvis_load_lib(\"https://cdn.jsdelivr.net/gh/bmabey/pyLDAvis@3.4.0/pyLDAvis/js/ldavis.v3.0.0.js\", function(){\n",
       "        new LDAvis(\"#\" + \"ldavis_el33909108368276488444218515\", ldavis_el33909108368276488444218515_data);\n",
       "      });\n",
       "    });\n",
       "}else{\n",
       "    // require.js not available: dynamically load d3 & LDAvis\n",
       "    LDAvis_load_lib(\"https://d3js.org/d3.v5.js\", function(){\n",
       "         LDAvis_load_lib(\"https://cdn.jsdelivr.net/gh/bmabey/pyLDAvis@3.4.0/pyLDAvis/js/ldavis.v3.0.0.js\", function(){\n",
       "                 new LDAvis(\"#\" + \"ldavis_el33909108368276488444218515\", ldavis_el33909108368276488444218515_data);\n",
       "            })\n",
       "         });\n",
       "}\n",
       "</script>"
      ],
      "text/plain": [
       "PreparedData(topic_coordinates=              x         y  topics  cluster       Freq\n",
       "topic                                                \n",
       "5     -0.089954  0.147607       1        1  15.450239\n",
       "1     -0.100139 -0.093434       2        1  13.905006\n",
       "2     -0.153936  0.083888       3        1  13.855171\n",
       "4      0.179886 -0.102643       4        1  12.398340\n",
       "0      0.036421 -0.032560       5        1  11.998772\n",
       "7     -0.169918 -0.134834       6        1  11.667901\n",
       "3      0.129436  0.222479       7        1  10.924432\n",
       "6      0.168205 -0.090502       8        1   9.800140, topic_info=         Term         Freq        Total Category  logprob  loglift\n",
       "1084      kid  1854.000000  1854.000000  Default  30.0000  30.0000\n",
       "87        old  1879.000000  1879.000000  Default  29.0000  29.0000\n",
       "590    tablet  6454.000000  6454.000000  Default  28.0000  28.0000\n",
       "117      year  1508.000000  1508.000000  Default  27.0000  27.0000\n",
       "111         t  2367.000000  2367.000000  Default  26.0000  26.0000\n",
       "...       ...          ...          ...      ...      ...      ...\n",
       "220       use   158.225702  3284.227754   Topic8  -4.7932  -0.7101\n",
       "824   battery   109.263771   711.752149   Topic8  -5.1634   0.4488\n",
       "111         t   131.648660  2367.988672   Topic8  -4.9770  -0.5669\n",
       "126      time   106.691855  1161.358751   Topic8  -5.1872  -0.0646\n",
       "46       want   103.974834  1003.733182   Topic8  -5.2130   0.0554\n",
       "\n",
       "[564 rows x 6 columns], token_table=      Topic      Freq    Term\n",
       "term                         \n",
       "185       1  0.013820  access\n",
       "185       2  0.511338  access\n",
       "185       3  0.024876  access\n",
       "185       4  0.248759  access\n",
       "185       6  0.113324  access\n",
       "...     ...       ...     ...\n",
       "1421      7  0.968373    xmas\n",
       "117       1  0.121316    year\n",
       "117       6  0.877716    year\n",
       "1206      6  0.994743      yr\n",
       "3171      6  0.944412     yrs\n",
       "\n",
       "[1129 rows x 3 columns], R=30, lambda_step=0.01, plot_opts={'xlab': 'PC1', 'ylab': 'PC2'}, topic_order=[6, 2, 3, 5, 1, 8, 4, 7])"
      ]
     },
     "execution_count": 33,
     "metadata": {},
     "output_type": "execute_result"
    }
   ],
   "source": [
    "# plot your topics here -- using pyLDAvis\n",
    "# YOUR CODE HERE\n",
    "pyLDAvis.enable_notebook()\n",
    "vis = pyLDAvis.gensim_models.prepare(lda_trained_model, corpus, id2word)\n",
    "vis"
   ]
  },
  {
   "cell_type": "markdown",
   "metadata": {
    "id": "9gie-6YrzGeB"
   },
   "source": [
    "## Create a Topic id/name dictionary \n",
    "\n",
    "When populating your topic id/name dictionary, use the index ordering as shown in the viz tool. \n",
    "\n",
    "We'll use a function to map the the viz tool index ordering with the train LDA model ordering. "
   ]
  },
  {
   "cell_type": "code",
   "execution_count": 35,
   "metadata": {
    "deletable": false,
    "id": "88vMiVwQzGeC",
    "nbgrader": {
     "cell_type": "code",
     "checksum": "fc10e9728e5dcf06baf0800c3cdb88ce",
     "grade": false,
     "grade_id": "cell-4905c0c1050f0d03",
     "locked": false,
     "schema_version": 3,
     "solution": true,
     "task": false
    }
   },
   "outputs": [],
   "source": [
    "# create a dictionary \n",
    "# keys - use topic ids from pyLDAvis visualization \n",
    "# values - topic names that you create \n",
    "# save dictionary to `vis_topic_name_dict`\n",
    "\n",
    "vis_topic_name_dict = {1: 'kids',\n",
    "                       2: 'tablets',\n",
    "                       3: 'gifts',\n",
    "                       4: 'google device',\n",
    "                       5: 'ereaders',\n",
    "                       6: 'parental controls',\n",
    "                       7: 'basic / beginner',\n",
    "                       8: 'alexa'}\n",
    "# YOUR CODE HERE"
   ]
  },
  {
   "cell_type": "code",
   "execution_count": 36,
   "metadata": {
    "id": "iWLsK27ZzGeC"
   },
   "outputs": [],
   "source": [
    "def get_topic_id_lookup_dict(vis, vis_topic_name_dict):\n",
    "    \"\"\"\n",
    "    Both the starting index and the ordering of topic ids bewteen the trained LDA model \n",
    "    and the viz tool are different. So we need to create a look up dictionary that maps \n",
    "    the correct association between topic ids from both sources. \n",
    "    \"\"\"\n",
    "    # value is order of topic ids accoridng to pyLDAvis tool \n",
    "    # key is order of topic ids according to lda model\n",
    "    model_vis_tool_topic_id_lookup = vis.topic_coordinates.topics.to_dict()\n",
    "\n",
    "    # invert dictionary so that \n",
    "    # key is order of topic ids accoridng to pyLDAvis tool \n",
    "    # value is order of topic ids according to lda model\n",
    "    topic_id_lookup =  {v:k for k, v in model_vis_tool_topic_id_lookup.items()}\n",
    "    \n",
    "    return {v:vis_topic_name_dict[k]  for k, v in topic_id_lookup.items()}"
   ]
  },
  {
   "cell_type": "markdown",
   "metadata": {
    "id": "tR8xm8IG4M0M"
   },
   "source": [
    "Create a topic id/name look up dict \n",
    "that is aligned with the index ordering of the trained LDA model"
   ]
  },
  {
   "cell_type": "code",
   "execution_count": 37,
   "metadata": {
    "deletable": false,
    "id": "dcsa0f_tzGeC",
    "nbgrader": {
     "cell_type": "code",
     "checksum": "55f23aa9324a225091037f0c5daf2192",
     "grade": false,
     "grade_id": "cell-d38acb7b250b4079",
     "locked": false,
     "schema_version": 3,
     "solution": true,
     "task": false
    }
   },
   "outputs": [],
   "source": [
    "topic_name_dict = get_topic_id_lookup_dict(vis, vis_topic_name_dict)"
   ]
  },
  {
   "cell_type": "code",
   "execution_count": 38,
   "metadata": {
    "id": "tbeEkAlC4WNi"
   },
   "outputs": [
    {
     "data": {
      "text/plain": [
       "{5: 'kids',\n",
       " 1: 'tablets',\n",
       " 2: 'gifts',\n",
       " 4: 'google device',\n",
       " 0: 'ereaders',\n",
       " 7: 'parental controls',\n",
       " 3: 'basic / beginner',\n",
       " 6: 'alexa'}"
      ]
     },
     "execution_count": 38,
     "metadata": {},
     "output_type": "execute_result"
    }
   ],
   "source": [
    "topic_name_dict"
   ]
  },
  {
   "cell_type": "markdown",
   "metadata": {
    "id": "t4NLAlB9zGeC"
   },
   "source": [
    "## Use the LDA Model to Assign Each Document a Topic Name\n",
    "\n",
    "Now that we have a topic id/name look up dict that is aligned with the index ordering of the trained LDA model, we can move forward to giving each topic a topic name. \n",
    "\n",
    "The function below has been given to you. However, you highly encouraged to read through it and make sure that you understand what it is doing each step of the way. In fact, a good way to do this is to copy and paste the code inside of the function into a new cell, comment out all the lines of code and line by line, uncomment the code and see the output. "
   ]
  },
  {
   "cell_type": "code",
   "execution_count": 39,
   "metadata": {
    "id": "23No1SMKzGeC"
   },
   "outputs": [],
   "source": [
    "def get_topic_ids_for_docs(lda_model, corpus):\n",
    "    \n",
    "    \"\"\"\n",
    "    Passes a Bag-of-Words vector into a trained LDA model in order to get the topic id of that document. \n",
    "    \n",
    "    Parameters\n",
    "    ----------\n",
    "    lda_model: Gensim object\n",
    "        Must be a trained model \n",
    "        \n",
    "    corpus: nested lists of tuples, \n",
    "        i.e. [[(),(), ..., ()], [(),(), ..., ()], ..., [(),(), ..., ()]]\n",
    "        \n",
    "    Returns\n",
    "    -------\n",
    "    topic_id_list: list\n",
    "        Contains topic ids for all document vectors in corpus \n",
    "    \"\"\"\n",
    "    \n",
    "    # store topic ids for each document\n",
    "    doc_topic_ids = []\n",
    "\n",
    "    # iterature through the bow vectors for each doc\n",
    "    for doc_bow in corpus:\n",
    "        \n",
    "        # store the topic ids for the doc\n",
    "        topic_ids = []\n",
    "        # store the topic probabilities for the doc\n",
    "        topic_probs = []\n",
    "\n",
    "        # list of tuples\n",
    "        # each tuple has a topic id and the prob that the doc belongs to that topic \n",
    "        topic_id_prob_tuples = lda_trained_model.get_document_topics(doc_bow)\n",
    "        \n",
    "        # iterate through the topic id/prob pairs \n",
    "        for topic_id_prob in topic_id_prob_tuples:\n",
    "            \n",
    "            # index for topic id\n",
    "            topic_id = topic_id_prob[0]\n",
    "            # index for prob that doc belongs that the corresponding topic\n",
    "            topic_prob = topic_id_prob[1]\n",
    "\n",
    "            # store all topic ids for doc\n",
    "            topic_ids.append(topic_id)\n",
    "            # store all topic probs for doc\n",
    "            topic_probs.append(topic_prob)\n",
    "\n",
    "        # get the index for the topic that had the highest probability, for the current document \n",
    "        max_topic_prob_ind = np.argmax(topic_probs)\n",
    "        # get the corresponding topic id\n",
    "        max_prob_topic_id = topic_ids[max_topic_prob_ind]\n",
    "        # store the most probable topic id for the current document\n",
    "        doc_topic_ids.append(max_prob_topic_id)\n",
    "        \n",
    "    return doc_topic_ids"
   ]
  },
  {
   "cell_type": "code",
   "execution_count": 40,
   "metadata": {
    "deletable": false,
    "id": "gI94W2MvzGeD",
    "nbgrader": {
     "cell_type": "code",
     "checksum": "09f2b8ebaf696dc05187cecce8c9e251",
     "grade": false,
     "grade_id": "cell-e28e8774a79ac647",
     "locked": false,
     "schema_version": 3,
     "solution": true,
     "task": false
    }
   },
   "outputs": [
    {
     "data": {
      "text/html": [
       "<div>\n",
       "<style scoped>\n",
       "    .dataframe tbody tr th:only-of-type {\n",
       "        vertical-align: middle;\n",
       "    }\n",
       "\n",
       "    .dataframe tbody tr th {\n",
       "        vertical-align: top;\n",
       "    }\n",
       "\n",
       "    .dataframe thead th {\n",
       "        text-align: right;\n",
       "    }\n",
       "</style>\n",
       "<table border=\"1\" class=\"dataframe\">\n",
       "  <thead>\n",
       "    <tr style=\"text-align: right;\">\n",
       "      <th></th>\n",
       "      <th>id</th>\n",
       "      <th>dateAdded</th>\n",
       "      <th>dateUpdated</th>\n",
       "      <th>name</th>\n",
       "      <th>asins</th>\n",
       "      <th>brand</th>\n",
       "      <th>categories</th>\n",
       "      <th>primaryCategories</th>\n",
       "      <th>imageURLs</th>\n",
       "      <th>keys</th>\n",
       "      <th>...</th>\n",
       "      <th>reviews.rating</th>\n",
       "      <th>reviews.sourceURLs</th>\n",
       "      <th>reviews.text</th>\n",
       "      <th>reviews.title</th>\n",
       "      <th>reviews.username</th>\n",
       "      <th>sourceURLs</th>\n",
       "      <th>clean_text</th>\n",
       "      <th>lemmas</th>\n",
       "      <th>topic_id</th>\n",
       "      <th>new_topic_name</th>\n",
       "    </tr>\n",
       "  </thead>\n",
       "  <tbody>\n",
       "    <tr>\n",
       "      <th>8343</th>\n",
       "      <td>AVpe7nGV1cnluZ0-aG2o</td>\n",
       "      <td>2014-10-28T11:14:38Z</td>\n",
       "      <td>2019-04-25T09:05:28Z</td>\n",
       "      <td>AmazonBasics Nylon CD/DVD Binder (400 Capacity)</td>\n",
       "      <td>B00DIHVMEA,B00EZ1ZTV0</td>\n",
       "      <td>Amazonbasics</td>\n",
       "      <td>Audio &amp; Video Accessories,TV, Video &amp; Home Aud...</td>\n",
       "      <td>Electronics</td>\n",
       "      <td>http://ecx.images-amazon.com/images/I/41jQha7Z...</td>\n",
       "      <td>amazonbasicsnyloncddvdbinder400capacity/b00ez1...</td>\n",
       "      <td>...</td>\n",
       "      <td>5</td>\n",
       "      <td>https://www.ebay.com/itm/Amazonbasics-Nylon-Cd...</td>\n",
       "      <td>Great case to keep everything in its place! My...</td>\n",
       "      <td>Excellent product</td>\n",
       "      <td>qs341_5</td>\n",
       "      <td>https://www.ebay.com/itm/AmazonBasics-Nylon-CD...</td>\n",
       "      <td>great case to keep everything in its place my ...</td>\n",
       "      <td>[great, case, place, husband, love, hold, lot,...</td>\n",
       "      <td>2</td>\n",
       "      <td>gifts</td>\n",
       "    </tr>\n",
       "    <tr>\n",
       "      <th>8344</th>\n",
       "      <td>AVpe7nGV1cnluZ0-aG2o</td>\n",
       "      <td>2014-10-28T11:14:38Z</td>\n",
       "      <td>2019-04-25T09:05:28Z</td>\n",
       "      <td>AmazonBasics Nylon CD/DVD Binder (400 Capacity)</td>\n",
       "      <td>B00DIHVMEA,B00EZ1ZTV0</td>\n",
       "      <td>Amazonbasics</td>\n",
       "      <td>Audio &amp; Video Accessories,TV, Video &amp; Home Aud...</td>\n",
       "      <td>Electronics</td>\n",
       "      <td>http://ecx.images-amazon.com/images/I/41jQha7Z...</td>\n",
       "      <td>amazonbasicsnyloncddvdbinder400capacity/b00ez1...</td>\n",
       "      <td>...</td>\n",
       "      <td>5</td>\n",
       "      <td>http://www.amazon.co.uk/gp/product-reviews/B00...</td>\n",
       "      <td>After discarding and getting rid of broken cd ...</td>\n",
       "      <td>It was a much needed storage</td>\n",
       "      <td>Diablita</td>\n",
       "      <td>https://www.ebay.com/itm/AmazonBasics-Nylon-CD...</td>\n",
       "      <td>after discarding and getting rid of broken cd ...</td>\n",
       "      <td>[discard, getting, rid, broken, cd, case, brea...</td>\n",
       "      <td>0</td>\n",
       "      <td>ereaders</td>\n",
       "    </tr>\n",
       "    <tr>\n",
       "      <th>8345</th>\n",
       "      <td>AVpe7nGV1cnluZ0-aG2o</td>\n",
       "      <td>2014-10-28T11:14:38Z</td>\n",
       "      <td>2019-04-25T09:05:28Z</td>\n",
       "      <td>AmazonBasics Nylon CD/DVD Binder (400 Capacity)</td>\n",
       "      <td>B00DIHVMEA,B00EZ1ZTV0</td>\n",
       "      <td>Amazonbasics</td>\n",
       "      <td>Audio &amp; Video Accessories,TV, Video &amp; Home Aud...</td>\n",
       "      <td>Electronics</td>\n",
       "      <td>http://ecx.images-amazon.com/images/I/41jQha7Z...</td>\n",
       "      <td>amazonbasicsnyloncddvdbinder400capacity/b00ez1...</td>\n",
       "      <td>...</td>\n",
       "      <td>5</td>\n",
       "      <td>https://www.ebay.com/itm/Amazonbasics-Nylon-Cd...</td>\n",
       "      <td>A few dollars more, but I am boycotting amazon</td>\n",
       "      <td>it was worth it</td>\n",
       "      <td>coldbloodblazing</td>\n",
       "      <td>https://www.ebay.com/itm/AmazonBasics-Nylon-CD...</td>\n",
       "      <td>a few dollars more but i am boycotting amazon</td>\n",
       "      <td>[dollar, boycott, amazon]</td>\n",
       "      <td>7</td>\n",
       "      <td>parental controls</td>\n",
       "    </tr>\n",
       "    <tr>\n",
       "      <th>8346</th>\n",
       "      <td>AVpe7nGV1cnluZ0-aG2o</td>\n",
       "      <td>2014-10-28T11:14:38Z</td>\n",
       "      <td>2019-04-25T09:05:28Z</td>\n",
       "      <td>AmazonBasics Nylon CD/DVD Binder (400 Capacity)</td>\n",
       "      <td>B00DIHVMEA,B00EZ1ZTV0</td>\n",
       "      <td>Amazonbasics</td>\n",
       "      <td>Audio &amp; Video Accessories,TV, Video &amp; Home Aud...</td>\n",
       "      <td>Electronics</td>\n",
       "      <td>http://ecx.images-amazon.com/images/I/41jQha7Z...</td>\n",
       "      <td>amazonbasicsnyloncddvdbinder400capacity/b00ez1...</td>\n",
       "      <td>...</td>\n",
       "      <td>2</td>\n",
       "      <td>http://www.amazon.co.uk/gp/product-reviews/B00...</td>\n",
       "      <td>My initial impression of this was very good. T...</td>\n",
       "      <td>Not well designed, very tight when full. Becom...</td>\n",
       "      <td>Snrub</td>\n",
       "      <td>https://www.ebay.com/itm/AmazonBasics-Nylon-CD...</td>\n",
       "      <td>my initial impression of this was very good th...</td>\n",
       "      <td>[initial, impression, good, material, nice, sh...</td>\n",
       "      <td>6</td>\n",
       "      <td>alexa</td>\n",
       "    </tr>\n",
       "    <tr>\n",
       "      <th>8347</th>\n",
       "      <td>AVpfl8cLLJeJML43AE3S</td>\n",
       "      <td>2016-04-08T18:16:28Z</td>\n",
       "      <td>2019-04-25T08:51:22Z</td>\n",
       "      <td>Amazon Echo ‚Äì White</td>\n",
       "      <td>B01E6AO69U,B00L9EPT8O</td>\n",
       "      <td>Amazon</td>\n",
       "      <td>Stereos,Remote Controls,Audio Docks &amp; Mini Spe...</td>\n",
       "      <td>Electronics</td>\n",
       "      <td>https://i.ebayimg.com/images/g/NWEAAOSwDehbdx6...</td>\n",
       "      <td>amazonechowhite/b00l9ept8o,amazonechowhite/b01...</td>\n",
       "      <td>...</td>\n",
       "      <td>5</td>\n",
       "      <td>https://www.newegg.com/Product/Product.aspx?It...</td>\n",
       "      <td>Pros: Standard Echo. Cons: Older generation Ec...</td>\n",
       "      <td>Arrived as described.</td>\n",
       "      <td>Anonymous</td>\n",
       "      <td>https://www.newegg.com/Product/Product.aspx?It...</td>\n",
       "      <td>pros standard echo cons older generation echo ...</td>\n",
       "      <td>[pro, standard, echo, con, old, generation, ec...</td>\n",
       "      <td>0</td>\n",
       "      <td>ereaders</td>\n",
       "    </tr>\n",
       "  </tbody>\n",
       "</table>\n",
       "<p>5 rows × 28 columns</p>\n",
       "</div>"
      ],
      "text/plain": [
       "                        id             dateAdded           dateUpdated  \\\n",
       "8343  AVpe7nGV1cnluZ0-aG2o  2014-10-28T11:14:38Z  2019-04-25T09:05:28Z   \n",
       "8344  AVpe7nGV1cnluZ0-aG2o  2014-10-28T11:14:38Z  2019-04-25T09:05:28Z   \n",
       "8345  AVpe7nGV1cnluZ0-aG2o  2014-10-28T11:14:38Z  2019-04-25T09:05:28Z   \n",
       "8346  AVpe7nGV1cnluZ0-aG2o  2014-10-28T11:14:38Z  2019-04-25T09:05:28Z   \n",
       "8347  AVpfl8cLLJeJML43AE3S  2016-04-08T18:16:28Z  2019-04-25T08:51:22Z   \n",
       "\n",
       "                                                 name                  asins  \\\n",
       "8343  AmazonBasics Nylon CD/DVD Binder (400 Capacity)  B00DIHVMEA,B00EZ1ZTV0   \n",
       "8344  AmazonBasics Nylon CD/DVD Binder (400 Capacity)  B00DIHVMEA,B00EZ1ZTV0   \n",
       "8345  AmazonBasics Nylon CD/DVD Binder (400 Capacity)  B00DIHVMEA,B00EZ1ZTV0   \n",
       "8346  AmazonBasics Nylon CD/DVD Binder (400 Capacity)  B00DIHVMEA,B00EZ1ZTV0   \n",
       "8347                            Amazon Echo ‚Äì White  B01E6AO69U,B00L9EPT8O   \n",
       "\n",
       "             brand                                         categories  \\\n",
       "8343  Amazonbasics  Audio & Video Accessories,TV, Video & Home Aud...   \n",
       "8344  Amazonbasics  Audio & Video Accessories,TV, Video & Home Aud...   \n",
       "8345  Amazonbasics  Audio & Video Accessories,TV, Video & Home Aud...   \n",
       "8346  Amazonbasics  Audio & Video Accessories,TV, Video & Home Aud...   \n",
       "8347        Amazon  Stereos,Remote Controls,Audio Docks & Mini Spe...   \n",
       "\n",
       "     primaryCategories                                          imageURLs  \\\n",
       "8343       Electronics  http://ecx.images-amazon.com/images/I/41jQha7Z...   \n",
       "8344       Electronics  http://ecx.images-amazon.com/images/I/41jQha7Z...   \n",
       "8345       Electronics  http://ecx.images-amazon.com/images/I/41jQha7Z...   \n",
       "8346       Electronics  http://ecx.images-amazon.com/images/I/41jQha7Z...   \n",
       "8347       Electronics  https://i.ebayimg.com/images/g/NWEAAOSwDehbdx6...   \n",
       "\n",
       "                                                   keys  ... reviews.rating  \\\n",
       "8343  amazonbasicsnyloncddvdbinder400capacity/b00ez1...  ...              5   \n",
       "8344  amazonbasicsnyloncddvdbinder400capacity/b00ez1...  ...              5   \n",
       "8345  amazonbasicsnyloncddvdbinder400capacity/b00ez1...  ...              5   \n",
       "8346  amazonbasicsnyloncddvdbinder400capacity/b00ez1...  ...              2   \n",
       "8347  amazonechowhite/b00l9ept8o,amazonechowhite/b01...  ...              5   \n",
       "\n",
       "                                     reviews.sourceURLs  \\\n",
       "8343  https://www.ebay.com/itm/Amazonbasics-Nylon-Cd...   \n",
       "8344  http://www.amazon.co.uk/gp/product-reviews/B00...   \n",
       "8345  https://www.ebay.com/itm/Amazonbasics-Nylon-Cd...   \n",
       "8346  http://www.amazon.co.uk/gp/product-reviews/B00...   \n",
       "8347  https://www.newegg.com/Product/Product.aspx?It...   \n",
       "\n",
       "                                           reviews.text  \\\n",
       "8343  Great case to keep everything in its place! My...   \n",
       "8344  After discarding and getting rid of broken cd ...   \n",
       "8345     A few dollars more, but I am boycotting amazon   \n",
       "8346  My initial impression of this was very good. T...   \n",
       "8347  Pros: Standard Echo. Cons: Older generation Ec...   \n",
       "\n",
       "                                          reviews.title  reviews.username  \\\n",
       "8343                                  Excellent product           qs341_5   \n",
       "8344                       It was a much needed storage          Diablita   \n",
       "8345                                    it was worth it  coldbloodblazing   \n",
       "8346  Not well designed, very tight when full. Becom...             Snrub   \n",
       "8347                              Arrived as described.         Anonymous   \n",
       "\n",
       "                                             sourceURLs  \\\n",
       "8343  https://www.ebay.com/itm/AmazonBasics-Nylon-CD...   \n",
       "8344  https://www.ebay.com/itm/AmazonBasics-Nylon-CD...   \n",
       "8345  https://www.ebay.com/itm/AmazonBasics-Nylon-CD...   \n",
       "8346  https://www.ebay.com/itm/AmazonBasics-Nylon-CD...   \n",
       "8347  https://www.newegg.com/Product/Product.aspx?It...   \n",
       "\n",
       "                                             clean_text  \\\n",
       "8343  great case to keep everything in its place my ...   \n",
       "8344  after discarding and getting rid of broken cd ...   \n",
       "8345      a few dollars more but i am boycotting amazon   \n",
       "8346  my initial impression of this was very good th...   \n",
       "8347  pros standard echo cons older generation echo ...   \n",
       "\n",
       "                                                 lemmas  topic_id  \\\n",
       "8343  [great, case, place, husband, love, hold, lot,...         2   \n",
       "8344  [discard, getting, rid, broken, cd, case, brea...         0   \n",
       "8345                          [dollar, boycott, amazon]         7   \n",
       "8346  [initial, impression, good, material, nice, sh...         6   \n",
       "8347  [pro, standard, echo, con, old, generation, ec...         0   \n",
       "\n",
       "         new_topic_name  \n",
       "8343              gifts  \n",
       "8344           ereaders  \n",
       "8345  parental controls  \n",
       "8346              alexa  \n",
       "8347           ereaders  \n",
       "\n",
       "[5 rows x 28 columns]"
      ]
     },
     "execution_count": 40,
     "metadata": {},
     "output_type": "execute_result"
    }
   ],
   "source": [
    "# use get_topic_ids_for_docs to get the topic id for each doc in the corpus - save result to `doc_topic_ids`\n",
    "doc_topic_ids = get_topic_ids_for_docs(lda_trained_model, corpus)\n",
    "\n",
    "# create a new feature in df_electronics called topic_id using `doc_topic_ids`\n",
    "df_electronics['topic_id'] = doc_topic_ids\n",
    "\n",
    "# iterate through topic_id and use the lookup dict `topic_name_dict` to assign each document a topic name\n",
    "# save results to a new feature in df_electronics called `new_topic_name`\n",
    "df_electronics['new_topic_name'] = df_electronics['topic_id'].apply(lambda topic_id: topic_name_dict[topic_id])\n",
    "\n",
    "# YOUR CODE HERE\n",
    "df_electronics.head()"
   ]
  },
  {
   "cell_type": "markdown",
   "metadata": {
    "id": "NZa4oKuIzGeD"
   },
   "source": [
    "## Congratulations! You have created new topic names for your documents. "
   ]
  },
  {
   "cell_type": "code",
   "execution_count": null,
   "metadata": {
    "id": "kDVAZTa23xkF"
   },
   "outputs": [],
   "source": [
    "cols = [\"reviews.text\", \"new_topic_name\", \"topic_id\"]\n",
    "df_electronics[cols].head(15)"
   ]
  },
  {
   "cell_type": "markdown",
   "metadata": {
    "id": "gkYnBihNzGeE"
   },
   "source": [
    "-----\n",
    "# Stretch Goals -- see if you can create a model to classify the reviews into the latent topics you've discovered!\n",
    "\n",
    "\n",
    "- Treat `topic_id` as the `y` (target) vector and train a supervised learning model to predict the topic of each document\n",
    "- Report your results on the Slack channel!"
   ]
  },
  {
   "cell_type": "markdown",
   "metadata": {
    "id": "eqY0KKxKQxbm"
   },
   "source": [
    "## Topic Modeling References\n"
   ]
  },
  {
   "cell_type": "markdown",
   "metadata": {
    "id": "iKhe7u4IXr0y"
   },
   "source": [
    "\n",
    "- [Topic Modeling with Gensim](https://www.tutorialspoint.com/gensim/gensim_topic_modeling.htm) -- Brief Tutorial\n",
    "\n",
    "- [Gensim documentation](https://radimrehurek.com/gensim/index.html) -- look up gensim commands\n",
    "\n",
    "- [`pyLDAvis` documentation](https://pyldavis.readthedocs.io/en/latest/readme.html) -- package for visualizing LDA models\n",
    "\n",
    "- [Visualizing Topic Models](https://speakerdeck.com/bmabey/visualizing-topic-models) -- slides from Ben Mabey\n",
    "\n",
    "- [Exploring the Space of Topic Coherence Measures](https://dl.acm.org/doi/10.1145/2684822.2685324) -- Study of Topic Coherence measures\n",
    "\n",
    "- [Exploring Topic Coherence over many models and many topics](https://www.researchgate.net/publication/232242203_Exploring_Topic_Coherence_over_many_models_and_many_topics) -- Study of automated topic coherence measures"
   ]
  }
 ],
 "metadata": {
  "accelerator": "GPU",
  "colab": {
   "collapsed_sections": [],
   "name": "DS_414_Topic_Modeling_Assignment.ipynb",
   "provenance": [
    {
     "file_id": "1KTNIuFlkaWNUe1LIvm05h8WMBtd34a-y",
     "timestamp": 1630264104030
    },
    {
     "file_id": "1crZPH84tb8O5-k018-39o6qE04eC7dZm",
     "timestamp": 1630102535129
    }
   ]
  },
  "kernelspec": {
   "display_name": "Python 3 (ipykernel)",
   "language": "python",
   "name": "python3"
  },
  "language_info": {
   "codemirror_mode": {
    "name": "ipython",
    "version": 3
   },
   "file_extension": ".py",
   "mimetype": "text/x-python",
   "name": "python",
   "nbconvert_exporter": "python",
   "pygments_lexer": "ipython3",
   "version": "3.11.4"
  }
 },
 "nbformat": 4,
 "nbformat_minor": 4
}
