{
 "cells": [
  {
   "cell_type": "code",
   "execution_count": 2,
   "id": "e3d392fc-94a1-4cd9-b782-7067a6acca8a",
   "metadata": {
    "tags": []
   },
   "outputs": [],
   "source": [
    "import os\n",
    "import pandas as pd"
   ]
  },
  {
   "cell_type": "code",
   "execution_count": 6,
   "id": "63ae8c55-dbb2-4e05-8222-269fd494b2fd",
   "metadata": {
    "tags": []
   },
   "outputs": [
    {
     "name": "stderr",
     "output_type": "stream",
     "text": [
      "/var/folders/l5/9b73nm7x0d5bz481kpj_k3640000gn/T/ipykernel_58002/1187555092.py:9: DtypeWarning: Columns (8,9,10,11,12,15,17,18,20,21,23,24,25,26,27,28) have mixed types. Specify dtype option on import or set low_memory=False.\n",
      "  df = pd.read_csv(file_path)\n",
      "/var/folders/l5/9b73nm7x0d5bz481kpj_k3640000gn/T/ipykernel_58002/1187555092.py:9: DtypeWarning: Columns (8,9,10,11,12,15,17,18,20,21,23,24,25,26,27,28,29) have mixed types. Specify dtype option on import or set low_memory=False.\n",
      "  df = pd.read_csv(file_path)\n",
      "/var/folders/l5/9b73nm7x0d5bz481kpj_k3640000gn/T/ipykernel_58002/1187555092.py:9: DtypeWarning: Columns (15,17,18,20,21,23) have mixed types. Specify dtype option on import or set low_memory=False.\n",
      "  df = pd.read_csv(file_path)\n",
      "/var/folders/l5/9b73nm7x0d5bz481kpj_k3640000gn/T/ipykernel_58002/1187555092.py:9: DtypeWarning: Columns (8,9,10,11,12,15,17,18,20,21,23,24,25,26,27,28) have mixed types. Specify dtype option on import or set low_memory=False.\n",
      "  df = pd.read_csv(file_path)\n",
      "/var/folders/l5/9b73nm7x0d5bz481kpj_k3640000gn/T/ipykernel_58002/1187555092.py:9: DtypeWarning: Columns (15,17,18,20,21,23) have mixed types. Specify dtype option on import or set low_memory=False.\n",
      "  df = pd.read_csv(file_path)\n",
      "/var/folders/l5/9b73nm7x0d5bz481kpj_k3640000gn/T/ipykernel_58002/1187555092.py:9: DtypeWarning: Columns (15,17,18,20,21,23) have mixed types. Specify dtype option on import or set low_memory=False.\n",
      "  df = pd.read_csv(file_path)\n",
      "/var/folders/l5/9b73nm7x0d5bz481kpj_k3640000gn/T/ipykernel_58002/1187555092.py:9: DtypeWarning: Columns (8,9,10,11,12,15,17,18,20,21,23,24,25,26,27,28) have mixed types. Specify dtype option on import or set low_memory=False.\n",
      "  df = pd.read_csv(file_path)\n",
      "/var/folders/l5/9b73nm7x0d5bz481kpj_k3640000gn/T/ipykernel_58002/1187555092.py:9: DtypeWarning: Columns (8,9,10,11,12) have mixed types. Specify dtype option on import or set low_memory=False.\n",
      "  df = pd.read_csv(file_path)\n",
      "/var/folders/l5/9b73nm7x0d5bz481kpj_k3640000gn/T/ipykernel_58002/1187555092.py:9: DtypeWarning: Columns (29) have mixed types. Specify dtype option on import or set low_memory=False.\n",
      "  df = pd.read_csv(file_path)\n",
      "/var/folders/l5/9b73nm7x0d5bz481kpj_k3640000gn/T/ipykernel_58002/1187555092.py:9: DtypeWarning: Columns (29) have mixed types. Specify dtype option on import or set low_memory=False.\n",
      "  df = pd.read_csv(file_path)\n",
      "/var/folders/l5/9b73nm7x0d5bz481kpj_k3640000gn/T/ipykernel_58002/1187555092.py:9: DtypeWarning: Columns (8,9,10,11,12,15,17,18,20,21,23,24,25,26,27,28) have mixed types. Specify dtype option on import or set low_memory=False.\n",
      "  df = pd.read_csv(file_path)\n",
      "/var/folders/l5/9b73nm7x0d5bz481kpj_k3640000gn/T/ipykernel_58002/1187555092.py:9: DtypeWarning: Columns (29) have mixed types. Specify dtype option on import or set low_memory=False.\n",
      "  df = pd.read_csv(file_path)\n",
      "/var/folders/l5/9b73nm7x0d5bz481kpj_k3640000gn/T/ipykernel_58002/1187555092.py:9: DtypeWarning: Columns (8,9,10,11,12,15,17,18,20,21,23,24,25,26,27,28) have mixed types. Specify dtype option on import or set low_memory=False.\n",
      "  df = pd.read_csv(file_path)\n",
      "/var/folders/l5/9b73nm7x0d5bz481kpj_k3640000gn/T/ipykernel_58002/1187555092.py:9: DtypeWarning: Columns (8,9,10,11,12,15,17,18,20,21,23,24,25,26,27,28) have mixed types. Specify dtype option on import or set low_memory=False.\n",
      "  df = pd.read_csv(file_path)\n",
      "/var/folders/l5/9b73nm7x0d5bz481kpj_k3640000gn/T/ipykernel_58002/1187555092.py:9: DtypeWarning: Columns (15,17,18,20,21,23) have mixed types. Specify dtype option on import or set low_memory=False.\n",
      "  df = pd.read_csv(file_path)\n",
      "/var/folders/l5/9b73nm7x0d5bz481kpj_k3640000gn/T/ipykernel_58002/1187555092.py:9: DtypeWarning: Columns (15,17,18,20,21,23) have mixed types. Specify dtype option on import or set low_memory=False.\n",
      "  df = pd.read_csv(file_path)\n",
      "/var/folders/l5/9b73nm7x0d5bz481kpj_k3640000gn/T/ipykernel_58002/1187555092.py:9: DtypeWarning: Columns (13) have mixed types. Specify dtype option on import or set low_memory=False.\n",
      "  df = pd.read_csv(file_path)\n",
      "/var/folders/l5/9b73nm7x0d5bz481kpj_k3640000gn/T/ipykernel_58002/1187555092.py:9: DtypeWarning: Columns (8,9,10,11,12,15,17,18,20,21,23,24,25,26,27,28) have mixed types. Specify dtype option on import or set low_memory=False.\n",
      "  df = pd.read_csv(file_path)\n",
      "/var/folders/l5/9b73nm7x0d5bz481kpj_k3640000gn/T/ipykernel_58002/1187555092.py:9: DtypeWarning: Columns (29) have mixed types. Specify dtype option on import or set low_memory=False.\n",
      "  df = pd.read_csv(file_path)\n",
      "/var/folders/l5/9b73nm7x0d5bz481kpj_k3640000gn/T/ipykernel_58002/1187555092.py:9: DtypeWarning: Columns (8,9,10,11,12,15,17,18,20,21,23,24,25,26,27,28) have mixed types. Specify dtype option on import or set low_memory=False.\n",
      "  df = pd.read_csv(file_path)\n",
      "/var/folders/l5/9b73nm7x0d5bz481kpj_k3640000gn/T/ipykernel_58002/1187555092.py:9: DtypeWarning: Columns (15,17,18,20,21,23,29) have mixed types. Specify dtype option on import or set low_memory=False.\n",
      "  df = pd.read_csv(file_path)\n",
      "/var/folders/l5/9b73nm7x0d5bz481kpj_k3640000gn/T/ipykernel_58002/1187555092.py:9: DtypeWarning: Columns (15,17,18,20,21,23) have mixed types. Specify dtype option on import or set low_memory=False.\n",
      "  df = pd.read_csv(file_path)\n",
      "/var/folders/l5/9b73nm7x0d5bz481kpj_k3640000gn/T/ipykernel_58002/1187555092.py:9: DtypeWarning: Columns (29) have mixed types. Specify dtype option on import or set low_memory=False.\n",
      "  df = pd.read_csv(file_path)\n",
      "/var/folders/l5/9b73nm7x0d5bz481kpj_k3640000gn/T/ipykernel_58002/1187555092.py:9: DtypeWarning: Columns (8,9,10,11,12,15,17,18,20,21,23,24,25,26,27,28) have mixed types. Specify dtype option on import or set low_memory=False.\n",
      "  df = pd.read_csv(file_path)\n",
      "/var/folders/l5/9b73nm7x0d5bz481kpj_k3640000gn/T/ipykernel_58002/1187555092.py:9: DtypeWarning: Columns (8,9,10,11,12,15,17,18,20,21,23,24,25,26,27,28) have mixed types. Specify dtype option on import or set low_memory=False.\n",
      "  df = pd.read_csv(file_path)\n",
      "/var/folders/l5/9b73nm7x0d5bz481kpj_k3640000gn/T/ipykernel_58002/1187555092.py:9: DtypeWarning: Columns (15,17,18,20,21,23,29) have mixed types. Specify dtype option on import or set low_memory=False.\n",
      "  df = pd.read_csv(file_path)\n",
      "/var/folders/l5/9b73nm7x0d5bz481kpj_k3640000gn/T/ipykernel_58002/1187555092.py:9: DtypeWarning: Columns (15,17,18,20,21,23) have mixed types. Specify dtype option on import or set low_memory=False.\n",
      "  df = pd.read_csv(file_path)\n",
      "/var/folders/l5/9b73nm7x0d5bz481kpj_k3640000gn/T/ipykernel_58002/1187555092.py:9: DtypeWarning: Columns (13) have mixed types. Specify dtype option on import or set low_memory=False.\n",
      "  df = pd.read_csv(file_path)\n",
      "/var/folders/l5/9b73nm7x0d5bz481kpj_k3640000gn/T/ipykernel_58002/1187555092.py:9: DtypeWarning: Columns (15,17,18,20,21,23,29) have mixed types. Specify dtype option on import or set low_memory=False.\n",
      "  df = pd.read_csv(file_path)\n",
      "/var/folders/l5/9b73nm7x0d5bz481kpj_k3640000gn/T/ipykernel_58002/1187555092.py:9: DtypeWarning: Columns (29) have mixed types. Specify dtype option on import or set low_memory=False.\n",
      "  df = pd.read_csv(file_path)\n",
      "/var/folders/l5/9b73nm7x0d5bz481kpj_k3640000gn/T/ipykernel_58002/1187555092.py:9: DtypeWarning: Columns (8,9,10,11,12,15,17,18,20,21,23,24,25,26,27,28) have mixed types. Specify dtype option on import or set low_memory=False.\n",
      "  df = pd.read_csv(file_path)\n",
      "/var/folders/l5/9b73nm7x0d5bz481kpj_k3640000gn/T/ipykernel_58002/1187555092.py:9: DtypeWarning: Columns (15,17,18,20,21,23) have mixed types. Specify dtype option on import or set low_memory=False.\n",
      "  df = pd.read_csv(file_path)\n",
      "/var/folders/l5/9b73nm7x0d5bz481kpj_k3640000gn/T/ipykernel_58002/1187555092.py:9: DtypeWarning: Columns (8,9,10,11,12,15,17,18,20,21,23,24,25,26,27,28,29) have mixed types. Specify dtype option on import or set low_memory=False.\n",
      "  df = pd.read_csv(file_path)\n",
      "/var/folders/l5/9b73nm7x0d5bz481kpj_k3640000gn/T/ipykernel_58002/1187555092.py:9: DtypeWarning: Columns (8,9,10,11,12,15,17,18,20,21,23,24,25,26,27,28) have mixed types. Specify dtype option on import or set low_memory=False.\n",
      "  df = pd.read_csv(file_path)\n",
      "/var/folders/l5/9b73nm7x0d5bz481kpj_k3640000gn/T/ipykernel_58002/1187555092.py:9: DtypeWarning: Columns (8,9,10,11,12,15,17,18,20,21,23,24,25,26,27,28) have mixed types. Specify dtype option on import or set low_memory=False.\n",
      "  df = pd.read_csv(file_path)\n",
      "/var/folders/l5/9b73nm7x0d5bz481kpj_k3640000gn/T/ipykernel_58002/1187555092.py:9: DtypeWarning: Columns (15,17,18,20,21,23) have mixed types. Specify dtype option on import or set low_memory=False.\n",
      "  df = pd.read_csv(file_path)\n",
      "/var/folders/l5/9b73nm7x0d5bz481kpj_k3640000gn/T/ipykernel_58002/1187555092.py:9: DtypeWarning: Columns (8,9,10,11,12,15,17,18) have mixed types. Specify dtype option on import or set low_memory=False.\n",
      "  df = pd.read_csv(file_path)\n",
      "/var/folders/l5/9b73nm7x0d5bz481kpj_k3640000gn/T/ipykernel_58002/1187555092.py:9: DtypeWarning: Columns (8,9,10,11,12,15,17,18,20,21,23,24,25,26,27,28) have mixed types. Specify dtype option on import or set low_memory=False.\n",
      "  df = pd.read_csv(file_path)\n",
      "/var/folders/l5/9b73nm7x0d5bz481kpj_k3640000gn/T/ipykernel_58002/1187555092.py:9: DtypeWarning: Columns (8,9,10,11,12,15,17,18,20,21,23,24,25,26,27,28) have mixed types. Specify dtype option on import or set low_memory=False.\n",
      "  df = pd.read_csv(file_path)\n",
      "/var/folders/l5/9b73nm7x0d5bz481kpj_k3640000gn/T/ipykernel_58002/1187555092.py:9: DtypeWarning: Columns (8,9,10,11,12,15,17,18,20,21,23,24,25,26,27,28) have mixed types. Specify dtype option on import or set low_memory=False.\n",
      "  df = pd.read_csv(file_path)\n",
      "/var/folders/l5/9b73nm7x0d5bz481kpj_k3640000gn/T/ipykernel_58002/1187555092.py:9: DtypeWarning: Columns (8,9,10,11,12,15,17,18,20,21,23,24,25,26,27,28) have mixed types. Specify dtype option on import or set low_memory=False.\n",
      "  df = pd.read_csv(file_path)\n",
      "/var/folders/l5/9b73nm7x0d5bz481kpj_k3640000gn/T/ipykernel_58002/1187555092.py:9: DtypeWarning: Columns (8,9,10,11,12,15,17,18,20,21,23,24,25,26,27,28) have mixed types. Specify dtype option on import or set low_memory=False.\n",
      "  df = pd.read_csv(file_path)\n",
      "/var/folders/l5/9b73nm7x0d5bz481kpj_k3640000gn/T/ipykernel_58002/1187555092.py:9: DtypeWarning: Columns (8,9,10,11,12,15,17,18,20,21,23,24,25,26,27,28) have mixed types. Specify dtype option on import or set low_memory=False.\n",
      "  df = pd.read_csv(file_path)\n",
      "/var/folders/l5/9b73nm7x0d5bz481kpj_k3640000gn/T/ipykernel_58002/1187555092.py:9: DtypeWarning: Columns (8,9,10,11,12,15,17,18,20,21,23,24,25,26,27,28,29) have mixed types. Specify dtype option on import or set low_memory=False.\n",
      "  df = pd.read_csv(file_path)\n",
      "/var/folders/l5/9b73nm7x0d5bz481kpj_k3640000gn/T/ipykernel_58002/1187555092.py:9: DtypeWarning: Columns (15,17,18,20,21,23) have mixed types. Specify dtype option on import or set low_memory=False.\n",
      "  df = pd.read_csv(file_path)\n",
      "/var/folders/l5/9b73nm7x0d5bz481kpj_k3640000gn/T/ipykernel_58002/1187555092.py:9: DtypeWarning: Columns (8,9,10,11,12,15,17,18,20,21,23,24,25,26,27,28) have mixed types. Specify dtype option on import or set low_memory=False.\n",
      "  df = pd.read_csv(file_path)\n",
      "/var/folders/l5/9b73nm7x0d5bz481kpj_k3640000gn/T/ipykernel_58002/1187555092.py:9: DtypeWarning: Columns (8,9,10,11,12,15,17,18,20,21,23,24,25,26,27,28) have mixed types. Specify dtype option on import or set low_memory=False.\n",
      "  df = pd.read_csv(file_path)\n",
      "/var/folders/l5/9b73nm7x0d5bz481kpj_k3640000gn/T/ipykernel_58002/1187555092.py:9: DtypeWarning: Columns (8,9,10,11,12,15,17,18,20,21,23,24,25,26,27,28) have mixed types. Specify dtype option on import or set low_memory=False.\n",
      "  df = pd.read_csv(file_path)\n",
      "/var/folders/l5/9b73nm7x0d5bz481kpj_k3640000gn/T/ipykernel_58002/1187555092.py:9: DtypeWarning: Columns (8,9,10,11,12,15,17,18,20,21,23,24,25,26,27,28,29) have mixed types. Specify dtype option on import or set low_memory=False.\n",
      "  df = pd.read_csv(file_path)\n",
      "/var/folders/l5/9b73nm7x0d5bz481kpj_k3640000gn/T/ipykernel_58002/1187555092.py:9: DtypeWarning: Columns (29) have mixed types. Specify dtype option on import or set low_memory=False.\n",
      "  df = pd.read_csv(file_path)\n",
      "/var/folders/l5/9b73nm7x0d5bz481kpj_k3640000gn/T/ipykernel_58002/1187555092.py:9: DtypeWarning: Columns (8,9,10,11,12,15,17,18,20,21,23,24,25,26,27,28) have mixed types. Specify dtype option on import or set low_memory=False.\n",
      "  df = pd.read_csv(file_path)\n",
      "/var/folders/l5/9b73nm7x0d5bz481kpj_k3640000gn/T/ipykernel_58002/1187555092.py:9: DtypeWarning: Columns (29) have mixed types. Specify dtype option on import or set low_memory=False.\n",
      "  df = pd.read_csv(file_path)\n",
      "/var/folders/l5/9b73nm7x0d5bz481kpj_k3640000gn/T/ipykernel_58002/1187555092.py:9: DtypeWarning: Columns (8,9,10,11,12,15,17,18,20,21,23,24,25,26,27,28) have mixed types. Specify dtype option on import or set low_memory=False.\n",
      "  df = pd.read_csv(file_path)\n",
      "/var/folders/l5/9b73nm7x0d5bz481kpj_k3640000gn/T/ipykernel_58002/1187555092.py:9: DtypeWarning: Columns (15,17,18,20,21,23) have mixed types. Specify dtype option on import or set low_memory=False.\n",
      "  df = pd.read_csv(file_path)\n",
      "/var/folders/l5/9b73nm7x0d5bz481kpj_k3640000gn/T/ipykernel_58002/1187555092.py:9: DtypeWarning: Columns (15,17,18,20,21,23) have mixed types. Specify dtype option on import or set low_memory=False.\n",
      "  df = pd.read_csv(file_path)\n",
      "/var/folders/l5/9b73nm7x0d5bz481kpj_k3640000gn/T/ipykernel_58002/1187555092.py:9: DtypeWarning: Columns (15,17,18,20,21,23) have mixed types. Specify dtype option on import or set low_memory=False.\n",
      "  df = pd.read_csv(file_path)\n"
     ]
    }
   ],
   "source": [
    "directory = 'optionsDX/uncompressed'\n",
    "dfs = []\n",
    "for folder in os.listdir(directory):\n",
    "    folder_path = os.path.join(directory, folder)\n",
    "    if os.path.isdir(folder_path):  # Check if the path is a directory\n",
    "        for file in os.listdir(folder_path):\n",
    "            if file != '.DS_Store':  # Skip the .DS_Store file\n",
    "                file_path = os.path.join(folder_path, file)\n",
    "                df = pd.read_csv(file_path)\n",
    "                dfs.append(df)"
   ]
  },
  {
   "cell_type": "code",
   "execution_count": 7,
   "id": "2cd36dd2-8f46-419c-bef2-dd806ee50363",
   "metadata": {
    "tags": []
   },
   "outputs": [
    {
     "data": {
      "text/plain": [
       "165"
      ]
     },
     "execution_count": 7,
     "metadata": {},
     "output_type": "execute_result"
    }
   ],
   "source": [
    "len(dfs)"
   ]
  },
  {
   "cell_type": "code",
   "execution_count": 8,
   "id": "be6136f9-1698-4a26-9d1b-19e1c13cdc74",
   "metadata": {
    "tags": []
   },
   "outputs": [],
   "source": [
    "df = pd.concat(dfs, ignore_index=True)"
   ]
  },
  {
   "cell_type": "code",
   "execution_count": 20,
   "id": "69c2fb39-a053-4b46-974d-075eb1d716c1",
   "metadata": {
    "tags": []
   },
   "outputs": [],
   "source": [
    "new_columns = [col.strip() for col in df.columns]\n",
    "df.rename(columns=dict(zip(df.columns, new_columns)), inplace=True)"
   ]
  },
  {
   "cell_type": "code",
   "execution_count": 22,
   "id": "5ba90b25-e190-4a2a-8c79-379cf5bee611",
   "metadata": {
    "tags": []
   },
   "outputs": [],
   "source": [
    "df['QUOTE_READTIME'] = pd.to_datetime(df['QUOTE_READTIME'])\n",
    "df['QUOTE_DATE'] = pd.to_datetime(df['QUOTE_DATE'])\n",
    "df['EXPIRE_DATE'] = pd.to_datetime(df['EXPIRE_DATE'])"
   ]
  },
  {
   "cell_type": "code",
   "execution_count": 28,
   "id": "547d9db6-dc63-4b4a-b679-a90774202251",
   "metadata": {
    "tags": []
   },
   "outputs": [],
   "source": [
    "df['C_VOLUME'] = df['C_VOLUME'].replace(' ', '0').astype(float).astype(int)\n",
    "df['P_VOLUME'] = df['P_VOLUME'].replace(' ', '0').astype(float).astype(int)"
   ]
  },
  {
   "cell_type": "code",
   "execution_count": 32,
   "id": "bd07a1e4-de79-4d2a-9d21-5e567c2338e2",
   "metadata": {
    "tags": []
   },
   "outputs": [],
   "source": [
    "float_columns = ['C_DELTA', 'C_GAMMA', 'C_VEGA', 'C_THETA', 'C_RHO', 'C_IV', \n",
    "                 'C_LAST', 'C_BID', 'C_ASK', 'P_BID', 'P_ASK', 'P_LAST', \n",
    "                 'P_DELTA', 'P_GAMMA', 'P_VEGA', 'P_THETA', 'P_RHO', 'P_IV']\n",
    "\n",
    "df[float_columns] = df[float_columns].replace(' ', '0').astype(float)\n"
   ]
  },
  {
   "cell_type": "code",
   "execution_count": 33,
   "id": "beaef81c-a013-44c9-a5fa-388f0a7030d6",
   "metadata": {
    "tags": []
   },
   "outputs": [
    {
     "name": "stdout",
     "output_type": "stream",
     "text": [
      "<class 'pandas.core.frame.DataFrame'>\n",
      "RangeIndex: 9219420 entries, 0 to 9219419\n",
      "Data columns (total 33 columns):\n",
      " #   Column               Dtype         \n",
      "---  ------               -----         \n",
      " 0   QUOTE_UNIXTIME       int64         \n",
      " 1   QUOTE_READTIME       datetime64[ns]\n",
      " 2   QUOTE_DATE           datetime64[ns]\n",
      " 3   QUOTE_TIME_HOURS     float64       \n",
      " 4   UNDERLYING_LAST      float64       \n",
      " 5   EXPIRE_DATE          datetime64[ns]\n",
      " 6   EXPIRE_UNIX          int64         \n",
      " 7   DTE                  float64       \n",
      " 8   C_DELTA              float64       \n",
      " 9   C_GAMMA              float64       \n",
      " 10  C_VEGA               float64       \n",
      " 11  C_THETA              float64       \n",
      " 12  C_RHO                float64       \n",
      " 13  C_IV                 float64       \n",
      " 14  C_VOLUME             int64         \n",
      " 15  C_LAST               float64       \n",
      " 16  C_SIZE               object        \n",
      " 17  C_BID                float64       \n",
      " 18  C_ASK                float64       \n",
      " 19  STRIKE               float64       \n",
      " 20  P_BID                float64       \n",
      " 21  P_ASK                float64       \n",
      " 22  P_SIZE               object        \n",
      " 23  P_LAST               float64       \n",
      " 24  P_DELTA              float64       \n",
      " 25  P_GAMMA              float64       \n",
      " 26  P_VEGA               float64       \n",
      " 27  P_THETA              float64       \n",
      " 28  P_RHO                float64       \n",
      " 29  P_IV                 float64       \n",
      " 30  P_VOLUME             int64         \n",
      " 31  STRIKE_DISTANCE      float64       \n",
      " 32  STRIKE_DISTANCE_PCT  float64       \n",
      "dtypes: datetime64[ns](3), float64(24), int64(4), object(2)\n",
      "memory usage: 2.3+ GB\n"
     ]
    }
   ],
   "source": [
    "df.info()"
   ]
  },
  {
   "cell_type": "code",
   "execution_count": 36,
   "id": "375f0ce0-09e6-4eea-9e4f-ff468c25bc4f",
   "metadata": {
    "tags": []
   },
   "outputs": [
    {
     "data": {
      "text/plain": [
       "0              20 x 20\n",
       "1              10 x 20\n",
       "2              10 x 20\n",
       "3              10 x 20\n",
       "4              10 x 20\n",
       "              ...     \n",
       "9219415      125 x 146\n",
       "9219416     125 x 1481\n",
       "9219417      125 x 163\n",
       "9219418       63 x 159\n",
       "9219419       100 x 63\n",
       "Name: C_SIZE, Length: 9219420, dtype: object"
      ]
     },
     "execution_count": 36,
     "metadata": {},
     "output_type": "execute_result"
    }
   ],
   "source": [
    "df['C_SIZE']"
   ]
  },
  {
   "cell_type": "code",
   "execution_count": 37,
   "id": "962370a1-bb91-4381-ad56-012f1c73ac10",
   "metadata": {
    "tags": []
   },
   "outputs": [
    {
     "data": {
      "text/plain": [
       "0            0 x 9332\n",
       "1            0 x 9332\n",
       "2           0 x 10247\n",
       "3            0 x 9332\n",
       "4            0 x 9762\n",
       "              ...    \n",
       "9219415      100 x 11\n",
       "9219416       10 x 10\n",
       "9219417        1 x 11\n",
       "9219418        1 x 11\n",
       "9219419        1 x 11\n",
       "Name: P_SIZE, Length: 9219420, dtype: object"
      ]
     },
     "execution_count": 37,
     "metadata": {},
     "output_type": "execute_result"
    }
   ],
   "source": [
    "df['P_SIZE']"
   ]
  },
  {
   "cell_type": "code",
   "execution_count": 46,
   "id": "31937e53-f444-4bee-9fb0-cdd8d15fb624",
   "metadata": {
    "tags": []
   },
   "outputs": [],
   "source": [
    "df[['c_contracts', 'c_shares_per_contract']] = df['C_SIZE'].str.split(' x ', expand=True)\n",
    "df['c_contracts'] = df['c_contracts'].astype(int)\n",
    "df['c_shares_per_contract'] = df['c_shares_per_contract'].astype(int)"
   ]
  },
  {
   "cell_type": "code",
   "execution_count": 47,
   "id": "ef323343-decb-4e0a-9dbb-99550f24e34e",
   "metadata": {
    "tags": []
   },
   "outputs": [],
   "source": [
    "df[['p_contracts', 'p_shares_per_contract']] = df['P_SIZE'].str.split(' x ', expand=True)\n",
    "df['p_contracts'] = df['p_contracts'].astype(int)\n",
    "df['p_shares_per_contract'] = df['p_shares_per_contract'].astype(int)"
   ]
  },
  {
   "cell_type": "code",
   "execution_count": 50,
   "id": "3b7fa74f-99ad-4bf8-a548-d5c98cddcf5d",
   "metadata": {
    "tags": []
   },
   "outputs": [],
   "source": [
    "df.columns = df.columns.str.lower()"
   ]
  },
  {
   "cell_type": "code",
   "execution_count": 51,
   "id": "3a0a1b22-9e41-428a-823b-bca52f1c3912",
   "metadata": {
    "tags": []
   },
   "outputs": [
    {
     "data": {
      "text/html": [
       "<div>\n",
       "<style scoped>\n",
       "    .dataframe tbody tr th:only-of-type {\n",
       "        vertical-align: middle;\n",
       "    }\n",
       "\n",
       "    .dataframe tbody tr th {\n",
       "        vertical-align: top;\n",
       "    }\n",
       "\n",
       "    .dataframe thead th {\n",
       "        text-align: right;\n",
       "    }\n",
       "</style>\n",
       "<table border=\"1\" class=\"dataframe\">\n",
       "  <thead>\n",
       "    <tr style=\"text-align: right;\">\n",
       "      <th></th>\n",
       "      <th>quote_unixtime</th>\n",
       "      <th>quote_readtime</th>\n",
       "      <th>quote_date</th>\n",
       "      <th>quote_time_hours</th>\n",
       "      <th>underlying_last</th>\n",
       "      <th>expire_date</th>\n",
       "      <th>expire_unix</th>\n",
       "      <th>dte</th>\n",
       "      <th>c_delta</th>\n",
       "      <th>c_gamma</th>\n",
       "      <th>...</th>\n",
       "      <th>p_theta</th>\n",
       "      <th>p_rho</th>\n",
       "      <th>p_iv</th>\n",
       "      <th>p_volume</th>\n",
       "      <th>strike_distance</th>\n",
       "      <th>strike_distance_pct</th>\n",
       "      <th>c_contracts</th>\n",
       "      <th>c_shares_per_contract</th>\n",
       "      <th>p_contracts</th>\n",
       "      <th>p_shares_per_contract</th>\n",
       "    </tr>\n",
       "  </thead>\n",
       "  <tbody>\n",
       "    <tr>\n",
       "      <th>0</th>\n",
       "      <td>1533153600</td>\n",
       "      <td>2018-08-01 16:00:00</td>\n",
       "      <td>2018-08-01</td>\n",
       "      <td>16.0</td>\n",
       "      <td>280.91</td>\n",
       "      <td>2018-08-01</td>\n",
       "      <td>1533153600</td>\n",
       "      <td>0.0</td>\n",
       "      <td>0.87175</td>\n",
       "      <td>0.00006</td>\n",
       "      <td>...</td>\n",
       "      <td>-0.00533</td>\n",
       "      <td>0.0</td>\n",
       "      <td>4.85260</td>\n",
       "      <td>1</td>\n",
       "      <td>160.9</td>\n",
       "      <td>0.573</td>\n",
       "      <td>20</td>\n",
       "      <td>20</td>\n",
       "      <td>0</td>\n",
       "      <td>9332</td>\n",
       "    </tr>\n",
       "    <tr>\n",
       "      <th>1</th>\n",
       "      <td>1533153600</td>\n",
       "      <td>2018-08-01 16:00:00</td>\n",
       "      <td>2018-08-01</td>\n",
       "      <td>16.0</td>\n",
       "      <td>280.91</td>\n",
       "      <td>2018-08-01</td>\n",
       "      <td>1533153600</td>\n",
       "      <td>0.0</td>\n",
       "      <td>0.87491</td>\n",
       "      <td>0.00000</td>\n",
       "      <td>...</td>\n",
       "      <td>-0.00482</td>\n",
       "      <td>0.0</td>\n",
       "      <td>4.62887</td>\n",
       "      <td>0</td>\n",
       "      <td>155.9</td>\n",
       "      <td>0.555</td>\n",
       "      <td>10</td>\n",
       "      <td>20</td>\n",
       "      <td>0</td>\n",
       "      <td>9332</td>\n",
       "    </tr>\n",
       "    <tr>\n",
       "      <th>2</th>\n",
       "      <td>1533153600</td>\n",
       "      <td>2018-08-01 16:00:00</td>\n",
       "      <td>2018-08-01</td>\n",
       "      <td>16.0</td>\n",
       "      <td>280.91</td>\n",
       "      <td>2018-08-01</td>\n",
       "      <td>1533153600</td>\n",
       "      <td>0.0</td>\n",
       "      <td>0.87850</td>\n",
       "      <td>0.00000</td>\n",
       "      <td>...</td>\n",
       "      <td>-0.00550</td>\n",
       "      <td>0.0</td>\n",
       "      <td>4.41302</td>\n",
       "      <td>350</td>\n",
       "      <td>150.9</td>\n",
       "      <td>0.537</td>\n",
       "      <td>10</td>\n",
       "      <td>20</td>\n",
       "      <td>0</td>\n",
       "      <td>10247</td>\n",
       "    </tr>\n",
       "    <tr>\n",
       "      <th>3</th>\n",
       "      <td>1533153600</td>\n",
       "      <td>2018-08-01 16:00:00</td>\n",
       "      <td>2018-08-01</td>\n",
       "      <td>16.0</td>\n",
       "      <td>280.91</td>\n",
       "      <td>2018-08-01</td>\n",
       "      <td>1533153600</td>\n",
       "      <td>0.0</td>\n",
       "      <td>0.88234</td>\n",
       "      <td>0.00007</td>\n",
       "      <td>...</td>\n",
       "      <td>-0.00509</td>\n",
       "      <td>0.0</td>\n",
       "      <td>4.20641</td>\n",
       "      <td>0</td>\n",
       "      <td>145.9</td>\n",
       "      <td>0.519</td>\n",
       "      <td>10</td>\n",
       "      <td>20</td>\n",
       "      <td>0</td>\n",
       "      <td>9332</td>\n",
       "    </tr>\n",
       "    <tr>\n",
       "      <th>4</th>\n",
       "      <td>1533153600</td>\n",
       "      <td>2018-08-01 16:00:00</td>\n",
       "      <td>2018-08-01</td>\n",
       "      <td>16.0</td>\n",
       "      <td>280.91</td>\n",
       "      <td>2018-08-01</td>\n",
       "      <td>1533153600</td>\n",
       "      <td>0.0</td>\n",
       "      <td>0.88602</td>\n",
       "      <td>0.00003</td>\n",
       "      <td>...</td>\n",
       "      <td>-0.00548</td>\n",
       "      <td>0.0</td>\n",
       "      <td>4.00668</td>\n",
       "      <td>0</td>\n",
       "      <td>140.9</td>\n",
       "      <td>0.502</td>\n",
       "      <td>10</td>\n",
       "      <td>20</td>\n",
       "      <td>0</td>\n",
       "      <td>9762</td>\n",
       "    </tr>\n",
       "  </tbody>\n",
       "</table>\n",
       "<p>5 rows × 37 columns</p>\n",
       "</div>"
      ],
      "text/plain": [
       "   quote_unixtime      quote_readtime quote_date  quote_time_hours  \\\n",
       "0      1533153600 2018-08-01 16:00:00 2018-08-01              16.0   \n",
       "1      1533153600 2018-08-01 16:00:00 2018-08-01              16.0   \n",
       "2      1533153600 2018-08-01 16:00:00 2018-08-01              16.0   \n",
       "3      1533153600 2018-08-01 16:00:00 2018-08-01              16.0   \n",
       "4      1533153600 2018-08-01 16:00:00 2018-08-01              16.0   \n",
       "\n",
       "   underlying_last expire_date  expire_unix  dte  c_delta  c_gamma  ...  \\\n",
       "0           280.91  2018-08-01   1533153600  0.0  0.87175  0.00006  ...   \n",
       "1           280.91  2018-08-01   1533153600  0.0  0.87491  0.00000  ...   \n",
       "2           280.91  2018-08-01   1533153600  0.0  0.87850  0.00000  ...   \n",
       "3           280.91  2018-08-01   1533153600  0.0  0.88234  0.00007  ...   \n",
       "4           280.91  2018-08-01   1533153600  0.0  0.88602  0.00003  ...   \n",
       "\n",
       "   p_theta  p_rho     p_iv  p_volume  strike_distance  strike_distance_pct  \\\n",
       "0 -0.00533    0.0  4.85260         1            160.9                0.573   \n",
       "1 -0.00482    0.0  4.62887         0            155.9                0.555   \n",
       "2 -0.00550    0.0  4.41302       350            150.9                0.537   \n",
       "3 -0.00509    0.0  4.20641         0            145.9                0.519   \n",
       "4 -0.00548    0.0  4.00668         0            140.9                0.502   \n",
       "\n",
       "  c_contracts  c_shares_per_contract  p_contracts  p_shares_per_contract  \n",
       "0          20                     20            0                   9332  \n",
       "1          10                     20            0                   9332  \n",
       "2          10                     20            0                  10247  \n",
       "3          10                     20            0                   9332  \n",
       "4          10                     20            0                   9762  \n",
       "\n",
       "[5 rows x 37 columns]"
      ]
     },
     "execution_count": 51,
     "metadata": {},
     "output_type": "execute_result"
    }
   ],
   "source": [
    "df.head()"
   ]
  },
  {
   "cell_type": "code",
   "execution_count": 52,
   "id": "599417d7-4ae3-46b9-945c-b4a61d2021f4",
   "metadata": {
    "tags": []
   },
   "outputs": [],
   "source": [
    "df.to_parquet('options.parquet')"
   ]
  }
 ],
 "metadata": {
  "kernelspec": {
   "display_name": "Python 3 (ipykernel)",
   "language": "python",
   "name": "python3"
  },
  "language_info": {
   "codemirror_mode": {
    "name": "ipython",
    "version": 3
   },
   "file_extension": ".py",
   "mimetype": "text/x-python",
   "name": "python",
   "nbconvert_exporter": "python",
   "pygments_lexer": "ipython3",
   "version": "3.11.4"
  }
 },
 "nbformat": 4,
 "nbformat_minor": 5
}
